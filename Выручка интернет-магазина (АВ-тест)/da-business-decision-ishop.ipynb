{
 "cells": [
  {
   "cell_type": "markdown",
   "metadata": {},
   "source": [
    "# Принятие решений в бизнесе. A/B-тестирование гипотез для увеличения выручки интернет-магазина "
   ]
  },
  {
   "cell_type": "markdown",
   "metadata": {},
   "source": [
    "#### Краткое описание проекта"
   ]
  },
  {
   "cell_type": "markdown",
   "metadata": {},
   "source": [
    "**Описание проекта:**\n",
    "Аналитик крупного интернет-магазина вместе с отделом маркетинга подготовили список гипотез для увеличения выручки.  \n",
    "\n",
    "**Цель:**\n",
    "Приоритизировать гипотезы, запустить A/B-тест и проанализировать результаты.  \n",
    "\n",
    "**Ход исследования:**\n",
    "1. Подготовка данных к анализу (загрузка данных и предобработка данных):\n",
    "- загрузка  и изучение предоставленных данных на наличиче пропусков, дубликатов, соответствие типам данных.\n",
    "- корректировка типа данных.\n",
    "2. Приоритизация гипотез:\n",
    "- Применение фреймворк ICE для приоритизации гипотез. Сортировка их по убыванию приоритета.\n",
    "- Применение фреймворк RICE для приоритизации гипотез. Сортировка их по убыванию приоритета.\n",
    "- Анализ и описание причин изменений приоритизация гипотез при применении RICE вместо ICE.\n",
    "3. Анализ A/B-теста. \n",
    "- Сделаем выводы и предположения по графикам:\n",
    "    - кумулятивной выручки по группам.\n",
    "    - кумулятивного среднего чека по группам.\n",
    "    - относительного изменения кумулятивного среднего чека группы B к группе A.\n",
    "    - кумулятивного среднего количества заказов на посетителя по группам.\n",
    "    - относительного изменения кумулятивного среднего количества заказов на посетителя группы B к группе A.\n",
    "- Проанализаруем аномалии по:\n",
    "    - точечным графикам количества заказов по пользователям и стоимостей заказов.\n",
    "    - посчитаем 95-й и 99-й перцентили количества заказов на пользователя и стоимости заказов.\n",
    "    - выберем границы для определения аномальных пользователей.\n",
    "- Посчитаем статистические значимости различий между группами по «сырым» данным:\n",
    "    - в среднем количестве заказов на посетителя.\n",
    "    - в среднем чеке заказа. \n",
    "- Посчитаем статистические значимости различий  между группами по «очищенным» данным: \n",
    "    - в среднем количестве заказов на посетителя.\n",
    "    - в среднем чеке заказа.\n",
    "- Примем решение по результатам теста и объясните его. Варианты решений:\n",
    "    1. Остановить тест, зафиксировать победу одной из групп.\n",
    "    2. Остановить тест, зафиксировать отсутствие различий между группами.\n",
    "    3. Продолжить тест.\n",
    "\n",
    "**Общий вывод:**\n",
    "Приоритизирование гипотез и анализ A/B-теста позволит подготовить список гипотез, которые увеличат выручки компании."
   ]
  },
  {
   "cell_type": "code",
   "execution_count": 1,
   "metadata": {},
   "outputs": [],
   "source": [
    "import os\n",
    "import pandas as pd\n",
    "import numpy as np\n",
    "import datetime as dt\n",
    "import matplotlib.pyplot as plt\n",
    "from scipy import stats as st\n",
    "from pandas.plotting import register_matplotlib_converters"
   ]
  },
  {
   "cell_type": "markdown",
   "metadata": {},
   "source": [
    "#### Приоритизация гипотез."
   ]
  },
  {
   "cell_type": "markdown",
   "metadata": {},
   "source": [
    "##### Загрузка датафрайма с гипотезами:"
   ]
  },
  {
   "cell_type": "markdown",
   "metadata": {},
   "source": [
    "Преобразуем в относительный путь относительно текущей директории"
   ]
  },
  {
   "cell_type": "code",
   "execution_count": 2,
   "metadata": {},
   "outputs": [],
   "source": [
    "absolute_path1 = '/datasets/hypothesis.csv' # Абсолютный путь\n",
    "\n",
    "relative_path1 = os.path.relpath(absolute_path1)\n",
    "#print(f\"Относительный путь: {relative_path}\")\n",
    "\n",
    "pth1_1 = 'https://code.s3.yandex.net/datasets/hypothesis.csv'\n",
    "pth1_2 = relative_path1\n",
    "\n",
    "if os.path.exists(pth1_1):\n",
    "    query_1 = pd.read_csv(pth1_1)\n",
    "elif os.path.exists(pth1_2):\n",
    "    query_1 = pd.read_csv(pth1_2)\n",
    "else:\n",
    "    print('Something is wrong')"
   ]
  },
  {
   "cell_type": "code",
   "execution_count": 3,
   "metadata": {},
   "outputs": [
    {
     "data": {
      "text/html": [
       "<div>\n",
       "<style scoped>\n",
       "    .dataframe tbody tr th:only-of-type {\n",
       "        vertical-align: middle;\n",
       "    }\n",
       "\n",
       "    .dataframe tbody tr th {\n",
       "        vertical-align: top;\n",
       "    }\n",
       "\n",
       "    .dataframe thead th {\n",
       "        text-align: right;\n",
       "    }\n",
       "</style>\n",
       "<table border=\"1\" class=\"dataframe\">\n",
       "  <thead>\n",
       "    <tr style=\"text-align: right;\">\n",
       "      <th></th>\n",
       "      <th>Hypothesis</th>\n",
       "      <th>Reach</th>\n",
       "      <th>Impact</th>\n",
       "      <th>Confidence</th>\n",
       "      <th>Efforts</th>\n",
       "    </tr>\n",
       "  </thead>\n",
       "  <tbody>\n",
       "    <tr>\n",
       "      <th>0</th>\n",
       "      <td>Добавить два новых канала привлечения трафика, что позволит привлекать на 30% больше пользователей</td>\n",
       "      <td>3</td>\n",
       "      <td>10</td>\n",
       "      <td>8</td>\n",
       "      <td>6</td>\n",
       "    </tr>\n",
       "    <tr>\n",
       "      <th>1</th>\n",
       "      <td>Запустить собственную службу доставки, что сократит срок доставки заказов</td>\n",
       "      <td>2</td>\n",
       "      <td>5</td>\n",
       "      <td>4</td>\n",
       "      <td>10</td>\n",
       "    </tr>\n",
       "    <tr>\n",
       "      <th>2</th>\n",
       "      <td>Добавить блоки рекомендаций товаров на сайт интернет магазина, чтобы повысить конверсию и средний чек заказа</td>\n",
       "      <td>8</td>\n",
       "      <td>3</td>\n",
       "      <td>7</td>\n",
       "      <td>3</td>\n",
       "    </tr>\n",
       "    <tr>\n",
       "      <th>3</th>\n",
       "      <td>Изменить структура категорий, что увеличит конверсию, т.к. пользователи быстрее найдут нужный товар</td>\n",
       "      <td>8</td>\n",
       "      <td>3</td>\n",
       "      <td>3</td>\n",
       "      <td>8</td>\n",
       "    </tr>\n",
       "    <tr>\n",
       "      <th>4</th>\n",
       "      <td>Изменить цвет фона главной страницы, чтобы увеличить вовлеченность пользователей</td>\n",
       "      <td>3</td>\n",
       "      <td>1</td>\n",
       "      <td>1</td>\n",
       "      <td>1</td>\n",
       "    </tr>\n",
       "    <tr>\n",
       "      <th>5</th>\n",
       "      <td>Добавить страницу отзывов клиентов о магазине, что позволит увеличить количество заказов</td>\n",
       "      <td>3</td>\n",
       "      <td>2</td>\n",
       "      <td>2</td>\n",
       "      <td>3</td>\n",
       "    </tr>\n",
       "    <tr>\n",
       "      <th>6</th>\n",
       "      <td>Показать на главной странице баннеры с актуальными акциями и распродажами, чтобы увеличить конверсию</td>\n",
       "      <td>5</td>\n",
       "      <td>3</td>\n",
       "      <td>8</td>\n",
       "      <td>3</td>\n",
       "    </tr>\n",
       "    <tr>\n",
       "      <th>7</th>\n",
       "      <td>Добавить форму подписки на все основные страницы, чтобы собрать базу клиентов для email-рассылок</td>\n",
       "      <td>10</td>\n",
       "      <td>7</td>\n",
       "      <td>8</td>\n",
       "      <td>5</td>\n",
       "    </tr>\n",
       "    <tr>\n",
       "      <th>8</th>\n",
       "      <td>Запустить акцию, дающую скидку на товар в день рождения</td>\n",
       "      <td>1</td>\n",
       "      <td>9</td>\n",
       "      <td>9</td>\n",
       "      <td>5</td>\n",
       "    </tr>\n",
       "  </tbody>\n",
       "</table>\n",
       "</div>"
      ],
      "text/plain": [
       "                                                                                                     Hypothesis  \\\n",
       "0            Добавить два новых канала привлечения трафика, что позволит привлекать на 30% больше пользователей   \n",
       "1                                     Запустить собственную службу доставки, что сократит срок доставки заказов   \n",
       "2  Добавить блоки рекомендаций товаров на сайт интернет магазина, чтобы повысить конверсию и средний чек заказа   \n",
       "3           Изменить структура категорий, что увеличит конверсию, т.к. пользователи быстрее найдут нужный товар   \n",
       "4                              Изменить цвет фона главной страницы, чтобы увеличить вовлеченность пользователей   \n",
       "5                      Добавить страницу отзывов клиентов о магазине, что позволит увеличить количество заказов   \n",
       "6          Показать на главной странице баннеры с актуальными акциями и распродажами, чтобы увеличить конверсию   \n",
       "7              Добавить форму подписки на все основные страницы, чтобы собрать базу клиентов для email-рассылок   \n",
       "8                                                       Запустить акцию, дающую скидку на товар в день рождения   \n",
       "\n",
       "   Reach  Impact  Confidence  Efforts  \n",
       "0      3      10           8        6  \n",
       "1      2       5           4       10  \n",
       "2      8       3           7        3  \n",
       "3      8       3           3        8  \n",
       "4      3       1           1        1  \n",
       "5      3       2           2        3  \n",
       "6      5       3           8        3  \n",
       "7     10       7           8        5  \n",
       "8      1       9           9        5  "
      ]
     },
     "execution_count": 3,
     "metadata": {},
     "output_type": "execute_result"
    }
   ],
   "source": [
    "hyp_df = query_1\n",
    "pd.set_option('display.max_colwidth', None)\n",
    "hyp_df"
   ]
  },
  {
   "cell_type": "markdown",
   "metadata": {},
   "source": [
    "Приведем в соответствие название столбцов стилю snake_case:"
   ]
  },
  {
   "cell_type": "code",
   "execution_count": 4,
   "metadata": {},
   "outputs": [],
   "source": [
    "hyp_df.columns = hyp_df.columns.str.lower()"
   ]
  },
  {
   "cell_type": "code",
   "execution_count": 5,
   "metadata": {},
   "outputs": [
    {
     "name": "stdout",
     "output_type": "stream",
     "text": [
      "<class 'pandas.core.frame.DataFrame'>\n",
      "RangeIndex: 9 entries, 0 to 8\n",
      "Data columns (total 5 columns):\n",
      " #   Column      Non-Null Count  Dtype \n",
      "---  ------      --------------  ----- \n",
      " 0   hypothesis  9 non-null      object\n",
      " 1   reach       9 non-null      int64 \n",
      " 2   impact      9 non-null      int64 \n",
      " 3   confidence  9 non-null      int64 \n",
      " 4   efforts     9 non-null      int64 \n",
      "dtypes: int64(4), object(1)\n",
      "memory usage: 488.0+ bytes\n"
     ]
    }
   ],
   "source": [
    "hyp_df.info()"
   ]
  },
  {
   "cell_type": "code",
   "execution_count": 6,
   "metadata": {},
   "outputs": [
    {
     "data": {
      "text/html": [
       "<div>\n",
       "<style scoped>\n",
       "    .dataframe tbody tr th:only-of-type {\n",
       "        vertical-align: middle;\n",
       "    }\n",
       "\n",
       "    .dataframe tbody tr th {\n",
       "        vertical-align: top;\n",
       "    }\n",
       "\n",
       "    .dataframe thead th {\n",
       "        text-align: right;\n",
       "    }\n",
       "</style>\n",
       "<table border=\"1\" class=\"dataframe\">\n",
       "  <thead>\n",
       "    <tr style=\"text-align: right;\">\n",
       "      <th></th>\n",
       "      <th>reach</th>\n",
       "      <th>impact</th>\n",
       "      <th>confidence</th>\n",
       "      <th>efforts</th>\n",
       "    </tr>\n",
       "  </thead>\n",
       "  <tbody>\n",
       "    <tr>\n",
       "      <th>count</th>\n",
       "      <td>9.0</td>\n",
       "      <td>9.0</td>\n",
       "      <td>9.0</td>\n",
       "      <td>9.0</td>\n",
       "    </tr>\n",
       "    <tr>\n",
       "      <th>mean</th>\n",
       "      <td>5.0</td>\n",
       "      <td>5.0</td>\n",
       "      <td>6.0</td>\n",
       "      <td>5.0</td>\n",
       "    </tr>\n",
       "    <tr>\n",
       "      <th>std</th>\n",
       "      <td>3.0</td>\n",
       "      <td>3.0</td>\n",
       "      <td>3.0</td>\n",
       "      <td>3.0</td>\n",
       "    </tr>\n",
       "    <tr>\n",
       "      <th>min</th>\n",
       "      <td>1.0</td>\n",
       "      <td>1.0</td>\n",
       "      <td>1.0</td>\n",
       "      <td>1.0</td>\n",
       "    </tr>\n",
       "    <tr>\n",
       "      <th>25%</th>\n",
       "      <td>3.0</td>\n",
       "      <td>3.0</td>\n",
       "      <td>3.0</td>\n",
       "      <td>3.0</td>\n",
       "    </tr>\n",
       "    <tr>\n",
       "      <th>50%</th>\n",
       "      <td>3.0</td>\n",
       "      <td>3.0</td>\n",
       "      <td>7.0</td>\n",
       "      <td>5.0</td>\n",
       "    </tr>\n",
       "    <tr>\n",
       "      <th>75%</th>\n",
       "      <td>8.0</td>\n",
       "      <td>7.0</td>\n",
       "      <td>8.0</td>\n",
       "      <td>6.0</td>\n",
       "    </tr>\n",
       "    <tr>\n",
       "      <th>max</th>\n",
       "      <td>10.0</td>\n",
       "      <td>10.0</td>\n",
       "      <td>9.0</td>\n",
       "      <td>10.0</td>\n",
       "    </tr>\n",
       "  </tbody>\n",
       "</table>\n",
       "</div>"
      ],
      "text/plain": [
       "       reach  impact  confidence  efforts\n",
       "count    9.0     9.0         9.0      9.0\n",
       "mean     5.0     5.0         6.0      5.0\n",
       "std      3.0     3.0         3.0      3.0\n",
       "min      1.0     1.0         1.0      1.0\n",
       "25%      3.0     3.0         3.0      3.0\n",
       "50%      3.0     3.0         7.0      5.0\n",
       "75%      8.0     7.0         8.0      6.0\n",
       "max     10.0    10.0         9.0     10.0"
      ]
     },
     "execution_count": 6,
     "metadata": {},
     "output_type": "execute_result"
    }
   ],
   "source": [
    "hyp_df.describe().round()"
   ]
  },
  {
   "cell_type": "markdown",
   "metadata": {},
   "source": [
    "###### Выводы:"
   ]
  },
  {
   "cell_type": "markdown",
   "metadata": {},
   "source": [
    "- Датафрайм hypothesis.csv содержит 9 гипотез по увеличению выручки интернет-магазина с указанными параметрами по 10-балльной шкале:\n",
    "    - Reach (охват пользователей), \n",
    "    - Impact (влияние на пользователей), \n",
    "    - Confidence (уверенность в гипотезе), \n",
    "    - Effort (затраты ресурсов на проверку гипотезы).\n",
    "\n",
    "- Данные имеют подходящие типы: описанные гипотезы - тип `object`, балы - тип `int64`.\n",
    "- Пропусков в баллах нет.\n",
    "- Название столбцов приведены в соответствие со стилем snake_case. "
   ]
  },
  {
   "cell_type": "markdown",
   "metadata": {},
   "source": [
    "#####  Применение фреймворк ICE для приоритизации гипотез"
   ]
  },
  {
   "cell_type": "code",
   "execution_count": 7,
   "metadata": {},
   "outputs": [
    {
     "data": {
      "text/html": [
       "<div>\n",
       "<style scoped>\n",
       "    .dataframe tbody tr th:only-of-type {\n",
       "        vertical-align: middle;\n",
       "    }\n",
       "\n",
       "    .dataframe tbody tr th {\n",
       "        vertical-align: top;\n",
       "    }\n",
       "\n",
       "    .dataframe thead th {\n",
       "        text-align: right;\n",
       "    }\n",
       "</style>\n",
       "<table border=\"1\" class=\"dataframe\">\n",
       "  <thead>\n",
       "    <tr style=\"text-align: right;\">\n",
       "      <th></th>\n",
       "      <th>hypothesis</th>\n",
       "      <th>ICE</th>\n",
       "    </tr>\n",
       "  </thead>\n",
       "  <tbody>\n",
       "    <tr>\n",
       "      <th>8</th>\n",
       "      <td>Запустить акцию, дающую скидку на товар в день рождения</td>\n",
       "      <td>16.2</td>\n",
       "    </tr>\n",
       "    <tr>\n",
       "      <th>0</th>\n",
       "      <td>Добавить два новых канала привлечения трафика, что позволит привлекать на 30% больше пользователей</td>\n",
       "      <td>13.3</td>\n",
       "    </tr>\n",
       "    <tr>\n",
       "      <th>7</th>\n",
       "      <td>Добавить форму подписки на все основные страницы, чтобы собрать базу клиентов для email-рассылок</td>\n",
       "      <td>11.2</td>\n",
       "    </tr>\n",
       "    <tr>\n",
       "      <th>6</th>\n",
       "      <td>Показать на главной странице баннеры с актуальными акциями и распродажами, чтобы увеличить конверсию</td>\n",
       "      <td>8.0</td>\n",
       "    </tr>\n",
       "    <tr>\n",
       "      <th>2</th>\n",
       "      <td>Добавить блоки рекомендаций товаров на сайт интернет магазина, чтобы повысить конверсию и средний чек заказа</td>\n",
       "      <td>7.0</td>\n",
       "    </tr>\n",
       "    <tr>\n",
       "      <th>1</th>\n",
       "      <td>Запустить собственную службу доставки, что сократит срок доставки заказов</td>\n",
       "      <td>2.0</td>\n",
       "    </tr>\n",
       "    <tr>\n",
       "      <th>5</th>\n",
       "      <td>Добавить страницу отзывов клиентов о магазине, что позволит увеличить количество заказов</td>\n",
       "      <td>1.3</td>\n",
       "    </tr>\n",
       "    <tr>\n",
       "      <th>3</th>\n",
       "      <td>Изменить структура категорий, что увеличит конверсию, т.к. пользователи быстрее найдут нужный товар</td>\n",
       "      <td>1.1</td>\n",
       "    </tr>\n",
       "    <tr>\n",
       "      <th>4</th>\n",
       "      <td>Изменить цвет фона главной страницы, чтобы увеличить вовлеченность пользователей</td>\n",
       "      <td>1.0</td>\n",
       "    </tr>\n",
       "  </tbody>\n",
       "</table>\n",
       "</div>"
      ],
      "text/plain": [
       "                                                                                                     hypothesis  \\\n",
       "8                                                       Запустить акцию, дающую скидку на товар в день рождения   \n",
       "0            Добавить два новых канала привлечения трафика, что позволит привлекать на 30% больше пользователей   \n",
       "7              Добавить форму подписки на все основные страницы, чтобы собрать базу клиентов для email-рассылок   \n",
       "6          Показать на главной странице баннеры с актуальными акциями и распродажами, чтобы увеличить конверсию   \n",
       "2  Добавить блоки рекомендаций товаров на сайт интернет магазина, чтобы повысить конверсию и средний чек заказа   \n",
       "1                                     Запустить собственную службу доставки, что сократит срок доставки заказов   \n",
       "5                      Добавить страницу отзывов клиентов о магазине, что позволит увеличить количество заказов   \n",
       "3           Изменить структура категорий, что увеличит конверсию, т.к. пользователи быстрее найдут нужный товар   \n",
       "4                              Изменить цвет фона главной страницы, чтобы увеличить вовлеченность пользователей   \n",
       "\n",
       "    ICE  \n",
       "8  16.2  \n",
       "0  13.3  \n",
       "7  11.2  \n",
       "6   8.0  \n",
       "2   7.0  \n",
       "1   2.0  \n",
       "5   1.3  \n",
       "3   1.1  \n",
       "4   1.0  "
      ]
     },
     "execution_count": 7,
     "metadata": {},
     "output_type": "execute_result"
    }
   ],
   "source": [
    "hyp_df['ICE'] = (hyp_df['impact']*hyp_df['confidence'])/hyp_df['efforts']\n",
    "hyp_ice = hyp_df[['hypothesis', 'ICE']].round(1).sort_values(by='ICE',ascending=False)\n",
    "hyp_ice"
   ]
  },
  {
   "cell_type": "markdown",
   "metadata": {},
   "source": [
    "#####  Применение фреймворк RICE для приоритизации гипотез"
   ]
  },
  {
   "cell_type": "code",
   "execution_count": 8,
   "metadata": {},
   "outputs": [
    {
     "data": {
      "text/html": [
       "<div>\n",
       "<style scoped>\n",
       "    .dataframe tbody tr th:only-of-type {\n",
       "        vertical-align: middle;\n",
       "    }\n",
       "\n",
       "    .dataframe tbody tr th {\n",
       "        vertical-align: top;\n",
       "    }\n",
       "\n",
       "    .dataframe thead th {\n",
       "        text-align: right;\n",
       "    }\n",
       "</style>\n",
       "<table border=\"1\" class=\"dataframe\">\n",
       "  <thead>\n",
       "    <tr style=\"text-align: right;\">\n",
       "      <th></th>\n",
       "      <th>hypothesis</th>\n",
       "      <th>RICE</th>\n",
       "    </tr>\n",
       "  </thead>\n",
       "  <tbody>\n",
       "    <tr>\n",
       "      <th>7</th>\n",
       "      <td>Добавить форму подписки на все основные страницы, чтобы собрать базу клиентов для email-рассылок</td>\n",
       "      <td>112.0</td>\n",
       "    </tr>\n",
       "    <tr>\n",
       "      <th>2</th>\n",
       "      <td>Добавить блоки рекомендаций товаров на сайт интернет магазина, чтобы повысить конверсию и средний чек заказа</td>\n",
       "      <td>56.0</td>\n",
       "    </tr>\n",
       "    <tr>\n",
       "      <th>0</th>\n",
       "      <td>Добавить два новых канала привлечения трафика, что позволит привлекать на 30% больше пользователей</td>\n",
       "      <td>40.0</td>\n",
       "    </tr>\n",
       "    <tr>\n",
       "      <th>6</th>\n",
       "      <td>Показать на главной странице баннеры с актуальными акциями и распродажами, чтобы увеличить конверсию</td>\n",
       "      <td>40.0</td>\n",
       "    </tr>\n",
       "    <tr>\n",
       "      <th>8</th>\n",
       "      <td>Запустить акцию, дающую скидку на товар в день рождения</td>\n",
       "      <td>16.2</td>\n",
       "    </tr>\n",
       "    <tr>\n",
       "      <th>3</th>\n",
       "      <td>Изменить структура категорий, что увеличит конверсию, т.к. пользователи быстрее найдут нужный товар</td>\n",
       "      <td>9.0</td>\n",
       "    </tr>\n",
       "    <tr>\n",
       "      <th>1</th>\n",
       "      <td>Запустить собственную службу доставки, что сократит срок доставки заказов</td>\n",
       "      <td>4.0</td>\n",
       "    </tr>\n",
       "    <tr>\n",
       "      <th>5</th>\n",
       "      <td>Добавить страницу отзывов клиентов о магазине, что позволит увеличить количество заказов</td>\n",
       "      <td>4.0</td>\n",
       "    </tr>\n",
       "    <tr>\n",
       "      <th>4</th>\n",
       "      <td>Изменить цвет фона главной страницы, чтобы увеличить вовлеченность пользователей</td>\n",
       "      <td>3.0</td>\n",
       "    </tr>\n",
       "  </tbody>\n",
       "</table>\n",
       "</div>"
      ],
      "text/plain": [
       "                                                                                                     hypothesis  \\\n",
       "7              Добавить форму подписки на все основные страницы, чтобы собрать базу клиентов для email-рассылок   \n",
       "2  Добавить блоки рекомендаций товаров на сайт интернет магазина, чтобы повысить конверсию и средний чек заказа   \n",
       "0            Добавить два новых канала привлечения трафика, что позволит привлекать на 30% больше пользователей   \n",
       "6          Показать на главной странице баннеры с актуальными акциями и распродажами, чтобы увеличить конверсию   \n",
       "8                                                       Запустить акцию, дающую скидку на товар в день рождения   \n",
       "3           Изменить структура категорий, что увеличит конверсию, т.к. пользователи быстрее найдут нужный товар   \n",
       "1                                     Запустить собственную службу доставки, что сократит срок доставки заказов   \n",
       "5                      Добавить страницу отзывов клиентов о магазине, что позволит увеличить количество заказов   \n",
       "4                              Изменить цвет фона главной страницы, чтобы увеличить вовлеченность пользователей   \n",
       "\n",
       "    RICE  \n",
       "7  112.0  \n",
       "2   56.0  \n",
       "0   40.0  \n",
       "6   40.0  \n",
       "8   16.2  \n",
       "3    9.0  \n",
       "1    4.0  \n",
       "5    4.0  \n",
       "4    3.0  "
      ]
     },
     "execution_count": 8,
     "metadata": {},
     "output_type": "execute_result"
    }
   ],
   "source": [
    "hyp_df['RICE'] = (hyp_df['reach']*hyp_df['impact']*hyp_df['confidence'])/hyp_df['efforts']\n",
    "\n",
    "hyp_rice = hyp_df[['hypothesis', 'RICE']].sort_values(by='RICE', ascending=False)\n",
    "hyp_rice"
   ]
  },
  {
   "cell_type": "markdown",
   "metadata": {},
   "source": [
    "##### Анализ и описание причин изменений приоритизация гипотез при применении RICE вместо ICE"
   ]
  },
  {
   "cell_type": "markdown",
   "metadata": {},
   "source": [
    "- Без учета баллов по охвату пользователей (фреймворк ICE) приоритетными становятся №8, №0 и №7.\n",
    "- При использовании фреймворка RICE, т.е при учете баллов по охвату пользователей, приоритетными становятся №7, №2, №0 и №6 гипотезы.\n",
    "- Гипотеза №7 стала лидером (при использовании фреймворка RICE показателей равен 112, что превышает почти в два раза следующий за ним показатель гипотезы №2, равный 56). Это связано стем, что гипотеза №7 имеет максимальный балл (10) по охвату пользователей, среду других гипотез.\n",
    "- По этой же причине и гипотеза №2 стала более приоритетной, т.к бал охвата пользователей равен 8.\n",
    "- При этом, бал охвата пользователей гипотезы №8 равен только 3, что и привело к снижению его приоритизации.\n",
    "- В целом, приоритетными можно считать следующие гипотезы:\n",
    "    - Добавить форму подписки на все основные страницы, чтобы собрать базу клиентов для email-рассылок (№7).\n",
    "    - Добавить блоки рекомендаций товаров на сайт интернет магазина, чтобы повысить конверсию и средний чек заказа (№2).\n",
    "    - Добавить два новых канала привлечения трафика, что позволит привлекать на 30% больше пользователей (№0).\n",
    "    - Показать на главной странице баннеры с актуальными акциями и распродажами, чтобы увеличить конверсию (№6)."
   ]
  },
  {
   "cell_type": "markdown",
   "metadata": {},
   "source": [
    "#### Анализ A/B-теста"
   ]
  },
  {
   "cell_type": "markdown",
   "metadata": {},
   "source": [
    "##### Загрузка датафреймов для проведения анализа A/B-теста"
   ]
  },
  {
   "cell_type": "markdown",
   "metadata": {},
   "source": [
    "###### Данные о заказах:"
   ]
  },
  {
   "cell_type": "markdown",
   "metadata": {},
   "source": [
    "Преобразуем в относительный путь относительно текущей директории:"
   ]
  },
  {
   "cell_type": "code",
   "execution_count": 9,
   "metadata": {},
   "outputs": [],
   "source": [
    "absolute_path2 = '/datasets/orders.csv' # Абсолютный путь\n",
    "\n",
    "relative_path2 = os.path.relpath(absolute_path2)\n",
    "#print(f\"Относительный путь: {relative_path2}\")\n",
    "\n",
    "pth2_1 = 'https://code.s3.yandex.net/datasets/orders.csv'\n",
    "pth2_2 = relative_path2\n",
    "\n",
    "if os.path.exists(pth2_1):\n",
    "    query_2 = pd.read_csv(pth2_1)\n",
    "elif os.path.exists(pth2_2):\n",
    "    query_2 = pd.read_csv(pth2_2)\n",
    "else:\n",
    "    print('Something is wrong')"
   ]
  },
  {
   "cell_type": "code",
   "execution_count": 10,
   "metadata": {},
   "outputs": [
    {
     "data": {
      "text/html": [
       "<div>\n",
       "<style scoped>\n",
       "    .dataframe tbody tr th:only-of-type {\n",
       "        vertical-align: middle;\n",
       "    }\n",
       "\n",
       "    .dataframe tbody tr th {\n",
       "        vertical-align: top;\n",
       "    }\n",
       "\n",
       "    .dataframe thead th {\n",
       "        text-align: right;\n",
       "    }\n",
       "</style>\n",
       "<table border=\"1\" class=\"dataframe\">\n",
       "  <thead>\n",
       "    <tr style=\"text-align: right;\">\n",
       "      <th></th>\n",
       "      <th>transactionId</th>\n",
       "      <th>visitorId</th>\n",
       "      <th>date</th>\n",
       "      <th>revenue</th>\n",
       "      <th>group</th>\n",
       "    </tr>\n",
       "  </thead>\n",
       "  <tbody>\n",
       "    <tr>\n",
       "      <th>0</th>\n",
       "      <td>3667963787</td>\n",
       "      <td>3312258926</td>\n",
       "      <td>2019-08-15</td>\n",
       "      <td>1650</td>\n",
       "      <td>B</td>\n",
       "    </tr>\n",
       "    <tr>\n",
       "      <th>1</th>\n",
       "      <td>2804400009</td>\n",
       "      <td>3642806036</td>\n",
       "      <td>2019-08-15</td>\n",
       "      <td>730</td>\n",
       "      <td>B</td>\n",
       "    </tr>\n",
       "    <tr>\n",
       "      <th>2</th>\n",
       "      <td>2961555356</td>\n",
       "      <td>4069496402</td>\n",
       "      <td>2019-08-15</td>\n",
       "      <td>400</td>\n",
       "      <td>A</td>\n",
       "    </tr>\n",
       "    <tr>\n",
       "      <th>3</th>\n",
       "      <td>3797467345</td>\n",
       "      <td>1196621759</td>\n",
       "      <td>2019-08-15</td>\n",
       "      <td>9759</td>\n",
       "      <td>B</td>\n",
       "    </tr>\n",
       "    <tr>\n",
       "      <th>4</th>\n",
       "      <td>2282983706</td>\n",
       "      <td>2322279887</td>\n",
       "      <td>2019-08-15</td>\n",
       "      <td>2308</td>\n",
       "      <td>B</td>\n",
       "    </tr>\n",
       "  </tbody>\n",
       "</table>\n",
       "</div>"
      ],
      "text/plain": [
       "   transactionId   visitorId        date  revenue group\n",
       "0     3667963787  3312258926  2019-08-15     1650     B\n",
       "1     2804400009  3642806036  2019-08-15      730     B\n",
       "2     2961555356  4069496402  2019-08-15      400     A\n",
       "3     3797467345  1196621759  2019-08-15     9759     B\n",
       "4     2282983706  2322279887  2019-08-15     2308     B"
      ]
     },
     "execution_count": 10,
     "metadata": {},
     "output_type": "execute_result"
    }
   ],
   "source": [
    "orders_df = query_2\n",
    "orders_df.head()"
   ]
  },
  {
   "cell_type": "markdown",
   "metadata": {},
   "source": [
    "Приведем в соответствие название столбцов стилю snake_case:"
   ]
  },
  {
   "cell_type": "code",
   "execution_count": 11,
   "metadata": {},
   "outputs": [],
   "source": [
    "orders_df.columns = orders_df.columns.str.replace('Id', '_id')"
   ]
  },
  {
   "cell_type": "code",
   "execution_count": 12,
   "metadata": {},
   "outputs": [
    {
     "name": "stdout",
     "output_type": "stream",
     "text": [
      "<class 'pandas.core.frame.DataFrame'>\n",
      "RangeIndex: 1197 entries, 0 to 1196\n",
      "Data columns (total 5 columns):\n",
      " #   Column          Non-Null Count  Dtype \n",
      "---  ------          --------------  ----- \n",
      " 0   transaction_id  1197 non-null   int64 \n",
      " 1   visitor_id      1197 non-null   int64 \n",
      " 2   date            1197 non-null   object\n",
      " 3   revenue         1197 non-null   int64 \n",
      " 4   group           1197 non-null   object\n",
      "dtypes: int64(3), object(2)\n",
      "memory usage: 46.9+ KB\n"
     ]
    }
   ],
   "source": [
    "orders_df.info()"
   ]
  },
  {
   "cell_type": "markdown",
   "metadata": {},
   "source": [
    "Изменим тип данных у даты на \"datetime64[ns]\":"
   ]
  },
  {
   "cell_type": "code",
   "execution_count": 13,
   "metadata": {},
   "outputs": [
    {
     "name": "stdout",
     "output_type": "stream",
     "text": [
      "<class 'pandas.core.frame.DataFrame'>\n",
      "RangeIndex: 1197 entries, 0 to 1196\n",
      "Data columns (total 5 columns):\n",
      " #   Column          Non-Null Count  Dtype         \n",
      "---  ------          --------------  -----         \n",
      " 0   transaction_id  1197 non-null   int64         \n",
      " 1   visitor_id      1197 non-null   int64         \n",
      " 2   date            1197 non-null   datetime64[ns]\n",
      " 3   revenue         1197 non-null   int64         \n",
      " 4   group           1197 non-null   object        \n",
      "dtypes: datetime64[ns](1), int64(3), object(1)\n",
      "memory usage: 46.9+ KB\n"
     ]
    }
   ],
   "source": [
    "orders_df['date'] = orders_df['date'].map(lambda x: dt.datetime.strptime(x, '%Y-%m-%d'))\n",
    "orders_df.info()"
   ]
  },
  {
   "cell_type": "markdown",
   "metadata": {},
   "source": [
    "Проверим на наличие пустых значений и явных дубликатов:"
   ]
  },
  {
   "cell_type": "code",
   "execution_count": 14,
   "metadata": {},
   "outputs": [
    {
     "data": {
      "text/plain": [
       "transaction_id    0\n",
       "visitor_id        0\n",
       "date              0\n",
       "revenue           0\n",
       "group             0\n",
       "dtype: int64"
      ]
     },
     "execution_count": 14,
     "metadata": {},
     "output_type": "execute_result"
    }
   ],
   "source": [
    "orders_df.isna().sum()"
   ]
  },
  {
   "cell_type": "code",
   "execution_count": 15,
   "metadata": {},
   "outputs": [
    {
     "data": {
      "text/plain": [
       "0"
      ]
     },
     "execution_count": 15,
     "metadata": {},
     "output_type": "execute_result"
    }
   ],
   "source": [
    "orders_df.duplicated().sum()"
   ]
  },
  {
   "cell_type": "markdown",
   "metadata": {},
   "source": [
    "###### Данные о A/B группах пользователей:"
   ]
  },
  {
   "cell_type": "markdown",
   "metadata": {},
   "source": [
    "Преобразуем в относительный путь относительно текущей директории"
   ]
  },
  {
   "cell_type": "code",
   "execution_count": 16,
   "metadata": {},
   "outputs": [],
   "source": [
    "absolute_path3 = '/datasets/visitors.csv' # Абсолютный путь\n",
    "\n",
    "relative_path3 = os.path.relpath(absolute_path3)\n",
    "#print(f\"Относительный путь: {relative_path3}\")\n",
    "\n",
    "pth3_1 = 'https://code.s3.yandex.net/datasets/visitors.csv'\n",
    "pth3_2 = relative_path3\n",
    "\n",
    "if os.path.exists(pth3_1):\n",
    "    query_3 = pd.read_csv(pth3_1)\n",
    "elif os.path.exists(pth3_2):\n",
    "    query_3 = pd.read_csv(pth3_2)\n",
    "else:\n",
    "    print('Something is wrong')"
   ]
  },
  {
   "cell_type": "code",
   "execution_count": 17,
   "metadata": {},
   "outputs": [
    {
     "data": {
      "text/html": [
       "<div>\n",
       "<style scoped>\n",
       "    .dataframe tbody tr th:only-of-type {\n",
       "        vertical-align: middle;\n",
       "    }\n",
       "\n",
       "    .dataframe tbody tr th {\n",
       "        vertical-align: top;\n",
       "    }\n",
       "\n",
       "    .dataframe thead th {\n",
       "        text-align: right;\n",
       "    }\n",
       "</style>\n",
       "<table border=\"1\" class=\"dataframe\">\n",
       "  <thead>\n",
       "    <tr style=\"text-align: right;\">\n",
       "      <th></th>\n",
       "      <th>date</th>\n",
       "      <th>group</th>\n",
       "      <th>visitors</th>\n",
       "    </tr>\n",
       "  </thead>\n",
       "  <tbody>\n",
       "    <tr>\n",
       "      <th>0</th>\n",
       "      <td>2019-08-01</td>\n",
       "      <td>A</td>\n",
       "      <td>719</td>\n",
       "    </tr>\n",
       "    <tr>\n",
       "      <th>1</th>\n",
       "      <td>2019-08-02</td>\n",
       "      <td>A</td>\n",
       "      <td>619</td>\n",
       "    </tr>\n",
       "    <tr>\n",
       "      <th>2</th>\n",
       "      <td>2019-08-03</td>\n",
       "      <td>A</td>\n",
       "      <td>507</td>\n",
       "    </tr>\n",
       "    <tr>\n",
       "      <th>3</th>\n",
       "      <td>2019-08-04</td>\n",
       "      <td>A</td>\n",
       "      <td>717</td>\n",
       "    </tr>\n",
       "    <tr>\n",
       "      <th>4</th>\n",
       "      <td>2019-08-05</td>\n",
       "      <td>A</td>\n",
       "      <td>756</td>\n",
       "    </tr>\n",
       "  </tbody>\n",
       "</table>\n",
       "</div>"
      ],
      "text/plain": [
       "         date group  visitors\n",
       "0  2019-08-01     A       719\n",
       "1  2019-08-02     A       619\n",
       "2  2019-08-03     A       507\n",
       "3  2019-08-04     A       717\n",
       "4  2019-08-05     A       756"
      ]
     },
     "execution_count": 17,
     "metadata": {},
     "output_type": "execute_result"
    }
   ],
   "source": [
    "visitors_df = query_3\n",
    "visitors_df.head()"
   ]
  },
  {
   "cell_type": "code",
   "execution_count": 18,
   "metadata": {},
   "outputs": [
    {
     "name": "stdout",
     "output_type": "stream",
     "text": [
      "<class 'pandas.core.frame.DataFrame'>\n",
      "RangeIndex: 62 entries, 0 to 61\n",
      "Data columns (total 3 columns):\n",
      " #   Column    Non-Null Count  Dtype \n",
      "---  ------    --------------  ----- \n",
      " 0   date      62 non-null     object\n",
      " 1   group     62 non-null     object\n",
      " 2   visitors  62 non-null     int64 \n",
      "dtypes: int64(1), object(2)\n",
      "memory usage: 1.6+ KB\n"
     ]
    }
   ],
   "source": [
    "visitors_df.info()"
   ]
  },
  {
   "cell_type": "markdown",
   "metadata": {},
   "source": [
    "Изменим тип данных у даты на \"datetime64[ns]\":"
   ]
  },
  {
   "cell_type": "code",
   "execution_count": 19,
   "metadata": {},
   "outputs": [
    {
     "name": "stdout",
     "output_type": "stream",
     "text": [
      "<class 'pandas.core.frame.DataFrame'>\n",
      "RangeIndex: 62 entries, 0 to 61\n",
      "Data columns (total 3 columns):\n",
      " #   Column    Non-Null Count  Dtype         \n",
      "---  ------    --------------  -----         \n",
      " 0   date      62 non-null     datetime64[ns]\n",
      " 1   group     62 non-null     object        \n",
      " 2   visitors  62 non-null     int64         \n",
      "dtypes: datetime64[ns](1), int64(1), object(1)\n",
      "memory usage: 1.6+ KB\n"
     ]
    }
   ],
   "source": [
    "visitors_df['date'] = visitors_df['date'].map(lambda x: dt.datetime.strptime(x, '%Y-%m-%d'))\n",
    "visitors_df.info()"
   ]
  },
  {
   "cell_type": "markdown",
   "metadata": {},
   "source": [
    "Проверим на наличие пустых значений:"
   ]
  },
  {
   "cell_type": "code",
   "execution_count": 20,
   "metadata": {},
   "outputs": [
    {
     "data": {
      "text/plain": [
       "date        0\n",
       "group       0\n",
       "visitors    0\n",
       "dtype: int64"
      ]
     },
     "execution_count": 20,
     "metadata": {},
     "output_type": "execute_result"
    }
   ],
   "source": [
    "visitors_df.isna().sum()"
   ]
  },
  {
   "cell_type": "code",
   "execution_count": 21,
   "metadata": {},
   "outputs": [
    {
     "data": {
      "text/plain": [
       "0"
      ]
     },
     "execution_count": 21,
     "metadata": {},
     "output_type": "execute_result"
    }
   ],
   "source": [
    "visitors_df.duplicated().sum()"
   ]
  },
  {
   "cell_type": "code",
   "execution_count": 22,
   "metadata": {},
   "outputs": [
    {
     "data": {
      "text/plain": [
       "array(['2019-08-01T00:00:00.000000000', '2019-08-02T00:00:00.000000000',\n",
       "       '2019-08-03T00:00:00.000000000', '2019-08-04T00:00:00.000000000',\n",
       "       '2019-08-05T00:00:00.000000000', '2019-08-06T00:00:00.000000000',\n",
       "       '2019-08-07T00:00:00.000000000', '2019-08-08T00:00:00.000000000',\n",
       "       '2019-08-09T00:00:00.000000000', '2019-08-10T00:00:00.000000000',\n",
       "       '2019-08-11T00:00:00.000000000', '2019-08-12T00:00:00.000000000',\n",
       "       '2019-08-13T00:00:00.000000000', '2019-08-14T00:00:00.000000000',\n",
       "       '2019-08-15T00:00:00.000000000', '2019-08-16T00:00:00.000000000',\n",
       "       '2019-08-17T00:00:00.000000000', '2019-08-18T00:00:00.000000000',\n",
       "       '2019-08-19T00:00:00.000000000', '2019-08-20T00:00:00.000000000',\n",
       "       '2019-08-21T00:00:00.000000000', '2019-08-22T00:00:00.000000000',\n",
       "       '2019-08-23T00:00:00.000000000', '2019-08-24T00:00:00.000000000',\n",
       "       '2019-08-25T00:00:00.000000000', '2019-08-26T00:00:00.000000000',\n",
       "       '2019-08-27T00:00:00.000000000', '2019-08-28T00:00:00.000000000',\n",
       "       '2019-08-29T00:00:00.000000000', '2019-08-30T00:00:00.000000000',\n",
       "       '2019-08-31T00:00:00.000000000'], dtype='datetime64[ns]')"
      ]
     },
     "execution_count": 22,
     "metadata": {},
     "output_type": "execute_result"
    }
   ],
   "source": [
    "visitors_df['date'].unique()"
   ]
  },
  {
   "cell_type": "markdown",
   "metadata": {},
   "source": [
    "###### Выводы:"
   ]
  },
  {
   "cell_type": "markdown",
   "metadata": {},
   "source": [
    "- Датафрейм о заказах имеет 1197 наблюдений и включает следующие параметры:\n",
    "    - transaction_id (идентификатор заказа);\n",
    "    - visitor_id (идентификатор пользователя, совершившего заказ);\n",
    "    - date (дата, когда был совершён заказ);\n",
    "    - revenue (выручка заказа);\n",
    "    - group (группа A/B-теста, в которую попал заказ).\n",
    "- Датафрейм о A/B группа включает данные, сгруппированные по дате совершения заказа. Представлены данные за август 2019 года.\n",
    "- Датафреймы связан между собой по дате совершения заказа.\n",
    "- Данные имеют подходящие типы, в том числе даты переведены в формат `datetime64[ns]`.\n",
    "- Пропусков и явных дубликатов в данных не выявлено."
   ]
  },
  {
   "cell_type": "markdown",
   "metadata": {},
   "source": [
    "##### Проверка корректность распределения на группы"
   ]
  },
  {
   "cell_type": "code",
   "execution_count": 23,
   "metadata": {},
   "outputs": [
    {
     "data": {
      "text/plain": [
       "'Кол-во посетителей гр.\"А\": 18736'"
      ]
     },
     "metadata": {},
     "output_type": "display_data"
    },
    {
     "data": {
      "text/plain": [
       "'Кол-во посетителей гр.\"B\": 18916'"
      ]
     },
     "metadata": {},
     "output_type": "display_data"
    },
    {
     "data": {
      "text/plain": [
       "'Кол-во покупок в гр.\"A\": 557'"
      ]
     },
     "metadata": {},
     "output_type": "display_data"
    },
    {
     "data": {
      "text/plain": [
       "'Кол-во покупок в гр.\"B\": 640'"
      ]
     },
     "metadata": {},
     "output_type": "display_data"
    }
   ],
   "source": [
    "display('Кол-во посетителей гр.\"А\": {}'.format(visitors_df[visitors_df['group']=='A']['visitors'].sum()))\n",
    "display('Кол-во посетителей гр.\"B\": {}'.format(visitors_df[visitors_df['group']=='B']['visitors'].sum()))\n",
    "display('Кол-во покупок в гр.\"A\": {}'.format(len(orders_df[orders_df['group']=='A'])))\n",
    "display('Кол-во покупок в гр.\"B\": {}'.format(len(orders_df[orders_df['group']=='B'])))"
   ]
  },
  {
   "cell_type": "markdown",
   "metadata": {},
   "source": [
    "Непараметрический тест Уилкоксона-Манна-Уитни:"
   ]
  },
  {
   "cell_type": "code",
   "execution_count": 24,
   "metadata": {},
   "outputs": [
    {
     "name": "stdout",
     "output_type": "stream",
     "text": [
      "p-значение:  0.36506882746952496\n",
      "Разница в кол-ве посетителей в группах \"А\" и \"В\" статистически не значима.\n"
     ]
    }
   ],
   "source": [
    "alpha = 0.05\n",
    "results = st.mannwhitneyu(\n",
    "    visitors_df[visitors_df['group']=='A']['visitors'], \n",
    "    visitors_df[visitors_df['group']=='B']['visitors'], \n",
    "    True, \n",
    "    'less')\n",
    "\n",
    "print('p-значение: ', results.pvalue)\n",
    "\n",
    "if results.pvalue < alpha:\n",
    "    print('Разница в кол-ве посетителей в группах \"А\" и \"В\" статистически значима.') \n",
    "else:\n",
    "    print(\n",
    "        'Разница в кол-ве посетителей в группах \"А\" и \"В\" статистически не значима.')"
   ]
  },
  {
   "cell_type": "code",
   "execution_count": 25,
   "metadata": {},
   "outputs": [
    {
     "data": {
      "text/plain": [
       "'Начальная конверсия: 0.030'"
      ]
     },
     "metadata": {},
     "output_type": "display_data"
    },
    {
     "data": {
      "text/plain": [
       "'Конверсия после изменений: 0.034'"
      ]
     },
     "metadata": {},
     "output_type": "display_data"
    },
    {
     "data": {
      "text/plain": [
       "'Относительное изменение конверсий: 0.121'"
      ]
     },
     "metadata": {},
     "output_type": "display_data"
    },
    {
     "data": {
      "text/plain": [
       "'Общее количество пользователей: 37652'"
      ]
     },
     "metadata": {},
     "output_type": "display_data"
    }
   ],
   "source": [
    "start_conv = len(orders_df[orders_df['group']=='A']) / visitors_df[visitors_df['group']=='A']['visitors'].sum()\n",
    "modif_conv = len(orders_df[orders_df['group']=='B']) / visitors_df[visitors_df['group']=='B']['visitors'].sum()\n",
    "shape_conv = abs(1-(start_conv/modif_conv))\n",
    "\n",
    "display('Начальная конверсия: {:.3f}'.format(start_conv))\n",
    "display('Конверсия после изменений: {:.3f}'.format(modif_conv))\n",
    "display('Относительное изменение конверсий: {:.3f}'.format(shape_conv))\n",
    "display('Общее количество пользователей: {:.0f}'.format(visitors_df['visitors'].sum()))"
   ]
  },
  {
   "cell_type": "markdown",
   "metadata": {},
   "source": [
    "###### Выводы:"
   ]
  },
  {
   "cell_type": "markdown",
   "metadata": {},
   "source": [
    "- Согласно тесту Уилкоксона-Манна-Уитни, разница в количестве посетителей в группах \"А\" и \"В\" статистически не значима.\n",
    "- Используя полученные данные о конверсиях, а также согласно расчетам на калькуляторе https://www.evanmiller.org/ab-testing/sample-size.html, для проведения АВ-теста необходимо 35855 наблюдений. В изучаемых данных 37652 наблюдений."
   ]
  },
  {
   "cell_type": "markdown",
   "metadata": {},
   "source": [
    "##### Анализ кумулятивных метрик"
   ]
  },
  {
   "cell_type": "markdown",
   "metadata": {},
   "source": [
    "###### Расчет кумулятивных метрик:"
   ]
  },
  {
   "cell_type": "markdown",
   "metadata": {},
   "source": [
    "Создадим датафрейм `datesGroups` с уникальными парами значений дат и групп теста, таблицы orders. Избавимся от дубликатов методом drop_duplicates()."
   ]
  },
  {
   "cell_type": "code",
   "execution_count": 26,
   "metadata": {},
   "outputs": [
    {
     "data": {
      "text/html": [
       "<div>\n",
       "<style scoped>\n",
       "    .dataframe tbody tr th:only-of-type {\n",
       "        vertical-align: middle;\n",
       "    }\n",
       "\n",
       "    .dataframe tbody tr th {\n",
       "        vertical-align: top;\n",
       "    }\n",
       "\n",
       "    .dataframe thead th {\n",
       "        text-align: right;\n",
       "    }\n",
       "</style>\n",
       "<table border=\"1\" class=\"dataframe\">\n",
       "  <thead>\n",
       "    <tr style=\"text-align: right;\">\n",
       "      <th></th>\n",
       "      <th>date</th>\n",
       "      <th>group</th>\n",
       "    </tr>\n",
       "  </thead>\n",
       "  <tbody>\n",
       "    <tr>\n",
       "      <th>0</th>\n",
       "      <td>2019-08-15</td>\n",
       "      <td>B</td>\n",
       "    </tr>\n",
       "    <tr>\n",
       "      <th>2</th>\n",
       "      <td>2019-08-15</td>\n",
       "      <td>A</td>\n",
       "    </tr>\n",
       "    <tr>\n",
       "      <th>45</th>\n",
       "      <td>2019-08-16</td>\n",
       "      <td>A</td>\n",
       "    </tr>\n",
       "    <tr>\n",
       "      <th>47</th>\n",
       "      <td>2019-08-16</td>\n",
       "      <td>B</td>\n",
       "    </tr>\n",
       "    <tr>\n",
       "      <th>55</th>\n",
       "      <td>2019-08-01</td>\n",
       "      <td>A</td>\n",
       "    </tr>\n",
       "  </tbody>\n",
       "</table>\n",
       "</div>"
      ],
      "text/plain": [
       "         date group\n",
       "0  2019-08-15     B\n",
       "2  2019-08-15     A\n",
       "45 2019-08-16     A\n",
       "47 2019-08-16     B\n",
       "55 2019-08-01     A"
      ]
     },
     "execution_count": 26,
     "metadata": {},
     "output_type": "execute_result"
    }
   ],
   "source": [
    "datesGroups = orders_df[['date', 'group']].drop_duplicates()\n",
    "datesGroups.head()"
   ]
  },
  {
   "cell_type": "code",
   "execution_count": 27,
   "metadata": {},
   "outputs": [
    {
     "name": "stdout",
     "output_type": "stream",
     "text": [
      "<class 'pandas.core.frame.DataFrame'>\n",
      "Int64Index: 62 entries, 0 to 1150\n",
      "Data columns (total 2 columns):\n",
      " #   Column  Non-Null Count  Dtype         \n",
      "---  ------  --------------  -----         \n",
      " 0   date    62 non-null     datetime64[ns]\n",
      " 1   group   62 non-null     object        \n",
      "dtypes: datetime64[ns](1), object(1)\n",
      "memory usage: 1.5+ KB\n"
     ]
    }
   ],
   "source": [
    "datesGroups.info()"
   ]
  },
  {
   "cell_type": "markdown",
   "metadata": {},
   "source": [
    "Получим агрегированные кумулятивные по дням данные о заказах:"
   ]
  },
  {
   "cell_type": "code",
   "execution_count": 28,
   "metadata": {},
   "outputs": [],
   "source": [
    "ordersAggregated = datesGroups.apply(\n",
    "    lambda x: orders_df[np.logical_and(orders_df['date'] <= x['date'], \n",
    "                                       orders_df['group'] == x['group'])]\\\n",
    "    .agg({\n",
    "        'date' : 'max',\n",
    "        'group' : 'max',\n",
    "        'transaction_id' : pd.Series.nunique,\n",
    "        'visitor_id' : pd.Series.nunique,\n",
    "        'revenue' : 'sum'}),\n",
    "    axis=1)\\\n",
    ".sort_values(by=['date','group'])"
   ]
  },
  {
   "cell_type": "markdown",
   "metadata": {},
   "source": [
    "Получим агрегированные кумулятивные о посетителях интернет-магазина:"
   ]
  },
  {
   "cell_type": "code",
   "execution_count": 29,
   "metadata": {},
   "outputs": [],
   "source": [
    "visitorsAggregated = datesGroups.apply(\n",
    "    lambda x: visitors_df[np.logical_and(visitors_df['date'] <= x['date'],\n",
    "                                      visitors_df['group'] == x['group'])]\\\n",
    "    .agg({\n",
    "        'date' : 'max',\n",
    "        'group' : 'max',\n",
    "        'visitors' : 'sum'}), axis=1)\\\n",
    ".sort_values(by=['date','group'])"
   ]
  },
  {
   "cell_type": "markdown",
   "metadata": {},
   "source": [
    "Объединим кумулятивные данные в одной таблице:"
   ]
  },
  {
   "cell_type": "code",
   "execution_count": 30,
   "metadata": {},
   "outputs": [],
   "source": [
    "cumulativeData = ordersAggregated.merge(visitorsAggregated, \n",
    "                                        left_on=['date', 'group'], \n",
    "                                        right_on=['date', 'group'])\n",
    "cumulativeData.columns = ['date', \n",
    "                          'group', \n",
    "                          'orders', \n",
    "                          'buyers', \n",
    "                          'revenue', \n",
    "                          'visitors']"
   ]
  },
  {
   "cell_type": "markdown",
   "metadata": {},
   "source": [
    "Проверим корректность созданного датафрейма:"
   ]
  },
  {
   "cell_type": "code",
   "execution_count": 31,
   "metadata": {},
   "outputs": [
    {
     "name": "stdout",
     "output_type": "stream",
     "text": [
      "Данные для кумулятивного датафрейма выбраны корректно.\n"
     ]
    }
   ],
   "source": [
    "order_data_min = orders_df['date'].min()\n",
    "order_data_max = orders_df['date'].max()\n",
    "\n",
    "cumulative_data_min = cumulativeData['date'].min()\n",
    "cumulative_data_max = cumulativeData['date'].max()\n",
    "\n",
    "if order_data_min == cumulative_data_min and order_data_max == cumulative_data_max:\n",
    "    print('Данные для кумулятивного датафрейма выбраны корректно.') \n",
    "else:\n",
    "    print(\n",
    "        'Ошибка при фильтрации или агрегации данных.')"
   ]
  },
  {
   "cell_type": "markdown",
   "metadata": {},
   "source": [
    "Сохраним данные о датах, выручке и числе заказов в группах A и B:"
   ]
  },
  {
   "cell_type": "code",
   "execution_count": 32,
   "metadata": {},
   "outputs": [],
   "source": [
    "cumulativeRevenueA = cumulativeData[cumulativeData['group']=='A'][['date','revenue', 'orders']]\n",
    "\n",
    "cumulativeRevenueB = cumulativeData[cumulativeData['group']=='B'][['date','revenue', 'orders']]"
   ]
  },
  {
   "cell_type": "markdown",
   "metadata": {},
   "source": [
    "###### Кумулятивная выручка по группам"
   ]
  },
  {
   "cell_type": "code",
   "execution_count": 33,
   "metadata": {},
   "outputs": [
    {
     "data": {
      "image/png": "[encoded data removed]",
      "text/plain": [
       "<Figure size 1080x720 with 1 Axes>"
      ]
     },
     "metadata": {
      "needs_background": "light"
     },
     "output_type": "display_data"
    }
   ],
   "source": [
    "plt.figure(figsize=(15, 10))\n",
    "plt.plot(cumulativeRevenueA['date'], \n",
    "         cumulativeRevenueA['revenue'], \n",
    "         label='A');\n",
    "plt.plot(cumulativeRevenueB['date'], \n",
    "         cumulativeRevenueB['revenue'], \n",
    "         label='B')\n",
    "\n",
    "plt.grid(visible=True)\n",
    "plt.title('Графики кумулятивной выручки по дням и группам A/B-тестирования', fontsize=14)\n",
    "plt.xlabel('Дата', fontsize=12)\n",
    "plt.ylabel('Выручка, руб.', fontsize=12)\n",
    "plt.legend() \n",
    "plt.show()"
   ]
  },
  {
   "cell_type": "markdown",
   "metadata": {},
   "source": [
    "Вывод:\n",
    "\n",
    "- До середины августа выручка увеличивалась в обеих группа равномерно.\n",
    "- С середины исследуемого периода (примерно 18-19 августа) выручка в группе \"В\" резко увеличилась.\n",
    "- При этом, динамика увеличения в обеих группах схожа, даже после \"скачка\" в гр.\"В\".\n",
    "- Также  незначительный скачок виден на графике группы \"А\" 13 августа.\n",
    "\n",
    "В целом, \"скачки\" выручки могут быть связаны с увеличением числа покупок и/или крупными покупками. "
   ]
  },
  {
   "cell_type": "markdown",
   "metadata": {},
   "source": [
    "###### Средний чек по группам"
   ]
  },
  {
   "cell_type": "markdown",
   "metadata": {},
   "source": [
    "Построим графики кумулятивного среднего чека: "
   ]
  },
  {
   "cell_type": "code",
   "execution_count": 34,
   "metadata": {},
   "outputs": [
    {
     "data": {
      "image/png": "[encoded data removed]",
      "text/plain": [
       "<Figure size 1080x720 with 1 Axes>"
      ]
     },
     "metadata": {
      "needs_background": "light"
     },
     "output_type": "display_data"
    }
   ],
   "source": [
    "plt.figure(figsize=(15, 10))\n",
    "plt.plot(cumulativeRevenueA['date'], \n",
    "         cumulativeRevenueA['revenue']/cumulativeRevenueA['orders'], \n",
    "         label='A')\n",
    "plt.plot(cumulativeRevenueB['date'], \n",
    "         cumulativeRevenueB['revenue']/cumulativeRevenueB['orders'], \n",
    "         label='B')\n",
    "\n",
    "plt.grid(visible=True)\n",
    "plt.title('Графики кумулятивного среднего чека по дням и группам A/B- тестирования', fontsize=14)\n",
    "plt.xlabel('Дата', fontsize=12)\n",
    "plt.ylabel('Средний чек, руб.', fontsize=12)\n",
    "plt.legend() \n",
    "plt.show();"
   ]
  },
  {
   "cell_type": "markdown",
   "metadata": {},
   "source": [
    "Вывод:\n",
    "\n",
    "- Группа \"А\":\n",
    "    - В первые 6 дней исследуемого периода наблюдается снижение среднего чека (примерно с 6,2 тыс.руб. до 4,7 тыс.руб.)\n",
    "    - При этом с 6 по 13 августа показатель кумулятивного среднего чека в данной группе резко вырос.\n",
    "    - Однако достигнув пика (на отметке около 7,5 тыс.руб.) данная метрика немного снизилась и в на протяжении оставшегося исследуемого периода незначительно колебалась в районе 7 тыс.руб. \n",
    "    - После \"скачка\" среднего чека в группе \"А\" после 13 августа, показатели несколько снижаются, но затем выравниваются и становятся более равномерными. \n",
    "- Группа \"В\":\n",
    "    - В первой половине исследуемого периода средний чек в данной группе волнообразно подрастал, при этом темпы роста были выше, чем снижения, поэтому в целом данная метрика увеличивалась (примерно от 5 тыс.руб. до 7 тыс.руб).\n",
    "    - С середины исследуемого периода (примерно 18-19 августа) средний чек в группе \"В\" резко увеличился (достигнув отметки более 10 тыс.руб.).\n",
    "    - Однако, после достижения пика показатель среднего чека незначительно снизился (примерно до 9,2 тыс.руб), при этом динамика была планомерной, без \"скачков\".\n",
    "    \n",
    "В целом, \"скачки\" среднего чека, также как и выручки, могут быть связаны с увеличением числа покупок и/или крупными покупками. Однако резкость таких \"скачков\" может быть связана  аномальным поведением пользователей (большими заказами или очень дорогими покупками)."
   ]
  },
  {
   "cell_type": "markdown",
   "metadata": {},
   "source": [
    "###### Относительное изменение кумулятивного среднего чека группы \"B\" к группе \"A\". "
   ]
  },
  {
   "cell_type": "markdown",
   "metadata": {},
   "source": [
    "Объединим кумулятивные данные в одной таблице: "
   ]
  },
  {
   "cell_type": "code",
   "execution_count": 35,
   "metadata": {},
   "outputs": [],
   "source": [
    "mergedCumulativeRevenue = cumulativeRevenueA.merge(\n",
    "    cumulativeRevenueB, \n",
    "    left_on='date', \n",
    "    right_on='date', \n",
    "    how='left', \n",
    "    suffixes=['A', 'B'])"
   ]
  },
  {
   "cell_type": "code",
   "execution_count": 36,
   "metadata": {},
   "outputs": [
    {
     "data": {
      "image/png": "[encoded data removed]",
      "text/plain": [
       "<Figure size 1080x720 with 1 Axes>"
      ]
     },
     "metadata": {
      "needs_background": "light"
     },
     "output_type": "display_data"
    }
   ],
   "source": [
    "plt.figure(figsize=(15, 10))\n",
    "plt.plot(mergedCumulativeRevenue['date'], \n",
    "         (mergedCumulativeRevenue['revenueB']/\n",
    "          mergedCumulativeRevenue['ordersB'])/\n",
    "         (mergedCumulativeRevenue['revenueA']/\n",
    "          mergedCumulativeRevenue['ordersA'])-1)\n",
    "plt.axhline(y=0, color='black', linestyle='--')\n",
    "plt.grid(visible=True)\n",
    "plt.title('График относительного изменения кумулятивного среднего чека группы \"В\" к группе \"А\" по дням', fontsize=14)\n",
    "plt.xlabel('Дата', fontsize=12)\n",
    "plt.ylabel('Отношение средних чеков', fontsize=12) \n",
    "plt.show();"
   ]
  },
  {
   "cell_type": "markdown",
   "metadata": {},
   "source": [
    "Вывод:\n",
    "\n",
    "- Резкое повышение среднего чека может говорить о наличии аномально больших или малых заказов и других \"выбросах\".\n",
    "- В целом, график расположен выше нуля, что может свидетельствовать о частом превышении среднего чека в группе В относительно среднего чека в группе А.\n",
    "- После резкого \"скачка\", в последней трети, график становится более стабильным, что может указывать на выравнивание кумулятивного среднего чека. "
   ]
  },
  {
   "cell_type": "markdown",
   "metadata": {},
   "source": [
    "###### Кумулятивная конверсия по группам"
   ]
  },
  {
   "cell_type": "markdown",
   "metadata": {},
   "source": [
    "Посчитаем среднее количество заказов на посетителя:"
   ]
  },
  {
   "cell_type": "code",
   "execution_count": 37,
   "metadata": {},
   "outputs": [],
   "source": [
    "cumulativeData['conversion'] = cumulativeData['orders']/cumulativeData['visitors']"
   ]
  },
  {
   "cell_type": "markdown",
   "metadata": {},
   "source": [
    "Отделим данные по группам:"
   ]
  },
  {
   "cell_type": "code",
   "execution_count": 38,
   "metadata": {},
   "outputs": [],
   "source": [
    "cumulativeDataA = cumulativeData[cumulativeData['group']=='A']\n",
    "\n",
    "cumulativeDataB = cumulativeData[cumulativeData['group']=='B']"
   ]
  },
  {
   "cell_type": "code",
   "execution_count": 39,
   "metadata": {},
   "outputs": [
    {
     "data": {
      "image/png": "[encoded data removed]",
      "text/plain": [
       "<Figure size 1080x720 with 1 Axes>"
      ]
     },
     "metadata": {
      "needs_background": "light"
     },
     "output_type": "display_data"
    }
   ],
   "source": [
    "plt.figure(figsize=(15, 10))\n",
    "plt.plot(cumulativeDataA['date'], cumulativeDataA['conversion'], label='A')\n",
    "plt.plot(cumulativeDataB['date'], cumulativeDataB['conversion'], label='B')\n",
    "plt.legend()\n",
    "\n",
    "plt.grid(visible=True)\n",
    "plt.title('Графики кумулятивных конверсий по дням и группам A/B-тестирования', fontsize=14)\n",
    "plt.xlabel('Дата', fontsize=12)\n",
    "plt.ylabel('_', fontsize=12) \n",
    "plt.show();"
   ]
  },
  {
   "cell_type": "markdown",
   "metadata": {},
   "source": [
    "Вывод:\n",
    "\n",
    "- В первые дни тестирования конверсия группы А имела более высокие показатели, чем в группе В\n",
    "- Однако через несколько дней (после примерно 6 августа) ситуация кардинально изменилась и конверсия группы В резко выроста, а группы А резко снизилась.\n",
    "- В первые несколько дней в обеих группах конверсия имеет резкие скачки, что может быть связано с небольшим объемом данных в начале теста.\n",
    "- Примерно после 6 августа, в обеих группах конверсия становится более волнообразной с небольшими, но постоянными, колебаниями. \n",
    "- Также, примерно с середины теста, разрыв между конверсиями групп становится устойчивым.\n",
    "\n",
    "Таким образом, можно говорить о том, что кумулятивная конверсия группы В на протяжении теста более высокая, чем в группе А. Это может быть связано с удачным изменением в продукте."
   ]
  },
  {
   "cell_type": "markdown",
   "metadata": {},
   "source": [
    "###### Относительное изменение кумулятивного среднего количества заказов на посетителя группы \"B\" к группе \"A\""
   ]
  },
  {
   "cell_type": "markdown",
   "metadata": {},
   "source": [
    "Объединим кумулятивные данные в одной таблице:"
   ]
  },
  {
   "cell_type": "code",
   "execution_count": 40,
   "metadata": {},
   "outputs": [],
   "source": [
    "mergedCumulativeConversions = cumulativeDataA[['date','conversion']]\\\n",
    ".merge(cumulativeDataB[['date','conversion']],\n",
    "       left_on='date', \n",
    "       right_on='date', \n",
    "       how='left', \n",
    "       suffixes=['A', 'B'])"
   ]
  },
  {
   "cell_type": "code",
   "execution_count": 41,
   "metadata": {},
   "outputs": [
    {
     "data": {
      "image/png": "[encoded data removed]",
      "text/plain": [
       "<Figure size 1080x720 with 1 Axes>"
      ]
     },
     "metadata": {
      "needs_background": "light"
     },
     "output_type": "display_data"
    }
   ],
   "source": [
    "plt.figure(figsize=(15, 10))\n",
    "plt.plot(mergedCumulativeConversions['date'], \n",
    "         mergedCumulativeConversions['conversionB']/mergedCumulativeConversions['conversionA']-1, \n",
    "         label=\"Относительный прирост конверсии гр. B к гр. A\")\n",
    "plt.grid(visible=True)\n",
    "plt.title('График относительного изменения кумулятивной конверсии гр. В к гр. А по дням', fontsize=14)\n",
    "plt.xlabel('Дата', fontsize=12)\n",
    "plt.ylabel('Отношение конверсий', fontsize=12)\n",
    "plt.axhline(y=0, color='black', linestyle='--')\n",
    "plt.axhline(y=0.12, color='grey', linestyle='--')\n",
    "plt.show();"
   ]
  },
  {
   "cell_type": "markdown",
   "metadata": {},
   "source": [
    "Вывод:\n",
    "\n",
    "- В начале тестирования наблюдаются значительные колебания, в том числе с отрицательным отклонением, что может быть связано с недостаточным объемом данных.\n",
    "- Начиная с 5 августа, относительные изменения конверсии гр. В начинают резко возрастать и к середине месяца достигают пика (примерно 20%-21%).\n",
    "- Затем происходит небольшой \"откат\", но до конца тестирования не опускается ниже 10%. \n",
    "- При этом, колебиная волнообразные и после пика находся в диапазоне 10-20%.\n",
    "\n",
    "В целом, конверсия группы В стабильно выше, чем у группы А и выглядит устойчиво."
   ]
  },
  {
   "cell_type": "markdown",
   "metadata": {},
   "source": [
    "##### Анализ выбросов и \"всплесков\""
   ]
  },
  {
   "cell_type": "markdown",
   "metadata": {},
   "source": [
    "###### Количества заказов по пользователям"
   ]
  },
  {
   "cell_type": "code",
   "execution_count": 42,
   "metadata": {},
   "outputs": [
    {
     "data": {
      "text/plain": [
       "count    1031.000000\n",
       "mean        1.161009\n",
       "std         0.724919\n",
       "min         1.000000\n",
       "25%         1.000000\n",
       "50%         1.000000\n",
       "75%         1.000000\n",
       "max        11.000000\n",
       "Name: transaction_id, dtype: float64"
      ]
     },
     "metadata": {},
     "output_type": "display_data"
    }
   ],
   "source": [
    "ordersByUsers = orders_df.groupby('visitor_id', as_index=False)\\\n",
    "                         .agg({'transaction_id': 'nunique'})\n",
    "\n",
    "display(ordersByUsers['transaction_id'].describe())"
   ]
  },
  {
   "cell_type": "markdown",
   "metadata": {},
   "source": [
    "Построим точечный график количества заказов по пользователям:"
   ]
  },
  {
   "cell_type": "code",
   "execution_count": 43,
   "metadata": {},
   "outputs": [
    {
     "data": {
      "image/png": "[encoded data removed]",
      "text/plain": [
       "<Figure size 1080x720 with 1 Axes>"
      ]
     },
     "metadata": {
      "needs_background": "light"
     },
     "output_type": "display_data"
    }
   ],
   "source": [
    "x_values = pd.Series(range(0, len(ordersByUsers)))\n",
    "\n",
    "plt.figure(figsize=(15, 10))\n",
    "plt.scatter(x_values, ordersByUsers['transaction_id'])\n",
    "\n",
    "plt.grid(visible=True)\n",
    "plt.title('График количества заказов по пользователям', fontsize=14)\n",
    "plt.xlabel('Пользователи', fontsize=12)\n",
    "plt.ylabel('Количество заказов', fontsize=12)\n",
    "plt.show();"
   ]
  },
  {
   "cell_type": "markdown",
   "metadata": {},
   "source": [
    "Пользователи, которые сделали более 2 заказов встречаются редко. Согласно описательным статистикам, среднее значение количества покупок чуть более 1 раза, а медианное значение - 1 покупка."
   ]
  },
  {
   "cell_type": "markdown",
   "metadata": {},
   "source": [
    "###### Поиск \"крайних\" значений в количестве заказов на пользователя (95-й и 99-й перцентили)"
   ]
  },
  {
   "cell_type": "code",
   "execution_count": 44,
   "metadata": {},
   "outputs": [
    {
     "data": {
      "text/html": [
       "<div>\n",
       "<style scoped>\n",
       "    .dataframe tbody tr th:only-of-type {\n",
       "        vertical-align: middle;\n",
       "    }\n",
       "\n",
       "    .dataframe tbody tr th {\n",
       "        vertical-align: top;\n",
       "    }\n",
       "\n",
       "    .dataframe thead th {\n",
       "        text-align: right;\n",
       "    }\n",
       "</style>\n",
       "<table border=\"1\" class=\"dataframe\">\n",
       "  <thead>\n",
       "    <tr style=\"text-align: right;\">\n",
       "      <th></th>\n",
       "      <th>visitor_id</th>\n",
       "      <th>transaction_id</th>\n",
       "    </tr>\n",
       "  </thead>\n",
       "  <tbody>\n",
       "    <tr>\n",
       "      <th>1023</th>\n",
       "      <td>4256040402</td>\n",
       "      <td>11</td>\n",
       "    </tr>\n",
       "    <tr>\n",
       "      <th>591</th>\n",
       "      <td>2458001652</td>\n",
       "      <td>11</td>\n",
       "    </tr>\n",
       "    <tr>\n",
       "      <th>569</th>\n",
       "      <td>2378935119</td>\n",
       "      <td>9</td>\n",
       "    </tr>\n",
       "    <tr>\n",
       "      <th>487</th>\n",
       "      <td>2038680547</td>\n",
       "      <td>8</td>\n",
       "    </tr>\n",
       "    <tr>\n",
       "      <th>44</th>\n",
       "      <td>199603092</td>\n",
       "      <td>5</td>\n",
       "    </tr>\n",
       "  </tbody>\n",
       "</table>\n",
       "</div>"
      ],
      "text/plain": [
       "      visitor_id  transaction_id\n",
       "1023  4256040402              11\n",
       "591   2458001652              11\n",
       "569   2378935119               9\n",
       "487   2038680547               8\n",
       "44     199603092               5"
      ]
     },
     "metadata": {},
     "output_type": "display_data"
    }
   ],
   "source": [
    "display(ordersByUsers.sort_values(by='transaction_id',ascending=False).head())"
   ]
  },
  {
   "cell_type": "code",
   "execution_count": 45,
   "metadata": {},
   "outputs": [
    {
     "data": {
      "text/plain": [
       "array([2., 4.])"
      ]
     },
     "metadata": {},
     "output_type": "display_data"
    }
   ],
   "source": [
    "display(np.percentile(ordersByUsers['transaction_id'], [95, 99]))"
   ]
  },
  {
   "cell_type": "markdown",
   "metadata": {},
   "source": [
    "Не более 5% пользователей покупали больше 2 раз, и не более 1% пользователей - делали больше 4 покупок."
   ]
  },
  {
   "cell_type": "markdown",
   "metadata": {},
   "source": [
    "###### Стоимость заказов по пользователям"
   ]
  },
  {
   "cell_type": "code",
   "execution_count": 46,
   "metadata": {},
   "outputs": [
    {
     "data": {
      "image/png": "[encoded data removed]",
      "text/plain": [
       "<Figure size 1080x720 with 1 Axes>"
      ]
     },
     "metadata": {
      "needs_background": "light"
     },
     "output_type": "display_data"
    }
   ],
   "source": [
    "x_values = pd.Series(range(0, len(orders_df['revenue'])))\n",
    "\n",
    "plt.figure(figsize=(15, 10))\n",
    "plt.scatter(x_values, orders_df['revenue'])\n",
    "\n",
    "plt.grid(visible=True)\n",
    "plt.title('График стоимости заказов по пользователям', fontsize=14)\n",
    "plt.xlabel('Пользователи', fontsize=12)\n",
    "plt.ylabel('Стоимость заказа', fontsize=12)\n",
    "plt.show();"
   ]
  },
  {
   "cell_type": "markdown",
   "metadata": {},
   "source": [
    "График позволяет выявить 2 \"выброса\": 1 покупка более 1,2 млн.руб. и 1 покупка - около 200 тыс.руб."
   ]
  },
  {
   "cell_type": "markdown",
   "metadata": {},
   "source": [
    "Увеличим масштаб точечного гафика, ограничив значения по оси Y. Это позволит более детального увидеть распределения для основной части заказов:"
   ]
  },
  {
   "cell_type": "code",
   "execution_count": 47,
   "metadata": {},
   "outputs": [
    {
     "data": {
      "image/png": "[encoded data removed]",
      "text/plain": [
       "<Figure size 1080x720 with 1 Axes>"
      ]
     },
     "metadata": {
      "needs_background": "light"
     },
     "output_type": "display_data"
    }
   ],
   "source": [
    "plt.figure(figsize=(15, 10))\n",
    "plt.scatter(x_values, orders_df['revenue'], alpha=0.5)\n",
    "\n",
    "plt.grid(visible=True)\n",
    "plt.ylim(0, 100000)\n",
    "plt.title('График стоимости заказов по пользователям', fontsize=14)\n",
    "plt.xlabel('Пользователи', fontsize=12)\n",
    "plt.ylabel('Стоимость заказа', fontsize=12)\n",
    "plt.show();"
   ]
  },
  {
   "cell_type": "markdown",
   "metadata": {},
   "source": [
    "Постоим гистограмму:"
   ]
  },
  {
   "cell_type": "code",
   "execution_count": 48,
   "metadata": {},
   "outputs": [
    {
     "data": {
      "image/png": "[encoded data removed]",
      "text/plain": [
       "<Figure size 1080x720 with 1 Axes>"
      ]
     },
     "metadata": {
      "needs_background": "light"
     },
     "output_type": "display_data"
    }
   ],
   "source": [
    "plt.figure(figsize=(15, 10))\n",
    "plt.hist(orders_df['revenue'], range=(0,100000), bins=100)\n",
    "plt.title('Гистограмма стоимости заказов по пользователям', fontsize=14)\n",
    "plt.xlabel('Стоимость заказа', fontsize=12)\n",
    "plt.ylabel('Пользователи', fontsize=12)\n",
    "plt.show();"
   ]
  },
  {
   "cell_type": "markdown",
   "metadata": {},
   "source": [
    "Визуализация данных о сумме заказов позволяет увидеть, что основная часть заказов имеют стоимость меньше 20 тыс.руб. "
   ]
  },
  {
   "cell_type": "markdown",
   "metadata": {},
   "source": [
    "###### Поиск \"крайних\" значений в стоимости заказов на пользователя (95-й и 99-й перцентили)"
   ]
  },
  {
   "cell_type": "code",
   "execution_count": 49,
   "metadata": {},
   "outputs": [
    {
     "data": {
      "text/plain": [
       "array([28000. , 58233.2])"
      ]
     },
     "metadata": {},
     "output_type": "display_data"
    }
   ],
   "source": [
    "display(np.percentile(orders_df['revenue'], [95, 99]))"
   ]
  },
  {
   "cell_type": "markdown",
   "metadata": {},
   "source": [
    "Не более 5% пользователей совершили покупки на сумму более 28 тыс.руб, также не более 1% пользователей совершили покупки на сумму более 58 тыс.руб."
   ]
  },
  {
   "cell_type": "markdown",
   "metadata": {},
   "source": [
    "Вывод:\n",
    "\n",
    "- К аномальным значеним можно отнести:\n",
    "    - покупки одного пользователя более 2 раз,\n",
    "    - стоимость заказа выше 28 тыс.руб."
   ]
  },
  {
   "cell_type": "markdown",
   "metadata": {},
   "source": [
    "##### Статистическая значимость различий в среднем количестве заказов на посетителя между группами по «сырым» данным"
   ]
  },
  {
   "cell_type": "markdown",
   "metadata": {},
   "source": [
    "###### Кумулятивные переменные и сгруппированные таблицы для анализа стат.значимости  различий в среднем количестве заказов:"
   ]
  },
  {
   "cell_type": "markdown",
   "metadata": {},
   "source": [
    "- количество пользователей до выбранной даты включительно в группе A:"
   ]
  },
  {
   "cell_type": "code",
   "execution_count": 50,
   "metadata": {},
   "outputs": [],
   "source": [
    "visitorsADaily = visitors_df[visitors_df['group'] == 'A'][['date', 'visitors']]\n",
    "\n",
    "visitorsADaily.columns = ['date', 'visitorsPerDateA']\n",
    "\n",
    "visitorsACummulative = visitorsADaily.apply(\n",
    "    lambda x: visitorsADaily[visitorsADaily['date'] <= x['date']]\\\n",
    "    .agg({\n",
    "        'date': 'max', \n",
    "        'visitorsPerDateA': 'sum'}\n",
    "    ),\n",
    "    axis=1,\n",
    ")\n",
    "\n",
    "visitorsACummulative.columns = ['date', 'visitorsCummulativeA']"
   ]
  },
  {
   "cell_type": "markdown",
   "metadata": {},
   "source": [
    "- количество пользователей до выбранной даты включительно в группе B:"
   ]
  },
  {
   "cell_type": "code",
   "execution_count": 51,
   "metadata": {},
   "outputs": [],
   "source": [
    "visitorsBDaily = visitors_df[visitors_df['group'] == 'B'][['date', 'visitors']]\n",
    "\n",
    "visitorsBDaily.columns = ['date', 'visitorsPerDateB']\n",
    "\n",
    "visitorsBCummulative = visitorsBDaily.apply(\n",
    "    lambda x: visitorsBDaily[visitorsBDaily['date'] <= x['date']]\\\n",
    "    .agg({\n",
    "        'date': 'max', \n",
    "        'visitorsPerDateB': 'sum'}\n",
    "    ),\n",
    "    axis=1,\n",
    ")\n",
    "\n",
    "visitorsBCummulative.columns = ['date', 'visitorsCummulativeB']"
   ]
  },
  {
   "cell_type": "markdown",
   "metadata": {},
   "source": [
    "- суммарное число заказов до выбранной даты включительно в группе A:"
   ]
  },
  {
   "cell_type": "code",
   "execution_count": 52,
   "metadata": {},
   "outputs": [],
   "source": [
    "ordersADaily = (\n",
    "    orders_df[orders_df['group'] == 'A']\\\n",
    "    [['date', \n",
    "      'transaction_id', \n",
    "      'visitor_id', \n",
    "      'revenue']]\\\n",
    "    .groupby('date', as_index=False)\\\n",
    "    .agg({\n",
    "        'transaction_id': pd.Series.nunique, \n",
    "        'revenue': 'sum'\n",
    "    })\n",
    ")\n",
    "ordersADaily.columns = ['date', 'ordersPerDateA', 'revenuePerDateA']\n",
    "\n",
    "ordersACummulative = ordersADaily.apply(\n",
    "    lambda x: ordersADaily[ordersADaily['date'] <= x['date']]\\\n",
    "    .agg({\n",
    "        'date': 'max', \n",
    "        'ordersPerDateA': 'sum', \n",
    "        'revenuePerDateA': 'sum'}\n",
    "    ),\n",
    "    axis=1,\n",
    ").sort_values(by=['date'])\n",
    "\n",
    "ordersACummulative.columns = [\n",
    "    'date',\n",
    "    'ordersCummulativeA',\n",
    "    'revenueCummulativeA',\n",
    "]"
   ]
  },
  {
   "cell_type": "markdown",
   "metadata": {},
   "source": [
    "- суммарное количество заказов до выбранной даты включительно в группе B:"
   ]
  },
  {
   "cell_type": "code",
   "execution_count": 53,
   "metadata": {},
   "outputs": [],
   "source": [
    "ordersBDaily = (\n",
    "    orders_df[orders_df['group'] == 'B']\\\n",
    "    [['date', \n",
    "      'transaction_id', \n",
    "      'visitor_id', \n",
    "      'revenue']]\\\n",
    "    .groupby('date', as_index=False)\\\n",
    "    .agg({\n",
    "        'transaction_id': pd.Series.nunique, \n",
    "        'revenue': 'sum'\n",
    "    })\n",
    ")\n",
    "ordersBDaily.columns = ['date', 'ordersPerDateB', 'revenuePerDateB']\n",
    "\n",
    "ordersBCummulative = ordersBDaily.apply(\n",
    "    lambda x: ordersBDaily[ordersBDaily['date'] <= x['date']]\\\n",
    "    .agg({\n",
    "        'date': 'max', \n",
    "        'ordersPerDateB': 'sum', \n",
    "        'revenuePerDateB': 'sum'}\n",
    "    ),\n",
    "    axis=1,\n",
    ").sort_values(by=['date'])\n",
    "\n",
    "ordersBCummulative.columns = [\n",
    "    'date',\n",
    "    'ordersCummulativeB',\n",
    "    'revenueCummulativeB',\n",
    "]"
   ]
  },
  {
   "cell_type": "markdown",
   "metadata": {},
   "source": [
    "- Объединим кумулятивные данные в одной таблице:"
   ]
  },
  {
   "cell_type": "code",
   "execution_count": 54,
   "metadata": {},
   "outputs": [
    {
     "name": "stdout",
     "output_type": "stream",
     "text": [
      "        date  ordersCummulativeA  revenueCummulativeA  ordersCummulativeB  \\\n",
      "0 2019-08-01                  24               148579                  21   \n",
      "1 2019-08-02                  44               242401                  45   \n",
      "2 2019-08-03                  68               354874                  61   \n",
      "3 2019-08-04                  84               425699                  78   \n",
      "4 2019-08-05                 109               549917                 101   \n",
      "\n",
      "   revenueCummulativeB  visitorsPerDateA  visitorsPerDateB  \\\n",
      "0               101217               719               713   \n",
      "1               266748               619               581   \n",
      "2               380996               507               509   \n",
      "3               489567               717               770   \n",
      "4               581995               756               707   \n",
      "\n",
      "   visitorsCummulativeA  visitorsCummulativeB  \n",
      "0                   719                   713  \n",
      "1                  1338                  1294  \n",
      "2                  1845                  1803  \n",
      "3                  2562                  2573  \n",
      "4                  3318                  3280  \n"
     ]
    }
   ],
   "source": [
    "data = (ordersACummulative.merge(ordersBCummulative, \n",
    "               left_on='date', \n",
    "               right_on='date', \n",
    "               how='left')\\\n",
    "        .merge(visitorsADaily, \n",
    "               left_on='date', \n",
    "               right_on='date', \n",
    "               how='left')\\\n",
    "        .merge(visitorsBDaily, \n",
    "               left_on='date', \n",
    "               right_on='date', \n",
    "               how='left')\\\n",
    "        .merge(visitorsACummulative, \n",
    "               left_on='date', \n",
    "               right_on='date', \n",
    "               how='left')\\\n",
    "        .merge(visitorsBCummulative, \n",
    "               left_on='date', \n",
    "               right_on='date', \n",
    "               how='left')\n",
    ")\n",
    "\n",
    "print(data.head())"
   ]
  },
  {
   "cell_type": "markdown",
   "metadata": {},
   "source": [
    "- `ordersCummulativeA` — суммарное число заказов до выбранной даты включительно в группе A;\n",
    "- `revenueCummulativeA` — суммарная выручка до выбранной даты включительно в группе A;\n",
    "- `ordersCummulativeB` — суммарное количество заказов до выбранной даты включительно в группе B;\n",
    "- `revenueCummulativeB` — суммарная выручка до выбранной даты включительно в группе B;\n",
    "- `visitorsPerDateA` — количество пользователей в выбранную дату в группе A;\n",
    "- `visitorsPerDateB` — количество пользователей в выбранную дату в группе B;\n",
    "- `visitorsCummulativeA` — количество пользователей до выбранной даты включительно в группе A;\n",
    "- `visitorsCummulativeB` — количество пользователей до выбранной даты включительно в группе B."
   ]
  },
  {
   "cell_type": "markdown",
   "metadata": {},
   "source": [
    "- число совершённых заказов пользователей в группе А, которые заказывали хотя бы 1 раз: "
   ]
  },
  {
   "cell_type": "code",
   "execution_count": 55,
   "metadata": {},
   "outputs": [],
   "source": [
    "ordersByUsersA = (orders_df[orders_df['group'] == 'A']\\\n",
    "                  .groupby('visitor_id', as_index=False)\\\n",
    "                  .agg({'transaction_id': pd.Series.nunique}))\n",
    "ordersByUsersA.columns = ['userId', 'orders']"
   ]
  },
  {
   "cell_type": "markdown",
   "metadata": {},
   "source": [
    "- число совершённых заказов пользователей в группе В, которые заказывали хотя бы 1 раз: "
   ]
  },
  {
   "cell_type": "code",
   "execution_count": 56,
   "metadata": {},
   "outputs": [],
   "source": [
    "ordersByUsersB = (orders_df[orders_df['group'] == 'B']\\\n",
    "                  .groupby('visitor_id', as_index=False)\\\n",
    "                  .agg({'transaction_id': pd.Series.nunique}))\n",
    "ordersByUsersB.columns = ['userId', 'orders']"
   ]
  },
  {
   "cell_type": "markdown",
   "metadata": {},
   "source": [
    "- Количество заказов в соответствии с пользователями в группе А (тем, кто ничего не заказал, будут соответствовать нули):"
   ]
  },
  {
   "cell_type": "code",
   "execution_count": 57,
   "metadata": {},
   "outputs": [],
   "source": [
    "sampleA = pd.concat(\n",
    "    [ordersByUsersA['orders'],\n",
    "     pd.Series(\n",
    "         0, \n",
    "         index=np.arange(data['visitorsPerDateA'].sum() - len(ordersByUsersA['orders'])),\n",
    "         name='orders')],\n",
    "    axis=0\n",
    ")"
   ]
  },
  {
   "cell_type": "markdown",
   "metadata": {},
   "source": [
    "- Количество заказов в соответствии с пользователями в группе В (тем, кто ничего не заказал, будут соответствовать нули):"
   ]
  },
  {
   "cell_type": "code",
   "execution_count": 58,
   "metadata": {},
   "outputs": [],
   "source": [
    "sampleB = pd.concat(\n",
    "    [ordersByUsersB['orders'],\n",
    "     pd.Series(\n",
    "         0, \n",
    "         index=np.arange(data['visitorsPerDateB'].sum() - len(ordersByUsersB['orders'])),\n",
    "         name='orders')],\n",
    "    axis=0\n",
    ")"
   ]
  },
  {
   "cell_type": "markdown",
   "metadata": {},
   "source": [
    "######  Статистическая значимость различия среднего количества заказов по результатам теста Манна-Уитни (по \"сырым\" данным\")."
   ]
  },
  {
   "cell_type": "markdown",
   "metadata": {},
   "source": [
    "**Сформулируем гипотезы для среднего количества заказов**:\n",
    "- H₀: различий в среднем количестве заказов между группами нет.\n",
    "- Ha: различия в среднем количестве заказов между группами есть."
   ]
  },
  {
   "cell_type": "code",
   "execution_count": 59,
   "metadata": {},
   "outputs": [
    {
     "name": "stdout",
     "output_type": "stream",
     "text": [
      "P-value для сравнения среднего количества заказов: 0.01679\n",
      "Разница в среднем количестве заказов в группах \"А\" и \"В\" статистически значима.\n"
     ]
    }
   ],
   "source": [
    "alpha = 0.05\n",
    "\n",
    "results_sampleAB = st.mannwhitneyu(sampleA, sampleB)\n",
    "print('P-value для сравнения среднего количества заказов: {0:.5f}'.format(results_sampleAB.pvalue))\n",
    "\n",
    "if results_sampleAB.pvalue < alpha:\n",
    "    print('Разница в среднем количестве заказов в группах \"А\" и \"В\" статистически значима.') \n",
    "else:\n",
    "    print(\n",
    "        'Разница в среднем количестве заказов в группах \"А\" и \"В\" статистически НЕ значима.')"
   ]
  },
  {
   "cell_type": "markdown",
   "metadata": {},
   "source": [
    "Относительное различие в среднем количестве заказов между группами:"
   ]
  },
  {
   "cell_type": "code",
   "execution_count": 60,
   "metadata": {},
   "outputs": [
    {
     "data": {
      "text/plain": [
       "'Относительное различие в среднем количестве заказов между группами: 0.138'"
      ]
     },
     "metadata": {},
     "output_type": "display_data"
    }
   ],
   "source": [
    "display('Относительное различие в среднем количестве заказов между группами: {0:.3f}'\\\n",
    "        .format(sampleB.mean() / sampleA.mean() - 1))"
   ]
  },
  {
   "cell_type": "markdown",
   "metadata": {},
   "source": [
    "- P-value для сравнения среднего количества заказов по \"сырым\" данным значительно меньше уровня значимости, в связи с этим, разницу в конверсии групп А и В можно считать статистически значимой. Отвергаем нулевую гипотезу. \n",
    "- Относительный прирост среднего количества заказов группы В к группе А составляет 13,8%."
   ]
  },
  {
   "cell_type": "markdown",
   "metadata": {},
   "source": [
    "######  Статистическая значимость различий в среднем чеке заказа между группами (по «сырым» данным)."
   ]
  },
  {
   "cell_type": "markdown",
   "metadata": {},
   "source": [
    "**Сформулируем гипотезы:**\n",
    "- H₀: различий в среднем чеке заказа между группами нет.\n",
    "- Ha: различия в среднем чеке заказа между группами есть."
   ]
  },
  {
   "cell_type": "code",
   "execution_count": 61,
   "metadata": {},
   "outputs": [
    {
     "name": "stdout",
     "output_type": "stream",
     "text": [
      "P-value для сравнения средних чеков: 0.729\n",
      "Разница в среднем чеке заказа в группах \"А\" и \"В\" статистически НЕ значима.\n"
     ]
    }
   ],
   "source": [
    "alpha = 0.05\n",
    "\n",
    "results_revenueAB = st.mannwhitneyu(\n",
    "    orders_df[orders_df['group']=='A']['revenue'], \n",
    "    orders_df[orders_df['group']=='B']['revenue'])\n",
    "\n",
    "\n",
    "print('P-value для сравнения средних чеков: {0:.3f}'.format(results_revenueAB.pvalue))\n",
    "\n",
    "if results_revenueAB.pvalue < alpha:\n",
    "    print('Разница в среднем чеке заказа в группах \"А\" и \"В\" статистически значима.') \n",
    "else:\n",
    "    print(\n",
    "        'Разница в среднем чеке заказа в группах \"А\" и \"В\" статистически НЕ значима.')"
   ]
  },
  {
   "cell_type": "markdown",
   "metadata": {},
   "source": [
    "Относительное различие в среднем чеке заказа между группами:"
   ]
  },
  {
   "cell_type": "code",
   "execution_count": 62,
   "metadata": {},
   "outputs": [
    {
     "name": "stdout",
     "output_type": "stream",
     "text": [
      "Относительное различие в среднем чеке заказа между группами: 0.259\n"
     ]
    }
   ],
   "source": [
    "print('Относительное различие в среднем чеке заказа между группами: {0:.3f}'.format(\n",
    "    orders_df[orders_df['group']=='B']['revenue'].mean()\\\n",
    "    /orders_df[orders_df['group']=='A']['revenue'].mean()-1))"
   ]
  },
  {
   "cell_type": "markdown",
   "metadata": {},
   "source": [
    "- P-value по \"сырым\" данным больше уровня значимости, в связи с этим, разницу в среднем чеке между группами можно считать статистически не значимой. Не отвергаем нулевую гипотезу. \n",
    "- Относительный прирост среднего чека заказа группы В к группе А составляет 25,9%.\n",
    "- Однако, прирост статистически не значим, несмотря на его величину, и поэтому может быть случаен."
   ]
  },
  {
   "cell_type": "markdown",
   "metadata": {},
   "source": [
    "##### Статистическая значимость различий в среднем количестве заказов на посетителя между группами по «очищенным» данным"
   ]
  },
  {
   "cell_type": "markdown",
   "metadata": {},
   "source": [
    "###### Подготовим \"очищенные\" от выбросов данные. "
   ]
  },
  {
   "cell_type": "markdown",
   "metadata": {},
   "source": [
    "За основу возьмем показатели 95-го перцентиля. Таким обзаром, примем за аномалии средний чек больше 28 тыс.руб. и более 2  покупок."
   ]
  },
  {
   "cell_type": "code",
   "execution_count": 63,
   "metadata": {},
   "outputs": [],
   "source": [
    "irregul_orders = np.percentile(ordersByUsers['transaction_id'], 95).astype(int)\n",
    "irregul_revenue = np.percentile(orders_df['revenue'], 95).astype(int)"
   ]
  },
  {
   "cell_type": "code",
   "execution_count": 64,
   "metadata": {},
   "outputs": [
    {
     "data": {
      "text/plain": [
       "'Количество аномальных пользователей: 74'"
      ]
     },
     "metadata": {},
     "output_type": "display_data"
    }
   ],
   "source": [
    "usersWithManyOrders = pd.concat(\n",
    "    [\n",
    "        ordersByUsersA[ordersByUsersA['orders'] > irregul_orders]['userId'],\n",
    "        ordersByUsersB[ordersByUsersB['orders'] > irregul_orders]['userId'],\n",
    "    ],\n",
    "    axis=0,\n",
    ")\n",
    "\n",
    "usersWithExpensiveOrders = orders_df[orders_df['revenue'] > irregul_revenue]['visitor_id']\n",
    "\n",
    "abnormalUsers = (pd.concat(\n",
    "    [\n",
    "        usersWithManyOrders, \n",
    "        usersWithExpensiveOrders\n",
    "    ], \n",
    "    axis=0).drop_duplicates().sort_values())\n",
    "\n",
    "display('Количество аномальных пользователей: {}'.format(abnormalUsers.shape[0]))"
   ]
  },
  {
   "cell_type": "markdown",
   "metadata": {},
   "source": [
    " Подготовим выборки количества заказов по пользователям по группам теста:"
   ]
  },
  {
   "cell_type": "code",
   "execution_count": 65,
   "metadata": {},
   "outputs": [],
   "source": [
    "sampleAFiltered = pd.concat(\n",
    "    [\n",
    "        ordersByUsersA[\n",
    "            np.logical_not(ordersByUsersA['userId'].isin(abnormalUsers))\n",
    "        ]['orders'],\n",
    "        pd.Series(\n",
    "            0,\n",
    "            index=np.arange(\n",
    "                data['visitorsPerDateA'].sum() - len(ordersByUsersA['orders'])\n",
    "            ),\n",
    "            name='orders',\n",
    "        ),\n",
    "    ],\n",
    "    axis=0,\n",
    ")\n",
    "\n",
    "sampleBFiltered = pd.concat(\n",
    "    [\n",
    "        ordersByUsersB[\n",
    "            np.logical_not(ordersByUsersB['userId'].isin(abnormalUsers))\n",
    "        ]['orders'],\n",
    "        pd.Series(\n",
    "            0,\n",
    "            index=np.arange(\n",
    "                data['visitorsPerDateB'].sum() - len(ordersByUsersB['orders'])\n",
    "            ),\n",
    "            name='orders',\n",
    "        ),\n",
    "    ],\n",
    "    axis=0,\n",
    ")"
   ]
  },
  {
   "cell_type": "markdown",
   "metadata": {},
   "source": [
    "###### Статистическая значимость различия среднего количества заказов по результатам теста Манна-Уитни (по \"очищенным данным\")."
   ]
  },
  {
   "cell_type": "markdown",
   "metadata": {},
   "source": [
    "**Сформулируем гипотезы для среднего количества заказов**:\n",
    "- H₀: различий в среднем количестве заказов между группами нет.\n",
    "- Ha: различия в среднем количестве заказов между группами есть."
   ]
  },
  {
   "cell_type": "code",
   "execution_count": 66,
   "metadata": {},
   "outputs": [
    {
     "name": "stdout",
     "output_type": "stream",
     "text": [
      "P-value для сравнения среднего между \"очищенными\" группами: 0.013\n",
      "Разница в среднем в группах \"А\" и \"В\" статистически значима.\n"
     ]
    }
   ],
   "source": [
    "alpha = 0.05\n",
    "\n",
    "results_sample_filteredAB = st.mannwhitneyu(sampleAFiltered,sampleBFiltered)\n",
    "print('P-value для сравнения среднего между \"очищенными\" группами: {0:.3f}'.format(results_sample_filteredAB.pvalue))\n",
    "\n",
    "\n",
    "if results_sample_filteredAB.pvalue < alpha:\n",
    "    print('Разница в среднем в группах \"А\" и \"В\" статистически значима.') \n",
    "else:\n",
    "    print(\n",
    "        'Разница в среднем в группах \"А\" и \"В\" статистически НЕ значима.')"
   ]
  },
  {
   "cell_type": "markdown",
   "metadata": {},
   "source": [
    "Относительный прирост конверсии \"очищенной\" группы B:"
   ]
  },
  {
   "cell_type": "code",
   "execution_count": 67,
   "metadata": {},
   "outputs": [
    {
     "data": {
      "text/plain": [
       "'Относительный прирост конверсии \"очищенной\" группы B: 0.173'"
      ]
     },
     "metadata": {},
     "output_type": "display_data"
    }
   ],
   "source": [
    "display('Относительный прирост конверсии \"очищенной\" группы B: {0:.3f}'\\\n",
    "        .format(sampleBFiltered.mean()/sampleAFiltered.mean()-1))"
   ]
  },
  {
   "cell_type": "markdown",
   "metadata": {},
   "source": [
    "Выводы:\n",
    "\n",
    "- Выявлено 74 пользователя с аномальными показателями стоимости и количества заказов.\n",
    "- P-value для сравнения среднего количества заказов по \"очищенным\" данным значительно меньше уровня значимости, в связи с этим, разницу в конверсии групп А и В можно считать статистически значимой. Отвергаем нулевую гипотезу.\n",
    "- Относительный прирост конверсии группы В к группе А составляет 17,3%."
   ]
  },
  {
   "cell_type": "markdown",
   "metadata": {},
   "source": [
    "###### Статистическая значимость различий в среднем чеке заказа между группами (по «очищенным» данным)"
   ]
  },
  {
   "cell_type": "markdown",
   "metadata": {},
   "source": [
    "Подготовим выборки количества заказов по пользователям по группам теста:"
   ]
  },
  {
   "cell_type": "code",
   "execution_count": 68,
   "metadata": {},
   "outputs": [],
   "source": [
    "sampleAFiltered = orders_df[\n",
    "                np.logical_and(\n",
    "                    orders_df['group'] == 'A',\n",
    "                    np.logical_not(orders_df['visitor_id'].isin(abnormalUsers)),\n",
    "                )\n",
    "            ]['revenue']\n",
    "\n",
    "sampleBFiltered = orders_df[\n",
    "                np.logical_and(\n",
    "                    orders_df['group'] == 'B',\n",
    "                    np.logical_not(orders_df['visitor_id'].isin(abnormalUsers)),\n",
    "                )\n",
    "            ]['revenue']"
   ]
  },
  {
   "cell_type": "markdown",
   "metadata": {},
   "source": [
    "**Сформулируем гипотезы:**\n",
    "- H₀: различий в среднем чеке заказа между группами нет.\n",
    "- Ha: различия в среднем чеке заказа между группами есть."
   ]
  },
  {
   "cell_type": "code",
   "execution_count": 69,
   "metadata": {},
   "outputs": [
    {
     "name": "stdout",
     "output_type": "stream",
     "text": [
      "P-value для сравнения средних чеков между \"очищенными\" группами: 0.738\n",
      "Разница в среднем чеке заказа в группах \"А\" и \"В\" статистически НЕ значима.\n"
     ]
    }
   ],
   "source": [
    "alpha = 0.05\n",
    "\n",
    "results_revenue_filteredAB = st.mannwhitneyu(sampleAFiltered, sampleBFiltered)\n",
    "    \n",
    "print('P-value для сравнения средних чеков между \"очищенными\" группами: {0:.3f}'.format(results_revenue_filteredAB.pvalue))\n",
    "\n",
    "if results_revenue_filteredAB.pvalue < alpha:\n",
    "    print('Разница в среднем чеке заказа в группах \"А\" и \"В\" статистически значима.') \n",
    "else:\n",
    "    print(\n",
    "        'Разница в среднем чеке заказа в группах \"А\" и \"В\" статистически НЕ значима.')"
   ]
  },
  {
   "cell_type": "markdown",
   "metadata": {},
   "source": [
    "Относительный прирост среднего чека \"очищенной\" группы B:"
   ]
  },
  {
   "cell_type": "code",
   "execution_count": 70,
   "metadata": {},
   "outputs": [
    {
     "name": "stdout",
     "output_type": "stream",
     "text": [
      "Относительный прирост среднего чека \"очищенной\" группы B: -0.020\n"
     ]
    }
   ],
   "source": [
    "print(\n",
    "    'Относительный прирост среднего чека \"очищенной\" группы B: {0:.3f}'.format(\n",
    "        orders_df[\n",
    "            np.logical_and(\n",
    "                orders_df['group'] == 'B',\n",
    "                np.logical_not(orders_df['visitor_id'].isin(abnormalUsers)),\n",
    "            )\n",
    "        ]['revenue'].mean()\n",
    "        / orders_df[\n",
    "            np.logical_and(\n",
    "                orders_df['group'] == 'A',\n",
    "                np.logical_not(orders_df['visitor_id'].isin(abnormalUsers)),\n",
    "            )\n",
    "        ]['revenue'].mean()\n",
    "        - 1\n",
    "    )\n",
    ") "
   ]
  },
  {
   "cell_type": "markdown",
   "metadata": {},
   "source": [
    "Выводы:\n",
    "\n",
    "- P-value по \"очищенным\" данным больше уровня значимости, в связи с этим, разницу в среднем чеке между группами можно считать статистически не значимой. Не отвергаем нулевую гипотезу.\n",
    "- Относительный прирост конверсии группы В к группе А составляет -2%. Отрицательный показатель может говорить о негативном изменении, т.е. тестируемое нами изменение привело к ухудшению конверсии в группе В (по сравнению с группой А). \n",
    "- Однако, прирост статистически не значим, и поэтому может быть случаен."
   ]
  },
  {
   "cell_type": "markdown",
   "metadata": {},
   "source": [
    "##### Выводы по анализу A/B-теста"
   ]
  },
  {
   "cell_type": "markdown",
   "metadata": {},
   "source": [
    "- Несмотря на \"скачки\", динамика выручки обеих групп схожа, при этом рост в группе \"В\" во второй половине августа был более выраженным.\n",
    "- Также в группе \"В\" более выраженный рост среднего чека (на 25%), а также средний чек был чаще выше, чем в группе \"А\". Однако \"пик\" обусловлен аномальными \"выбросами\". При этом, нет статистически значимого различия в группах по среднему чеку.\n",
    "- Конверсия группы \"В\" стабильно выше (на 13%) и демонстрирует устойчивость (по \"сырым\" данным), что может указывать на успешность тестируемого изменения.\n",
    "- Однако, для объективного анализа и принятия эффективного решения необходимо учесть выбросы и аномалии в данных. В данном исследовании аномальными были 74 наблюдения (с покупками более 2 раз и стоимостью более 28 тыс.руб.).\n",
    "- По \"очищенным\" данным конверсия группы \"В\" остается стабильно высокой и устойчивой. Однако средний чек имеет отрицательный прирост, что указывает на возможное снижение выручки при тестируемом изменении. Данный показатель ставит под сомнение успешность тестируемого изменения.\n",
    "\n",
    "Таким образом, конверсия и средний чек значительно выше в группе \"В\", но аномалии (\"выбросы\" по стоимости заказа) повлияли на результат теста. В целом, тестируемое изменение положительно повлияли на конверсию, но незначительно ухудшило средний чек, однако данное ухудшение статистически не значимо и поэтому может быть случайным. "
   ]
  },
  {
   "cell_type": "markdown",
   "metadata": {},
   "source": [
    "##### Решение по результатам теста"
   ]
  },
  {
   "cell_type": "markdown",
   "metadata": {},
   "source": [
    "**Варианты решений:**\n",
    "\n",
    "1. Остановить тест, зафиксировать победу одной из групп.\n",
    "2. Остановить тест, зафиксировать отсутствие различий между группами.\n",
    "3. Продолжить тест."
   ]
  },
  {
   "cell_type": "markdown",
   "metadata": {},
   "source": [
    "- Я бы предложила остановить тест, зафиксировать победу групп \"В\". \n",
    "- Несмотря на то, что есть тенденция к снижению среднего чека, конверсия данной группы показывает стабильно высокий результат. \n",
    "- При этом, положительные тенденции конверсии можно зафиксировать и продолжить из реализовывать в дальнейшем. \n",
    "-  Учитывая подствержненные АВ-тестом увеличении конверсии, к приоритетным гипотезам можно в первую очередь отнести:\n",
    "    - Показать на главной странице баннеры с актуальными акциями и распродажами, чтобы увеличить конверсию (№6).\n",
    "    - Добавить блоки рекомендаций товаров на сайт интернет магазина, чтобы повысить конверсию и средний чек заказа (№2).\n",
    "    - Добавить два новых канала привлечения трафика, что позволит привлекать на 30% больше пользователей (№0).\n",
    "- Лидирующая по RICE гипотеза №7 (\"Добавить форму подписки на все основные страницы, чтобы собрать базу клиентов для email-рассылок\") напрямую не связана с увеличением конверсии и среднего чека."
   ]
  }
 ],
 "metadata": {
  "ExecuteTimeLog": [
   {
    "duration": 937,
    "start_time": "2024-12-15T21:01:38.614Z"
   },
   {
    "duration": 1263,
    "start_time": "2024-12-16T12:01:22.756Z"
   },
   {
    "duration": 5,
    "start_time": "2024-12-16T12:01:24.022Z"
   },
   {
    "duration": 113,
    "start_time": "2024-12-16T12:05:51.711Z"
   },
   {
    "duration": 15,
    "start_time": "2024-12-16T12:06:53.478Z"
   },
   {
    "duration": 8,
    "start_time": "2024-12-16T12:07:00.260Z"
   },
   {
    "duration": 87,
    "start_time": "2024-12-16T12:11:43.107Z"
   },
   {
    "duration": 22,
    "start_time": "2024-12-16T12:12:34.370Z"
   },
   {
    "duration": 18,
    "start_time": "2024-12-16T12:12:44.944Z"
   },
   {
    "duration": 11,
    "start_time": "2024-12-16T12:13:02.710Z"
   },
   {
    "duration": 17,
    "start_time": "2024-12-16T12:13:25.297Z"
   },
   {
    "duration": 19,
    "start_time": "2024-12-16T12:13:44.125Z"
   },
   {
    "duration": 20,
    "start_time": "2024-12-16T12:13:51.306Z"
   },
   {
    "duration": 26,
    "start_time": "2024-12-16T12:13:56.449Z"
   },
   {
    "duration": 1022,
    "start_time": "2024-12-16T12:19:45.285Z"
   },
   {
    "duration": 4,
    "start_time": "2024-12-16T12:19:46.309Z"
   },
   {
    "duration": 68,
    "start_time": "2024-12-16T12:19:46.314Z"
   },
   {
    "duration": 13,
    "start_time": "2024-12-16T12:19:46.384Z"
   },
   {
    "duration": 17,
    "start_time": "2024-12-16T12:19:46.399Z"
   },
   {
    "duration": 26,
    "start_time": "2024-12-16T12:19:46.418Z"
   },
   {
    "duration": 3,
    "start_time": "2024-12-16T12:21:34.465Z"
   },
   {
    "duration": 10,
    "start_time": "2024-12-16T12:21:36.718Z"
   },
   {
    "duration": 21,
    "start_time": "2024-12-16T12:21:40.109Z"
   },
   {
    "duration": 84,
    "start_time": "2024-12-16T12:28:17.400Z"
   },
   {
    "duration": 1023,
    "start_time": "2024-12-16T12:28:27.969Z"
   },
   {
    "duration": 4,
    "start_time": "2024-12-16T12:28:28.994Z"
   },
   {
    "duration": 74,
    "start_time": "2024-12-16T12:28:28.999Z"
   },
   {
    "duration": 10,
    "start_time": "2024-12-16T12:28:29.075Z"
   },
   {
    "duration": 3,
    "start_time": "2024-12-16T12:28:29.087Z"
   },
   {
    "duration": 35,
    "start_time": "2024-12-16T12:28:29.091Z"
   },
   {
    "duration": 30,
    "start_time": "2024-12-16T12:28:29.127Z"
   },
   {
    "duration": 12,
    "start_time": "2024-12-16T12:38:30.745Z"
   },
   {
    "duration": 9,
    "start_time": "2024-12-16T12:39:35.637Z"
   },
   {
    "duration": 10,
    "start_time": "2024-12-16T12:39:48.415Z"
   },
   {
    "duration": 11,
    "start_time": "2024-12-16T12:40:28.145Z"
   },
   {
    "duration": 10,
    "start_time": "2024-12-16T12:43:06.210Z"
   },
   {
    "duration": 11,
    "start_time": "2024-12-16T12:43:24.201Z"
   },
   {
    "duration": 2,
    "start_time": "2024-12-16T12:49:15.091Z"
   },
   {
    "duration": 3,
    "start_time": "2024-12-16T12:49:23.578Z"
   },
   {
    "duration": 90,
    "start_time": "2024-12-16T12:49:40.466Z"
   },
   {
    "duration": 9,
    "start_time": "2024-12-16T12:50:10.709Z"
   },
   {
    "duration": 4,
    "start_time": "2024-12-16T12:50:33.879Z"
   },
   {
    "duration": 5,
    "start_time": "2024-12-16T12:51:05.764Z"
   },
   {
    "duration": 5,
    "start_time": "2024-12-16T12:51:38.617Z"
   },
   {
    "duration": 11,
    "start_time": "2024-12-16T12:51:50.160Z"
   },
   {
    "duration": 2,
    "start_time": "2024-12-16T12:51:59.217Z"
   },
   {
    "duration": 2,
    "start_time": "2024-12-16T12:52:02.892Z"
   },
   {
    "duration": 3,
    "start_time": "2024-12-16T12:52:39.906Z"
   },
   {
    "duration": 14,
    "start_time": "2024-12-16T12:52:56.803Z"
   },
   {
    "duration": 9,
    "start_time": "2024-12-16T12:53:01.407Z"
   },
   {
    "duration": 1009,
    "start_time": "2024-12-16T12:53:08.780Z"
   },
   {
    "duration": 3,
    "start_time": "2024-12-16T12:53:09.791Z"
   },
   {
    "duration": 90,
    "start_time": "2024-12-16T12:53:09.795Z"
   },
   {
    "duration": 11,
    "start_time": "2024-12-16T12:53:09.886Z"
   },
   {
    "duration": 15,
    "start_time": "2024-12-16T12:53:09.899Z"
   },
   {
    "duration": 14,
    "start_time": "2024-12-16T12:53:09.916Z"
   },
   {
    "duration": 20,
    "start_time": "2024-12-16T12:53:09.932Z"
   },
   {
    "duration": 10,
    "start_time": "2024-12-16T12:53:09.953Z"
   },
   {
    "duration": 10,
    "start_time": "2024-12-16T12:53:09.964Z"
   },
   {
    "duration": 47,
    "start_time": "2024-12-16T19:31:25.450Z"
   },
   {
    "duration": 1222,
    "start_time": "2024-12-16T19:31:35.261Z"
   },
   {
    "duration": 3,
    "start_time": "2024-12-16T19:31:36.486Z"
   },
   {
    "duration": 133,
    "start_time": "2024-12-16T19:31:36.491Z"
   },
   {
    "duration": 11,
    "start_time": "2024-12-16T19:31:36.626Z"
   },
   {
    "duration": 19,
    "start_time": "2024-12-16T19:31:36.638Z"
   },
   {
    "duration": 38,
    "start_time": "2024-12-16T19:31:36.658Z"
   },
   {
    "duration": 46,
    "start_time": "2024-12-16T19:31:36.698Z"
   },
   {
    "duration": 15,
    "start_time": "2024-12-16T19:31:36.745Z"
   },
   {
    "duration": 14,
    "start_time": "2024-12-16T19:31:36.762Z"
   },
   {
    "duration": 11,
    "start_time": "2024-12-16T19:31:49.863Z"
   },
   {
    "duration": 11,
    "start_time": "2024-12-16T19:31:55.721Z"
   },
   {
    "duration": 1099,
    "start_time": "2024-12-16T19:32:12.603Z"
   },
   {
    "duration": 3,
    "start_time": "2024-12-16T19:32:13.704Z"
   },
   {
    "duration": 74,
    "start_time": "2024-12-16T19:32:13.709Z"
   },
   {
    "duration": 10,
    "start_time": "2024-12-16T19:32:13.785Z"
   },
   {
    "duration": 2,
    "start_time": "2024-12-16T19:32:13.797Z"
   },
   {
    "duration": 11,
    "start_time": "2024-12-16T19:32:13.801Z"
   },
   {
    "duration": 25,
    "start_time": "2024-12-16T19:32:13.813Z"
   },
   {
    "duration": 11,
    "start_time": "2024-12-16T19:32:13.840Z"
   },
   {
    "duration": 18,
    "start_time": "2024-12-16T19:32:13.853Z"
   },
   {
    "duration": 9,
    "start_time": "2024-12-16T19:47:59.560Z"
   },
   {
    "duration": 1070,
    "start_time": "2024-12-16T19:48:37.331Z"
   },
   {
    "duration": 3,
    "start_time": "2024-12-16T19:48:38.403Z"
   },
   {
    "duration": 193,
    "start_time": "2024-12-16T19:48:38.408Z"
   },
   {
    "duration": 11,
    "start_time": "2024-12-16T19:48:38.603Z"
   },
   {
    "duration": 5,
    "start_time": "2024-12-16T19:48:38.616Z"
   },
   {
    "duration": 20,
    "start_time": "2024-12-16T19:48:38.622Z"
   },
   {
    "duration": 22,
    "start_time": "2024-12-16T19:48:38.643Z"
   },
   {
    "duration": 11,
    "start_time": "2024-12-16T19:48:38.667Z"
   },
   {
    "duration": 13,
    "start_time": "2024-12-16T19:48:38.680Z"
   },
   {
    "duration": 4,
    "start_time": "2024-12-16T20:16:20.021Z"
   },
   {
    "duration": 134,
    "start_time": "2024-12-16T20:17:28.406Z"
   },
   {
    "duration": 3,
    "start_time": "2024-12-16T20:17:54.075Z"
   },
   {
    "duration": 12,
    "start_time": "2024-12-16T20:18:00.723Z"
   },
   {
    "duration": 7,
    "start_time": "2024-12-16T20:18:20.166Z"
   },
   {
    "duration": 15,
    "start_time": "2024-12-16T20:19:12.120Z"
   },
   {
    "duration": 11,
    "start_time": "2024-12-16T20:19:24.831Z"
   },
   {
    "duration": 3,
    "start_time": "2024-12-16T20:20:34.787Z"
   },
   {
    "duration": 102,
    "start_time": "2024-12-16T20:21:34.111Z"
   },
   {
    "duration": 8,
    "start_time": "2024-12-16T20:21:35.759Z"
   },
   {
    "duration": 122,
    "start_time": "2024-12-16T20:22:10.714Z"
   },
   {
    "duration": 7,
    "start_time": "2024-12-16T20:22:11.825Z"
   },
   {
    "duration": 10,
    "start_time": "2024-12-16T20:22:14.225Z"
   },
   {
    "duration": 94,
    "start_time": "2024-12-16T20:22:55.177Z"
   },
   {
    "duration": 8,
    "start_time": "2024-12-16T20:22:56.777Z"
   },
   {
    "duration": 68,
    "start_time": "2024-12-16T20:23:15.575Z"
   },
   {
    "duration": 8,
    "start_time": "2024-12-16T20:23:16.683Z"
   },
   {
    "duration": 1060,
    "start_time": "2024-12-16T20:23:24.821Z"
   },
   {
    "duration": 4,
    "start_time": "2024-12-16T20:23:25.882Z"
   },
   {
    "duration": 66,
    "start_time": "2024-12-16T20:23:25.887Z"
   },
   {
    "duration": 13,
    "start_time": "2024-12-16T20:23:25.956Z"
   },
   {
    "duration": 3,
    "start_time": "2024-12-16T20:23:25.971Z"
   },
   {
    "duration": 12,
    "start_time": "2024-12-16T20:23:25.976Z"
   },
   {
    "duration": 21,
    "start_time": "2024-12-16T20:23:25.990Z"
   },
   {
    "duration": 16,
    "start_time": "2024-12-16T20:23:26.013Z"
   },
   {
    "duration": 11,
    "start_time": "2024-12-16T20:23:26.031Z"
   },
   {
    "duration": 20,
    "start_time": "2024-12-16T20:23:26.045Z"
   },
   {
    "duration": 97,
    "start_time": "2024-12-16T20:23:26.067Z"
   },
   {
    "duration": 8,
    "start_time": "2024-12-16T20:23:26.165Z"
   },
   {
    "duration": 11,
    "start_time": "2024-12-16T20:23:26.175Z"
   },
   {
    "duration": 9,
    "start_time": "2024-12-16T20:23:26.188Z"
   },
   {
    "duration": 142,
    "start_time": "2024-12-16T20:23:26.199Z"
   },
   {
    "duration": 160,
    "start_time": "2024-12-16T20:24:28.728Z"
   },
   {
    "duration": 95,
    "start_time": "2024-12-16T20:25:01.979Z"
   },
   {
    "duration": 98,
    "start_time": "2024-12-16T20:25:23.395Z"
   },
   {
    "duration": 2,
    "start_time": "2024-12-16T20:25:24.667Z"
   },
   {
    "duration": 8,
    "start_time": "2024-12-16T20:25:33.039Z"
   },
   {
    "duration": 11,
    "start_time": "2024-12-16T20:25:40.771Z"
   },
   {
    "duration": 7,
    "start_time": "2024-12-16T20:25:58.115Z"
   },
   {
    "duration": 11,
    "start_time": "2024-12-16T20:26:09.206Z"
   },
   {
    "duration": 86,
    "start_time": "2024-12-16T20:33:25.087Z"
   },
   {
    "duration": 8,
    "start_time": "2024-12-16T20:33:26.098Z"
   },
   {
    "duration": 10,
    "start_time": "2024-12-16T20:33:28.027Z"
   },
   {
    "duration": 90,
    "start_time": "2024-12-16T20:33:50.048Z"
   },
   {
    "duration": 97,
    "start_time": "2024-12-16T20:34:16.983Z"
   },
   {
    "duration": 84,
    "start_time": "2024-12-16T20:35:21.262Z"
   },
   {
    "duration": 7,
    "start_time": "2024-12-16T20:35:23.753Z"
   },
   {
    "duration": 10,
    "start_time": "2024-12-16T20:35:25.755Z"
   },
   {
    "duration": 97,
    "start_time": "2024-12-16T20:35:56.309Z"
   },
   {
    "duration": 8,
    "start_time": "2024-12-16T20:35:57.167Z"
   },
   {
    "duration": 10,
    "start_time": "2024-12-16T20:35:59.033Z"
   },
   {
    "duration": 104,
    "start_time": "2024-12-16T20:37:23.717Z"
   },
   {
    "duration": 11,
    "start_time": "2024-12-16T20:37:24.585Z"
   },
   {
    "duration": 9,
    "start_time": "2024-12-16T20:37:25.806Z"
   },
   {
    "duration": 9,
    "start_time": "2024-12-16T20:38:58.025Z"
   },
   {
    "duration": 10,
    "start_time": "2024-12-16T20:39:09.131Z"
   },
   {
    "duration": 8,
    "start_time": "2024-12-16T20:40:00.503Z"
   },
   {
    "duration": 8,
    "start_time": "2024-12-16T20:40:33.759Z"
   },
   {
    "duration": 5,
    "start_time": "2024-12-16T20:43:15.507Z"
   },
   {
    "duration": 11,
    "start_time": "2024-12-16T20:43:26.715Z"
   },
   {
    "duration": 12,
    "start_time": "2024-12-16T20:43:55.590Z"
   },
   {
    "duration": 8,
    "start_time": "2024-12-16T20:44:11.732Z"
   },
   {
    "duration": 12,
    "start_time": "2024-12-16T20:50:11.814Z"
   },
   {
    "duration": 13,
    "start_time": "2024-12-16T20:50:31.114Z"
   },
   {
    "duration": 48,
    "start_time": "2024-12-17T11:14:11.585Z"
   },
   {
    "duration": 1258,
    "start_time": "2024-12-17T11:14:19.756Z"
   },
   {
    "duration": 4,
    "start_time": "2024-12-17T11:14:21.016Z"
   },
   {
    "duration": 141,
    "start_time": "2024-12-17T11:14:21.021Z"
   },
   {
    "duration": 12,
    "start_time": "2024-12-17T11:14:21.163Z"
   },
   {
    "duration": 4,
    "start_time": "2024-12-17T11:14:21.177Z"
   },
   {
    "duration": 20,
    "start_time": "2024-12-17T11:14:21.182Z"
   },
   {
    "duration": 29,
    "start_time": "2024-12-17T11:14:21.204Z"
   },
   {
    "duration": 22,
    "start_time": "2024-12-17T11:14:21.235Z"
   },
   {
    "duration": 12,
    "start_time": "2024-12-17T11:14:21.258Z"
   },
   {
    "duration": 4,
    "start_time": "2024-12-17T11:14:21.271Z"
   },
   {
    "duration": 142,
    "start_time": "2024-12-17T11:14:21.277Z"
   },
   {
    "duration": 8,
    "start_time": "2024-12-17T11:14:21.421Z"
   },
   {
    "duration": 11,
    "start_time": "2024-12-17T11:14:21.431Z"
   },
   {
    "duration": 11,
    "start_time": "2024-12-17T11:14:21.444Z"
   },
   {
    "duration": 4,
    "start_time": "2024-12-17T11:14:21.456Z"
   },
   {
    "duration": 49,
    "start_time": "2024-12-17T11:14:21.461Z"
   },
   {
    "duration": 7,
    "start_time": "2024-12-17T11:14:21.512Z"
   },
   {
    "duration": 11,
    "start_time": "2024-12-17T11:14:21.521Z"
   },
   {
    "duration": 12,
    "start_time": "2024-12-17T11:14:21.534Z"
   },
   {
    "duration": 6,
    "start_time": "2024-12-17T11:22:35.278Z"
   },
   {
    "duration": 6,
    "start_time": "2024-12-17T11:22:50.969Z"
   },
   {
    "duration": 73,
    "start_time": "2024-12-17T11:28:01.063Z"
   },
   {
    "duration": 8,
    "start_time": "2024-12-17T11:28:04.706Z"
   },
   {
    "duration": 1107,
    "start_time": "2024-12-17T11:28:56.680Z"
   },
   {
    "duration": 79,
    "start_time": "2024-12-17T11:28:57.789Z"
   },
   {
    "duration": 14,
    "start_time": "2024-12-17T11:28:57.870Z"
   },
   {
    "duration": 45,
    "start_time": "2024-12-17T11:28:57.886Z"
   },
   {
    "duration": 30,
    "start_time": "2024-12-17T11:28:57.933Z"
   },
   {
    "duration": 56,
    "start_time": "2024-12-17T11:28:57.966Z"
   },
   {
    "duration": 18,
    "start_time": "2024-12-17T11:28:58.024Z"
   },
   {
    "duration": 11,
    "start_time": "2024-12-17T11:28:58.044Z"
   },
   {
    "duration": 8,
    "start_time": "2024-12-17T11:28:58.056Z"
   },
   {
    "duration": 96,
    "start_time": "2024-12-17T11:28:58.067Z"
   },
   {
    "duration": 13,
    "start_time": "2024-12-17T11:28:58.165Z"
   },
   {
    "duration": 10,
    "start_time": "2024-12-17T11:28:58.179Z"
   },
   {
    "duration": 15,
    "start_time": "2024-12-17T11:28:58.190Z"
   },
   {
    "duration": 11,
    "start_time": "2024-12-17T11:28:58.207Z"
   },
   {
    "duration": 4,
    "start_time": "2024-12-17T11:28:58.219Z"
   },
   {
    "duration": 47,
    "start_time": "2024-12-17T11:28:58.224Z"
   },
   {
    "duration": 8,
    "start_time": "2024-12-17T11:28:58.272Z"
   },
   {
    "duration": 17,
    "start_time": "2024-12-17T11:28:58.282Z"
   },
   {
    "duration": 12,
    "start_time": "2024-12-17T11:28:58.301Z"
   },
   {
    "duration": 8,
    "start_time": "2024-12-17T11:28:58.315Z"
   },
   {
    "duration": 249,
    "start_time": "2024-12-17T11:29:44.950Z"
   },
   {
    "duration": 9,
    "start_time": "2024-12-17T11:29:47.093Z"
   },
   {
    "duration": 1081,
    "start_time": "2024-12-17T11:40:45.838Z"
   },
   {
    "duration": 104,
    "start_time": "2024-12-17T11:40:46.922Z"
   },
   {
    "duration": 11,
    "start_time": "2024-12-17T11:40:47.028Z"
   },
   {
    "duration": 14,
    "start_time": "2024-12-17T11:40:47.040Z"
   },
   {
    "duration": 23,
    "start_time": "2024-12-17T11:40:47.056Z"
   },
   {
    "duration": 21,
    "start_time": "2024-12-17T11:40:47.081Z"
   },
   {
    "duration": 11,
    "start_time": "2024-12-17T11:40:47.103Z"
   },
   {
    "duration": 11,
    "start_time": "2024-12-17T11:40:47.116Z"
   },
   {
    "duration": 85,
    "start_time": "2024-12-17T11:40:47.128Z"
   },
   {
    "duration": 7,
    "start_time": "2024-12-17T11:40:47.215Z"
   },
   {
    "duration": 12,
    "start_time": "2024-12-17T11:40:47.223Z"
   },
   {
    "duration": 17,
    "start_time": "2024-12-17T11:40:47.236Z"
   },
   {
    "duration": 8,
    "start_time": "2024-12-17T11:40:47.254Z"
   },
   {
    "duration": 3,
    "start_time": "2024-12-17T11:40:47.264Z"
   },
   {
    "duration": 48,
    "start_time": "2024-12-17T11:40:47.268Z"
   },
   {
    "duration": 8,
    "start_time": "2024-12-17T11:40:47.317Z"
   },
   {
    "duration": 10,
    "start_time": "2024-12-17T11:40:47.326Z"
   },
   {
    "duration": 10,
    "start_time": "2024-12-17T11:40:47.338Z"
   },
   {
    "duration": 14,
    "start_time": "2024-12-17T11:40:47.350Z"
   },
   {
    "duration": 94,
    "start_time": "2024-12-17T11:45:05.809Z"
   },
   {
    "duration": 1054,
    "start_time": "2024-12-17T11:45:11.974Z"
   },
   {
    "duration": 79,
    "start_time": "2024-12-17T11:45:13.030Z"
   },
   {
    "duration": 11,
    "start_time": "2024-12-17T11:45:13.111Z"
   },
   {
    "duration": 3,
    "start_time": "2024-12-17T11:45:13.123Z"
   },
   {
    "duration": 17,
    "start_time": "2024-12-17T11:45:13.128Z"
   },
   {
    "duration": 23,
    "start_time": "2024-12-17T11:45:13.146Z"
   },
   {
    "duration": 12,
    "start_time": "2024-12-17T11:45:13.170Z"
   },
   {
    "duration": 10,
    "start_time": "2024-12-17T11:45:13.184Z"
   },
   {
    "duration": 93,
    "start_time": "2024-12-17T11:45:13.195Z"
   },
   {
    "duration": 7,
    "start_time": "2024-12-17T11:45:13.290Z"
   },
   {
    "duration": 12,
    "start_time": "2024-12-17T11:45:13.299Z"
   },
   {
    "duration": 10,
    "start_time": "2024-12-17T11:45:13.313Z"
   },
   {
    "duration": 5,
    "start_time": "2024-12-17T11:45:13.325Z"
   },
   {
    "duration": 43,
    "start_time": "2024-12-17T11:45:13.333Z"
   },
   {
    "duration": 8,
    "start_time": "2024-12-17T11:45:13.377Z"
   },
   {
    "duration": 12,
    "start_time": "2024-12-17T11:45:13.386Z"
   },
   {
    "duration": 13,
    "start_time": "2024-12-17T11:45:13.399Z"
   },
   {
    "duration": 6,
    "start_time": "2024-12-17T11:45:13.414Z"
   },
   {
    "duration": 99,
    "start_time": "2024-12-17T11:47:12.158Z"
   },
   {
    "duration": 1018,
    "start_time": "2024-12-17T11:48:22.687Z"
   },
   {
    "duration": 94,
    "start_time": "2024-12-17T11:48:23.707Z"
   },
   {
    "duration": 12,
    "start_time": "2024-12-17T11:48:23.803Z"
   },
   {
    "duration": 7,
    "start_time": "2024-12-17T11:48:23.818Z"
   },
   {
    "duration": 21,
    "start_time": "2024-12-17T11:48:23.827Z"
   },
   {
    "duration": 21,
    "start_time": "2024-12-17T11:48:23.850Z"
   },
   {
    "duration": 13,
    "start_time": "2024-12-17T11:48:23.873Z"
   },
   {
    "duration": 11,
    "start_time": "2024-12-17T11:48:23.887Z"
   },
   {
    "duration": 84,
    "start_time": "2024-12-17T11:48:23.900Z"
   },
   {
    "duration": 7,
    "start_time": "2024-12-17T11:48:23.987Z"
   },
   {
    "duration": 27,
    "start_time": "2024-12-17T11:48:23.995Z"
   },
   {
    "duration": 10,
    "start_time": "2024-12-17T11:48:24.024Z"
   },
   {
    "duration": 5,
    "start_time": "2024-12-17T11:48:24.035Z"
   },
   {
    "duration": 49,
    "start_time": "2024-12-17T11:48:24.041Z"
   },
   {
    "duration": 7,
    "start_time": "2024-12-17T11:48:24.092Z"
   },
   {
    "duration": 14,
    "start_time": "2024-12-17T11:48:24.100Z"
   },
   {
    "duration": 16,
    "start_time": "2024-12-17T11:48:24.115Z"
   },
   {
    "duration": 9,
    "start_time": "2024-12-17T11:48:24.132Z"
   },
   {
    "duration": 92,
    "start_time": "2024-12-17T12:01:00.168Z"
   },
   {
    "duration": 4,
    "start_time": "2024-12-17T12:01:05.536Z"
   },
   {
    "duration": 10,
    "start_time": "2024-12-17T12:01:08.029Z"
   },
   {
    "duration": 4,
    "start_time": "2024-12-17T12:02:00.523Z"
   },
   {
    "duration": 4,
    "start_time": "2024-12-17T12:02:05.969Z"
   },
   {
    "duration": 10,
    "start_time": "2024-12-17T12:02:09.464Z"
   },
   {
    "duration": 1072,
    "start_time": "2024-12-17T12:02:18.249Z"
   },
   {
    "duration": 95,
    "start_time": "2024-12-17T12:02:19.323Z"
   },
   {
    "duration": 0,
    "start_time": "2024-12-17T12:02:19.420Z"
   },
   {
    "duration": 0,
    "start_time": "2024-12-17T12:02:19.421Z"
   },
   {
    "duration": 0,
    "start_time": "2024-12-17T12:02:19.422Z"
   },
   {
    "duration": 0,
    "start_time": "2024-12-17T12:02:19.423Z"
   },
   {
    "duration": 0,
    "start_time": "2024-12-17T12:02:19.424Z"
   },
   {
    "duration": 0,
    "start_time": "2024-12-17T12:02:19.425Z"
   },
   {
    "duration": 0,
    "start_time": "2024-12-17T12:02:19.425Z"
   },
   {
    "duration": 0,
    "start_time": "2024-12-17T12:02:19.426Z"
   },
   {
    "duration": 0,
    "start_time": "2024-12-17T12:02:19.427Z"
   },
   {
    "duration": 0,
    "start_time": "2024-12-17T12:02:19.429Z"
   },
   {
    "duration": 0,
    "start_time": "2024-12-17T12:02:19.430Z"
   },
   {
    "duration": 0,
    "start_time": "2024-12-17T12:02:19.431Z"
   },
   {
    "duration": 0,
    "start_time": "2024-12-17T12:02:19.432Z"
   },
   {
    "duration": 0,
    "start_time": "2024-12-17T12:02:19.433Z"
   },
   {
    "duration": 0,
    "start_time": "2024-12-17T12:02:19.454Z"
   },
   {
    "duration": 0,
    "start_time": "2024-12-17T12:02:19.455Z"
   },
   {
    "duration": 0,
    "start_time": "2024-12-17T12:02:19.456Z"
   },
   {
    "duration": 0,
    "start_time": "2024-12-17T12:02:19.457Z"
   },
   {
    "duration": 84,
    "start_time": "2024-12-17T12:03:39.268Z"
   },
   {
    "duration": 13,
    "start_time": "2024-12-17T12:03:41.651Z"
   },
   {
    "duration": 1035,
    "start_time": "2024-12-17T12:03:48.487Z"
   },
   {
    "duration": 78,
    "start_time": "2024-12-17T12:03:49.524Z"
   },
   {
    "duration": 12,
    "start_time": "2024-12-17T12:03:49.603Z"
   },
   {
    "duration": 9,
    "start_time": "2024-12-17T12:03:49.617Z"
   },
   {
    "duration": 11,
    "start_time": "2024-12-17T12:03:49.628Z"
   },
   {
    "duration": 20,
    "start_time": "2024-12-17T12:03:49.641Z"
   },
   {
    "duration": 11,
    "start_time": "2024-12-17T12:03:49.663Z"
   },
   {
    "duration": 11,
    "start_time": "2024-12-17T12:03:49.675Z"
   },
   {
    "duration": 53,
    "start_time": "2024-12-17T12:03:49.687Z"
   },
   {
    "duration": 7,
    "start_time": "2024-12-17T12:03:49.742Z"
   },
   {
    "duration": 15,
    "start_time": "2024-12-17T12:03:49.751Z"
   },
   {
    "duration": 14,
    "start_time": "2024-12-17T12:03:49.768Z"
   },
   {
    "duration": 1496,
    "start_time": "2024-12-17T12:03:49.784Z"
   },
   {
    "duration": 0,
    "start_time": "2024-12-17T12:03:51.281Z"
   },
   {
    "duration": 0,
    "start_time": "2024-12-17T12:03:51.282Z"
   },
   {
    "duration": 0,
    "start_time": "2024-12-17T12:03:51.283Z"
   },
   {
    "duration": 0,
    "start_time": "2024-12-17T12:03:51.284Z"
   },
   {
    "duration": 0,
    "start_time": "2024-12-17T12:03:51.285Z"
   },
   {
    "duration": 0,
    "start_time": "2024-12-17T12:03:51.286Z"
   },
   {
    "duration": 0,
    "start_time": "2024-12-17T12:03:51.287Z"
   },
   {
    "duration": 72,
    "start_time": "2024-12-17T12:04:45.568Z"
   },
   {
    "duration": 7,
    "start_time": "2024-12-17T12:04:47.474Z"
   },
   {
    "duration": 4,
    "start_time": "2024-12-17T12:04:51.222Z"
   },
   {
    "duration": 11,
    "start_time": "2024-12-17T12:04:52.163Z"
   },
   {
    "duration": 23,
    "start_time": "2024-12-17T12:04:59.112Z"
   },
   {
    "duration": 12,
    "start_time": "2024-12-17T12:05:02.451Z"
   },
   {
    "duration": 11,
    "start_time": "2024-12-17T12:05:05.502Z"
   },
   {
    "duration": 67,
    "start_time": "2024-12-17T12:05:09.816Z"
   },
   {
    "duration": 8,
    "start_time": "2024-12-17T12:05:12.939Z"
   },
   {
    "duration": 98,
    "start_time": "2024-12-17T12:05:20.408Z"
   },
   {
    "duration": 8,
    "start_time": "2024-12-17T12:05:22.835Z"
   },
   {
    "duration": 3,
    "start_time": "2024-12-17T12:05:28.454Z"
   },
   {
    "duration": 10,
    "start_time": "2024-12-17T12:05:31.983Z"
   },
   {
    "duration": 13,
    "start_time": "2024-12-17T12:05:43.801Z"
   },
   {
    "duration": 6,
    "start_time": "2024-12-17T12:05:47.516Z"
   },
   {
    "duration": 6,
    "start_time": "2024-12-17T12:07:19.590Z"
   },
   {
    "duration": 103,
    "start_time": "2024-12-17T12:07:47.165Z"
   },
   {
    "duration": 7,
    "start_time": "2024-12-17T12:07:48.248Z"
   },
   {
    "duration": 3,
    "start_time": "2024-12-17T12:07:51.968Z"
   },
   {
    "duration": 10,
    "start_time": "2024-12-17T12:07:52.825Z"
   },
   {
    "duration": 13,
    "start_time": "2024-12-17T12:08:01.859Z"
   },
   {
    "duration": 6,
    "start_time": "2024-12-17T12:08:04.688Z"
   },
   {
    "duration": 6,
    "start_time": "2024-12-17T12:08:05.960Z"
   },
   {
    "duration": 152,
    "start_time": "2024-12-17T12:11:45.053Z"
   },
   {
    "duration": 8,
    "start_time": "2024-12-17T12:11:46.955Z"
   },
   {
    "duration": 9,
    "start_time": "2024-12-17T12:12:07.731Z"
   },
   {
    "duration": 11,
    "start_time": "2024-12-17T12:12:16.096Z"
   },
   {
    "duration": 6,
    "start_time": "2024-12-17T12:12:19.476Z"
   },
   {
    "duration": 5,
    "start_time": "2024-12-17T12:12:21.055Z"
   },
   {
    "duration": 5,
    "start_time": "2024-12-17T12:21:44.658Z"
   },
   {
    "duration": 6,
    "start_time": "2024-12-17T12:22:02.342Z"
   },
   {
    "duration": 10,
    "start_time": "2024-12-17T12:22:18.395Z"
   },
   {
    "duration": 6,
    "start_time": "2024-12-17T12:22:27.809Z"
   },
   {
    "duration": 5,
    "start_time": "2024-12-17T12:23:18.034Z"
   },
   {
    "duration": 3,
    "start_time": "2024-12-17T12:31:51.620Z"
   },
   {
    "duration": 95,
    "start_time": "2024-12-17T12:32:39.703Z"
   },
   {
    "duration": 392,
    "start_time": "2024-12-17T12:33:18.991Z"
   },
   {
    "duration": 362,
    "start_time": "2024-12-17T12:33:26.033Z"
   },
   {
    "duration": 3,
    "start_time": "2024-12-17T12:34:54.506Z"
   },
   {
    "duration": 1123,
    "start_time": "2024-12-17T12:35:03.417Z"
   },
   {
    "duration": 74,
    "start_time": "2024-12-17T12:35:04.541Z"
   },
   {
    "duration": 11,
    "start_time": "2024-12-17T12:35:04.616Z"
   },
   {
    "duration": 15,
    "start_time": "2024-12-17T12:35:04.628Z"
   },
   {
    "duration": 21,
    "start_time": "2024-12-17T12:35:04.645Z"
   },
   {
    "duration": 25,
    "start_time": "2024-12-17T12:35:04.667Z"
   },
   {
    "duration": 27,
    "start_time": "2024-12-17T12:35:04.693Z"
   },
   {
    "duration": 26,
    "start_time": "2024-12-17T12:35:04.722Z"
   },
   {
    "duration": 83,
    "start_time": "2024-12-17T12:35:04.750Z"
   },
   {
    "duration": 7,
    "start_time": "2024-12-17T12:35:04.835Z"
   },
   {
    "duration": 32,
    "start_time": "2024-12-17T12:35:04.843Z"
   },
   {
    "duration": 30,
    "start_time": "2024-12-17T12:35:04.876Z"
   },
   {
    "duration": 433,
    "start_time": "2024-12-17T12:35:04.907Z"
   },
   {
    "duration": 0,
    "start_time": "2024-12-17T12:35:05.342Z"
   },
   {
    "duration": 0,
    "start_time": "2024-12-17T12:35:05.343Z"
   },
   {
    "duration": 0,
    "start_time": "2024-12-17T12:35:05.345Z"
   },
   {
    "duration": 0,
    "start_time": "2024-12-17T12:35:05.346Z"
   },
   {
    "duration": 0,
    "start_time": "2024-12-17T12:35:05.347Z"
   },
   {
    "duration": 0,
    "start_time": "2024-12-17T12:35:05.348Z"
   },
   {
    "duration": 0,
    "start_time": "2024-12-17T12:35:05.349Z"
   },
   {
    "duration": 0,
    "start_time": "2024-12-17T12:35:05.350Z"
   },
   {
    "duration": 0,
    "start_time": "2024-12-17T12:35:05.351Z"
   },
   {
    "duration": 391,
    "start_time": "2024-12-17T12:36:07.662Z"
   },
   {
    "duration": 20,
    "start_time": "2024-12-17T12:36:23.483Z"
   },
   {
    "duration": 97,
    "start_time": "2024-12-17T12:36:47.332Z"
   },
   {
    "duration": 8,
    "start_time": "2024-12-17T12:37:06.261Z"
   },
   {
    "duration": 1098,
    "start_time": "2024-12-17T12:37:22.834Z"
   },
   {
    "duration": 95,
    "start_time": "2024-12-17T12:37:23.934Z"
   },
   {
    "duration": 12,
    "start_time": "2024-12-17T12:37:24.030Z"
   },
   {
    "duration": 25,
    "start_time": "2024-12-17T12:37:24.044Z"
   },
   {
    "duration": 11,
    "start_time": "2024-12-17T12:37:24.071Z"
   },
   {
    "duration": 20,
    "start_time": "2024-12-17T12:37:24.083Z"
   },
   {
    "duration": 11,
    "start_time": "2024-12-17T12:37:24.105Z"
   },
   {
    "duration": 14,
    "start_time": "2024-12-17T12:37:24.118Z"
   },
   {
    "duration": 85,
    "start_time": "2024-12-17T12:37:24.134Z"
   },
   {
    "duration": 7,
    "start_time": "2024-12-17T12:37:24.221Z"
   },
   {
    "duration": 5,
    "start_time": "2024-12-17T12:37:24.230Z"
   },
   {
    "duration": 24,
    "start_time": "2024-12-17T12:37:24.236Z"
   },
   {
    "duration": 30,
    "start_time": "2024-12-17T12:37:24.262Z"
   },
   {
    "duration": 7,
    "start_time": "2024-12-17T12:37:24.295Z"
   },
   {
    "duration": 6,
    "start_time": "2024-12-17T12:37:24.303Z"
   },
   {
    "duration": 62,
    "start_time": "2024-12-17T12:37:24.310Z"
   },
   {
    "duration": 6,
    "start_time": "2024-12-17T12:37:24.374Z"
   },
   {
    "duration": 12,
    "start_time": "2024-12-17T12:37:24.381Z"
   },
   {
    "duration": 27,
    "start_time": "2024-12-17T12:37:24.395Z"
   },
   {
    "duration": 28,
    "start_time": "2024-12-17T12:37:24.424Z"
   },
   {
    "duration": 8,
    "start_time": "2024-12-17T12:37:24.454Z"
   },
   {
    "duration": 11,
    "start_time": "2024-12-17T12:37:24.463Z"
   },
   {
    "duration": 6,
    "start_time": "2024-12-17T12:52:25.189Z"
   },
   {
    "duration": 6,
    "start_time": "2024-12-17T12:52:35.453Z"
   },
   {
    "duration": 6,
    "start_time": "2024-12-17T12:52:49.375Z"
   },
   {
    "duration": 5,
    "start_time": "2024-12-17T12:52:57.234Z"
   },
   {
    "duration": 101,
    "start_time": "2024-12-17T12:53:05.340Z"
   },
   {
    "duration": 7,
    "start_time": "2024-12-17T12:53:10.044Z"
   },
   {
    "duration": 8,
    "start_time": "2024-12-17T12:54:25.552Z"
   },
   {
    "duration": 120,
    "start_time": "2024-12-17T18:42:26.093Z"
   },
   {
    "duration": 13,
    "start_time": "2024-12-17T18:43:00.484Z"
   },
   {
    "duration": 101,
    "start_time": "2024-12-17T19:25:52.987Z"
   },
   {
    "duration": 9,
    "start_time": "2024-12-17T19:26:07.990Z"
   },
   {
    "duration": 11,
    "start_time": "2024-12-17T19:26:45.155Z"
   },
   {
    "duration": 7,
    "start_time": "2024-12-17T19:26:54.967Z"
   },
   {
    "duration": 8,
    "start_time": "2024-12-17T19:27:13.980Z"
   },
   {
    "duration": 10,
    "start_time": "2024-12-17T19:29:23.248Z"
   },
   {
    "duration": 14,
    "start_time": "2024-12-17T19:29:49.649Z"
   },
   {
    "duration": 7,
    "start_time": "2024-12-17T19:29:58.475Z"
   },
   {
    "duration": 1277,
    "start_time": "2024-12-18T11:02:14.820Z"
   },
   {
    "duration": 119,
    "start_time": "2024-12-18T11:02:16.100Z"
   },
   {
    "duration": 11,
    "start_time": "2024-12-18T11:02:16.220Z"
   },
   {
    "duration": 14,
    "start_time": "2024-12-18T11:02:16.233Z"
   },
   {
    "duration": 36,
    "start_time": "2024-12-18T11:02:16.248Z"
   },
   {
    "duration": 32,
    "start_time": "2024-12-18T11:02:16.286Z"
   },
   {
    "duration": 12,
    "start_time": "2024-12-18T11:02:16.319Z"
   },
   {
    "duration": 20,
    "start_time": "2024-12-18T11:02:16.332Z"
   },
   {
    "duration": 135,
    "start_time": "2024-12-18T11:02:16.353Z"
   },
   {
    "duration": 8,
    "start_time": "2024-12-18T11:02:16.490Z"
   },
   {
    "duration": 36,
    "start_time": "2024-12-18T11:02:16.499Z"
   },
   {
    "duration": 30,
    "start_time": "2024-12-18T11:02:16.536Z"
   },
   {
    "duration": 48,
    "start_time": "2024-12-18T11:02:16.568Z"
   },
   {
    "duration": 27,
    "start_time": "2024-12-18T11:02:16.617Z"
   },
   {
    "duration": 73,
    "start_time": "2024-12-18T11:02:16.645Z"
   },
   {
    "duration": 135,
    "start_time": "2024-12-18T11:02:16.719Z"
   },
   {
    "duration": 6,
    "start_time": "2024-12-18T11:02:16.856Z"
   },
   {
    "duration": 62,
    "start_time": "2024-12-18T11:02:16.864Z"
   },
   {
    "duration": 45,
    "start_time": "2024-12-18T11:02:16.927Z"
   },
   {
    "duration": 47,
    "start_time": "2024-12-18T11:02:16.973Z"
   },
   {
    "duration": 41,
    "start_time": "2024-12-18T11:02:17.021Z"
   },
   {
    "duration": 162,
    "start_time": "2024-12-18T11:02:17.064Z"
   },
   {
    "duration": 76,
    "start_time": "2024-12-18T11:02:17.227Z"
   },
   {
    "duration": 60,
    "start_time": "2024-12-18T11:02:17.304Z"
   },
   {
    "duration": 47,
    "start_time": "2024-12-18T11:02:17.366Z"
   },
   {
    "duration": 4,
    "start_time": "2024-12-18T11:04:33.841Z"
   },
   {
    "duration": 8,
    "start_time": "2024-12-18T11:05:15.974Z"
   },
   {
    "duration": 4,
    "start_time": "2024-12-18T11:23:45.282Z"
   },
   {
    "duration": 64,
    "start_time": "2024-12-18T11:23:55.128Z"
   },
   {
    "duration": 67,
    "start_time": "2024-12-18T11:25:52.594Z"
   },
   {
    "duration": 8,
    "start_time": "2024-12-18T11:26:55.189Z"
   },
   {
    "duration": 8,
    "start_time": "2024-12-18T11:28:20.238Z"
   },
   {
    "duration": 8,
    "start_time": "2024-12-18T11:28:49.760Z"
   },
   {
    "duration": 115,
    "start_time": "2024-12-18T11:32:26.151Z"
   },
   {
    "duration": 103,
    "start_time": "2024-12-18T11:32:36.040Z"
   },
   {
    "duration": 70,
    "start_time": "2024-12-18T11:34:06.996Z"
   },
   {
    "duration": 64,
    "start_time": "2024-12-18T11:34:14.497Z"
   },
   {
    "duration": 82,
    "start_time": "2024-12-18T11:34:23.381Z"
   },
   {
    "duration": 10,
    "start_time": "2024-12-18T11:34:29.519Z"
   },
   {
    "duration": 11,
    "start_time": "2024-12-18T11:34:42.034Z"
   },
   {
    "duration": 11,
    "start_time": "2024-12-18T11:34:54.985Z"
   },
   {
    "duration": 12,
    "start_time": "2024-12-18T11:36:31.572Z"
   },
   {
    "duration": 12,
    "start_time": "2024-12-18T11:36:44.798Z"
   },
   {
    "duration": 11,
    "start_time": "2024-12-18T11:36:55.032Z"
   },
   {
    "duration": 9,
    "start_time": "2024-12-18T11:37:07.702Z"
   },
   {
    "duration": 13,
    "start_time": "2024-12-18T11:37:17.879Z"
   },
   {
    "duration": 9,
    "start_time": "2024-12-18T11:38:11.111Z"
   },
   {
    "duration": 13,
    "start_time": "2024-12-18T11:38:20.689Z"
   },
   {
    "duration": 10,
    "start_time": "2024-12-18T11:38:45.905Z"
   },
   {
    "duration": 10,
    "start_time": "2024-12-18T11:39:02.728Z"
   },
   {
    "duration": 11,
    "start_time": "2024-12-18T11:39:10.541Z"
   },
   {
    "duration": 9,
    "start_time": "2024-12-18T12:10:08.272Z"
   },
   {
    "duration": 8,
    "start_time": "2024-12-18T12:16:52.420Z"
   },
   {
    "duration": 9,
    "start_time": "2024-12-18T12:20:38.812Z"
   },
   {
    "duration": 10,
    "start_time": "2024-12-18T12:49:00.775Z"
   },
   {
    "duration": 264,
    "start_time": "2024-12-18T12:50:10.714Z"
   },
   {
    "duration": 10,
    "start_time": "2024-12-18T12:50:59.490Z"
   },
   {
    "duration": 10,
    "start_time": "2024-12-18T12:51:10.778Z"
   },
   {
    "duration": 4,
    "start_time": "2024-12-19T10:56:13.113Z"
   },
   {
    "duration": 47,
    "start_time": "2024-12-19T11:03:05.409Z"
   },
   {
    "duration": 6,
    "start_time": "2024-12-19T11:03:17.713Z"
   },
   {
    "duration": 1342,
    "start_time": "2024-12-19T11:03:24.663Z"
   },
   {
    "duration": 186,
    "start_time": "2024-12-19T11:03:26.007Z"
   },
   {
    "duration": 12,
    "start_time": "2024-12-19T11:03:26.195Z"
   },
   {
    "duration": 15,
    "start_time": "2024-12-19T11:03:26.209Z"
   },
   {
    "duration": 12,
    "start_time": "2024-12-19T11:03:26.225Z"
   },
   {
    "duration": 22,
    "start_time": "2024-12-19T11:03:26.239Z"
   },
   {
    "duration": 14,
    "start_time": "2024-12-19T11:03:26.263Z"
   },
   {
    "duration": 12,
    "start_time": "2024-12-19T11:03:26.279Z"
   },
   {
    "duration": 143,
    "start_time": "2024-12-19T11:03:26.314Z"
   },
   {
    "duration": 9,
    "start_time": "2024-12-19T11:03:26.460Z"
   },
   {
    "duration": 8,
    "start_time": "2024-12-19T11:03:26.470Z"
   },
   {
    "duration": 37,
    "start_time": "2024-12-19T11:03:26.480Z"
   },
   {
    "duration": 26,
    "start_time": "2024-12-19T11:03:26.518Z"
   },
   {
    "duration": 24,
    "start_time": "2024-12-19T11:03:26.545Z"
   },
   {
    "duration": 18,
    "start_time": "2024-12-19T11:03:26.570Z"
   },
   {
    "duration": 120,
    "start_time": "2024-12-19T11:03:26.590Z"
   },
   {
    "duration": 8,
    "start_time": "2024-12-19T11:03:26.711Z"
   },
   {
    "duration": 12,
    "start_time": "2024-12-19T11:03:26.721Z"
   },
   {
    "duration": 17,
    "start_time": "2024-12-19T11:03:26.735Z"
   },
   {
    "duration": 11,
    "start_time": "2024-12-19T11:03:26.754Z"
   },
   {
    "duration": 18,
    "start_time": "2024-12-19T11:03:26.767Z"
   },
   {
    "duration": 6,
    "start_time": "2024-12-19T11:03:26.787Z"
   },
   {
    "duration": 28,
    "start_time": "2024-12-19T11:03:26.795Z"
   },
   {
    "duration": 9,
    "start_time": "2024-12-19T11:03:26.825Z"
   },
   {
    "duration": 11,
    "start_time": "2024-12-19T11:03:26.836Z"
   },
   {
    "duration": 136,
    "start_time": "2024-12-19T11:03:26.849Z"
   },
   {
    "duration": 13,
    "start_time": "2024-12-19T11:03:46.689Z"
   },
   {
    "duration": 13,
    "start_time": "2024-12-19T11:04:25.192Z"
   },
   {
    "duration": 13,
    "start_time": "2024-12-19T11:04:38.478Z"
   },
   {
    "duration": 13,
    "start_time": "2024-12-19T11:04:46.843Z"
   },
   {
    "duration": 10,
    "start_time": "2024-12-19T11:04:55.124Z"
   },
   {
    "duration": 10,
    "start_time": "2024-12-19T11:06:11.763Z"
   },
   {
    "duration": 28,
    "start_time": "2024-12-19T11:23:09.105Z"
   },
   {
    "duration": 24,
    "start_time": "2024-12-19T11:25:33.904Z"
   },
   {
    "duration": 176,
    "start_time": "2024-12-19T11:28:52.239Z"
   },
   {
    "duration": 186,
    "start_time": "2024-12-19T11:29:00.792Z"
   },
   {
    "duration": 190,
    "start_time": "2024-12-19T11:30:02.502Z"
   },
   {
    "duration": 180,
    "start_time": "2024-12-19T11:30:07.504Z"
   },
   {
    "duration": 127,
    "start_time": "2024-12-19T11:31:59.663Z"
   },
   {
    "duration": 140,
    "start_time": "2024-12-19T11:32:06.887Z"
   },
   {
    "duration": 11,
    "start_time": "2024-12-19T11:41:38.104Z"
   },
   {
    "duration": 7,
    "start_time": "2024-12-19T11:44:03.519Z"
   },
   {
    "duration": 20,
    "start_time": "2024-12-19T11:44:43.889Z"
   },
   {
    "duration": 6,
    "start_time": "2024-12-19T11:45:12.612Z"
   },
   {
    "duration": 7,
    "start_time": "2024-12-19T11:49:12.958Z"
   },
   {
    "duration": 11,
    "start_time": "2024-12-19T11:49:51.339Z"
   },
   {
    "duration": 286,
    "start_time": "2024-12-19T11:50:05.625Z"
   },
   {
    "duration": 205,
    "start_time": "2024-12-19T11:50:19.418Z"
   },
   {
    "duration": 198,
    "start_time": "2024-12-19T11:52:02.622Z"
   },
   {
    "duration": 245,
    "start_time": "2024-12-19T11:53:32.402Z"
   },
   {
    "duration": 232,
    "start_time": "2024-12-19T12:03:20.285Z"
   },
   {
    "duration": 245,
    "start_time": "2024-12-19T12:04:08.802Z"
   },
   {
    "duration": 243,
    "start_time": "2024-12-19T12:04:36.019Z"
   },
   {
    "duration": 316,
    "start_time": "2024-12-19T12:06:17.698Z"
   },
   {
    "duration": 171,
    "start_time": "2024-12-19T12:06:38.719Z"
   },
   {
    "duration": 227,
    "start_time": "2024-12-19T12:07:16.126Z"
   },
   {
    "duration": 247,
    "start_time": "2024-12-19T12:07:35.570Z"
   },
   {
    "duration": 232,
    "start_time": "2024-12-19T12:09:22.087Z"
   },
   {
    "duration": 243,
    "start_time": "2024-12-19T12:10:07.521Z"
   },
   {
    "duration": 170,
    "start_time": "2024-12-19T12:16:54.275Z"
   },
   {
    "duration": 224,
    "start_time": "2024-12-19T12:17:07.177Z"
   },
   {
    "duration": 217,
    "start_time": "2024-12-19T12:17:20.061Z"
   },
   {
    "duration": 247,
    "start_time": "2024-12-19T12:17:26.410Z"
   },
   {
    "duration": 217,
    "start_time": "2024-12-19T12:17:30.455Z"
   },
   {
    "duration": 298,
    "start_time": "2024-12-19T12:17:35.810Z"
   },
   {
    "duration": 247,
    "start_time": "2024-12-19T12:17:41.453Z"
   },
   {
    "duration": 243,
    "start_time": "2024-12-19T12:18:16.629Z"
   },
   {
    "duration": 239,
    "start_time": "2024-12-19T12:19:32.454Z"
   },
   {
    "duration": 343,
    "start_time": "2024-12-19T12:26:42.391Z"
   },
   {
    "duration": 312,
    "start_time": "2024-12-19T12:27:00.580Z"
   },
   {
    "duration": 4,
    "start_time": "2024-12-20T10:22:03.666Z"
   },
   {
    "duration": 47,
    "start_time": "2024-12-20T10:22:44.452Z"
   },
   {
    "duration": 7,
    "start_time": "2024-12-20T10:22:52.754Z"
   },
   {
    "duration": 1261,
    "start_time": "2024-12-20T10:23:22.345Z"
   },
   {
    "duration": 110,
    "start_time": "2024-12-20T10:23:23.608Z"
   },
   {
    "duration": 13,
    "start_time": "2024-12-20T10:23:23.719Z"
   },
   {
    "duration": 5,
    "start_time": "2024-12-20T10:23:23.734Z"
   },
   {
    "duration": 27,
    "start_time": "2024-12-20T10:23:23.742Z"
   },
   {
    "duration": 28,
    "start_time": "2024-12-20T10:23:23.771Z"
   },
   {
    "duration": 12,
    "start_time": "2024-12-20T10:23:23.800Z"
   },
   {
    "duration": 22,
    "start_time": "2024-12-20T10:23:23.814Z"
   },
   {
    "duration": 128,
    "start_time": "2024-12-20T10:23:23.837Z"
   },
   {
    "duration": 10,
    "start_time": "2024-12-20T10:23:23.967Z"
   },
   {
    "duration": 6,
    "start_time": "2024-12-20T10:23:23.979Z"
   },
   {
    "duration": 36,
    "start_time": "2024-12-20T10:23:23.986Z"
   },
   {
    "duration": 27,
    "start_time": "2024-12-20T10:23:24.024Z"
   },
   {
    "duration": 33,
    "start_time": "2024-12-20T10:23:24.054Z"
   },
   {
    "duration": 28,
    "start_time": "2024-12-20T10:23:24.088Z"
   },
   {
    "duration": 114,
    "start_time": "2024-12-20T10:23:24.117Z"
   },
   {
    "duration": 7,
    "start_time": "2024-12-20T10:23:24.233Z"
   },
   {
    "duration": 18,
    "start_time": "2024-12-20T10:23:24.241Z"
   },
   {
    "duration": 20,
    "start_time": "2024-12-20T10:23:24.260Z"
   },
   {
    "duration": 39,
    "start_time": "2024-12-20T10:23:24.282Z"
   },
   {
    "duration": 26,
    "start_time": "2024-12-20T10:23:24.322Z"
   },
   {
    "duration": 16,
    "start_time": "2024-12-20T10:23:24.350Z"
   },
   {
    "duration": 19,
    "start_time": "2024-12-20T10:23:24.367Z"
   },
   {
    "duration": 26,
    "start_time": "2024-12-20T10:23:24.387Z"
   },
   {
    "duration": 24,
    "start_time": "2024-12-20T10:23:24.414Z"
   },
   {
    "duration": 26,
    "start_time": "2024-12-20T10:23:24.440Z"
   },
   {
    "duration": 9,
    "start_time": "2024-12-20T10:23:24.467Z"
   },
   {
    "duration": 171,
    "start_time": "2024-12-20T10:23:24.477Z"
   },
   {
    "duration": 114,
    "start_time": "2024-12-20T10:23:24.649Z"
   },
   {
    "duration": 13,
    "start_time": "2024-12-20T10:23:24.764Z"
   },
   {
    "duration": 12,
    "start_time": "2024-12-20T10:23:24.779Z"
   },
   {
    "duration": 333,
    "start_time": "2024-12-20T10:23:24.792Z"
   },
   {
    "duration": 238,
    "start_time": "2024-12-20T10:23:25.126Z"
   },
   {
    "duration": 6,
    "start_time": "2024-12-20T10:23:25.365Z"
   },
   {
    "duration": 367,
    "start_time": "2024-12-20T10:23:25.373Z"
   },
   {
    "duration": 5,
    "start_time": "2024-12-20T10:23:25.742Z"
   },
   {
    "duration": 5,
    "start_time": "2024-12-20T10:23:25.754Z"
   },
   {
    "duration": 285,
    "start_time": "2024-12-20T10:23:25.760Z"
   },
   {
    "duration": 8,
    "start_time": "2024-12-20T10:23:26.047Z"
   },
   {
    "duration": 355,
    "start_time": "2024-12-20T10:23:26.056Z"
   },
   {
    "duration": 7,
    "start_time": "2024-12-20T10:23:26.415Z"
   },
   {
    "duration": 3,
    "start_time": "2024-12-20T10:23:26.423Z"
   },
   {
    "duration": 109,
    "start_time": "2024-12-20T10:23:26.427Z"
   },
   {
    "duration": 15,
    "start_time": "2024-12-20T10:24:22.123Z"
   },
   {
    "duration": 10,
    "start_time": "2024-12-20T10:24:30.295Z"
   },
   {
    "duration": 95,
    "start_time": "2024-12-20T10:24:35.695Z"
   },
   {
    "duration": 11,
    "start_time": "2024-12-20T10:25:44.208Z"
   },
   {
    "duration": 16,
    "start_time": "2024-12-20T10:26:24.609Z"
   },
   {
    "duration": 97,
    "start_time": "2024-12-20T10:32:45.861Z"
   },
   {
    "duration": 5,
    "start_time": "2024-12-20T10:32:54.248Z"
   },
   {
    "duration": 5,
    "start_time": "2024-12-20T10:33:27.677Z"
   },
   {
    "duration": 5,
    "start_time": "2024-12-20T10:33:45.887Z"
   },
   {
    "duration": 12,
    "start_time": "2024-12-20T10:34:29.182Z"
   },
   {
    "duration": 7,
    "start_time": "2024-12-20T10:34:39.644Z"
   },
   {
    "duration": 7,
    "start_time": "2024-12-20T10:34:44.935Z"
   },
   {
    "duration": 8,
    "start_time": "2024-12-20T10:35:04.273Z"
   },
   {
    "duration": 7,
    "start_time": "2024-12-20T10:35:11.927Z"
   },
   {
    "duration": 9,
    "start_time": "2024-12-20T14:42:51.911Z"
   },
   {
    "duration": 123,
    "start_time": "2024-12-20T14:43:01.343Z"
   },
   {
    "duration": 5,
    "start_time": "2024-12-20T14:46:26.475Z"
   },
   {
    "duration": 13,
    "start_time": "2024-12-20T15:27:42.543Z"
   },
   {
    "duration": 14,
    "start_time": "2024-12-20T15:28:08.737Z"
   },
   {
    "duration": 5,
    "start_time": "2024-12-20T15:28:16.928Z"
   },
   {
    "duration": 102,
    "start_time": "2024-12-20T15:50:03.608Z"
   },
   {
    "duration": 46,
    "start_time": "2024-12-20T15:50:12.512Z"
   },
   {
    "duration": 42,
    "start_time": "2024-12-20T15:50:35.811Z"
   },
   {
    "duration": 47,
    "start_time": "2024-12-20T15:51:49.041Z"
   },
   {
    "duration": 49,
    "start_time": "2024-12-20T15:52:04.963Z"
   },
   {
    "duration": 42,
    "start_time": "2024-12-20T15:52:10.021Z"
   },
   {
    "duration": 42,
    "start_time": "2024-12-20T15:52:12.917Z"
   },
   {
    "duration": 41,
    "start_time": "2024-12-20T16:04:25.500Z"
   },
   {
    "duration": 41,
    "start_time": "2024-12-20T16:04:27.665Z"
   },
   {
    "duration": 52,
    "start_time": "2024-12-20T16:07:30.220Z"
   },
   {
    "duration": 62,
    "start_time": "2024-12-20T16:07:35.007Z"
   },
   {
    "duration": 58,
    "start_time": "2024-12-20T16:07:58.386Z"
   },
   {
    "duration": 63,
    "start_time": "2024-12-20T16:08:24.809Z"
   },
   {
    "duration": 55,
    "start_time": "2024-12-20T16:08:40.331Z"
   },
   {
    "duration": 50,
    "start_time": "2024-12-20T16:08:49.174Z"
   },
   {
    "duration": 34,
    "start_time": "2024-12-20T16:11:31.004Z"
   },
   {
    "duration": 58,
    "start_time": "2024-12-20T16:12:06.715Z"
   },
   {
    "duration": 50,
    "start_time": "2024-12-20T16:12:17.432Z"
   },
   {
    "duration": 22,
    "start_time": "2024-12-20T16:15:57.879Z"
   },
   {
    "duration": 22,
    "start_time": "2024-12-20T16:16:09.719Z"
   },
   {
    "duration": 11,
    "start_time": "2024-12-20T17:36:38.900Z"
   },
   {
    "duration": 14,
    "start_time": "2024-12-20T17:37:00.982Z"
   },
   {
    "duration": 66,
    "start_time": "2024-12-20T17:38:14.212Z"
   },
   {
    "duration": 70,
    "start_time": "2024-12-20T17:38:49.468Z"
   },
   {
    "duration": 61,
    "start_time": "2024-12-20T17:38:52.179Z"
   },
   {
    "duration": 123,
    "start_time": "2024-12-20T17:39:30.238Z"
   },
   {
    "duration": 54,
    "start_time": "2024-12-20T17:42:26.076Z"
   },
   {
    "duration": 6,
    "start_time": "2024-12-20T17:42:32.794Z"
   },
   {
    "duration": 8,
    "start_time": "2024-12-20T17:42:44.845Z"
   },
   {
    "duration": 7,
    "start_time": "2024-12-20T17:43:00.099Z"
   },
   {
    "duration": 9,
    "start_time": "2024-12-20T17:43:04.164Z"
   },
   {
    "duration": 6,
    "start_time": "2024-12-20T17:45:33.501Z"
   },
   {
    "duration": 5,
    "start_time": "2024-12-20T17:45:39.414Z"
   },
   {
    "duration": 7,
    "start_time": "2024-12-20T17:45:59.140Z"
   },
   {
    "duration": 6,
    "start_time": "2024-12-20T17:46:10.959Z"
   },
   {
    "duration": 6,
    "start_time": "2024-12-20T17:47:03.142Z"
   },
   {
    "duration": 6,
    "start_time": "2024-12-20T17:47:32.810Z"
   },
   {
    "duration": 7,
    "start_time": "2024-12-20T17:47:56.100Z"
   },
   {
    "duration": 4,
    "start_time": "2024-12-20T17:48:00.948Z"
   },
   {
    "duration": 6,
    "start_time": "2024-12-20T17:48:21.652Z"
   },
   {
    "duration": 4,
    "start_time": "2024-12-20T17:48:35.260Z"
   },
   {
    "duration": 4,
    "start_time": "2024-12-20T17:55:28.974Z"
   },
   {
    "duration": 7,
    "start_time": "2024-12-20T17:55:34.161Z"
   },
   {
    "duration": 7,
    "start_time": "2024-12-20T17:55:59.085Z"
   },
   {
    "duration": 7,
    "start_time": "2024-12-20T17:56:38.457Z"
   },
   {
    "duration": 4,
    "start_time": "2024-12-20T17:56:42.680Z"
   },
   {
    "duration": 4,
    "start_time": "2024-12-20T17:56:46.531Z"
   },
   {
    "duration": 8,
    "start_time": "2024-12-20T17:57:36.917Z"
   },
   {
    "duration": 8,
    "start_time": "2024-12-20T17:57:54.450Z"
   },
   {
    "duration": 33,
    "start_time": "2024-12-20T17:58:00.143Z"
   },
   {
    "duration": 21,
    "start_time": "2024-12-20T18:00:14.727Z"
   },
   {
    "duration": 20,
    "start_time": "2024-12-20T18:00:21.121Z"
   },
   {
    "duration": 18,
    "start_time": "2024-12-20T18:01:18.744Z"
   },
   {
    "duration": 19,
    "start_time": "2024-12-20T18:01:37.239Z"
   },
   {
    "duration": 38,
    "start_time": "2024-12-20T18:01:53.965Z"
   },
   {
    "duration": 25,
    "start_time": "2024-12-20T18:03:38.216Z"
   },
   {
    "duration": 3,
    "start_time": "2024-12-20T18:03:46.298Z"
   },
   {
    "duration": 8,
    "start_time": "2024-12-20T18:04:33.938Z"
   },
   {
    "duration": 4,
    "start_time": "2024-12-20T18:04:52.835Z"
   },
   {
    "duration": 4,
    "start_time": "2024-12-20T18:05:20.699Z"
   },
   {
    "duration": 5,
    "start_time": "2024-12-20T18:05:45.565Z"
   },
   {
    "duration": 4,
    "start_time": "2024-12-20T18:05:53.710Z"
   },
   {
    "duration": 5,
    "start_time": "2024-12-20T18:06:14.163Z"
   },
   {
    "duration": 13,
    "start_time": "2024-12-20T18:08:14.996Z"
   },
   {
    "duration": 80,
    "start_time": "2024-12-20T18:08:27.013Z"
   },
   {
    "duration": 7,
    "start_time": "2024-12-20T18:08:38.114Z"
   },
   {
    "duration": 36,
    "start_time": "2024-12-20T18:09:01.978Z"
   },
   {
    "duration": 31,
    "start_time": "2024-12-20T18:13:10.431Z"
   },
   {
    "duration": 20,
    "start_time": "2024-12-20T18:13:32.424Z"
   },
   {
    "duration": 21,
    "start_time": "2024-12-20T18:14:00.624Z"
   },
   {
    "duration": 21,
    "start_time": "2024-12-20T18:14:17.107Z"
   },
   {
    "duration": 21,
    "start_time": "2024-12-20T18:14:47.686Z"
   },
   {
    "duration": 21,
    "start_time": "2024-12-20T18:15:05.705Z"
   },
   {
    "duration": 19,
    "start_time": "2024-12-20T18:16:16.060Z"
   },
   {
    "duration": 1039,
    "start_time": "2024-12-20T18:16:36.351Z"
   },
   {
    "duration": 63,
    "start_time": "2024-12-20T18:16:37.392Z"
   },
   {
    "duration": 12,
    "start_time": "2024-12-20T18:16:37.456Z"
   },
   {
    "duration": 27,
    "start_time": "2024-12-20T18:16:37.469Z"
   },
   {
    "duration": 50,
    "start_time": "2024-12-20T18:16:37.497Z"
   },
   {
    "duration": 23,
    "start_time": "2024-12-20T18:16:37.549Z"
   },
   {
    "duration": 13,
    "start_time": "2024-12-20T18:16:37.574Z"
   },
   {
    "duration": 27,
    "start_time": "2024-12-20T18:16:37.588Z"
   },
   {
    "duration": 82,
    "start_time": "2024-12-20T18:16:37.616Z"
   },
   {
    "duration": 7,
    "start_time": "2024-12-20T18:16:37.701Z"
   },
   {
    "duration": 7,
    "start_time": "2024-12-20T18:16:37.709Z"
   },
   {
    "duration": 17,
    "start_time": "2024-12-20T18:16:37.717Z"
   },
   {
    "duration": 33,
    "start_time": "2024-12-20T18:16:37.735Z"
   },
   {
    "duration": 23,
    "start_time": "2024-12-20T18:16:37.769Z"
   },
   {
    "duration": 35,
    "start_time": "2024-12-20T18:16:37.793Z"
   },
   {
    "duration": 51,
    "start_time": "2024-12-20T18:16:37.829Z"
   },
   {
    "duration": 7,
    "start_time": "2024-12-20T18:16:37.881Z"
   },
   {
    "duration": 23,
    "start_time": "2024-12-20T18:16:37.890Z"
   },
   {
    "duration": 14,
    "start_time": "2024-12-20T18:16:37.914Z"
   },
   {
    "duration": 12,
    "start_time": "2024-12-20T18:16:37.929Z"
   },
   {
    "duration": 6,
    "start_time": "2024-12-20T18:16:37.942Z"
   },
   {
    "duration": 5,
    "start_time": "2024-12-20T18:16:37.949Z"
   },
   {
    "duration": 10,
    "start_time": "2024-12-20T18:16:37.956Z"
   },
   {
    "duration": 25,
    "start_time": "2024-12-20T18:16:37.967Z"
   },
   {
    "duration": 38,
    "start_time": "2024-12-20T18:16:37.994Z"
   },
   {
    "duration": 13,
    "start_time": "2024-12-20T18:16:38.035Z"
   },
   {
    "duration": 27,
    "start_time": "2024-12-20T18:16:38.050Z"
   },
   {
    "duration": 200,
    "start_time": "2024-12-20T18:16:38.082Z"
   },
   {
    "duration": 124,
    "start_time": "2024-12-20T18:16:38.284Z"
   },
   {
    "duration": 6,
    "start_time": "2024-12-20T18:16:38.409Z"
   },
   {
    "duration": 8,
    "start_time": "2024-12-20T18:16:38.417Z"
   },
   {
    "duration": 327,
    "start_time": "2024-12-20T18:16:38.426Z"
   },
   {
    "duration": 237,
    "start_time": "2024-12-20T18:16:38.754Z"
   },
   {
    "duration": 6,
    "start_time": "2024-12-20T18:16:38.993Z"
   },
   {
    "duration": 370,
    "start_time": "2024-12-20T18:16:39.000Z"
   },
   {
    "duration": 3,
    "start_time": "2024-12-20T18:16:39.372Z"
   },
   {
    "duration": 22,
    "start_time": "2024-12-20T18:16:39.377Z"
   },
   {
    "duration": 252,
    "start_time": "2024-12-20T18:16:39.401Z"
   },
   {
    "duration": 7,
    "start_time": "2024-12-20T18:16:39.655Z"
   },
   {
    "duration": 334,
    "start_time": "2024-12-20T18:16:39.664Z"
   },
   {
    "duration": 19,
    "start_time": "2024-12-20T18:16:40.000Z"
   },
   {
    "duration": 15,
    "start_time": "2024-12-20T18:16:40.022Z"
   },
   {
    "duration": 114,
    "start_time": "2024-12-20T18:16:40.039Z"
   },
   {
    "duration": 7,
    "start_time": "2024-12-20T18:16:40.155Z"
   },
   {
    "duration": 6,
    "start_time": "2024-12-20T18:16:40.164Z"
   },
   {
    "duration": 133,
    "start_time": "2024-12-20T18:16:40.173Z"
   },
   {
    "duration": 5,
    "start_time": "2024-12-20T18:16:40.308Z"
   },
   {
    "duration": 51,
    "start_time": "2024-12-20T18:16:40.315Z"
   },
   {
    "duration": 42,
    "start_time": "2024-12-20T18:16:40.367Z"
   },
   {
    "duration": 69,
    "start_time": "2024-12-20T18:16:40.411Z"
   },
   {
    "duration": 51,
    "start_time": "2024-12-20T18:16:40.482Z"
   },
   {
    "duration": 36,
    "start_time": "2024-12-20T18:16:40.535Z"
   },
   {
    "duration": 69,
    "start_time": "2024-12-20T18:16:40.572Z"
   },
   {
    "duration": 77,
    "start_time": "2024-12-20T18:16:40.642Z"
   },
   {
    "duration": 4,
    "start_time": "2024-12-20T18:16:40.721Z"
   },
   {
    "duration": 19,
    "start_time": "2024-12-20T18:16:40.727Z"
   },
   {
    "duration": 37,
    "start_time": "2024-12-20T18:16:40.747Z"
   },
   {
    "duration": 13,
    "start_time": "2024-12-20T18:16:40.786Z"
   },
   {
    "duration": 11,
    "start_time": "2024-12-20T18:16:40.801Z"
   },
   {
    "duration": 53,
    "start_time": "2024-12-20T18:17:34.854Z"
   },
   {
    "duration": 5,
    "start_time": "2024-12-20T18:17:40.836Z"
   },
   {
    "duration": 57,
    "start_time": "2024-12-20T18:20:38.551Z"
   },
   {
    "duration": 35,
    "start_time": "2024-12-20T18:20:48.317Z"
   },
   {
    "duration": 111,
    "start_time": "2024-12-20T18:21:14.282Z"
   },
   {
    "duration": 35,
    "start_time": "2024-12-20T18:21:23.506Z"
   },
   {
    "duration": 21,
    "start_time": "2024-12-20T18:22:48.809Z"
   },
   {
    "duration": 4,
    "start_time": "2024-12-20T18:22:57.899Z"
   },
   {
    "duration": 42,
    "start_time": "2024-12-20T18:23:56.656Z"
   },
   {
    "duration": 21,
    "start_time": "2024-12-20T18:24:48.378Z"
   },
   {
    "duration": 26,
    "start_time": "2024-12-20T18:25:24.328Z"
   },
   {
    "duration": 36,
    "start_time": "2024-12-20T18:25:49.652Z"
   },
   {
    "duration": 25,
    "start_time": "2024-12-20T18:25:58.842Z"
   },
   {
    "duration": 40,
    "start_time": "2024-12-20T18:30:33.916Z"
   },
   {
    "duration": 20,
    "start_time": "2024-12-20T18:30:53.183Z"
   },
   {
    "duration": 24,
    "start_time": "2024-12-20T18:38:12.332Z"
   },
   {
    "duration": 19,
    "start_time": "2024-12-20T18:38:23.073Z"
   },
   {
    "duration": 20,
    "start_time": "2024-12-20T18:39:23.476Z"
   },
   {
    "duration": 19,
    "start_time": "2024-12-20T18:45:43.827Z"
   },
   {
    "duration": 9,
    "start_time": "2024-12-20T19:04:05.832Z"
   },
   {
    "duration": 5,
    "start_time": "2024-12-20T19:04:08.223Z"
   },
   {
    "duration": 9,
    "start_time": "2024-12-20T19:06:44.789Z"
   },
   {
    "duration": 20,
    "start_time": "2024-12-20T19:07:29.552Z"
   },
   {
    "duration": 15,
    "start_time": "2024-12-20T19:10:14.011Z"
   },
   {
    "duration": 8,
    "start_time": "2024-12-20T19:10:18.919Z"
   },
   {
    "duration": 11,
    "start_time": "2024-12-20T19:10:41.328Z"
   },
   {
    "duration": 7,
    "start_time": "2024-12-20T20:05:20.969Z"
   },
   {
    "duration": 8,
    "start_time": "2024-12-20T20:05:27.979Z"
   },
   {
    "duration": 12,
    "start_time": "2024-12-20T20:05:33.315Z"
   },
   {
    "duration": 5,
    "start_time": "2024-12-20T20:27:19.692Z"
   },
   {
    "duration": 4,
    "start_time": "2024-12-20T20:29:40.465Z"
   },
   {
    "duration": 7,
    "start_time": "2024-12-20T20:29:45.235Z"
   },
   {
    "duration": 6,
    "start_time": "2024-12-20T20:29:50.690Z"
   },
   {
    "duration": 18,
    "start_time": "2024-12-20T20:31:22.374Z"
   },
   {
    "duration": 17,
    "start_time": "2024-12-20T20:32:09.800Z"
   },
   {
    "duration": 15,
    "start_time": "2024-12-20T20:33:00.967Z"
   },
   {
    "duration": 4,
    "start_time": "2024-12-20T20:33:24.702Z"
   },
   {
    "duration": 12,
    "start_time": "2024-12-20T20:33:48.879Z"
   },
   {
    "duration": 5,
    "start_time": "2024-12-20T20:33:59.314Z"
   },
   {
    "duration": 16,
    "start_time": "2024-12-20T20:34:01.397Z"
   },
   {
    "duration": 13,
    "start_time": "2024-12-20T20:34:25.504Z"
   },
   {
    "duration": 1175,
    "start_time": "2024-12-20T20:34:43.547Z"
   },
   {
    "duration": 57,
    "start_time": "2024-12-20T20:34:44.724Z"
   },
   {
    "duration": 13,
    "start_time": "2024-12-20T20:34:44.783Z"
   },
   {
    "duration": 5,
    "start_time": "2024-12-20T20:34:44.799Z"
   },
   {
    "duration": 31,
    "start_time": "2024-12-20T20:34:44.806Z"
   },
   {
    "duration": 70,
    "start_time": "2024-12-20T20:34:44.840Z"
   },
   {
    "duration": 15,
    "start_time": "2024-12-20T20:34:44.913Z"
   },
   {
    "duration": 14,
    "start_time": "2024-12-20T20:34:44.929Z"
   },
   {
    "duration": 150,
    "start_time": "2024-12-20T20:34:44.945Z"
   },
   {
    "duration": 9,
    "start_time": "2024-12-20T20:34:45.097Z"
   },
   {
    "duration": 36,
    "start_time": "2024-12-20T20:34:45.108Z"
   },
   {
    "duration": 45,
    "start_time": "2024-12-20T20:34:45.146Z"
   },
   {
    "duration": 82,
    "start_time": "2024-12-20T20:34:45.193Z"
   },
   {
    "duration": 38,
    "start_time": "2024-12-20T20:34:45.278Z"
   },
   {
    "duration": 28,
    "start_time": "2024-12-20T20:34:45.318Z"
   },
   {
    "duration": 53,
    "start_time": "2024-12-20T20:34:45.348Z"
   },
   {
    "duration": 14,
    "start_time": "2024-12-20T20:34:45.403Z"
   },
   {
    "duration": 34,
    "start_time": "2024-12-20T20:34:45.419Z"
   },
   {
    "duration": 30,
    "start_time": "2024-12-20T20:34:45.456Z"
   },
   {
    "duration": 36,
    "start_time": "2024-12-20T20:34:45.488Z"
   },
   {
    "duration": 22,
    "start_time": "2024-12-20T20:34:45.525Z"
   },
   {
    "duration": 9,
    "start_time": "2024-12-20T20:34:45.549Z"
   },
   {
    "duration": 55,
    "start_time": "2024-12-20T20:34:45.560Z"
   },
   {
    "duration": 44,
    "start_time": "2024-12-20T20:34:45.617Z"
   },
   {
    "duration": 41,
    "start_time": "2024-12-20T20:34:45.664Z"
   },
   {
    "duration": 39,
    "start_time": "2024-12-20T20:34:45.707Z"
   },
   {
    "duration": 28,
    "start_time": "2024-12-20T20:34:45.747Z"
   },
   {
    "duration": 350,
    "start_time": "2024-12-20T20:34:45.779Z"
   },
   {
    "duration": 137,
    "start_time": "2024-12-20T20:34:46.131Z"
   },
   {
    "duration": 8,
    "start_time": "2024-12-20T20:34:46.270Z"
   },
   {
    "duration": 7,
    "start_time": "2024-12-20T20:34:46.280Z"
   },
   {
    "duration": 427,
    "start_time": "2024-12-20T20:34:46.288Z"
   },
   {
    "duration": 308,
    "start_time": "2024-12-20T20:34:46.717Z"
   },
   {
    "duration": 8,
    "start_time": "2024-12-20T20:34:47.027Z"
   },
   {
    "duration": 481,
    "start_time": "2024-12-20T20:34:47.036Z"
   },
   {
    "duration": 5,
    "start_time": "2024-12-20T20:34:47.519Z"
   },
   {
    "duration": 17,
    "start_time": "2024-12-20T20:34:47.527Z"
   },
   {
    "duration": 335,
    "start_time": "2024-12-20T20:34:47.546Z"
   },
   {
    "duration": 10,
    "start_time": "2024-12-20T20:34:47.883Z"
   },
   {
    "duration": 603,
    "start_time": "2024-12-20T20:34:47.894Z"
   },
   {
    "duration": 23,
    "start_time": "2024-12-20T20:34:48.499Z"
   },
   {
    "duration": 2,
    "start_time": "2024-12-20T20:34:48.524Z"
   },
   {
    "duration": 128,
    "start_time": "2024-12-20T20:34:48.528Z"
   },
   {
    "duration": 10,
    "start_time": "2024-12-20T20:34:48.658Z"
   },
   {
    "duration": 6,
    "start_time": "2024-12-20T20:34:48.669Z"
   },
   {
    "duration": 186,
    "start_time": "2024-12-20T20:34:48.677Z"
   },
   {
    "duration": 4,
    "start_time": "2024-12-20T20:34:48.865Z"
   },
   {
    "duration": 118,
    "start_time": "2024-12-20T20:34:48.871Z"
   },
   {
    "duration": 64,
    "start_time": "2024-12-20T20:34:48.991Z"
   },
   {
    "duration": 73,
    "start_time": "2024-12-20T20:34:49.058Z"
   },
   {
    "duration": 85,
    "start_time": "2024-12-20T20:34:49.133Z"
   },
   {
    "duration": 44,
    "start_time": "2024-12-20T20:34:49.221Z"
   },
   {
    "duration": 119,
    "start_time": "2024-12-20T20:34:49.267Z"
   },
   {
    "duration": 107,
    "start_time": "2024-12-20T20:34:49.388Z"
   },
   {
    "duration": 6,
    "start_time": "2024-12-20T20:34:49.497Z"
   },
   {
    "duration": 9,
    "start_time": "2024-12-20T20:34:49.505Z"
   },
   {
    "duration": 54,
    "start_time": "2024-12-20T20:34:49.518Z"
   },
   {
    "duration": 5,
    "start_time": "2024-12-20T20:34:49.574Z"
   },
   {
    "duration": 13,
    "start_time": "2024-12-20T20:34:49.581Z"
   },
   {
    "duration": 29,
    "start_time": "2024-12-20T20:34:49.595Z"
   },
   {
    "duration": 4,
    "start_time": "2024-12-20T20:34:49.625Z"
   },
   {
    "duration": 106,
    "start_time": "2024-12-20T20:34:49.631Z"
   },
   {
    "duration": 13,
    "start_time": "2024-12-20T20:36:14.182Z"
   },
   {
    "duration": 12,
    "start_time": "2024-12-20T20:37:16.084Z"
   },
   {
    "duration": 14,
    "start_time": "2024-12-20T20:38:44.924Z"
   },
   {
    "duration": 14,
    "start_time": "2024-12-20T20:39:06.478Z"
   },
   {
    "duration": 14,
    "start_time": "2024-12-20T20:39:28.792Z"
   },
   {
    "duration": 17,
    "start_time": "2024-12-20T20:39:49.440Z"
   },
   {
    "duration": 13,
    "start_time": "2024-12-20T20:40:02.095Z"
   },
   {
    "duration": 17,
    "start_time": "2024-12-20T20:40:41.731Z"
   },
   {
    "duration": 18,
    "start_time": "2024-12-20T20:41:33.027Z"
   },
   {
    "duration": 18,
    "start_time": "2024-12-20T20:42:33.099Z"
   },
   {
    "duration": 858,
    "start_time": "2024-12-20T20:42:53.385Z"
   },
   {
    "duration": 842,
    "start_time": "2024-12-20T20:43:07.454Z"
   },
   {
    "duration": 9,
    "start_time": "2024-12-20T20:43:17.059Z"
   },
   {
    "duration": 9,
    "start_time": "2024-12-20T20:43:24.557Z"
   },
   {
    "duration": 3,
    "start_time": "2024-12-20T20:43:46.052Z"
   },
   {
    "duration": 10,
    "start_time": "2024-12-20T20:43:49.040Z"
   },
   {
    "duration": 13,
    "start_time": "2024-12-20T20:45:03.783Z"
   },
   {
    "duration": 13,
    "start_time": "2024-12-20T20:46:19.785Z"
   },
   {
    "duration": 7,
    "start_time": "2024-12-20T20:46:59.753Z"
   },
   {
    "duration": 16,
    "start_time": "2024-12-20T20:47:08.260Z"
   },
   {
    "duration": 4,
    "start_time": "2024-12-20T20:47:25.070Z"
   },
   {
    "duration": 16,
    "start_time": "2024-12-20T20:47:34.380Z"
   },
   {
    "duration": 6,
    "start_time": "2024-12-20T20:47:51.291Z"
   },
   {
    "duration": 6,
    "start_time": "2024-12-20T20:48:09.239Z"
   },
   {
    "duration": 11,
    "start_time": "2024-12-20T20:48:33.389Z"
   },
   {
    "duration": 8,
    "start_time": "2024-12-20T20:48:55.942Z"
   },
   {
    "duration": 10,
    "start_time": "2024-12-20T20:49:14.928Z"
   },
   {
    "duration": 13,
    "start_time": "2024-12-20T20:51:09.070Z"
   },
   {
    "duration": 6,
    "start_time": "2024-12-20T20:51:26.832Z"
   },
   {
    "duration": 5,
    "start_time": "2024-12-20T20:51:40.737Z"
   },
   {
    "duration": 9,
    "start_time": "2024-12-20T20:51:44.025Z"
   },
   {
    "duration": 5,
    "start_time": "2024-12-20T20:52:08.668Z"
   },
   {
    "duration": 12,
    "start_time": "2024-12-20T20:52:15.469Z"
   },
   {
    "duration": 11,
    "start_time": "2024-12-20T20:52:21.900Z"
   },
   {
    "duration": 5,
    "start_time": "2024-12-20T20:53:05.018Z"
   },
   {
    "duration": 5,
    "start_time": "2024-12-20T20:53:19.014Z"
   },
   {
    "duration": 6,
    "start_time": "2024-12-20T20:53:34.320Z"
   },
   {
    "duration": 11,
    "start_time": "2024-12-20T20:53:37.114Z"
   },
   {
    "duration": 4,
    "start_time": "2024-12-20T20:53:50.682Z"
   },
   {
    "duration": 9,
    "start_time": "2024-12-20T20:53:52.434Z"
   },
   {
    "duration": 4,
    "start_time": "2024-12-20T20:53:58.221Z"
   },
   {
    "duration": 9,
    "start_time": "2024-12-20T20:53:59.599Z"
   },
   {
    "duration": 10,
    "start_time": "2024-12-20T20:55:45.966Z"
   },
   {
    "duration": 17,
    "start_time": "2024-12-20T20:55:55.956Z"
   },
   {
    "duration": 11,
    "start_time": "2024-12-20T20:59:57.565Z"
   },
   {
    "duration": 11,
    "start_time": "2024-12-20T21:01:21.101Z"
   },
   {
    "duration": 11,
    "start_time": "2024-12-20T21:02:56.948Z"
   },
   {
    "duration": 23,
    "start_time": "2024-12-20T21:03:05.795Z"
   },
   {
    "duration": 9,
    "start_time": "2024-12-20T21:03:36.242Z"
   },
   {
    "duration": 19,
    "start_time": "2024-12-20T21:04:58.694Z"
   },
   {
    "duration": 20,
    "start_time": "2024-12-20T21:05:07.065Z"
   },
   {
    "duration": 5,
    "start_time": "2024-12-20T21:05:17.909Z"
   },
   {
    "duration": 9,
    "start_time": "2024-12-20T21:07:43.171Z"
   },
   {
    "duration": 16,
    "start_time": "2024-12-20T21:07:53.349Z"
   },
   {
    "duration": 10,
    "start_time": "2024-12-20T21:08:08.130Z"
   },
   {
    "duration": 11,
    "start_time": "2024-12-20T21:08:15.657Z"
   },
   {
    "duration": 7,
    "start_time": "2024-12-20T21:08:38.970Z"
   },
   {
    "duration": 11,
    "start_time": "2024-12-20T21:09:10.908Z"
   },
   {
    "duration": 9,
    "start_time": "2024-12-20T21:09:41.666Z"
   },
   {
    "duration": 354,
    "start_time": "2024-12-20T21:10:22.745Z"
   },
   {
    "duration": 1059,
    "start_time": "2024-12-20T21:10:31.865Z"
   },
   {
    "duration": 64,
    "start_time": "2024-12-20T21:10:32.926Z"
   },
   {
    "duration": 25,
    "start_time": "2024-12-20T21:10:32.991Z"
   },
   {
    "duration": 4,
    "start_time": "2024-12-20T21:10:33.018Z"
   },
   {
    "duration": 54,
    "start_time": "2024-12-20T21:10:33.024Z"
   },
   {
    "duration": 42,
    "start_time": "2024-12-20T21:10:33.080Z"
   },
   {
    "duration": 11,
    "start_time": "2024-12-20T21:10:33.123Z"
   },
   {
    "duration": 49,
    "start_time": "2024-12-20T21:10:33.135Z"
   },
   {
    "duration": 84,
    "start_time": "2024-12-20T21:10:33.186Z"
   },
   {
    "duration": 8,
    "start_time": "2024-12-20T21:10:33.273Z"
   },
   {
    "duration": 82,
    "start_time": "2024-12-20T21:10:33.283Z"
   },
   {
    "duration": 56,
    "start_time": "2024-12-20T21:10:33.368Z"
   },
   {
    "duration": 61,
    "start_time": "2024-12-20T21:10:33.426Z"
   },
   {
    "duration": 18,
    "start_time": "2024-12-20T21:10:33.489Z"
   },
   {
    "duration": 26,
    "start_time": "2024-12-20T21:10:33.508Z"
   },
   {
    "duration": 71,
    "start_time": "2024-12-20T21:10:33.536Z"
   },
   {
    "duration": 6,
    "start_time": "2024-12-20T21:10:33.608Z"
   },
   {
    "duration": 28,
    "start_time": "2024-12-20T21:10:33.616Z"
   },
   {
    "duration": 27,
    "start_time": "2024-12-20T21:10:33.646Z"
   },
   {
    "duration": 18,
    "start_time": "2024-12-20T21:10:33.674Z"
   },
   {
    "duration": 18,
    "start_time": "2024-12-20T21:10:33.693Z"
   },
   {
    "duration": 6,
    "start_time": "2024-12-20T21:10:33.713Z"
   },
   {
    "duration": 12,
    "start_time": "2024-12-20T21:10:33.720Z"
   },
   {
    "duration": 17,
    "start_time": "2024-12-20T21:10:33.733Z"
   },
   {
    "duration": 59,
    "start_time": "2024-12-20T21:10:33.752Z"
   },
   {
    "duration": 32,
    "start_time": "2024-12-20T21:10:33.812Z"
   },
   {
    "duration": 22,
    "start_time": "2024-12-20T21:10:33.846Z"
   },
   {
    "duration": 231,
    "start_time": "2024-12-20T21:10:33.874Z"
   },
   {
    "duration": 115,
    "start_time": "2024-12-20T21:10:34.109Z"
   },
   {
    "duration": 6,
    "start_time": "2024-12-20T21:10:34.226Z"
   },
   {
    "duration": 49,
    "start_time": "2024-12-20T21:10:34.234Z"
   },
   {
    "duration": 326,
    "start_time": "2024-12-20T21:10:34.284Z"
   },
   {
    "duration": 249,
    "start_time": "2024-12-20T21:10:34.611Z"
   },
   {
    "duration": 8,
    "start_time": "2024-12-20T21:10:34.865Z"
   },
   {
    "duration": 364,
    "start_time": "2024-12-20T21:10:34.874Z"
   },
   {
    "duration": 25,
    "start_time": "2024-12-20T21:10:35.239Z"
   },
   {
    "duration": 4,
    "start_time": "2024-12-20T21:10:35.266Z"
   },
   {
    "duration": 297,
    "start_time": "2024-12-20T21:10:35.272Z"
   },
   {
    "duration": 8,
    "start_time": "2024-12-20T21:10:35.571Z"
   },
   {
    "duration": 349,
    "start_time": "2024-12-20T21:10:35.581Z"
   },
   {
    "duration": 27,
    "start_time": "2024-12-20T21:10:35.931Z"
   },
   {
    "duration": 13,
    "start_time": "2024-12-20T21:10:35.960Z"
   },
   {
    "duration": 118,
    "start_time": "2024-12-20T21:10:35.974Z"
   },
   {
    "duration": 8,
    "start_time": "2024-12-20T21:10:36.093Z"
   },
   {
    "duration": 14,
    "start_time": "2024-12-20T21:10:36.102Z"
   },
   {
    "duration": 142,
    "start_time": "2024-12-20T21:10:36.117Z"
   },
   {
    "duration": 5,
    "start_time": "2024-12-20T21:10:36.260Z"
   },
   {
    "duration": 95,
    "start_time": "2024-12-20T21:10:36.269Z"
   },
   {
    "duration": 86,
    "start_time": "2024-12-20T21:10:36.365Z"
   },
   {
    "duration": 72,
    "start_time": "2024-12-20T21:10:36.452Z"
   },
   {
    "duration": 99,
    "start_time": "2024-12-20T21:10:36.525Z"
   },
   {
    "duration": 22,
    "start_time": "2024-12-20T21:10:36.625Z"
   },
   {
    "duration": 119,
    "start_time": "2024-12-20T21:10:36.649Z"
   },
   {
    "duration": 70,
    "start_time": "2024-12-20T21:10:36.770Z"
   },
   {
    "duration": 25,
    "start_time": "2024-12-20T21:10:36.842Z"
   },
   {
    "duration": 31,
    "start_time": "2024-12-20T21:10:36.869Z"
   },
   {
    "duration": 77,
    "start_time": "2024-12-20T21:10:36.901Z"
   },
   {
    "duration": 71,
    "start_time": "2024-12-20T21:10:36.979Z"
   },
   {
    "duration": 45,
    "start_time": "2024-12-20T21:10:37.052Z"
   },
   {
    "duration": 41,
    "start_time": "2024-12-20T21:10:37.098Z"
   },
   {
    "duration": 46,
    "start_time": "2024-12-20T21:10:37.140Z"
   },
   {
    "duration": 35,
    "start_time": "2024-12-20T21:10:37.187Z"
   },
   {
    "duration": 46,
    "start_time": "2024-12-20T21:10:37.223Z"
   },
   {
    "duration": 26,
    "start_time": "2024-12-20T21:10:37.271Z"
   },
   {
    "duration": 24,
    "start_time": "2024-12-20T21:10:37.298Z"
   },
   {
    "duration": 21,
    "start_time": "2024-12-20T21:10:37.323Z"
   },
   {
    "duration": 37,
    "start_time": "2024-12-20T21:10:37.346Z"
   },
   {
    "duration": 241,
    "start_time": "2024-12-20T21:16:24.420Z"
   },
   {
    "duration": 278,
    "start_time": "2024-12-20T21:16:31.233Z"
   },
   {
    "duration": 225,
    "start_time": "2024-12-20T21:17:25.069Z"
   },
   {
    "duration": 226,
    "start_time": "2024-12-20T21:20:24.981Z"
   },
   {
    "duration": 221,
    "start_time": "2024-12-20T21:20:28.934Z"
   },
   {
    "duration": 4,
    "start_time": "2024-12-20T22:10:56.250Z"
   },
   {
    "duration": 1283,
    "start_time": "2024-12-21T17:29:14.667Z"
   },
   {
    "duration": 155,
    "start_time": "2024-12-21T17:29:15.952Z"
   },
   {
    "duration": 12,
    "start_time": "2024-12-21T17:29:16.108Z"
   },
   {
    "duration": 3,
    "start_time": "2024-12-21T17:29:16.121Z"
   },
   {
    "duration": 10,
    "start_time": "2024-12-21T17:29:16.126Z"
   },
   {
    "duration": 19,
    "start_time": "2024-12-21T17:29:16.138Z"
   },
   {
    "duration": 11,
    "start_time": "2024-12-21T17:29:16.159Z"
   },
   {
    "duration": 22,
    "start_time": "2024-12-21T17:29:16.172Z"
   },
   {
    "duration": 114,
    "start_time": "2024-12-21T17:29:16.195Z"
   },
   {
    "duration": 8,
    "start_time": "2024-12-21T17:29:16.310Z"
   },
   {
    "duration": 8,
    "start_time": "2024-12-21T17:29:16.319Z"
   },
   {
    "duration": 10,
    "start_time": "2024-12-21T17:29:16.328Z"
   },
   {
    "duration": 18,
    "start_time": "2024-12-21T17:29:16.339Z"
   },
   {
    "duration": 8,
    "start_time": "2024-12-21T17:29:16.360Z"
   },
   {
    "duration": 6,
    "start_time": "2024-12-21T17:29:16.369Z"
   },
   {
    "duration": 89,
    "start_time": "2024-12-21T17:29:16.376Z"
   },
   {
    "duration": 7,
    "start_time": "2024-12-21T17:29:16.466Z"
   },
   {
    "duration": 23,
    "start_time": "2024-12-21T17:29:16.475Z"
   },
   {
    "duration": 14,
    "start_time": "2024-12-21T17:29:16.500Z"
   },
   {
    "duration": 7,
    "start_time": "2024-12-21T17:29:16.515Z"
   },
   {
    "duration": 7,
    "start_time": "2024-12-21T17:29:16.524Z"
   },
   {
    "duration": 5,
    "start_time": "2024-12-21T17:29:16.532Z"
   },
   {
    "duration": 13,
    "start_time": "2024-12-21T17:29:16.538Z"
   },
   {
    "duration": 8,
    "start_time": "2024-12-21T17:29:16.586Z"
   },
   {
    "duration": 12,
    "start_time": "2024-12-21T17:29:16.595Z"
   },
   {
    "duration": 31,
    "start_time": "2024-12-21T17:29:16.608Z"
   },
   {
    "duration": 9,
    "start_time": "2024-12-21T17:29:16.641Z"
   },
   {
    "duration": 183,
    "start_time": "2024-12-21T17:29:16.651Z"
   },
   {
    "duration": 122,
    "start_time": "2024-12-21T17:29:16.836Z"
   },
   {
    "duration": 6,
    "start_time": "2024-12-21T17:29:16.959Z"
   },
   {
    "duration": 12,
    "start_time": "2024-12-21T17:29:16.967Z"
   },
   {
    "duration": 317,
    "start_time": "2024-12-21T17:29:16.986Z"
   },
   {
    "duration": 248,
    "start_time": "2024-12-21T17:29:17.305Z"
   },
   {
    "duration": 5,
    "start_time": "2024-12-21T17:29:17.554Z"
   },
   {
    "duration": 411,
    "start_time": "2024-12-21T17:29:17.561Z"
   },
   {
    "duration": 3,
    "start_time": "2024-12-21T17:29:17.974Z"
   },
   {
    "duration": 10,
    "start_time": "2024-12-21T17:29:17.979Z"
   },
   {
    "duration": 272,
    "start_time": "2024-12-21T17:29:17.991Z"
   },
   {
    "duration": 8,
    "start_time": "2024-12-21T17:29:18.265Z"
   },
   {
    "duration": 351,
    "start_time": "2024-12-21T17:29:18.275Z"
   },
   {
    "duration": 15,
    "start_time": "2024-12-21T17:29:18.630Z"
   },
   {
    "duration": 2,
    "start_time": "2024-12-21T17:29:18.647Z"
   },
   {
    "duration": 115,
    "start_time": "2024-12-21T17:29:18.650Z"
   },
   {
    "duration": 7,
    "start_time": "2024-12-21T17:29:18.767Z"
   },
   {
    "duration": 12,
    "start_time": "2024-12-21T17:29:18.776Z"
   },
   {
    "duration": 126,
    "start_time": "2024-12-21T17:29:18.790Z"
   },
   {
    "duration": 5,
    "start_time": "2024-12-21T17:29:18.917Z"
   },
   {
    "duration": 51,
    "start_time": "2024-12-21T17:29:18.923Z"
   },
   {
    "duration": 49,
    "start_time": "2024-12-21T17:29:18.975Z"
   },
   {
    "duration": 70,
    "start_time": "2024-12-21T17:29:19.025Z"
   },
   {
    "duration": 57,
    "start_time": "2024-12-21T17:29:19.097Z"
   },
   {
    "duration": 22,
    "start_time": "2024-12-21T17:29:19.155Z"
   },
   {
    "duration": 64,
    "start_time": "2024-12-21T17:29:19.187Z"
   },
   {
    "duration": 144,
    "start_time": "2024-12-21T17:29:19.253Z"
   },
   {
    "duration": 4,
    "start_time": "2024-12-21T17:29:19.398Z"
   },
   {
    "duration": 4,
    "start_time": "2024-12-21T17:29:19.404Z"
   },
   {
    "duration": 27,
    "start_time": "2024-12-21T17:29:19.410Z"
   },
   {
    "duration": 6,
    "start_time": "2024-12-21T17:29:19.439Z"
   },
   {
    "duration": 40,
    "start_time": "2024-12-21T17:29:19.447Z"
   },
   {
    "duration": 6,
    "start_time": "2024-12-21T17:29:19.488Z"
   },
   {
    "duration": 3,
    "start_time": "2024-12-21T17:29:19.496Z"
   },
   {
    "duration": 8,
    "start_time": "2024-12-21T17:29:19.501Z"
   },
   {
    "duration": 10,
    "start_time": "2024-12-21T17:29:19.510Z"
   },
   {
    "duration": 20,
    "start_time": "2024-12-21T17:29:19.521Z"
   },
   {
    "duration": 4,
    "start_time": "2024-12-21T17:29:19.543Z"
   },
   {
    "duration": 41,
    "start_time": "2024-12-21T17:29:19.548Z"
   },
   {
    "duration": 7,
    "start_time": "2024-12-21T17:29:19.590Z"
   },
   {
    "duration": 318,
    "start_time": "2024-12-21T21:02:44.721Z"
   },
   {
    "duration": 386,
    "start_time": "2024-12-21T21:03:18.515Z"
   },
   {
    "duration": 316,
    "start_time": "2024-12-21T21:03:23.909Z"
   },
   {
    "duration": 311,
    "start_time": "2024-12-21T21:03:54.441Z"
   },
   {
    "duration": 243,
    "start_time": "2024-12-21T21:06:38.451Z"
   },
   {
    "duration": 347,
    "start_time": "2024-12-21T21:06:48.088Z"
   },
   {
    "duration": 363,
    "start_time": "2024-12-21T21:07:40.269Z"
   },
   {
    "duration": 336,
    "start_time": "2024-12-21T21:08:07.960Z"
   },
   {
    "duration": 322,
    "start_time": "2024-12-21T21:10:52.619Z"
   },
   {
    "duration": 348,
    "start_time": "2024-12-21T21:10:58.857Z"
   },
   {
    "duration": 358,
    "start_time": "2024-12-21T21:17:55.583Z"
   },
   {
    "duration": 21,
    "start_time": "2024-12-21T21:28:57.227Z"
   },
   {
    "duration": 16,
    "start_time": "2024-12-21T21:30:55.028Z"
   },
   {
    "duration": 20,
    "start_time": "2024-12-21T21:31:26.580Z"
   },
   {
    "duration": 11,
    "start_time": "2024-12-21T21:35:10.546Z"
   },
   {
    "duration": 133,
    "start_time": "2024-12-21T21:36:12.768Z"
   },
   {
    "duration": 13,
    "start_time": "2024-12-21T21:37:04.538Z"
   },
   {
    "duration": 196,
    "start_time": "2024-12-21T21:37:08.059Z"
   },
   {
    "duration": 5,
    "start_time": "2024-12-21T21:38:14.694Z"
   },
   {
    "duration": 10,
    "start_time": "2024-12-21T21:39:24.706Z"
   },
   {
    "duration": 8,
    "start_time": "2024-12-21T21:43:46.944Z"
   },
   {
    "duration": 156,
    "start_time": "2024-12-21T21:45:25.547Z"
   },
   {
    "duration": 125,
    "start_time": "2024-12-21T21:45:38.868Z"
   },
   {
    "duration": 121,
    "start_time": "2024-12-21T21:45:55.642Z"
   },
   {
    "duration": 134,
    "start_time": "2024-12-21T21:46:26.451Z"
   },
   {
    "duration": 257,
    "start_time": "2024-12-21T21:46:45.162Z"
   },
   {
    "duration": 178,
    "start_time": "2024-12-21T21:46:55.656Z"
   },
   {
    "duration": 196,
    "start_time": "2024-12-21T21:47:13.205Z"
   },
   {
    "duration": 6,
    "start_time": "2024-12-21T22:36:34.526Z"
   },
   {
    "duration": 6,
    "start_time": "2024-12-21T22:37:31.312Z"
   },
   {
    "duration": 4,
    "start_time": "2024-12-21T22:37:56.234Z"
   },
   {
    "duration": 4,
    "start_time": "2024-12-21T22:38:04.032Z"
   },
   {
    "duration": 8,
    "start_time": "2024-12-21T22:43:08.224Z"
   },
   {
    "duration": 11,
    "start_time": "2024-12-21T22:43:58.097Z"
   },
   {
    "duration": 18,
    "start_time": "2024-12-21T22:44:23.451Z"
   },
   {
    "duration": 9,
    "start_time": "2024-12-21T22:44:45.073Z"
   },
   {
    "duration": 20,
    "start_time": "2024-12-21T22:49:30.822Z"
   },
   {
    "duration": 4,
    "start_time": "2024-12-21T22:49:33.021Z"
   },
   {
    "duration": 44,
    "start_time": "2024-12-22T10:37:58.750Z"
   },
   {
    "duration": 1211,
    "start_time": "2024-12-22T10:38:12.279Z"
   },
   {
    "duration": 121,
    "start_time": "2024-12-22T10:38:13.492Z"
   },
   {
    "duration": 20,
    "start_time": "2024-12-22T10:38:13.614Z"
   },
   {
    "duration": 12,
    "start_time": "2024-12-22T10:38:13.636Z"
   },
   {
    "duration": 12,
    "start_time": "2024-12-22T10:38:13.649Z"
   },
   {
    "duration": 20,
    "start_time": "2024-12-22T10:38:13.662Z"
   },
   {
    "duration": 12,
    "start_time": "2024-12-22T10:38:13.683Z"
   },
   {
    "duration": 37,
    "start_time": "2024-12-22T10:38:13.697Z"
   },
   {
    "duration": 171,
    "start_time": "2024-12-22T10:38:13.736Z"
   },
   {
    "duration": 7,
    "start_time": "2024-12-22T10:38:13.909Z"
   },
   {
    "duration": 18,
    "start_time": "2024-12-22T10:38:13.917Z"
   },
   {
    "duration": 24,
    "start_time": "2024-12-22T10:38:13.936Z"
   },
   {
    "duration": 18,
    "start_time": "2024-12-22T10:38:13.962Z"
   },
   {
    "duration": 9,
    "start_time": "2024-12-22T10:38:13.981Z"
   },
   {
    "duration": 4,
    "start_time": "2024-12-22T10:38:13.992Z"
   },
   {
    "duration": 132,
    "start_time": "2024-12-22T10:38:13.997Z"
   },
   {
    "duration": 8,
    "start_time": "2024-12-22T10:38:14.130Z"
   },
   {
    "duration": 14,
    "start_time": "2024-12-22T10:38:14.139Z"
   },
   {
    "duration": 10,
    "start_time": "2024-12-22T10:38:14.154Z"
   },
   {
    "duration": 13,
    "start_time": "2024-12-22T10:38:14.165Z"
   },
   {
    "duration": 28,
    "start_time": "2024-12-22T10:38:14.180Z"
   },
   {
    "duration": 24,
    "start_time": "2024-12-22T10:38:14.209Z"
   },
   {
    "duration": 13,
    "start_time": "2024-12-22T10:38:14.234Z"
   },
   {
    "duration": 7,
    "start_time": "2024-12-22T10:38:14.249Z"
   },
   {
    "duration": 16,
    "start_time": "2024-12-22T10:38:14.257Z"
   },
   {
    "duration": 9,
    "start_time": "2024-12-22T10:38:14.274Z"
   },
   {
    "duration": 50,
    "start_time": "2024-12-22T10:38:14.284Z"
   },
   {
    "duration": 175,
    "start_time": "2024-12-22T10:38:14.337Z"
   },
   {
    "duration": 123,
    "start_time": "2024-12-22T10:38:14.514Z"
   },
   {
    "duration": 6,
    "start_time": "2024-12-22T10:38:14.639Z"
   },
   {
    "duration": 19,
    "start_time": "2024-12-22T10:38:14.646Z"
   },
   {
    "duration": 316,
    "start_time": "2024-12-22T10:38:14.666Z"
   },
   {
    "duration": 253,
    "start_time": "2024-12-22T10:38:14.984Z"
   },
   {
    "duration": 7,
    "start_time": "2024-12-22T10:38:15.239Z"
   },
   {
    "duration": 359,
    "start_time": "2024-12-22T10:38:15.248Z"
   },
   {
    "duration": 5,
    "start_time": "2024-12-22T10:38:15.608Z"
   },
   {
    "duration": 14,
    "start_time": "2024-12-22T10:38:15.629Z"
   },
   {
    "duration": 252,
    "start_time": "2024-12-22T10:38:15.644Z"
   },
   {
    "duration": 9,
    "start_time": "2024-12-22T10:38:15.898Z"
   },
   {
    "duration": 363,
    "start_time": "2024-12-22T10:38:15.909Z"
   },
   {
    "duration": 10,
    "start_time": "2024-12-22T10:38:16.274Z"
   },
   {
    "duration": 183,
    "start_time": "2024-12-22T10:38:16.285Z"
   },
   {
    "duration": 6,
    "start_time": "2024-12-22T10:38:16.469Z"
   },
   {
    "duration": 69,
    "start_time": "2024-12-22T10:38:16.477Z"
   },
   {
    "duration": 217,
    "start_time": "2024-12-22T10:38:16.548Z"
   },
   {
    "duration": 5,
    "start_time": "2024-12-22T10:38:16.766Z"
   },
   {
    "duration": 62,
    "start_time": "2024-12-22T10:38:16.772Z"
   },
   {
    "duration": 76,
    "start_time": "2024-12-22T10:38:16.835Z"
   },
   {
    "duration": 57,
    "start_time": "2024-12-22T10:38:16.913Z"
   },
   {
    "duration": 64,
    "start_time": "2024-12-22T10:38:16.971Z"
   },
   {
    "duration": 21,
    "start_time": "2024-12-22T10:38:17.037Z"
   },
   {
    "duration": 77,
    "start_time": "2024-12-22T10:38:17.060Z"
   },
   {
    "duration": 65,
    "start_time": "2024-12-22T10:38:17.139Z"
   },
   {
    "duration": 27,
    "start_time": "2024-12-22T10:38:17.206Z"
   },
   {
    "duration": 7,
    "start_time": "2024-12-22T10:38:17.235Z"
   },
   {
    "duration": 30,
    "start_time": "2024-12-22T10:38:17.243Z"
   },
   {
    "duration": 4,
    "start_time": "2024-12-22T10:38:17.274Z"
   },
   {
    "duration": 92,
    "start_time": "2024-12-22T10:38:17.279Z"
   },
   {
    "duration": 100,
    "start_time": "2024-12-22T10:38:17.373Z"
   },
   {
    "duration": 12,
    "start_time": "2024-12-22T10:38:17.474Z"
   },
   {
    "duration": 9,
    "start_time": "2024-12-22T10:38:17.487Z"
   },
   {
    "duration": 7,
    "start_time": "2024-12-22T10:38:17.497Z"
   },
   {
    "duration": 47,
    "start_time": "2024-12-22T10:38:17.505Z"
   },
   {
    "duration": 3,
    "start_time": "2024-12-22T10:38:17.554Z"
   },
   {
    "duration": 11,
    "start_time": "2024-12-22T10:38:17.559Z"
   },
   {
    "duration": 27,
    "start_time": "2024-12-22T10:38:17.571Z"
   },
   {
    "duration": 23,
    "start_time": "2024-12-22T10:40:09.587Z"
   },
   {
    "duration": 5,
    "start_time": "2024-12-22T10:44:55.084Z"
   },
   {
    "duration": 9,
    "start_time": "2024-12-22T10:46:53.907Z"
   },
   {
    "duration": 77,
    "start_time": "2024-12-22T10:51:22.774Z"
   },
   {
    "duration": 102,
    "start_time": "2024-12-22T10:54:00.994Z"
   },
   {
    "duration": 5,
    "start_time": "2024-12-22T10:57:36.150Z"
   },
   {
    "duration": 7,
    "start_time": "2024-12-22T10:57:42.810Z"
   },
   {
    "duration": 10,
    "start_time": "2024-12-22T10:58:27.382Z"
   },
   {
    "duration": 8,
    "start_time": "2024-12-22T10:58:37.074Z"
   },
   {
    "duration": 10,
    "start_time": "2024-12-22T10:59:06.801Z"
   },
   {
    "duration": 7,
    "start_time": "2024-12-22T11:00:04.417Z"
   },
   {
    "duration": 8,
    "start_time": "2024-12-22T11:00:20.158Z"
   },
   {
    "duration": 6,
    "start_time": "2024-12-22T11:08:57.952Z"
   },
   {
    "duration": 1021,
    "start_time": "2024-12-22T12:15:13.578Z"
   },
   {
    "duration": 74,
    "start_time": "2024-12-22T12:15:14.601Z"
   },
   {
    "duration": 10,
    "start_time": "2024-12-22T12:15:14.677Z"
   },
   {
    "duration": 6,
    "start_time": "2024-12-22T12:15:14.688Z"
   },
   {
    "duration": 46,
    "start_time": "2024-12-22T12:15:14.696Z"
   },
   {
    "duration": 74,
    "start_time": "2024-12-22T12:15:14.744Z"
   },
   {
    "duration": 89,
    "start_time": "2024-12-22T12:15:14.820Z"
   },
   {
    "duration": 11,
    "start_time": "2024-12-22T12:15:14.911Z"
   },
   {
    "duration": 113,
    "start_time": "2024-12-22T12:15:14.923Z"
   },
   {
    "duration": 7,
    "start_time": "2024-12-22T12:15:15.038Z"
   },
   {
    "duration": 58,
    "start_time": "2024-12-22T12:15:15.046Z"
   },
   {
    "duration": 109,
    "start_time": "2024-12-22T12:15:15.105Z"
   },
   {
    "duration": 153,
    "start_time": "2024-12-22T12:15:15.216Z"
   },
   {
    "duration": 170,
    "start_time": "2024-12-22T12:15:15.370Z"
   },
   {
    "duration": 208,
    "start_time": "2024-12-22T12:15:15.541Z"
   },
   {
    "duration": 112,
    "start_time": "2024-12-22T12:15:15.751Z"
   },
   {
    "duration": 6,
    "start_time": "2024-12-22T12:15:15.865Z"
   },
   {
    "duration": 68,
    "start_time": "2024-12-22T12:15:15.873Z"
   },
   {
    "duration": 43,
    "start_time": "2024-12-22T12:15:15.943Z"
   },
   {
    "duration": 68,
    "start_time": "2024-12-22T12:15:15.987Z"
   },
   {
    "duration": 27,
    "start_time": "2024-12-22T12:15:16.056Z"
   },
   {
    "duration": 48,
    "start_time": "2024-12-22T12:15:16.085Z"
   },
   {
    "duration": 24,
    "start_time": "2024-12-22T12:15:16.134Z"
   },
   {
    "duration": 33,
    "start_time": "2024-12-22T12:15:16.160Z"
   },
   {
    "duration": 35,
    "start_time": "2024-12-22T12:15:16.194Z"
   },
   {
    "duration": 9,
    "start_time": "2024-12-22T12:15:16.234Z"
   },
   {
    "duration": 28,
    "start_time": "2024-12-22T12:15:16.245Z"
   },
   {
    "duration": 185,
    "start_time": "2024-12-22T12:15:16.277Z"
   },
   {
    "duration": 117,
    "start_time": "2024-12-22T12:15:16.464Z"
   },
   {
    "duration": 5,
    "start_time": "2024-12-22T12:15:16.583Z"
   },
   {
    "duration": 22,
    "start_time": "2024-12-22T12:15:16.590Z"
   },
   {
    "duration": 353,
    "start_time": "2024-12-22T12:15:16.614Z"
   },
   {
    "duration": 235,
    "start_time": "2024-12-22T12:15:16.969Z"
   },
   {
    "duration": 6,
    "start_time": "2024-12-22T12:15:17.205Z"
   },
   {
    "duration": 374,
    "start_time": "2024-12-22T12:15:17.212Z"
   },
   {
    "duration": 4,
    "start_time": "2024-12-22T12:15:17.587Z"
   },
   {
    "duration": 144,
    "start_time": "2024-12-22T12:15:17.592Z"
   },
   {
    "duration": 267,
    "start_time": "2024-12-22T12:15:17.737Z"
   },
   {
    "duration": 8,
    "start_time": "2024-12-22T12:15:18.005Z"
   },
   {
    "duration": 365,
    "start_time": "2024-12-22T12:15:18.014Z"
   },
   {
    "duration": 11,
    "start_time": "2024-12-22T12:15:18.380Z"
   },
   {
    "duration": 182,
    "start_time": "2024-12-22T12:15:18.393Z"
   },
   {
    "duration": 7,
    "start_time": "2024-12-22T12:15:18.576Z"
   },
   {
    "duration": 18,
    "start_time": "2024-12-22T12:15:18.584Z"
   },
   {
    "duration": 190,
    "start_time": "2024-12-22T12:15:18.603Z"
   },
   {
    "duration": 4,
    "start_time": "2024-12-22T12:15:18.795Z"
   },
   {
    "duration": 174,
    "start_time": "2024-12-22T12:15:18.800Z"
   },
   {
    "duration": 43,
    "start_time": "2024-12-22T12:15:18.975Z"
   },
   {
    "duration": 63,
    "start_time": "2024-12-22T12:15:19.019Z"
   },
   {
    "duration": 73,
    "start_time": "2024-12-22T12:15:19.084Z"
   },
   {
    "duration": 20,
    "start_time": "2024-12-22T12:15:19.159Z"
   },
   {
    "duration": 76,
    "start_time": "2024-12-22T12:15:19.181Z"
   },
   {
    "duration": 84,
    "start_time": "2024-12-22T12:15:19.258Z"
   },
   {
    "duration": 4,
    "start_time": "2024-12-22T12:15:19.343Z"
   },
   {
    "duration": 7,
    "start_time": "2024-12-22T12:15:19.348Z"
   },
   {
    "duration": 29,
    "start_time": "2024-12-22T12:15:19.356Z"
   },
   {
    "duration": 3,
    "start_time": "2024-12-22T12:15:19.387Z"
   },
   {
    "duration": 8,
    "start_time": "2024-12-22T12:15:19.392Z"
   },
   {
    "duration": 6,
    "start_time": "2024-12-22T12:15:19.402Z"
   },
   {
    "duration": 23,
    "start_time": "2024-12-22T12:15:19.410Z"
   },
   {
    "duration": 8,
    "start_time": "2024-12-22T12:15:19.435Z"
   },
   {
    "duration": 45,
    "start_time": "2024-12-22T12:15:19.445Z"
   },
   {
    "duration": 45,
    "start_time": "2024-12-22T12:15:19.492Z"
   },
   {
    "duration": 4,
    "start_time": "2024-12-22T12:15:19.538Z"
   },
   {
    "duration": 11,
    "start_time": "2024-12-22T12:15:19.543Z"
   },
   {
    "duration": 83,
    "start_time": "2024-12-22T12:15:19.555Z"
   },
   {
    "duration": 113,
    "start_time": "2024-12-22T12:15:19.639Z"
   },
   {
    "duration": 3,
    "start_time": "2024-12-22T12:17:13.096Z"
   },
   {
    "duration": 1053,
    "start_time": "2024-12-22T12:17:19.034Z"
   },
   {
    "duration": 71,
    "start_time": "2024-12-22T12:17:20.089Z"
   },
   {
    "duration": 11,
    "start_time": "2024-12-22T12:17:20.161Z"
   },
   {
    "duration": 7,
    "start_time": "2024-12-22T12:17:20.174Z"
   },
   {
    "duration": 18,
    "start_time": "2024-12-22T12:17:20.183Z"
   },
   {
    "duration": 38,
    "start_time": "2024-12-22T12:17:20.203Z"
   },
   {
    "duration": 28,
    "start_time": "2024-12-22T12:17:20.243Z"
   },
   {
    "duration": 18,
    "start_time": "2024-12-22T12:17:20.273Z"
   },
   {
    "duration": 82,
    "start_time": "2024-12-22T12:17:20.294Z"
   },
   {
    "duration": 9,
    "start_time": "2024-12-22T12:17:20.378Z"
   },
   {
    "duration": 11,
    "start_time": "2024-12-22T12:17:20.389Z"
   },
   {
    "duration": 18,
    "start_time": "2024-12-22T12:17:20.402Z"
   },
   {
    "duration": 41,
    "start_time": "2024-12-22T12:17:20.422Z"
   },
   {
    "duration": 6,
    "start_time": "2024-12-22T12:17:20.466Z"
   },
   {
    "duration": 23,
    "start_time": "2024-12-22T12:17:20.474Z"
   },
   {
    "duration": 89,
    "start_time": "2024-12-22T12:17:20.498Z"
   },
   {
    "duration": 7,
    "start_time": "2024-12-22T12:17:20.588Z"
   },
   {
    "duration": 38,
    "start_time": "2024-12-22T12:17:20.596Z"
   },
   {
    "duration": 36,
    "start_time": "2024-12-22T12:17:20.636Z"
   },
   {
    "duration": 14,
    "start_time": "2024-12-22T12:17:20.674Z"
   },
   {
    "duration": 16,
    "start_time": "2024-12-22T12:17:20.690Z"
   },
   {
    "duration": 19,
    "start_time": "2024-12-22T12:17:20.707Z"
   },
   {
    "duration": 35,
    "start_time": "2024-12-22T12:17:20.728Z"
   },
   {
    "duration": 26,
    "start_time": "2024-12-22T12:17:20.765Z"
   },
   {
    "duration": 11,
    "start_time": "2024-12-22T12:17:20.793Z"
   },
   {
    "duration": 30,
    "start_time": "2024-12-22T12:17:20.805Z"
   },
   {
    "duration": 103,
    "start_time": "2024-12-22T12:17:20.836Z"
   },
   {
    "duration": 213,
    "start_time": "2024-12-22T12:17:20.941Z"
   },
   {
    "duration": 183,
    "start_time": "2024-12-22T12:17:21.155Z"
   },
   {
    "duration": 8,
    "start_time": "2024-12-22T12:17:21.340Z"
   },
   {
    "duration": 47,
    "start_time": "2024-12-22T12:17:21.349Z"
   },
   {
    "duration": 370,
    "start_time": "2024-12-22T12:17:21.398Z"
   },
   {
    "duration": 243,
    "start_time": "2024-12-22T12:17:21.770Z"
   },
   {
    "duration": 22,
    "start_time": "2024-12-22T12:17:22.014Z"
   },
   {
    "duration": 330,
    "start_time": "2024-12-22T12:17:22.037Z"
   },
   {
    "duration": 4,
    "start_time": "2024-12-22T12:17:22.369Z"
   },
   {
    "duration": 25,
    "start_time": "2024-12-22T12:17:22.375Z"
   },
   {
    "duration": 311,
    "start_time": "2024-12-22T12:17:22.403Z"
   },
   {
    "duration": 21,
    "start_time": "2024-12-22T12:17:22.716Z"
   },
   {
    "duration": 335,
    "start_time": "2024-12-22T12:17:22.738Z"
   },
   {
    "duration": 9,
    "start_time": "2024-12-22T12:17:23.077Z"
   },
   {
    "duration": 193,
    "start_time": "2024-12-22T12:17:23.087Z"
   },
   {
    "duration": 7,
    "start_time": "2024-12-22T12:17:23.281Z"
   },
   {
    "duration": 22,
    "start_time": "2024-12-22T12:17:23.290Z"
   },
   {
    "duration": 200,
    "start_time": "2024-12-22T12:17:23.313Z"
   },
   {
    "duration": 4,
    "start_time": "2024-12-22T12:17:23.515Z"
   },
   {
    "duration": 72,
    "start_time": "2024-12-22T12:17:23.520Z"
   },
   {
    "duration": 198,
    "start_time": "2024-12-22T12:17:23.594Z"
   },
   {
    "duration": 91,
    "start_time": "2024-12-22T12:17:23.793Z"
   },
   {
    "duration": 58,
    "start_time": "2024-12-22T12:17:23.886Z"
   },
   {
    "duration": 24,
    "start_time": "2024-12-22T12:17:23.945Z"
   },
   {
    "duration": 73,
    "start_time": "2024-12-22T12:17:23.971Z"
   },
   {
    "duration": 87,
    "start_time": "2024-12-22T12:17:24.046Z"
   },
   {
    "duration": 5,
    "start_time": "2024-12-22T12:17:24.135Z"
   },
   {
    "duration": 24,
    "start_time": "2024-12-22T12:17:24.141Z"
   },
   {
    "duration": 39,
    "start_time": "2024-12-22T12:17:24.166Z"
   },
   {
    "duration": 4,
    "start_time": "2024-12-22T12:17:24.206Z"
   },
   {
    "duration": 32,
    "start_time": "2024-12-22T12:17:24.211Z"
   },
   {
    "duration": 27,
    "start_time": "2024-12-22T12:17:24.244Z"
   },
   {
    "duration": 28,
    "start_time": "2024-12-22T12:17:24.273Z"
   },
   {
    "duration": 27,
    "start_time": "2024-12-22T12:17:24.302Z"
   },
   {
    "duration": 24,
    "start_time": "2024-12-22T12:17:24.331Z"
   },
   {
    "duration": 33,
    "start_time": "2024-12-22T12:17:24.356Z"
   },
   {
    "duration": 5,
    "start_time": "2024-12-22T12:17:24.391Z"
   },
   {
    "duration": 22,
    "start_time": "2024-12-22T12:17:24.398Z"
   },
   {
    "duration": 27,
    "start_time": "2024-12-22T12:17:24.425Z"
   },
   {
    "duration": 13,
    "start_time": "2024-12-22T12:17:24.453Z"
   },
   {
    "duration": 3,
    "start_time": "2024-12-22T12:18:27.220Z"
   },
   {
    "duration": 1055,
    "start_time": "2024-12-22T12:18:34.044Z"
   },
   {
    "duration": 99,
    "start_time": "2024-12-22T12:18:35.101Z"
   },
   {
    "duration": 11,
    "start_time": "2024-12-22T12:18:35.201Z"
   },
   {
    "duration": 21,
    "start_time": "2024-12-22T12:18:35.214Z"
   },
   {
    "duration": 27,
    "start_time": "2024-12-22T12:18:35.237Z"
   },
   {
    "duration": 41,
    "start_time": "2024-12-22T12:18:35.266Z"
   },
   {
    "duration": 26,
    "start_time": "2024-12-22T12:18:35.309Z"
   },
   {
    "duration": 11,
    "start_time": "2024-12-22T12:18:35.337Z"
   },
   {
    "duration": 89,
    "start_time": "2024-12-22T12:18:35.349Z"
   },
   {
    "duration": 7,
    "start_time": "2024-12-22T12:18:35.440Z"
   },
   {
    "duration": 31,
    "start_time": "2024-12-22T12:18:35.449Z"
   },
   {
    "duration": 21,
    "start_time": "2024-12-22T12:18:35.482Z"
   },
   {
    "duration": 33,
    "start_time": "2024-12-22T12:18:35.504Z"
   },
   {
    "duration": 27,
    "start_time": "2024-12-22T12:18:35.539Z"
   },
   {
    "duration": 71,
    "start_time": "2024-12-22T12:18:35.567Z"
   },
   {
    "duration": 101,
    "start_time": "2024-12-22T12:18:35.639Z"
   },
   {
    "duration": 32,
    "start_time": "2024-12-22T12:18:35.742Z"
   },
   {
    "duration": 23,
    "start_time": "2024-12-22T12:18:35.776Z"
   },
   {
    "duration": 33,
    "start_time": "2024-12-22T12:18:35.800Z"
   },
   {
    "duration": 29,
    "start_time": "2024-12-22T12:18:35.835Z"
   },
   {
    "duration": 5,
    "start_time": "2024-12-22T12:18:35.865Z"
   },
   {
    "duration": 26,
    "start_time": "2024-12-22T12:18:35.871Z"
   },
   {
    "duration": 19,
    "start_time": "2024-12-22T12:18:35.898Z"
   },
   {
    "duration": 19,
    "start_time": "2024-12-22T12:18:35.918Z"
   },
   {
    "duration": 50,
    "start_time": "2024-12-22T12:18:35.938Z"
   },
   {
    "duration": 53,
    "start_time": "2024-12-22T12:18:35.990Z"
   },
   {
    "duration": 16,
    "start_time": "2024-12-22T12:18:36.045Z"
   },
   {
    "duration": 199,
    "start_time": "2024-12-22T12:18:36.064Z"
   },
   {
    "duration": 115,
    "start_time": "2024-12-22T12:18:36.265Z"
   },
   {
    "duration": 5,
    "start_time": "2024-12-22T12:18:36.382Z"
   },
   {
    "duration": 18,
    "start_time": "2024-12-22T12:18:36.389Z"
   },
   {
    "duration": 343,
    "start_time": "2024-12-22T12:18:36.408Z"
   },
   {
    "duration": 252,
    "start_time": "2024-12-22T12:18:36.753Z"
   },
   {
    "duration": 5,
    "start_time": "2024-12-22T12:18:37.007Z"
   },
   {
    "duration": 376,
    "start_time": "2024-12-22T12:18:37.013Z"
   },
   {
    "duration": 3,
    "start_time": "2024-12-22T12:18:37.391Z"
   },
   {
    "duration": 6,
    "start_time": "2024-12-22T12:18:37.396Z"
   },
   {
    "duration": 295,
    "start_time": "2024-12-22T12:18:37.403Z"
   },
   {
    "duration": 7,
    "start_time": "2024-12-22T12:18:37.700Z"
   },
   {
    "duration": 374,
    "start_time": "2024-12-22T12:18:37.708Z"
   },
   {
    "duration": 10,
    "start_time": "2024-12-22T12:18:38.084Z"
   },
   {
    "duration": 180,
    "start_time": "2024-12-22T12:18:38.095Z"
   },
   {
    "duration": 10,
    "start_time": "2024-12-22T12:18:38.277Z"
   },
   {
    "duration": 9,
    "start_time": "2024-12-22T12:18:38.289Z"
   },
   {
    "duration": 186,
    "start_time": "2024-12-22T12:18:38.321Z"
   },
   {
    "duration": 4,
    "start_time": "2024-12-22T12:18:38.509Z"
   },
   {
    "duration": 64,
    "start_time": "2024-12-22T12:18:38.515Z"
   },
   {
    "duration": 54,
    "start_time": "2024-12-22T12:18:38.581Z"
   },
   {
    "duration": 73,
    "start_time": "2024-12-22T12:18:38.636Z"
   },
   {
    "duration": 57,
    "start_time": "2024-12-22T12:18:38.710Z"
   },
   {
    "duration": 23,
    "start_time": "2024-12-22T12:18:38.769Z"
   },
   {
    "duration": 80,
    "start_time": "2024-12-22T12:18:38.794Z"
   },
   {
    "duration": 76,
    "start_time": "2024-12-22T12:18:38.876Z"
   },
   {
    "duration": 5,
    "start_time": "2024-12-22T12:18:38.953Z"
   },
   {
    "duration": 34,
    "start_time": "2024-12-22T12:18:38.960Z"
   },
   {
    "duration": 23,
    "start_time": "2024-12-22T12:18:38.995Z"
   },
   {
    "duration": 16,
    "start_time": "2024-12-22T12:18:39.019Z"
   },
   {
    "duration": 7,
    "start_time": "2024-12-22T12:18:39.036Z"
   },
   {
    "duration": 19,
    "start_time": "2024-12-22T12:18:39.045Z"
   },
   {
    "duration": 9,
    "start_time": "2024-12-22T12:18:39.065Z"
   },
   {
    "duration": 8,
    "start_time": "2024-12-22T12:18:39.076Z"
   },
   {
    "duration": 7,
    "start_time": "2024-12-22T12:18:39.086Z"
   },
   {
    "duration": 28,
    "start_time": "2024-12-22T12:18:39.094Z"
   },
   {
    "duration": 4,
    "start_time": "2024-12-22T12:18:39.123Z"
   },
   {
    "duration": 9,
    "start_time": "2024-12-22T12:18:39.128Z"
   },
   {
    "duration": 9,
    "start_time": "2024-12-22T12:18:39.138Z"
   },
   {
    "duration": 7,
    "start_time": "2024-12-22T12:18:39.148Z"
   },
   {
    "duration": 1095,
    "start_time": "2024-12-22T15:36:29.274Z"
   },
   {
    "duration": 194,
    "start_time": "2024-12-22T15:36:30.371Z"
   },
   {
    "duration": 14,
    "start_time": "2024-12-22T15:36:30.567Z"
   },
   {
    "duration": 19,
    "start_time": "2024-12-22T15:36:30.583Z"
   },
   {
    "duration": 70,
    "start_time": "2024-12-22T15:36:30.604Z"
   },
   {
    "duration": 35,
    "start_time": "2024-12-22T15:36:30.677Z"
   },
   {
    "duration": 12,
    "start_time": "2024-12-22T15:36:30.714Z"
   },
   {
    "duration": 50,
    "start_time": "2024-12-22T15:36:30.727Z"
   },
   {
    "duration": 154,
    "start_time": "2024-12-22T15:36:30.779Z"
   },
   {
    "duration": 7,
    "start_time": "2024-12-22T15:36:30.936Z"
   },
   {
    "duration": 16,
    "start_time": "2024-12-22T15:36:30.953Z"
   },
   {
    "duration": 11,
    "start_time": "2024-12-22T15:36:30.970Z"
   },
   {
    "duration": 33,
    "start_time": "2024-12-22T15:36:30.982Z"
   },
   {
    "duration": 23,
    "start_time": "2024-12-22T15:36:31.017Z"
   },
   {
    "duration": 34,
    "start_time": "2024-12-22T15:36:31.042Z"
   },
   {
    "duration": 96,
    "start_time": "2024-12-22T15:36:31.078Z"
   },
   {
    "duration": 7,
    "start_time": "2024-12-22T15:36:31.175Z"
   },
   {
    "duration": 35,
    "start_time": "2024-12-22T15:36:31.183Z"
   },
   {
    "duration": 68,
    "start_time": "2024-12-22T15:36:31.220Z"
   },
   {
    "duration": 6,
    "start_time": "2024-12-22T15:36:31.290Z"
   },
   {
    "duration": 6,
    "start_time": "2024-12-22T15:36:31.298Z"
   },
   {
    "duration": 5,
    "start_time": "2024-12-22T15:36:31.306Z"
   },
   {
    "duration": 26,
    "start_time": "2024-12-22T15:36:31.313Z"
   },
   {
    "duration": 36,
    "start_time": "2024-12-22T15:36:31.340Z"
   },
   {
    "duration": 16,
    "start_time": "2024-12-22T15:36:31.379Z"
   },
   {
    "duration": 12,
    "start_time": "2024-12-22T15:36:31.397Z"
   },
   {
    "duration": 14,
    "start_time": "2024-12-22T15:36:31.411Z"
   },
   {
    "duration": 204,
    "start_time": "2024-12-22T15:36:31.429Z"
   },
   {
    "duration": 138,
    "start_time": "2024-12-22T15:36:31.635Z"
   },
   {
    "duration": 16,
    "start_time": "2024-12-22T15:36:31.776Z"
   },
   {
    "duration": 9,
    "start_time": "2024-12-22T15:36:31.793Z"
   },
   {
    "duration": 372,
    "start_time": "2024-12-22T15:36:31.804Z"
   },
   {
    "duration": 260,
    "start_time": "2024-12-22T15:36:32.179Z"
   },
   {
    "duration": 10,
    "start_time": "2024-12-22T15:36:32.441Z"
   },
   {
    "duration": 421,
    "start_time": "2024-12-22T15:36:32.453Z"
   },
   {
    "duration": 4,
    "start_time": "2024-12-22T15:36:32.878Z"
   },
   {
    "duration": 12,
    "start_time": "2024-12-22T15:36:32.883Z"
   },
   {
    "duration": 277,
    "start_time": "2024-12-22T15:36:32.896Z"
   },
   {
    "duration": 7,
    "start_time": "2024-12-22T15:36:33.175Z"
   },
   {
    "duration": 343,
    "start_time": "2024-12-22T15:36:33.183Z"
   },
   {
    "duration": 10,
    "start_time": "2024-12-22T15:36:33.527Z"
   },
   {
    "duration": 193,
    "start_time": "2024-12-22T15:36:33.539Z"
   },
   {
    "duration": 7,
    "start_time": "2024-12-22T15:36:33.734Z"
   },
   {
    "duration": 40,
    "start_time": "2024-12-22T15:36:33.742Z"
   },
   {
    "duration": 204,
    "start_time": "2024-12-22T15:36:33.784Z"
   },
   {
    "duration": 5,
    "start_time": "2024-12-22T15:36:33.990Z"
   },
   {
    "duration": 64,
    "start_time": "2024-12-22T15:36:33.997Z"
   },
   {
    "duration": 49,
    "start_time": "2024-12-22T15:36:34.063Z"
   },
   {
    "duration": 97,
    "start_time": "2024-12-22T15:36:34.113Z"
   },
   {
    "duration": 72,
    "start_time": "2024-12-22T15:36:34.211Z"
   },
   {
    "duration": 23,
    "start_time": "2024-12-22T15:36:34.286Z"
   },
   {
    "duration": 124,
    "start_time": "2024-12-22T15:36:34.310Z"
   },
   {
    "duration": 82,
    "start_time": "2024-12-22T15:36:34.436Z"
   },
   {
    "duration": 4,
    "start_time": "2024-12-22T15:36:34.520Z"
   },
   {
    "duration": 4,
    "start_time": "2024-12-22T15:36:34.526Z"
   },
   {
    "duration": 48,
    "start_time": "2024-12-22T15:36:34.532Z"
   },
   {
    "duration": 7,
    "start_time": "2024-12-22T15:36:34.585Z"
   },
   {
    "duration": 11,
    "start_time": "2024-12-22T15:36:34.594Z"
   },
   {
    "duration": 9,
    "start_time": "2024-12-22T15:36:34.608Z"
   },
   {
    "duration": 17,
    "start_time": "2024-12-22T15:36:34.618Z"
   },
   {
    "duration": 32,
    "start_time": "2024-12-22T15:36:34.637Z"
   },
   {
    "duration": 14,
    "start_time": "2024-12-22T15:36:34.670Z"
   },
   {
    "duration": 32,
    "start_time": "2024-12-22T15:36:34.685Z"
   },
   {
    "duration": 4,
    "start_time": "2024-12-22T15:36:34.719Z"
   },
   {
    "duration": 8,
    "start_time": "2024-12-22T15:36:34.724Z"
   },
   {
    "duration": 25,
    "start_time": "2024-12-22T15:36:34.733Z"
   },
   {
    "duration": 14,
    "start_time": "2024-12-22T15:36:34.759Z"
   },
   {
    "duration": 46,
    "start_time": "2024-12-22T18:49:39.584Z"
   },
   {
    "duration": 1266,
    "start_time": "2024-12-22T18:49:52.608Z"
   },
   {
    "duration": 121,
    "start_time": "2024-12-22T18:49:53.876Z"
   },
   {
    "duration": 11,
    "start_time": "2024-12-22T18:49:53.999Z"
   },
   {
    "duration": 26,
    "start_time": "2024-12-22T18:49:54.012Z"
   },
   {
    "duration": 21,
    "start_time": "2024-12-22T18:49:54.041Z"
   },
   {
    "duration": 51,
    "start_time": "2024-12-22T18:49:54.064Z"
   },
   {
    "duration": 14,
    "start_time": "2024-12-22T18:49:54.116Z"
   },
   {
    "duration": 14,
    "start_time": "2024-12-22T18:49:54.131Z"
   },
   {
    "duration": 142,
    "start_time": "2024-12-22T18:49:54.148Z"
   },
   {
    "duration": 11,
    "start_time": "2024-12-22T18:49:54.291Z"
   },
   {
    "duration": 7,
    "start_time": "2024-12-22T18:49:54.304Z"
   },
   {
    "duration": 15,
    "start_time": "2024-12-22T18:49:54.312Z"
   },
   {
    "duration": 30,
    "start_time": "2024-12-22T18:49:54.328Z"
   },
   {
    "duration": 5,
    "start_time": "2024-12-22T18:49:54.361Z"
   },
   {
    "duration": 14,
    "start_time": "2024-12-22T18:49:54.367Z"
   },
   {
    "duration": 121,
    "start_time": "2024-12-22T18:49:54.382Z"
   },
   {
    "duration": 6,
    "start_time": "2024-12-22T18:49:54.505Z"
   },
   {
    "duration": 19,
    "start_time": "2024-12-22T18:49:54.513Z"
   },
   {
    "duration": 30,
    "start_time": "2024-12-22T18:49:54.534Z"
   },
   {
    "duration": 11,
    "start_time": "2024-12-22T18:49:54.566Z"
   },
   {
    "duration": 15,
    "start_time": "2024-12-22T18:49:54.579Z"
   },
   {
    "duration": 29,
    "start_time": "2024-12-22T18:49:54.595Z"
   },
   {
    "duration": 17,
    "start_time": "2024-12-22T18:49:54.626Z"
   },
   {
    "duration": 8,
    "start_time": "2024-12-22T18:49:54.645Z"
   },
   {
    "duration": 27,
    "start_time": "2024-12-22T18:49:54.654Z"
   },
   {
    "duration": 26,
    "start_time": "2024-12-22T18:49:54.682Z"
   },
   {
    "duration": 16,
    "start_time": "2024-12-22T18:49:54.710Z"
   },
   {
    "duration": 184,
    "start_time": "2024-12-22T18:49:54.727Z"
   },
   {
    "duration": 110,
    "start_time": "2024-12-22T18:49:54.912Z"
   },
   {
    "duration": 11,
    "start_time": "2024-12-22T18:49:55.023Z"
   },
   {
    "duration": 1950,
    "start_time": "2024-12-22T18:49:55.035Z"
   },
   {
    "duration": 0,
    "start_time": "2024-12-22T18:49:56.987Z"
   },
   {
    "duration": 0,
    "start_time": "2024-12-22T18:49:56.989Z"
   },
   {
    "duration": 0,
    "start_time": "2024-12-22T18:49:56.990Z"
   },
   {
    "duration": 0,
    "start_time": "2024-12-22T18:49:56.991Z"
   },
   {
    "duration": 0,
    "start_time": "2024-12-22T18:49:56.992Z"
   },
   {
    "duration": 0,
    "start_time": "2024-12-22T18:49:56.993Z"
   },
   {
    "duration": 0,
    "start_time": "2024-12-22T18:49:56.994Z"
   },
   {
    "duration": 0,
    "start_time": "2024-12-22T18:49:56.995Z"
   },
   {
    "duration": 0,
    "start_time": "2024-12-22T18:49:56.996Z"
   },
   {
    "duration": 0,
    "start_time": "2024-12-22T18:49:56.997Z"
   },
   {
    "duration": 0,
    "start_time": "2024-12-22T18:49:56.998Z"
   },
   {
    "duration": 0,
    "start_time": "2024-12-22T18:49:56.999Z"
   },
   {
    "duration": 0,
    "start_time": "2024-12-22T18:49:57.000Z"
   },
   {
    "duration": 0,
    "start_time": "2024-12-22T18:49:57.001Z"
   },
   {
    "duration": 0,
    "start_time": "2024-12-22T18:49:57.002Z"
   },
   {
    "duration": 0,
    "start_time": "2024-12-22T18:49:57.003Z"
   },
   {
    "duration": 0,
    "start_time": "2024-12-22T18:49:57.004Z"
   },
   {
    "duration": 0,
    "start_time": "2024-12-22T18:49:57.005Z"
   },
   {
    "duration": 0,
    "start_time": "2024-12-22T18:49:57.006Z"
   },
   {
    "duration": 0,
    "start_time": "2024-12-22T18:49:57.007Z"
   },
   {
    "duration": 0,
    "start_time": "2024-12-22T18:49:57.008Z"
   },
   {
    "duration": 0,
    "start_time": "2024-12-22T18:49:57.009Z"
   },
   {
    "duration": 0,
    "start_time": "2024-12-22T18:49:57.010Z"
   },
   {
    "duration": 0,
    "start_time": "2024-12-22T18:49:57.011Z"
   },
   {
    "duration": 0,
    "start_time": "2024-12-22T18:49:57.012Z"
   },
   {
    "duration": 0,
    "start_time": "2024-12-22T18:49:57.014Z"
   },
   {
    "duration": 0,
    "start_time": "2024-12-22T18:49:57.015Z"
   },
   {
    "duration": 0,
    "start_time": "2024-12-22T18:49:57.017Z"
   },
   {
    "duration": 0,
    "start_time": "2024-12-22T18:49:57.017Z"
   },
   {
    "duration": 0,
    "start_time": "2024-12-22T18:49:57.020Z"
   },
   {
    "duration": 0,
    "start_time": "2024-12-22T18:49:57.021Z"
   },
   {
    "duration": 0,
    "start_time": "2024-12-22T18:49:57.022Z"
   },
   {
    "duration": 0,
    "start_time": "2024-12-22T18:49:57.023Z"
   },
   {
    "duration": 0,
    "start_time": "2024-12-22T18:49:57.024Z"
   },
   {
    "duration": 0,
    "start_time": "2024-12-22T18:49:57.025Z"
   },
   {
    "duration": 0,
    "start_time": "2024-12-22T18:49:57.026Z"
   },
   {
    "duration": 0,
    "start_time": "2024-12-22T18:49:57.027Z"
   },
   {
    "duration": 4,
    "start_time": "2024-12-22T18:50:38.711Z"
   },
   {
    "duration": 5,
    "start_time": "2024-12-22T18:51:05.714Z"
   },
   {
    "duration": 6,
    "start_time": "2024-12-22T18:51:54.308Z"
   },
   {
    "duration": 5,
    "start_time": "2024-12-22T18:52:08.486Z"
   },
   {
    "duration": 5,
    "start_time": "2024-12-22T18:52:14.477Z"
   },
   {
    "duration": 5,
    "start_time": "2024-12-22T18:53:54.167Z"
   },
   {
    "duration": 4,
    "start_time": "2024-12-22T19:39:00.571Z"
   },
   {
    "duration": 4,
    "start_time": "2024-12-22T19:40:08.646Z"
   },
   {
    "duration": 1072,
    "start_time": "2024-12-22T19:42:27.991Z"
   },
   {
    "duration": 72,
    "start_time": "2024-12-22T19:42:29.065Z"
   },
   {
    "duration": 10,
    "start_time": "2024-12-22T19:42:29.139Z"
   },
   {
    "duration": 50,
    "start_time": "2024-12-22T19:42:29.151Z"
   },
   {
    "duration": 10,
    "start_time": "2024-12-22T19:42:29.203Z"
   },
   {
    "duration": 31,
    "start_time": "2024-12-22T19:42:29.214Z"
   },
   {
    "duration": 22,
    "start_time": "2024-12-22T19:42:29.246Z"
   },
   {
    "duration": 12,
    "start_time": "2024-12-22T19:42:29.269Z"
   },
   {
    "duration": 83,
    "start_time": "2024-12-22T19:42:29.282Z"
   },
   {
    "duration": 7,
    "start_time": "2024-12-22T19:42:29.366Z"
   },
   {
    "duration": 11,
    "start_time": "2024-12-22T19:42:29.375Z"
   },
   {
    "duration": 10,
    "start_time": "2024-12-22T19:42:29.387Z"
   },
   {
    "duration": 31,
    "start_time": "2024-12-22T19:42:29.398Z"
   },
   {
    "duration": 6,
    "start_time": "2024-12-22T19:42:29.431Z"
   },
   {
    "duration": 9,
    "start_time": "2024-12-22T19:42:29.438Z"
   },
   {
    "duration": 88,
    "start_time": "2024-12-22T19:42:29.448Z"
   },
   {
    "duration": 6,
    "start_time": "2024-12-22T19:42:29.538Z"
   },
   {
    "duration": 27,
    "start_time": "2024-12-22T19:42:29.546Z"
   },
   {
    "duration": 20,
    "start_time": "2024-12-22T19:42:29.574Z"
   },
   {
    "duration": 6,
    "start_time": "2024-12-22T19:42:29.595Z"
   },
   {
    "duration": 4,
    "start_time": "2024-12-22T19:42:29.602Z"
   },
   {
    "duration": 19,
    "start_time": "2024-12-22T19:42:29.607Z"
   },
   {
    "duration": 10,
    "start_time": "2024-12-22T19:42:29.628Z"
   },
   {
    "duration": 7,
    "start_time": "2024-12-22T19:42:29.639Z"
   },
   {
    "duration": 15,
    "start_time": "2024-12-22T19:42:29.647Z"
   },
   {
    "duration": 9,
    "start_time": "2024-12-22T19:42:29.663Z"
   },
   {
    "duration": 8,
    "start_time": "2024-12-22T19:42:29.674Z"
   },
   {
    "duration": 198,
    "start_time": "2024-12-22T19:42:29.683Z"
   },
   {
    "duration": 113,
    "start_time": "2024-12-22T19:42:29.883Z"
   },
   {
    "duration": 6,
    "start_time": "2024-12-22T19:42:29.998Z"
   },
   {
    "duration": 94,
    "start_time": "2024-12-22T19:42:30.005Z"
   },
   {
    "duration": 97,
    "start_time": "2024-12-22T19:42:30.101Z"
   },
   {
    "duration": 373,
    "start_time": "2024-12-22T19:42:30.199Z"
   },
   {
    "duration": 237,
    "start_time": "2024-12-22T19:42:30.573Z"
   },
   {
    "duration": 14,
    "start_time": "2024-12-22T19:42:30.811Z"
   },
   {
    "duration": 429,
    "start_time": "2024-12-22T19:42:30.827Z"
   },
   {
    "duration": 4,
    "start_time": "2024-12-22T19:42:31.257Z"
   },
   {
    "duration": 31,
    "start_time": "2024-12-22T19:42:31.262Z"
   },
   {
    "duration": 274,
    "start_time": "2024-12-22T19:42:31.296Z"
   },
   {
    "duration": 7,
    "start_time": "2024-12-22T19:42:31.572Z"
   },
   {
    "duration": 370,
    "start_time": "2024-12-22T19:42:31.584Z"
   },
   {
    "duration": 12,
    "start_time": "2024-12-22T19:42:31.956Z"
   },
   {
    "duration": 174,
    "start_time": "2024-12-22T19:42:31.969Z"
   },
   {
    "duration": 7,
    "start_time": "2024-12-22T19:42:32.145Z"
   },
   {
    "duration": 36,
    "start_time": "2024-12-22T19:42:32.154Z"
   },
   {
    "duration": 216,
    "start_time": "2024-12-22T19:42:32.191Z"
   },
   {
    "duration": 15,
    "start_time": "2024-12-22T19:42:32.409Z"
   },
   {
    "duration": 52,
    "start_time": "2024-12-22T19:42:32.428Z"
   },
   {
    "duration": 56,
    "start_time": "2024-12-22T19:42:32.482Z"
   },
   {
    "duration": 88,
    "start_time": "2024-12-22T19:42:32.540Z"
   },
   {
    "duration": 55,
    "start_time": "2024-12-22T19:42:32.629Z"
   },
   {
    "duration": 21,
    "start_time": "2024-12-22T19:42:32.686Z"
   },
   {
    "duration": 74,
    "start_time": "2024-12-22T19:42:32.721Z"
   },
   {
    "duration": 172,
    "start_time": "2024-12-22T19:42:32.797Z"
   },
   {
    "duration": 5,
    "start_time": "2024-12-22T19:42:32.971Z"
   },
   {
    "duration": 23,
    "start_time": "2024-12-22T19:42:32.977Z"
   },
   {
    "duration": 43,
    "start_time": "2024-12-22T19:42:33.002Z"
   },
   {
    "duration": 5,
    "start_time": "2024-12-22T19:42:33.047Z"
   },
   {
    "duration": 31,
    "start_time": "2024-12-22T19:42:33.053Z"
   },
   {
    "duration": 161,
    "start_time": "2024-12-22T19:42:33.086Z"
   },
   {
    "duration": 26,
    "start_time": "2024-12-22T19:42:33.249Z"
   },
   {
    "duration": 23,
    "start_time": "2024-12-22T19:42:33.276Z"
   },
   {
    "duration": 14,
    "start_time": "2024-12-22T19:42:33.301Z"
   },
   {
    "duration": 27,
    "start_time": "2024-12-22T19:42:33.316Z"
   },
   {
    "duration": 16,
    "start_time": "2024-12-22T19:42:33.345Z"
   },
   {
    "duration": 27,
    "start_time": "2024-12-22T19:42:33.363Z"
   },
   {
    "duration": 9,
    "start_time": "2024-12-22T19:42:33.393Z"
   },
   {
    "duration": 14,
    "start_time": "2024-12-22T19:42:33.404Z"
   },
   {
    "duration": 111,
    "start_time": "2024-12-22T19:46:22.852Z"
   },
   {
    "duration": 241,
    "start_time": "2024-12-22T19:46:44.477Z"
   },
   {
    "duration": 269,
    "start_time": "2024-12-22T19:47:10.070Z"
   },
   {
    "duration": 171,
    "start_time": "2024-12-22T19:47:30.690Z"
   },
   {
    "duration": 4,
    "start_time": "2024-12-22T19:49:11.559Z"
   },
   {
    "duration": 183,
    "start_time": "2024-12-22T19:49:18.144Z"
   },
   {
    "duration": 172,
    "start_time": "2024-12-22T19:49:44.033Z"
   },
   {
    "duration": 255,
    "start_time": "2024-12-22T19:53:01.691Z"
   },
   {
    "duration": 228,
    "start_time": "2024-12-22T19:53:09.622Z"
   },
   {
    "duration": 242,
    "start_time": "2024-12-22T19:53:32.791Z"
   },
   {
    "duration": 158,
    "start_time": "2024-12-22T19:55:06.006Z"
   },
   {
    "duration": 236,
    "start_time": "2024-12-22T19:55:31.802Z"
   },
   {
    "duration": 297,
    "start_time": "2024-12-22T19:55:54.781Z"
   },
   {
    "duration": 288,
    "start_time": "2024-12-22T19:56:32.304Z"
   },
   {
    "duration": 251,
    "start_time": "2024-12-22T19:57:20.240Z"
   },
   {
    "duration": 280,
    "start_time": "2024-12-22T19:59:38.160Z"
   },
   {
    "duration": 342,
    "start_time": "2024-12-22T19:59:55.063Z"
   },
   {
    "duration": 81,
    "start_time": "2024-12-23T08:55:55.659Z"
   },
   {
    "duration": 50,
    "start_time": "2024-12-23T08:56:41.636Z"
   },
   {
    "duration": 1336,
    "start_time": "2024-12-23T08:56:59.730Z"
   },
   {
    "duration": 119,
    "start_time": "2024-12-23T08:57:01.070Z"
   },
   {
    "duration": 12,
    "start_time": "2024-12-23T08:57:01.190Z"
   },
   {
    "duration": 4,
    "start_time": "2024-12-23T08:57:01.204Z"
   },
   {
    "duration": 47,
    "start_time": "2024-12-23T08:57:01.210Z"
   },
   {
    "duration": 24,
    "start_time": "2024-12-23T08:57:01.258Z"
   },
   {
    "duration": 14,
    "start_time": "2024-12-23T08:57:01.283Z"
   },
   {
    "duration": 12,
    "start_time": "2024-12-23T08:57:01.298Z"
   },
   {
    "duration": 166,
    "start_time": "2024-12-23T08:57:01.312Z"
   },
   {
    "duration": 9,
    "start_time": "2024-12-23T08:57:01.480Z"
   },
   {
    "duration": 81,
    "start_time": "2024-12-23T08:57:01.491Z"
   },
   {
    "duration": 16,
    "start_time": "2024-12-23T08:57:01.573Z"
   },
   {
    "duration": 76,
    "start_time": "2024-12-23T08:57:01.591Z"
   },
   {
    "duration": 7,
    "start_time": "2024-12-23T08:57:01.672Z"
   },
   {
    "duration": 100,
    "start_time": "2024-12-23T08:57:01.681Z"
   },
   {
    "duration": 121,
    "start_time": "2024-12-23T08:57:01.783Z"
   },
   {
    "duration": 8,
    "start_time": "2024-12-23T08:57:01.905Z"
   },
   {
    "duration": 37,
    "start_time": "2024-12-23T08:57:01.915Z"
   },
   {
    "duration": 12,
    "start_time": "2024-12-23T08:57:01.953Z"
   },
   {
    "duration": 8,
    "start_time": "2024-12-23T08:57:01.967Z"
   },
   {
    "duration": 8,
    "start_time": "2024-12-23T08:57:01.977Z"
   },
   {
    "duration": 12,
    "start_time": "2024-12-23T08:57:01.988Z"
   },
   {
    "duration": 59,
    "start_time": "2024-12-23T08:57:02.002Z"
   },
   {
    "duration": 7,
    "start_time": "2024-12-23T08:57:02.063Z"
   },
   {
    "duration": 13,
    "start_time": "2024-12-23T08:57:02.072Z"
   },
   {
    "duration": 10,
    "start_time": "2024-12-23T08:57:02.086Z"
   },
   {
    "duration": 39,
    "start_time": "2024-12-23T08:57:02.097Z"
   },
   {
    "duration": 222,
    "start_time": "2024-12-23T08:57:02.137Z"
   },
   {
    "duration": 132,
    "start_time": "2024-12-23T08:57:02.360Z"
   },
   {
    "duration": 6,
    "start_time": "2024-12-23T08:57:02.494Z"
   },
   {
    "duration": 78,
    "start_time": "2024-12-23T08:57:02.502Z"
   },
   {
    "duration": 8,
    "start_time": "2024-12-23T08:57:02.581Z"
   },
   {
    "duration": 356,
    "start_time": "2024-12-23T08:57:02.590Z"
   },
   {
    "duration": 274,
    "start_time": "2024-12-23T08:57:02.947Z"
   },
   {
    "duration": 6,
    "start_time": "2024-12-23T08:57:03.223Z"
   },
   {
    "duration": 447,
    "start_time": "2024-12-23T08:57:03.231Z"
   },
   {
    "duration": 5,
    "start_time": "2024-12-23T08:57:03.680Z"
   },
   {
    "duration": 91,
    "start_time": "2024-12-23T08:57:03.687Z"
   },
   {
    "duration": 319,
    "start_time": "2024-12-23T08:57:03.780Z"
   },
   {
    "duration": 8,
    "start_time": "2024-12-23T08:57:04.101Z"
   },
   {
    "duration": 407,
    "start_time": "2024-12-23T08:57:04.113Z"
   },
   {
    "duration": 13,
    "start_time": "2024-12-23T08:57:04.522Z"
   },
   {
    "duration": 210,
    "start_time": "2024-12-23T08:57:04.537Z"
   },
   {
    "duration": 8,
    "start_time": "2024-12-23T08:57:04.750Z"
   },
   {
    "duration": 5,
    "start_time": "2024-12-23T08:57:04.771Z"
   },
   {
    "duration": 209,
    "start_time": "2024-12-23T08:57:04.778Z"
   },
   {
    "duration": 287,
    "start_time": "2024-12-23T08:57:04.989Z"
   },
   {
    "duration": 298,
    "start_time": "2024-12-23T08:57:05.277Z"
   },
   {
    "duration": 4,
    "start_time": "2024-12-23T08:57:05.577Z"
   },
   {
    "duration": 71,
    "start_time": "2024-12-23T08:57:05.583Z"
   },
   {
    "duration": 51,
    "start_time": "2024-12-23T08:57:05.656Z"
   },
   {
    "duration": 197,
    "start_time": "2024-12-23T08:57:05.709Z"
   },
   {
    "duration": 64,
    "start_time": "2024-12-23T08:57:05.908Z"
   },
   {
    "duration": 22,
    "start_time": "2024-12-23T08:57:05.974Z"
   },
   {
    "duration": 111,
    "start_time": "2024-12-23T08:57:05.998Z"
   },
   {
    "duration": 81,
    "start_time": "2024-12-23T08:57:06.111Z"
   },
   {
    "duration": 5,
    "start_time": "2024-12-23T08:57:06.194Z"
   },
   {
    "duration": 9,
    "start_time": "2024-12-23T08:57:06.200Z"
   },
   {
    "duration": 30,
    "start_time": "2024-12-23T08:57:06.210Z"
   },
   {
    "duration": 29,
    "start_time": "2024-12-23T08:57:06.242Z"
   },
   {
    "duration": 43,
    "start_time": "2024-12-23T08:57:06.273Z"
   },
   {
    "duration": 26,
    "start_time": "2024-12-23T08:57:06.318Z"
   },
   {
    "duration": 14,
    "start_time": "2024-12-23T08:57:06.346Z"
   },
   {
    "duration": 21,
    "start_time": "2024-12-23T08:57:06.362Z"
   },
   {
    "duration": 9,
    "start_time": "2024-12-23T08:57:06.385Z"
   },
   {
    "duration": 33,
    "start_time": "2024-12-23T08:57:06.395Z"
   },
   {
    "duration": 5,
    "start_time": "2024-12-23T08:57:06.431Z"
   },
   {
    "duration": 142,
    "start_time": "2024-12-23T08:57:06.437Z"
   },
   {
    "duration": 19,
    "start_time": "2024-12-23T08:57:06.581Z"
   },
   {
    "duration": 144,
    "start_time": "2024-12-23T08:57:06.601Z"
   },
   {
    "duration": 20,
    "start_time": "2024-12-23T08:59:35.190Z"
   },
   {
    "duration": 1178,
    "start_time": "2024-12-23T08:59:46.159Z"
   },
   {
    "duration": 75,
    "start_time": "2024-12-23T08:59:47.339Z"
   },
   {
    "duration": 11,
    "start_time": "2024-12-23T08:59:47.416Z"
   },
   {
    "duration": 20,
    "start_time": "2024-12-23T08:59:47.429Z"
   },
   {
    "duration": 17,
    "start_time": "2024-12-23T08:59:47.451Z"
   },
   {
    "duration": 27,
    "start_time": "2024-12-23T08:59:47.471Z"
   },
   {
    "duration": 88,
    "start_time": "2024-12-23T08:59:47.499Z"
   },
   {
    "duration": 12,
    "start_time": "2024-12-23T08:59:47.589Z"
   },
   {
    "duration": 154,
    "start_time": "2024-12-23T08:59:47.603Z"
   },
   {
    "duration": 8,
    "start_time": "2024-12-23T08:59:47.759Z"
   },
   {
    "duration": 57,
    "start_time": "2024-12-23T08:59:47.768Z"
   },
   {
    "duration": 46,
    "start_time": "2024-12-23T08:59:47.827Z"
   },
   {
    "duration": 21,
    "start_time": "2024-12-23T08:59:47.875Z"
   },
   {
    "duration": 6,
    "start_time": "2024-12-23T08:59:47.898Z"
   },
   {
    "duration": 8,
    "start_time": "2024-12-23T08:59:47.906Z"
   },
   {
    "duration": 66,
    "start_time": "2024-12-23T08:59:47.915Z"
   },
   {
    "duration": 8,
    "start_time": "2024-12-23T08:59:47.983Z"
   },
   {
    "duration": 13,
    "start_time": "2024-12-23T08:59:47.992Z"
   },
   {
    "duration": 13,
    "start_time": "2024-12-23T08:59:48.006Z"
   },
   {
    "duration": 9,
    "start_time": "2024-12-23T08:59:48.021Z"
   },
   {
    "duration": 22,
    "start_time": "2024-12-23T08:59:48.032Z"
   },
   {
    "duration": 15,
    "start_time": "2024-12-23T08:59:48.056Z"
   },
   {
    "duration": 12,
    "start_time": "2024-12-23T08:59:48.073Z"
   },
   {
    "duration": 8,
    "start_time": "2024-12-23T08:59:48.086Z"
   },
   {
    "duration": 14,
    "start_time": "2024-12-23T08:59:48.095Z"
   },
   {
    "duration": 10,
    "start_time": "2024-12-23T08:59:48.111Z"
   },
   {
    "duration": 11,
    "start_time": "2024-12-23T08:59:48.122Z"
   },
   {
    "duration": 197,
    "start_time": "2024-12-23T08:59:48.173Z"
   },
   {
    "duration": 141,
    "start_time": "2024-12-23T08:59:48.372Z"
   },
   {
    "duration": 61,
    "start_time": "2024-12-23T08:59:48.515Z"
   },
   {
    "duration": 6,
    "start_time": "2024-12-23T08:59:48.577Z"
   },
   {
    "duration": 7,
    "start_time": "2024-12-23T08:59:48.585Z"
   },
   {
    "duration": 358,
    "start_time": "2024-12-23T08:59:48.593Z"
   },
   {
    "duration": 271,
    "start_time": "2024-12-23T08:59:48.953Z"
   },
   {
    "duration": 5,
    "start_time": "2024-12-23T08:59:49.226Z"
   },
   {
    "duration": 396,
    "start_time": "2024-12-23T08:59:49.233Z"
   },
   {
    "duration": 4,
    "start_time": "2024-12-23T08:59:49.631Z"
   },
   {
    "duration": 8,
    "start_time": "2024-12-23T08:59:49.636Z"
   },
   {
    "duration": 302,
    "start_time": "2024-12-23T08:59:49.645Z"
   },
   {
    "duration": 8,
    "start_time": "2024-12-23T08:59:49.948Z"
   },
   {
    "duration": 377,
    "start_time": "2024-12-23T08:59:49.957Z"
   },
   {
    "duration": 12,
    "start_time": "2024-12-23T08:59:50.335Z"
   },
   {
    "duration": 198,
    "start_time": "2024-12-23T08:59:50.348Z"
   },
   {
    "duration": 7,
    "start_time": "2024-12-23T08:59:50.548Z"
   },
   {
    "duration": 27,
    "start_time": "2024-12-23T08:59:50.557Z"
   },
   {
    "duration": 225,
    "start_time": "2024-12-23T08:59:50.586Z"
   },
   {
    "duration": 220,
    "start_time": "2024-12-23T08:59:50.812Z"
   },
   {
    "duration": 386,
    "start_time": "2024-12-23T08:59:51.034Z"
   },
   {
    "duration": 6,
    "start_time": "2024-12-23T08:59:51.421Z"
   },
   {
    "duration": 69,
    "start_time": "2024-12-23T08:59:51.428Z"
   },
   {
    "duration": 51,
    "start_time": "2024-12-23T08:59:51.499Z"
   },
   {
    "duration": 93,
    "start_time": "2024-12-23T08:59:51.552Z"
   },
   {
    "duration": 63,
    "start_time": "2024-12-23T08:59:51.647Z"
   },
   {
    "duration": 20,
    "start_time": "2024-12-23T08:59:51.712Z"
   },
   {
    "duration": 256,
    "start_time": "2024-12-23T08:59:51.734Z"
   },
   {
    "duration": 85,
    "start_time": "2024-12-23T08:59:51.992Z"
   },
   {
    "duration": 5,
    "start_time": "2024-12-23T08:59:52.079Z"
   },
   {
    "duration": 31,
    "start_time": "2024-12-23T08:59:52.086Z"
   },
   {
    "duration": 42,
    "start_time": "2024-12-23T08:59:52.119Z"
   },
   {
    "duration": 4,
    "start_time": "2024-12-23T08:59:52.163Z"
   },
   {
    "duration": 19,
    "start_time": "2024-12-23T08:59:52.169Z"
   },
   {
    "duration": 10,
    "start_time": "2024-12-23T08:59:52.190Z"
   },
   {
    "duration": 6,
    "start_time": "2024-12-23T08:59:52.202Z"
   },
   {
    "duration": 31,
    "start_time": "2024-12-23T08:59:52.210Z"
   },
   {
    "duration": 32,
    "start_time": "2024-12-23T08:59:52.243Z"
   },
   {
    "duration": 28,
    "start_time": "2024-12-23T08:59:52.277Z"
   },
   {
    "duration": 5,
    "start_time": "2024-12-23T08:59:52.306Z"
   },
   {
    "duration": 18,
    "start_time": "2024-12-23T08:59:52.312Z"
   },
   {
    "duration": 28,
    "start_time": "2024-12-23T08:59:52.331Z"
   },
   {
    "duration": 21,
    "start_time": "2024-12-23T08:59:52.360Z"
   },
   {
    "duration": 15,
    "start_time": "2024-12-23T09:00:29.121Z"
   },
   {
    "duration": 1226,
    "start_time": "2024-12-23T09:00:38.943Z"
   },
   {
    "duration": 73,
    "start_time": "2024-12-23T09:00:40.171Z"
   },
   {
    "duration": 13,
    "start_time": "2024-12-23T09:00:40.246Z"
   },
   {
    "duration": 14,
    "start_time": "2024-12-23T09:00:40.262Z"
   },
   {
    "duration": 12,
    "start_time": "2024-12-23T09:00:40.278Z"
   },
   {
    "duration": 31,
    "start_time": "2024-12-23T09:00:40.291Z"
   },
   {
    "duration": 28,
    "start_time": "2024-12-23T09:00:40.324Z"
   },
   {
    "duration": 34,
    "start_time": "2024-12-23T09:00:40.354Z"
   },
   {
    "duration": 97,
    "start_time": "2024-12-23T09:00:40.390Z"
   },
   {
    "duration": 8,
    "start_time": "2024-12-23T09:00:40.490Z"
   },
   {
    "duration": 73,
    "start_time": "2024-12-23T09:00:40.500Z"
   },
   {
    "duration": 29,
    "start_time": "2024-12-23T09:00:40.575Z"
   },
   {
    "duration": 144,
    "start_time": "2024-12-23T09:00:40.605Z"
   },
   {
    "duration": 31,
    "start_time": "2024-12-23T09:00:40.750Z"
   },
   {
    "duration": 8,
    "start_time": "2024-12-23T09:00:40.783Z"
   },
   {
    "duration": 68,
    "start_time": "2024-12-23T09:00:40.792Z"
   },
   {
    "duration": 8,
    "start_time": "2024-12-23T09:00:40.862Z"
   },
   {
    "duration": 13,
    "start_time": "2024-12-23T09:00:40.872Z"
   },
   {
    "duration": 12,
    "start_time": "2024-12-23T09:00:40.886Z"
   },
   {
    "duration": 13,
    "start_time": "2024-12-23T09:00:40.900Z"
   },
   {
    "duration": 21,
    "start_time": "2024-12-23T09:00:40.914Z"
   },
   {
    "duration": 10,
    "start_time": "2024-12-23T09:00:40.936Z"
   },
   {
    "duration": 25,
    "start_time": "2024-12-23T09:00:40.948Z"
   },
   {
    "duration": 8,
    "start_time": "2024-12-23T09:00:40.975Z"
   },
   {
    "duration": 11,
    "start_time": "2024-12-23T09:00:40.985Z"
   },
   {
    "duration": 9,
    "start_time": "2024-12-23T09:00:40.998Z"
   },
   {
    "duration": 10,
    "start_time": "2024-12-23T09:00:41.008Z"
   },
   {
    "duration": 229,
    "start_time": "2024-12-23T09:00:41.022Z"
   },
   {
    "duration": 141,
    "start_time": "2024-12-23T09:00:41.252Z"
   },
   {
    "duration": 7,
    "start_time": "2024-12-23T09:00:41.394Z"
   },
   {
    "duration": 18,
    "start_time": "2024-12-23T09:00:41.402Z"
   },
   {
    "duration": 43,
    "start_time": "2024-12-23T09:00:41.421Z"
   },
   {
    "duration": 367,
    "start_time": "2024-12-23T09:00:41.466Z"
   },
   {
    "duration": 273,
    "start_time": "2024-12-23T09:00:41.835Z"
   },
   {
    "duration": 7,
    "start_time": "2024-12-23T09:00:42.110Z"
   },
   {
    "duration": 354,
    "start_time": "2024-12-23T09:00:42.119Z"
   },
   {
    "duration": 5,
    "start_time": "2024-12-23T09:00:42.475Z"
   },
   {
    "duration": 102,
    "start_time": "2024-12-23T09:00:42.482Z"
   },
   {
    "duration": 293,
    "start_time": "2024-12-23T09:00:42.586Z"
   },
   {
    "duration": 9,
    "start_time": "2024-12-23T09:00:42.881Z"
   },
   {
    "duration": 353,
    "start_time": "2024-12-23T09:00:42.892Z"
   },
   {
    "duration": 24,
    "start_time": "2024-12-23T09:00:43.247Z"
   },
   {
    "duration": 191,
    "start_time": "2024-12-23T09:00:43.273Z"
   },
   {
    "duration": 11,
    "start_time": "2024-12-23T09:00:43.466Z"
   },
   {
    "duration": 6,
    "start_time": "2024-12-23T09:00:43.479Z"
   },
   {
    "duration": 299,
    "start_time": "2024-12-23T09:00:43.487Z"
   },
   {
    "duration": 224,
    "start_time": "2024-12-23T09:00:43.787Z"
   },
   {
    "duration": 401,
    "start_time": "2024-12-23T09:00:44.013Z"
   },
   {
    "duration": 4,
    "start_time": "2024-12-23T09:00:44.416Z"
   },
   {
    "duration": 64,
    "start_time": "2024-12-23T09:00:44.422Z"
   },
   {
    "duration": 109,
    "start_time": "2024-12-23T09:00:44.488Z"
   },
   {
    "duration": 58,
    "start_time": "2024-12-23T09:00:44.599Z"
   },
   {
    "duration": 114,
    "start_time": "2024-12-23T09:00:44.659Z"
   },
   {
    "duration": 13,
    "start_time": "2024-12-23T09:00:44.775Z"
   },
   {
    "duration": 83,
    "start_time": "2024-12-23T09:00:44.789Z"
   },
   {
    "duration": 78,
    "start_time": "2024-12-23T09:00:44.874Z"
   },
   {
    "duration": 19,
    "start_time": "2024-12-23T09:00:44.954Z"
   },
   {
    "duration": 5,
    "start_time": "2024-12-23T09:00:44.975Z"
   },
   {
    "duration": 28,
    "start_time": "2024-12-23T09:00:44.981Z"
   },
   {
    "duration": 4,
    "start_time": "2024-12-23T09:00:45.011Z"
   },
   {
    "duration": 46,
    "start_time": "2024-12-23T09:00:45.017Z"
   },
   {
    "duration": 32,
    "start_time": "2024-12-23T09:00:45.065Z"
   },
   {
    "duration": 25,
    "start_time": "2024-12-23T09:00:45.099Z"
   },
   {
    "duration": 33,
    "start_time": "2024-12-23T09:00:45.126Z"
   },
   {
    "duration": 23,
    "start_time": "2024-12-23T09:00:45.161Z"
   },
   {
    "duration": 44,
    "start_time": "2024-12-23T09:00:45.186Z"
   },
   {
    "duration": 77,
    "start_time": "2024-12-23T09:00:45.232Z"
   },
   {
    "duration": 48,
    "start_time": "2024-12-23T09:00:45.311Z"
   },
   {
    "duration": 40,
    "start_time": "2024-12-23T09:00:45.361Z"
   },
   {
    "duration": 43,
    "start_time": "2024-12-23T09:00:45.403Z"
   },
   {
    "duration": 8,
    "start_time": "2024-12-23T09:01:18.600Z"
   },
   {
    "duration": 1138,
    "start_time": "2024-12-23T09:01:30.909Z"
   },
   {
    "duration": 77,
    "start_time": "2024-12-23T09:01:32.049Z"
   },
   {
    "duration": 13,
    "start_time": "2024-12-23T09:01:32.127Z"
   },
   {
    "duration": 35,
    "start_time": "2024-12-23T09:01:32.142Z"
   },
   {
    "duration": 47,
    "start_time": "2024-12-23T09:01:32.178Z"
   },
   {
    "duration": 48,
    "start_time": "2024-12-23T09:01:32.227Z"
   },
   {
    "duration": 15,
    "start_time": "2024-12-23T09:01:32.277Z"
   },
   {
    "duration": 58,
    "start_time": "2024-12-23T09:01:32.294Z"
   },
   {
    "duration": 76,
    "start_time": "2024-12-23T09:01:32.354Z"
   },
   {
    "duration": 8,
    "start_time": "2024-12-23T09:01:32.432Z"
   },
   {
    "duration": 7,
    "start_time": "2024-12-23T09:01:32.442Z"
   },
   {
    "duration": 11,
    "start_time": "2024-12-23T09:01:32.451Z"
   },
   {
    "duration": 27,
    "start_time": "2024-12-23T09:01:32.463Z"
   },
   {
    "duration": 99,
    "start_time": "2024-12-23T09:01:32.492Z"
   },
   {
    "duration": 34,
    "start_time": "2024-12-23T09:01:32.593Z"
   },
   {
    "duration": 71,
    "start_time": "2024-12-23T09:01:32.628Z"
   },
   {
    "duration": 8,
    "start_time": "2024-12-23T09:01:32.701Z"
   },
   {
    "duration": 32,
    "start_time": "2024-12-23T09:01:32.711Z"
   },
   {
    "duration": 16,
    "start_time": "2024-12-23T09:01:32.744Z"
   },
   {
    "duration": 20,
    "start_time": "2024-12-23T09:01:32.761Z"
   },
   {
    "duration": 8,
    "start_time": "2024-12-23T09:01:32.782Z"
   },
   {
    "duration": 8,
    "start_time": "2024-12-23T09:01:32.792Z"
   },
   {
    "duration": 15,
    "start_time": "2024-12-23T09:01:32.802Z"
   },
   {
    "duration": 8,
    "start_time": "2024-12-23T09:01:32.818Z"
   },
   {
    "duration": 37,
    "start_time": "2024-12-23T09:01:32.827Z"
   },
   {
    "duration": 15,
    "start_time": "2024-12-23T09:01:32.870Z"
   },
   {
    "duration": 11,
    "start_time": "2024-12-23T09:01:32.886Z"
   },
   {
    "duration": 219,
    "start_time": "2024-12-23T09:01:32.901Z"
   },
   {
    "duration": 131,
    "start_time": "2024-12-23T09:01:33.122Z"
   },
   {
    "duration": 17,
    "start_time": "2024-12-23T09:01:33.255Z"
   },
   {
    "duration": 11,
    "start_time": "2024-12-23T09:01:33.274Z"
   },
   {
    "duration": 24,
    "start_time": "2024-12-23T09:01:33.287Z"
   },
   {
    "duration": 360,
    "start_time": "2024-12-23T09:01:33.313Z"
   },
   {
    "duration": 268,
    "start_time": "2024-12-23T09:01:33.675Z"
   },
   {
    "duration": 5,
    "start_time": "2024-12-23T09:01:33.945Z"
   },
   {
    "duration": 408,
    "start_time": "2024-12-23T09:01:33.952Z"
   },
   {
    "duration": 10,
    "start_time": "2024-12-23T09:01:34.361Z"
   },
   {
    "duration": 11,
    "start_time": "2024-12-23T09:01:34.373Z"
   },
   {
    "duration": 330,
    "start_time": "2024-12-23T09:01:34.385Z"
   },
   {
    "duration": 8,
    "start_time": "2024-12-23T09:01:34.717Z"
   },
   {
    "duration": 447,
    "start_time": "2024-12-23T09:01:34.727Z"
   },
   {
    "duration": 14,
    "start_time": "2024-12-23T09:01:35.176Z"
   },
   {
    "duration": 216,
    "start_time": "2024-12-23T09:01:35.192Z"
   },
   {
    "duration": 9,
    "start_time": "2024-12-23T09:01:35.410Z"
   },
   {
    "duration": 17,
    "start_time": "2024-12-23T09:01:35.421Z"
   },
   {
    "duration": 217,
    "start_time": "2024-12-23T09:01:35.440Z"
   },
   {
    "duration": 249,
    "start_time": "2024-12-23T09:01:35.659Z"
   },
   {
    "duration": 412,
    "start_time": "2024-12-23T09:01:35.910Z"
   },
   {
    "duration": 5,
    "start_time": "2024-12-23T09:01:36.325Z"
   },
   {
    "duration": 116,
    "start_time": "2024-12-23T09:01:36.331Z"
   },
   {
    "duration": 289,
    "start_time": "2024-12-23T09:01:36.449Z"
   },
   {
    "duration": 161,
    "start_time": "2024-12-23T09:01:36.740Z"
   },
   {
    "duration": 79,
    "start_time": "2024-12-23T09:01:36.902Z"
   },
   {
    "duration": 12,
    "start_time": "2024-12-23T09:01:36.983Z"
   },
   {
    "duration": 91,
    "start_time": "2024-12-23T09:01:36.997Z"
   },
   {
    "duration": 93,
    "start_time": "2024-12-23T09:01:37.090Z"
   },
   {
    "duration": 2083,
    "start_time": "2024-12-23T09:01:37.185Z"
   },
   {
    "duration": 0,
    "start_time": "2024-12-23T09:01:39.270Z"
   },
   {
    "duration": 0,
    "start_time": "2024-12-23T09:01:39.272Z"
   },
   {
    "duration": 0,
    "start_time": "2024-12-23T09:01:39.273Z"
   },
   {
    "duration": 0,
    "start_time": "2024-12-23T09:01:39.275Z"
   },
   {
    "duration": 0,
    "start_time": "2024-12-23T09:01:39.276Z"
   },
   {
    "duration": 0,
    "start_time": "2024-12-23T09:01:39.277Z"
   },
   {
    "duration": 0,
    "start_time": "2024-12-23T09:01:39.278Z"
   },
   {
    "duration": 0,
    "start_time": "2024-12-23T09:01:39.279Z"
   },
   {
    "duration": 0,
    "start_time": "2024-12-23T09:01:39.280Z"
   },
   {
    "duration": 0,
    "start_time": "2024-12-23T09:01:39.281Z"
   },
   {
    "duration": 0,
    "start_time": "2024-12-23T09:01:39.283Z"
   },
   {
    "duration": 0,
    "start_time": "2024-12-23T09:01:39.284Z"
   },
   {
    "duration": 0,
    "start_time": "2024-12-23T09:01:39.285Z"
   },
   {
    "duration": 104,
    "start_time": "2024-12-23T09:11:21.618Z"
   },
   {
    "duration": 98,
    "start_time": "2024-12-23T09:11:28.451Z"
   },
   {
    "duration": 15,
    "start_time": "2024-12-23T09:13:10.981Z"
   },
   {
    "duration": 94,
    "start_time": "2024-12-23T09:13:15.053Z"
   },
   {
    "duration": 83,
    "start_time": "2024-12-23T09:13:17.318Z"
   },
   {
    "duration": 1654,
    "start_time": "2024-12-23T09:13:19.776Z"
   },
   {
    "duration": 20,
    "start_time": "2024-12-23T09:13:49.227Z"
   },
   {
    "duration": 92,
    "start_time": "2024-12-23T09:13:53.818Z"
   },
   {
    "duration": 76,
    "start_time": "2024-12-23T09:13:58.544Z"
   },
   {
    "duration": 5,
    "start_time": "2024-12-23T09:14:01.860Z"
   },
   {
    "duration": 5,
    "start_time": "2024-12-23T09:14:11.272Z"
   },
   {
    "duration": 28,
    "start_time": "2024-12-23T09:14:17.507Z"
   },
   {
    "duration": 1200,
    "start_time": "2024-12-23T09:14:26.331Z"
   },
   {
    "duration": 76,
    "start_time": "2024-12-23T09:14:27.533Z"
   },
   {
    "duration": 12,
    "start_time": "2024-12-23T09:14:27.611Z"
   },
   {
    "duration": 10,
    "start_time": "2024-12-23T09:14:27.625Z"
   },
   {
    "duration": 22,
    "start_time": "2024-12-23T09:14:27.637Z"
   },
   {
    "duration": 33,
    "start_time": "2024-12-23T09:14:27.661Z"
   },
   {
    "duration": 13,
    "start_time": "2024-12-23T09:14:27.696Z"
   },
   {
    "duration": 11,
    "start_time": "2024-12-23T09:14:27.711Z"
   },
   {
    "duration": 90,
    "start_time": "2024-12-23T09:14:27.724Z"
   },
   {
    "duration": 8,
    "start_time": "2024-12-23T09:14:27.817Z"
   },
   {
    "duration": 23,
    "start_time": "2024-12-23T09:14:27.826Z"
   },
   {
    "duration": 13,
    "start_time": "2024-12-23T09:14:27.851Z"
   },
   {
    "duration": 23,
    "start_time": "2024-12-23T09:14:27.865Z"
   },
   {
    "duration": 11,
    "start_time": "2024-12-23T09:14:27.890Z"
   },
   {
    "duration": 5,
    "start_time": "2024-12-23T09:14:27.903Z"
   },
   {
    "duration": 68,
    "start_time": "2024-12-23T09:14:27.909Z"
   },
   {
    "duration": 6,
    "start_time": "2024-12-23T09:14:27.979Z"
   },
   {
    "duration": 36,
    "start_time": "2024-12-23T09:14:27.987Z"
   },
   {
    "duration": 23,
    "start_time": "2024-12-23T09:14:28.025Z"
   },
   {
    "duration": 41,
    "start_time": "2024-12-23T09:14:28.049Z"
   },
   {
    "duration": 29,
    "start_time": "2024-12-23T09:14:28.091Z"
   },
   {
    "duration": 22,
    "start_time": "2024-12-23T09:14:28.121Z"
   },
   {
    "duration": 12,
    "start_time": "2024-12-23T09:14:28.144Z"
   },
   {
    "duration": 7,
    "start_time": "2024-12-23T09:14:28.158Z"
   },
   {
    "duration": 11,
    "start_time": "2024-12-23T09:14:28.167Z"
   },
   {
    "duration": 9,
    "start_time": "2024-12-23T09:14:28.180Z"
   },
   {
    "duration": 11,
    "start_time": "2024-12-23T09:14:28.190Z"
   },
   {
    "duration": 211,
    "start_time": "2024-12-23T09:14:28.204Z"
   },
   {
    "duration": 129,
    "start_time": "2024-12-23T09:14:28.416Z"
   },
   {
    "duration": 7,
    "start_time": "2024-12-23T09:14:28.546Z"
   },
   {
    "duration": 63,
    "start_time": "2024-12-23T09:14:28.555Z"
   },
   {
    "duration": 15,
    "start_time": "2024-12-23T09:14:28.620Z"
   },
   {
    "duration": 342,
    "start_time": "2024-12-23T09:14:28.637Z"
   },
   {
    "duration": 273,
    "start_time": "2024-12-23T09:14:28.981Z"
   },
   {
    "duration": 18,
    "start_time": "2024-12-23T09:14:29.256Z"
   },
   {
    "duration": 367,
    "start_time": "2024-12-23T09:14:29.276Z"
   },
   {
    "duration": 5,
    "start_time": "2024-12-23T09:14:29.645Z"
   },
   {
    "duration": 19,
    "start_time": "2024-12-23T09:14:29.652Z"
   },
   {
    "duration": 295,
    "start_time": "2024-12-23T09:14:29.672Z"
   },
   {
    "duration": 9,
    "start_time": "2024-12-23T09:14:29.968Z"
   },
   {
    "duration": 361,
    "start_time": "2024-12-23T09:14:29.979Z"
   },
   {
    "duration": 12,
    "start_time": "2024-12-23T09:14:30.341Z"
   },
   {
    "duration": 211,
    "start_time": "2024-12-23T09:14:30.354Z"
   },
   {
    "duration": 9,
    "start_time": "2024-12-23T09:14:30.569Z"
   },
   {
    "duration": 71,
    "start_time": "2024-12-23T09:14:30.579Z"
   },
   {
    "duration": 240,
    "start_time": "2024-12-23T09:14:30.652Z"
   },
   {
    "duration": 204,
    "start_time": "2024-12-23T09:14:30.893Z"
   },
   {
    "duration": 382,
    "start_time": "2024-12-23T09:14:31.099Z"
   },
   {
    "duration": 5,
    "start_time": "2024-12-23T09:14:31.483Z"
   },
   {
    "duration": 89,
    "start_time": "2024-12-23T09:14:31.489Z"
   },
   {
    "duration": 133,
    "start_time": "2024-12-23T09:14:31.579Z"
   },
   {
    "duration": 66,
    "start_time": "2024-12-23T09:14:31.714Z"
   },
   {
    "duration": 65,
    "start_time": "2024-12-23T09:14:31.782Z"
   },
   {
    "duration": 59,
    "start_time": "2024-12-23T09:14:31.849Z"
   },
   {
    "duration": 117,
    "start_time": "2024-12-23T09:14:31.909Z"
   },
   {
    "duration": 90,
    "start_time": "2024-12-23T09:14:32.027Z"
   },
   {
    "duration": 5,
    "start_time": "2024-12-23T09:14:32.118Z"
   },
   {
    "duration": 31,
    "start_time": "2024-12-23T09:14:32.124Z"
   },
   {
    "duration": 33,
    "start_time": "2024-12-23T09:14:32.157Z"
   },
   {
    "duration": 4,
    "start_time": "2024-12-23T09:14:32.192Z"
   },
   {
    "duration": 13,
    "start_time": "2024-12-23T09:14:32.198Z"
   },
   {
    "duration": 15,
    "start_time": "2024-12-23T09:14:32.213Z"
   },
   {
    "duration": 31,
    "start_time": "2024-12-23T09:14:32.230Z"
   },
   {
    "duration": 17,
    "start_time": "2024-12-23T09:14:32.263Z"
   },
   {
    "duration": 40,
    "start_time": "2024-12-23T09:14:32.282Z"
   },
   {
    "duration": 48,
    "start_time": "2024-12-23T09:14:32.323Z"
   },
   {
    "duration": 5,
    "start_time": "2024-12-23T09:14:32.373Z"
   },
   {
    "duration": 48,
    "start_time": "2024-12-23T09:14:32.380Z"
   },
   {
    "duration": 10,
    "start_time": "2024-12-23T09:14:32.430Z"
   },
   {
    "duration": 21,
    "start_time": "2024-12-23T09:14:32.441Z"
   },
   {
    "duration": 65,
    "start_time": "2024-12-23T09:14:56.905Z"
   },
   {
    "duration": 78,
    "start_time": "2024-12-23T09:14:58.632Z"
   },
   {
    "duration": 1124,
    "start_time": "2024-12-23T15:41:38.195Z"
   },
   {
    "duration": 117,
    "start_time": "2024-12-23T15:41:39.321Z"
   },
   {
    "duration": 13,
    "start_time": "2024-12-23T15:41:39.439Z"
   },
   {
    "duration": 4,
    "start_time": "2024-12-23T15:41:39.454Z"
   },
   {
    "duration": 15,
    "start_time": "2024-12-23T15:41:39.460Z"
   },
   {
    "duration": 23,
    "start_time": "2024-12-23T15:41:39.476Z"
   },
   {
    "duration": 31,
    "start_time": "2024-12-23T15:41:39.501Z"
   },
   {
    "duration": 12,
    "start_time": "2024-12-23T15:41:39.534Z"
   },
   {
    "duration": 353,
    "start_time": "2024-12-23T15:41:39.548Z"
   },
   {
    "duration": 8,
    "start_time": "2024-12-23T15:41:39.904Z"
   },
   {
    "duration": 56,
    "start_time": "2024-12-23T15:41:39.913Z"
   },
   {
    "duration": 26,
    "start_time": "2024-12-23T15:41:39.971Z"
   },
   {
    "duration": 71,
    "start_time": "2024-12-23T15:41:39.999Z"
   },
   {
    "duration": 115,
    "start_time": "2024-12-23T15:41:40.071Z"
   },
   {
    "duration": 10,
    "start_time": "2024-12-23T15:41:40.187Z"
   },
   {
    "duration": 116,
    "start_time": "2024-12-23T15:41:40.198Z"
   },
   {
    "duration": 7,
    "start_time": "2024-12-23T15:41:40.316Z"
   },
   {
    "duration": 11,
    "start_time": "2024-12-23T15:41:40.325Z"
   },
   {
    "duration": 14,
    "start_time": "2024-12-23T15:41:40.338Z"
   },
   {
    "duration": 8,
    "start_time": "2024-12-23T15:41:40.353Z"
   },
   {
    "duration": 12,
    "start_time": "2024-12-23T15:41:40.363Z"
   },
   {
    "duration": 9,
    "start_time": "2024-12-23T15:41:40.377Z"
   },
   {
    "duration": 42,
    "start_time": "2024-12-23T15:41:40.388Z"
   },
   {
    "duration": 8,
    "start_time": "2024-12-23T15:41:40.432Z"
   },
   {
    "duration": 12,
    "start_time": "2024-12-23T15:41:40.442Z"
   },
   {
    "duration": 10,
    "start_time": "2024-12-23T15:41:40.455Z"
   },
   {
    "duration": 9,
    "start_time": "2024-12-23T15:41:40.467Z"
   },
   {
    "duration": 216,
    "start_time": "2024-12-23T15:41:40.480Z"
   },
   {
    "duration": 135,
    "start_time": "2024-12-23T15:41:40.698Z"
   },
   {
    "duration": 6,
    "start_time": "2024-12-23T15:41:40.835Z"
   },
   {
    "duration": 7,
    "start_time": "2024-12-23T15:41:40.842Z"
   },
   {
    "duration": 9,
    "start_time": "2024-12-23T15:41:40.851Z"
   },
   {
    "duration": 358,
    "start_time": "2024-12-23T15:41:40.862Z"
   },
   {
    "duration": 249,
    "start_time": "2024-12-23T15:41:41.229Z"
   },
   {
    "duration": 5,
    "start_time": "2024-12-23T15:41:41.480Z"
   },
   {
    "duration": 364,
    "start_time": "2024-12-23T15:41:41.487Z"
   },
   {
    "duration": 4,
    "start_time": "2024-12-23T15:41:41.852Z"
   },
   {
    "duration": 9,
    "start_time": "2024-12-23T15:41:41.858Z"
   },
   {
    "duration": 300,
    "start_time": "2024-12-23T15:41:41.869Z"
   },
   {
    "duration": 9,
    "start_time": "2024-12-23T15:41:42.170Z"
   },
   {
    "duration": 326,
    "start_time": "2024-12-23T15:41:42.180Z"
   },
   {
    "duration": 10,
    "start_time": "2024-12-23T15:41:42.508Z"
   },
   {
    "duration": 247,
    "start_time": "2024-12-23T15:41:42.520Z"
   },
   {
    "duration": 8,
    "start_time": "2024-12-23T15:41:42.768Z"
   },
   {
    "duration": 19,
    "start_time": "2024-12-23T15:41:42.778Z"
   },
   {
    "duration": 196,
    "start_time": "2024-12-23T15:41:42.799Z"
   },
   {
    "duration": 204,
    "start_time": "2024-12-23T15:41:42.997Z"
   },
   {
    "duration": 369,
    "start_time": "2024-12-23T15:41:43.202Z"
   },
   {
    "duration": 6,
    "start_time": "2024-12-23T15:41:43.572Z"
   },
   {
    "duration": 168,
    "start_time": "2024-12-23T15:41:43.579Z"
   },
   {
    "duration": 47,
    "start_time": "2024-12-23T15:41:43.749Z"
   },
   {
    "duration": 74,
    "start_time": "2024-12-23T15:41:43.798Z"
   },
   {
    "duration": 62,
    "start_time": "2024-12-23T15:41:43.874Z"
   },
   {
    "duration": 21,
    "start_time": "2024-12-23T15:41:43.938Z"
   },
   {
    "duration": 82,
    "start_time": "2024-12-23T15:41:43.961Z"
   },
   {
    "duration": 90,
    "start_time": "2024-12-23T15:41:44.045Z"
   },
   {
    "duration": 23,
    "start_time": "2024-12-23T15:41:44.137Z"
   },
   {
    "duration": 6,
    "start_time": "2024-12-23T15:41:44.162Z"
   },
   {
    "duration": 25,
    "start_time": "2024-12-23T15:41:44.170Z"
   },
   {
    "duration": 5,
    "start_time": "2024-12-23T15:41:44.197Z"
   },
   {
    "duration": 26,
    "start_time": "2024-12-23T15:41:44.203Z"
   },
   {
    "duration": 6,
    "start_time": "2024-12-23T15:41:44.231Z"
   },
   {
    "duration": 3,
    "start_time": "2024-12-23T15:41:44.239Z"
   },
   {
    "duration": 10,
    "start_time": "2024-12-23T15:41:44.244Z"
   },
   {
    "duration": 17,
    "start_time": "2024-12-23T15:41:44.255Z"
   },
   {
    "duration": 24,
    "start_time": "2024-12-23T15:41:44.274Z"
   },
   {
    "duration": 67,
    "start_time": "2024-12-23T15:41:44.299Z"
   },
   {
    "duration": 11,
    "start_time": "2024-12-23T15:41:44.368Z"
   },
   {
    "duration": 7,
    "start_time": "2024-12-23T15:41:44.380Z"
   },
   {
    "duration": 18,
    "start_time": "2024-12-23T15:41:44.388Z"
   }
  ],
  "kernelspec": {
   "display_name": "Python 3 (ipykernel)",
   "language": "python",
   "name": "python3"
  },
  "language_info": {
   "codemirror_mode": {
    "name": "ipython",
    "version": 3
   },
   "file_extension": ".py",
   "mimetype": "text/x-python",
   "name": "python",
   "nbconvert_exporter": "python",
   "pygments_lexer": "ipython3",
   "version": "3.11.5"
  },
  "toc": {
   "base_numbering": 1,
   "nav_menu": {},
   "number_sections": true,
   "sideBar": true,
   "skip_h1_title": true,
   "title_cell": "Table of Contents",
   "title_sidebar": "Contents",
   "toc_cell": false,
   "toc_position": {
    "height": "calc(100% - 180px)",
    "left": "10px",
    "top": "150px",
    "width": "196px"
   },
   "toc_section_display": true,
   "toc_window_display": false
  }
 },
 "nbformat": 4,
 "nbformat_minor": 2
}
