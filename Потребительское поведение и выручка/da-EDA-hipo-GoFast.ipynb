{
 "cells": [
  {
   "cell_type": "markdown",
   "id": "77a8f471",
   "metadata": {},
   "source": [
    "# Исследование пользователей сервиса аренды самокатов GoFast."
   ]
  },
  {
   "cell_type": "markdown",
   "id": "0bf3d6e7",
   "metadata": {},
   "source": [
    "## Краткое описание проекта"
   ]
  },
  {
   "cell_type": "markdown",
   "id": "93407207",
   "metadata": {},
   "source": [
    "**Описание проекта:**\n",
    "Для анализа предоставлены данные о пользователях сервиса GoFast из нескольких городов. Для совершения поездок используется мобильное приложение с подпиской или без нее. \n",
    "\n",
    "**Цель исследования:**\n",
    "Проанализировать данные пользователях и их поездках, изучить ряд гипотез для того, чтобы выводы из данного исследования помогли бизнесу вырасти. \n",
    "\n",
    "**Ход исследования:**\n",
    "1. Загрузка данных:\n",
    "- загрузка всех датафреймов,\n",
    "- изучение предоставленных данных на наличие пропусков, дубликатов, соответствие типам данных.\n",
    "2. Предобработка данных:\n",
    "- очистка массива от дубликатов, \n",
    "- корректировка типа данных, \n",
    "- добавление столбцов с агрегированной информацией для дальнейшего анализа.\n",
    "3. Исследовательский анализ данных с описанием и визуализацией информации о пользователях и поездках:\n",
    "- частота встречаемости городов,\n",
    "- соотношение пользователей с подпиской и без подписки,\n",
    "- возраст пользователей,\n",
    "- расстояние, которое пользователь преодолел за одну поездку,\n",
    "- продолжительность поездок.\n",
    "4. Анализ информации о расстоянии и времени поездок для пользователей обеих категорий (с подпиской и без подписки):\n",
    "- объединение данные о пользователях, поездках и подписках в один датафрейм,\n",
    "- создание двух отдельных датафреймов для каждой группы пользователей (с подпиской и без подписки),\n",
    "- описание основных статистик и визуализация данных о пользователей обеих категорий.\n",
    "5. Подсчёт выручки:\n",
    "- найдите суммарное расстояние, количество поездок и суммарное время для каждого пользователя за каждый месяц,\n",
    "- добавьте столбец с помесячной выручкой.\n",
    "6. Проверка гипотез:\n",
    "- понять, тратят ли пользователи с подпиской больше времени на поездки?\n",
    "- превышает ли средняя дистанция пользователей с подпиской за одну поездку 3130 метров?\n",
    "- выше ли помесячная выручка от пользователей с подпиской по месяцам, чем выручка от пользователей без подписки?\n",
    "\n",
    "**Общий вывод:**\n",
    "Данное исследование позволит описать потребительское поведение основных групп пользователей сервисом, что позволит бизнесу вырасти."
   ]
  },
  {
   "cell_type": "code",
   "execution_count": 1,
   "id": "72576667",
   "metadata": {},
   "outputs": [],
   "source": [
    "import pandas as pd\n",
    "import numpy as np\n",
    "import matplotlib.pyplot as plt\n",
    "from scipy import stats as st\n",
    "from scipy.stats import binom"
   ]
  },
  {
   "cell_type": "markdown",
   "id": "c42cbe00",
   "metadata": {},
   "source": [
    "## Загрузка данных"
   ]
  },
  {
   "cell_type": "markdown",
   "id": "7f8bf871",
   "metadata": {},
   "source": [
    "### Считаем CSV-файлы с данными из каждого датафрейма, а также выведем первые строки:"
   ]
  },
  {
   "cell_type": "code",
   "execution_count": 2,
   "id": "eff9f206",
   "metadata": {},
   "outputs": [
    {
     "data": {
      "text/html": [
       "<div>\n",
       "<style scoped>\n",
       "    .dataframe tbody tr th:only-of-type {\n",
       "        vertical-align: middle;\n",
       "    }\n",
       "\n",
       "    .dataframe tbody tr th {\n",
       "        vertical-align: top;\n",
       "    }\n",
       "\n",
       "    .dataframe thead th {\n",
       "        text-align: right;\n",
       "    }\n",
       "</style>\n",
       "<table border=\"1\" class=\"dataframe\">\n",
       "  <thead>\n",
       "    <tr style=\"text-align: right;\">\n",
       "      <th></th>\n",
       "      <th>user_id</th>\n",
       "      <th>name</th>\n",
       "      <th>age</th>\n",
       "      <th>city</th>\n",
       "      <th>subscription_type</th>\n",
       "    </tr>\n",
       "  </thead>\n",
       "  <tbody>\n",
       "    <tr>\n",
       "      <th>0</th>\n",
       "      <td>1</td>\n",
       "      <td>Кира</td>\n",
       "      <td>22</td>\n",
       "      <td>Тюмень</td>\n",
       "      <td>ultra</td>\n",
       "    </tr>\n",
       "    <tr>\n",
       "      <th>1</th>\n",
       "      <td>2</td>\n",
       "      <td>Станислав</td>\n",
       "      <td>31</td>\n",
       "      <td>Омск</td>\n",
       "      <td>ultra</td>\n",
       "    </tr>\n",
       "    <tr>\n",
       "      <th>2</th>\n",
       "      <td>3</td>\n",
       "      <td>Алексей</td>\n",
       "      <td>20</td>\n",
       "      <td>Москва</td>\n",
       "      <td>ultra</td>\n",
       "    </tr>\n",
       "    <tr>\n",
       "      <th>3</th>\n",
       "      <td>4</td>\n",
       "      <td>Константин</td>\n",
       "      <td>26</td>\n",
       "      <td>Ростов-на-Дону</td>\n",
       "      <td>ultra</td>\n",
       "    </tr>\n",
       "    <tr>\n",
       "      <th>4</th>\n",
       "      <td>5</td>\n",
       "      <td>Адель</td>\n",
       "      <td>28</td>\n",
       "      <td>Омск</td>\n",
       "      <td>ultra</td>\n",
       "    </tr>\n",
       "  </tbody>\n",
       "</table>\n",
       "</div>"
      ],
      "text/plain": [
       "   user_id        name  age            city subscription_type\n",
       "0        1        Кира   22          Тюмень             ultra\n",
       "1        2   Станислав   31            Омск             ultra\n",
       "2        3     Алексей   20          Москва             ultra\n",
       "3        4  Константин   26  Ростов-на-Дону             ultra\n",
       "4        5       Адель   28            Омск             ultra"
      ]
     },
     "execution_count": 2,
     "metadata": {},
     "output_type": "execute_result"
    }
   ],
   "source": [
    "users_df = pd.read_csv('/datasets/users_go.csv')\n",
    "users_df.head()"
   ]
  },
  {
   "cell_type": "code",
   "execution_count": 3,
   "id": "d233b56b",
   "metadata": {},
   "outputs": [
    {
     "data": {
      "text/html": [
       "<div>\n",
       "<style scoped>\n",
       "    .dataframe tbody tr th:only-of-type {\n",
       "        vertical-align: middle;\n",
       "    }\n",
       "\n",
       "    .dataframe tbody tr th {\n",
       "        vertical-align: top;\n",
       "    }\n",
       "\n",
       "    .dataframe thead th {\n",
       "        text-align: right;\n",
       "    }\n",
       "</style>\n",
       "<table border=\"1\" class=\"dataframe\">\n",
       "  <thead>\n",
       "    <tr style=\"text-align: right;\">\n",
       "      <th></th>\n",
       "      <th>user_id</th>\n",
       "      <th>distance</th>\n",
       "      <th>duration</th>\n",
       "      <th>date</th>\n",
       "    </tr>\n",
       "  </thead>\n",
       "  <tbody>\n",
       "    <tr>\n",
       "      <th>0</th>\n",
       "      <td>1</td>\n",
       "      <td>4409.919140</td>\n",
       "      <td>25.599769</td>\n",
       "      <td>2021-01-01</td>\n",
       "    </tr>\n",
       "    <tr>\n",
       "      <th>1</th>\n",
       "      <td>1</td>\n",
       "      <td>2617.592153</td>\n",
       "      <td>15.816871</td>\n",
       "      <td>2021-01-18</td>\n",
       "    </tr>\n",
       "    <tr>\n",
       "      <th>2</th>\n",
       "      <td>1</td>\n",
       "      <td>754.159807</td>\n",
       "      <td>6.232113</td>\n",
       "      <td>2021-04-20</td>\n",
       "    </tr>\n",
       "    <tr>\n",
       "      <th>3</th>\n",
       "      <td>1</td>\n",
       "      <td>2694.783254</td>\n",
       "      <td>18.511000</td>\n",
       "      <td>2021-08-11</td>\n",
       "    </tr>\n",
       "    <tr>\n",
       "      <th>4</th>\n",
       "      <td>1</td>\n",
       "      <td>4028.687306</td>\n",
       "      <td>26.265803</td>\n",
       "      <td>2021-08-28</td>\n",
       "    </tr>\n",
       "  </tbody>\n",
       "</table>\n",
       "</div>"
      ],
      "text/plain": [
       "   user_id     distance   duration        date\n",
       "0        1  4409.919140  25.599769  2021-01-01\n",
       "1        1  2617.592153  15.816871  2021-01-18\n",
       "2        1   754.159807   6.232113  2021-04-20\n",
       "3        1  2694.783254  18.511000  2021-08-11\n",
       "4        1  4028.687306  26.265803  2021-08-28"
      ]
     },
     "execution_count": 3,
     "metadata": {},
     "output_type": "execute_result"
    }
   ],
   "source": [
    "rides_df = pd.read_csv('/datasets/rides_go.csv')\n",
    "rides_df.head()"
   ]
  },
  {
   "cell_type": "code",
   "execution_count": 4,
   "id": "580d6739",
   "metadata": {},
   "outputs": [
    {
     "data": {
      "text/html": [
       "<div>\n",
       "<style scoped>\n",
       "    .dataframe tbody tr th:only-of-type {\n",
       "        vertical-align: middle;\n",
       "    }\n",
       "\n",
       "    .dataframe tbody tr th {\n",
       "        vertical-align: top;\n",
       "    }\n",
       "\n",
       "    .dataframe thead th {\n",
       "        text-align: right;\n",
       "    }\n",
       "</style>\n",
       "<table border=\"1\" class=\"dataframe\">\n",
       "  <thead>\n",
       "    <tr style=\"text-align: right;\">\n",
       "      <th></th>\n",
       "      <th>subscription_type</th>\n",
       "      <th>minute_price</th>\n",
       "      <th>start_ride_price</th>\n",
       "      <th>subscription_fee</th>\n",
       "    </tr>\n",
       "  </thead>\n",
       "  <tbody>\n",
       "    <tr>\n",
       "      <th>0</th>\n",
       "      <td>free</td>\n",
       "      <td>8</td>\n",
       "      <td>50</td>\n",
       "      <td>0</td>\n",
       "    </tr>\n",
       "    <tr>\n",
       "      <th>1</th>\n",
       "      <td>ultra</td>\n",
       "      <td>6</td>\n",
       "      <td>0</td>\n",
       "      <td>199</td>\n",
       "    </tr>\n",
       "  </tbody>\n",
       "</table>\n",
       "</div>"
      ],
      "text/plain": [
       "  subscription_type  minute_price  start_ride_price  subscription_fee\n",
       "0              free             8                50                 0\n",
       "1             ultra             6                 0               199"
      ]
     },
     "execution_count": 4,
     "metadata": {},
     "output_type": "execute_result"
    }
   ],
   "source": [
    "subscriptions_df = pd.read_csv('/datasets/subscriptions_go.csv')\n",
    "subscriptions_df.head()"
   ]
  },
  {
   "cell_type": "markdown",
   "id": "ec5c741b",
   "metadata": {},
   "source": [
    "### Изучим общую информацию о каждом датафрейме:"
   ]
  },
  {
   "cell_type": "code",
   "execution_count": 5,
   "id": "405d20a2",
   "metadata": {},
   "outputs": [
    {
     "name": "stdout",
     "output_type": "stream",
     "text": [
      "<class 'pandas.core.frame.DataFrame'>\n",
      "RangeIndex: 1565 entries, 0 to 1564\n",
      "Data columns (total 5 columns):\n",
      " #   Column             Non-Null Count  Dtype \n",
      "---  ------             --------------  ----- \n",
      " 0   user_id            1565 non-null   int64 \n",
      " 1   name               1565 non-null   object\n",
      " 2   age                1565 non-null   int64 \n",
      " 3   city               1565 non-null   object\n",
      " 4   subscription_type  1565 non-null   object\n",
      "dtypes: int64(2), object(3)\n",
      "memory usage: 61.3+ KB\n"
     ]
    }
   ],
   "source": [
    "users_df.info()"
   ]
  },
  {
   "cell_type": "code",
   "execution_count": 6,
   "id": "2f8395e4",
   "metadata": {},
   "outputs": [
    {
     "data": {
      "text/plain": [
       "31"
      ]
     },
     "execution_count": 6,
     "metadata": {},
     "output_type": "execute_result"
    }
   ],
   "source": [
    "users_df.duplicated().sum()"
   ]
  },
  {
   "cell_type": "markdown",
   "id": "10ac4923",
   "metadata": {},
   "source": [
    "*В данных о пользователях (\"users_df\") 1565 наблюдений. Пустых значений нет, однако выявлены явные дубликаты (31). Типы данных корректные.*"
   ]
  },
  {
   "cell_type": "code",
   "execution_count": 7,
   "id": "c2a91460",
   "metadata": {},
   "outputs": [
    {
     "name": "stdout",
     "output_type": "stream",
     "text": [
      "<class 'pandas.core.frame.DataFrame'>\n",
      "RangeIndex: 18068 entries, 0 to 18067\n",
      "Data columns (total 4 columns):\n",
      " #   Column    Non-Null Count  Dtype  \n",
      "---  ------    --------------  -----  \n",
      " 0   user_id   18068 non-null  int64  \n",
      " 1   distance  18068 non-null  float64\n",
      " 2   duration  18068 non-null  float64\n",
      " 3   date      18068 non-null  object \n",
      "dtypes: float64(2), int64(1), object(1)\n",
      "memory usage: 564.8+ KB\n"
     ]
    }
   ],
   "source": [
    "rides_df.info()"
   ]
  },
  {
   "cell_type": "code",
   "execution_count": 8,
   "id": "d2d74b9c",
   "metadata": {},
   "outputs": [
    {
     "data": {
      "text/plain": [
       "user_id     0\n",
       "distance    0\n",
       "duration    0\n",
       "date        0\n",
       "dtype: int64"
      ]
     },
     "execution_count": 8,
     "metadata": {},
     "output_type": "execute_result"
    }
   ],
   "source": [
    "rides_df.isna().sum()"
   ]
  },
  {
   "cell_type": "code",
   "execution_count": 9,
   "id": "879cb691",
   "metadata": {},
   "outputs": [
    {
     "data": {
      "text/plain": [
       "0"
      ]
     },
     "execution_count": 9,
     "metadata": {},
     "output_type": "execute_result"
    }
   ],
   "source": [
    "rides_df.duplicated().sum()"
   ]
  },
  {
   "cell_type": "code",
   "execution_count": 10,
   "id": "ecc57977",
   "metadata": {},
   "outputs": [
    {
     "data": {
      "text/plain": [
       "user_id     0\n",
       "distance    0\n",
       "duration    0\n",
       "date        0\n",
       "dtype: int64"
      ]
     },
     "execution_count": 10,
     "metadata": {},
     "output_type": "execute_result"
    }
   ],
   "source": [
    "rides_df.isna().sum()"
   ]
  },
  {
   "cell_type": "markdown",
   "id": "c43424de",
   "metadata": {},
   "source": [
    "*В данных о поездках (\"rides_df\") 18068 наблюдений. Пустых значений и явных дубликатов нет. Однако типы данных указаны некорректно.*"
   ]
  },
  {
   "cell_type": "code",
   "execution_count": 11,
   "id": "f4f00b2c",
   "metadata": {},
   "outputs": [
    {
     "name": "stdout",
     "output_type": "stream",
     "text": [
      "<class 'pandas.core.frame.DataFrame'>\n",
      "RangeIndex: 2 entries, 0 to 1\n",
      "Data columns (total 4 columns):\n",
      " #   Column             Non-Null Count  Dtype \n",
      "---  ------             --------------  ----- \n",
      " 0   subscription_type  2 non-null      object\n",
      " 1   minute_price       2 non-null      int64 \n",
      " 2   start_ride_price   2 non-null      int64 \n",
      " 3   subscription_fee   2 non-null      int64 \n",
      "dtypes: int64(3), object(1)\n",
      "memory usage: 192.0+ bytes\n"
     ]
    }
   ],
   "source": [
    "subscriptions_df.info()"
   ]
  },
  {
   "cell_type": "code",
   "execution_count": 12,
   "id": "462080ae",
   "metadata": {},
   "outputs": [
    {
     "data": {
      "text/plain": [
       "0"
      ]
     },
     "execution_count": 12,
     "metadata": {},
     "output_type": "execute_result"
    }
   ],
   "source": [
    "subscriptions_df.duplicated().sum()"
   ]
  },
  {
   "cell_type": "code",
   "execution_count": 13,
   "id": "a10bf8bd",
   "metadata": {},
   "outputs": [
    {
     "data": {
      "text/plain": [
       "subscription_type    0\n",
       "minute_price         0\n",
       "start_ride_price     0\n",
       "subscription_fee     0\n",
       "dtype: int64"
      ]
     },
     "execution_count": 13,
     "metadata": {},
     "output_type": "execute_result"
    }
   ],
   "source": [
    "subscriptions_df.isna().sum()"
   ]
  },
  {
   "cell_type": "markdown",
   "id": "e69467f9",
   "metadata": {},
   "source": [
    "*В данных о подписках (\"subscriptions_df\") 2 записи. Пустых значений и явных дубликатов нет. Типы данных указаны корректно.*"
   ]
  },
  {
   "cell_type": "markdown",
   "id": "df767950",
   "metadata": {},
   "source": [
    "### **Вывод:**\n",
    "*Для анализа представлены 3 датафрейма. Данные о пользователях и поездках взаимосвязаны по id пользователей сервиса, а с данными о подписках по типу подписки (с ней или без нее)*"
   ]
  },
  {
   "cell_type": "markdown",
   "id": "e95ebca7",
   "metadata": {},
   "source": [
    "## Предобработка данных"
   ]
  },
  {
   "cell_type": "markdown",
   "id": "5767a4bd",
   "metadata": {},
   "source": [
    "### Удалим явные дубликаты в данных о пользователях:"
   ]
  },
  {
   "cell_type": "code",
   "execution_count": 14,
   "id": "45b00baa",
   "metadata": {},
   "outputs": [
    {
     "data": {
      "text/plain": [
       "0"
      ]
     },
     "execution_count": 14,
     "metadata": {},
     "output_type": "execute_result"
    }
   ],
   "source": [
    "users_df = users_df.drop_duplicates().reset_index(drop=True)\n",
    "users_df.duplicated().sum()"
   ]
  },
  {
   "cell_type": "markdown",
   "id": "56a9fb0f",
   "metadata": {},
   "source": [
    "Проверим данные на наличие пропусков:"
   ]
  },
  {
   "cell_type": "code",
   "execution_count": 15,
   "id": "976035ee",
   "metadata": {},
   "outputs": [
    {
     "data": {
      "text/plain": [
       "user_id              0\n",
       "name                 0\n",
       "age                  0\n",
       "city                 0\n",
       "subscription_type    0\n",
       "dtype: int64"
      ]
     },
     "execution_count": 15,
     "metadata": {},
     "output_type": "execute_result"
    }
   ],
   "source": [
    "users_df.isna().sum()"
   ]
  },
  {
   "cell_type": "markdown",
   "id": "8ab41648",
   "metadata": {},
   "source": [
    "### В данных о поездках скорректируем типы данных:"
   ]
  },
  {
   "cell_type": "markdown",
   "id": "b97eefe7",
   "metadata": {},
   "source": [
    "- дистанция, которую пользователь проехал в текущей сессии (в метрах), переведем в числовой тип:"
   ]
  },
  {
   "cell_type": "code",
   "execution_count": 16,
   "id": "ce679938",
   "metadata": {},
   "outputs": [],
   "source": [
    "rides_df['distance'] = rides_df['distance'].astype('int')"
   ]
  },
  {
   "cell_type": "markdown",
   "id": "d6f05e43",
   "metadata": {},
   "source": [
    "- продолжительность сессии (в минутах) округлена с помощью метода «потолок»:"
   ]
  },
  {
   "cell_type": "code",
   "execution_count": 17,
   "id": "af733bb2",
   "metadata": {},
   "outputs": [
    {
     "data": {
      "text/plain": [
       "0        26.0\n",
       "1        16.0\n",
       "2         7.0\n",
       "3        19.0\n",
       "4        27.0\n",
       "         ... \n",
       "18063    20.0\n",
       "18064    22.0\n",
       "18065    19.0\n",
       "18066    17.0\n",
       "18067    16.0\n",
       "Name: duration, Length: 18068, dtype: float64"
      ]
     },
     "execution_count": 17,
     "metadata": {},
     "output_type": "execute_result"
    }
   ],
   "source": [
    "rides_df['duration'] = np.ceil(rides_df['duration'])\n",
    "rides_df['duration']"
   ]
  },
  {
   "cell_type": "markdown",
   "id": "b0215c29",
   "metadata": {},
   "source": [
    "- дату совершения поездки переведем к типу даты:"
   ]
  },
  {
   "cell_type": "code",
   "execution_count": 18,
   "id": "39e08ea4",
   "metadata": {},
   "outputs": [],
   "source": [
    "rides_df['date'] = pd.to_datetime(rides_df['date'], format='%Y-%m-%d')"
   ]
  },
  {
   "cell_type": "markdown",
   "id": "1aac74a1",
   "metadata": {},
   "source": [
    "### Создадим новый столбец с номером месяца на основе столбца date:"
   ]
  },
  {
   "cell_type": "code",
   "execution_count": 19,
   "id": "fbad0ca6",
   "metadata": {},
   "outputs": [
    {
     "data": {
      "text/plain": [
       "count    18068.000000\n",
       "mean         6.486772\n",
       "std          3.437410\n",
       "min          1.000000\n",
       "25%          4.000000\n",
       "50%          6.000000\n",
       "75%          9.000000\n",
       "max         12.000000\n",
       "Name: date_month, dtype: float64"
      ]
     },
     "execution_count": 19,
     "metadata": {},
     "output_type": "execute_result"
    }
   ],
   "source": [
    "rides_df['date_month'] = rides_df['date'].dt.month\n",
    "rides_df['date_month'].describe()"
   ]
  },
  {
   "cell_type": "markdown",
   "id": "791b46ac",
   "metadata": {},
   "source": [
    "### **Вывод:**\n",
    "- Удалены явные дубликаты в данных о пользователях;\n",
    "- Пустых значений в данных не выявлено;\n",
    "- Данные о дистанции и времени поездок перевели в числовые;\n",
    "- Информацию о дате пользования услугами переведи в тип даты;\n",
    "- Добавлен новый столбец с номером месяца, когда пользовались услугами."
   ]
  },
  {
   "cell_type": "markdown",
   "id": "212593c7",
   "metadata": {},
   "source": [
    "## Исследовательский анализ данных"
   ]
  },
  {
   "cell_type": "markdown",
   "id": "378f379f",
   "metadata": {},
   "source": [
    "### Анализ частоты встречаемости городов"
   ]
  },
  {
   "cell_type": "code",
   "execution_count": 20,
   "id": "6e9d1fc8",
   "metadata": {},
   "outputs": [
    {
     "data": {
      "image/png": "[encoded data removed]",
      "text/plain": [
       "<Figure size 432x288 with 1 Axes>"
      ]
     },
     "metadata": {
      "needs_background": "light"
     },
     "output_type": "display_data"
    }
   ],
   "source": [
    "users_city = users_df.pivot_table(index='city', values='user_id', aggfunc='count').sort_values(by='user_id', ascending=False)\n",
    "users_city.plot(grid=True, kind='bar')\n",
    "plt.title('Количество пользователей в разных городах')\n",
    "plt.xlabel('город')\n",
    "plt.ylabel('количество пользователей (чел.)')\n",
    "plt.show()"
   ]
  },
  {
   "cell_type": "code",
   "execution_count": 21,
   "id": "008db83c",
   "metadata": {},
   "outputs": [
    {
     "data": {
      "text/html": [
       "<div>\n",
       "<style scoped>\n",
       "    .dataframe tbody tr th:only-of-type {\n",
       "        vertical-align: middle;\n",
       "    }\n",
       "\n",
       "    .dataframe tbody tr th {\n",
       "        vertical-align: top;\n",
       "    }\n",
       "\n",
       "    .dataframe thead th {\n",
       "        text-align: right;\n",
       "    }\n",
       "</style>\n",
       "<table border=\"1\" class=\"dataframe\">\n",
       "  <thead>\n",
       "    <tr style=\"text-align: right;\">\n",
       "      <th></th>\n",
       "      <th>user_id</th>\n",
       "    </tr>\n",
       "    <tr>\n",
       "      <th>city</th>\n",
       "      <th></th>\n",
       "    </tr>\n",
       "  </thead>\n",
       "  <tbody>\n",
       "    <tr>\n",
       "      <th>Пятигорск</th>\n",
       "      <td>0.142764</td>\n",
       "    </tr>\n",
       "    <tr>\n",
       "      <th>Екатеринбург</th>\n",
       "      <td>0.132986</td>\n",
       "    </tr>\n",
       "    <tr>\n",
       "      <th>Ростов-на-Дону</th>\n",
       "      <td>0.129074</td>\n",
       "    </tr>\n",
       "    <tr>\n",
       "      <th>Краснодар</th>\n",
       "      <td>0.125815</td>\n",
       "    </tr>\n",
       "    <tr>\n",
       "      <th>Сочи</th>\n",
       "      <td>0.123207</td>\n",
       "    </tr>\n",
       "    <tr>\n",
       "      <th>Омск</th>\n",
       "      <td>0.119296</td>\n",
       "    </tr>\n",
       "    <tr>\n",
       "      <th>Тюмень</th>\n",
       "      <td>0.117340</td>\n",
       "    </tr>\n",
       "    <tr>\n",
       "      <th>Москва</th>\n",
       "      <td>0.109518</td>\n",
       "    </tr>\n",
       "  </tbody>\n",
       "</table>\n",
       "</div>"
      ],
      "text/plain": [
       "                 user_id\n",
       "city                    \n",
       "Пятигорск       0.142764\n",
       "Екатеринбург    0.132986\n",
       "Ростов-на-Дону  0.129074\n",
       "Краснодар       0.125815\n",
       "Сочи            0.123207\n",
       "Омск            0.119296\n",
       "Тюмень          0.117340\n",
       "Москва          0.109518"
      ]
     },
     "execution_count": 21,
     "metadata": {},
     "output_type": "execute_result"
    }
   ],
   "source": [
    "users_city.sort_values(by='user_id', ascending=False)/len(users_df)"
   ]
  },
  {
   "cell_type": "markdown",
   "id": "47c197f6",
   "metadata": {},
   "source": [
    "**Вывод:**\n",
    "База пользователей представлена 8ю городами. Больше всего пользователей в Пятигорске (14%), меньше всего в Москве (10%). Однако, в целом доли клиентов примерно равные."
   ]
  },
  {
   "cell_type": "markdown",
   "id": "02d97fc6",
   "metadata": {},
   "source": [
    "### Анализ соотношения пользователей с подпиской и без подписки"
   ]
  },
  {
   "cell_type": "code",
   "execution_count": 22,
   "id": "99f68b17",
   "metadata": {},
   "outputs": [
    {
     "data": {
      "image/png": "[encoded data removed]",
      "text/plain": [
       "<Figure size 432x432 with 1 Axes>"
      ]
     },
     "metadata": {},
     "output_type": "display_data"
    }
   ],
   "source": [
    "users_subscription = users_df.pivot_table(index='subscription_type', values='user_id', aggfunc='count').sort_values(by='user_id', ascending=False)\n",
    "users_subscription.plot(y='user_id', kind='pie', autopct = '%.2f%%', figsize=(6, 6))\n",
    "plt.title('Количество пользователей с подпиской и без подписки')\n",
    "plt.ylabel('количество пользователей')\n",
    "plt.show()"
   ]
  },
  {
   "cell_type": "markdown",
   "id": "04ae953c",
   "metadata": {},
   "source": [
    "**Вывод:**\n",
    "Чуть больше половины пользователей не пользуются подпиской (54%), с подпиской \"ultra\" чуть меньше половины пользователей (46%)."
   ]
  },
  {
   "cell_type": "markdown",
   "id": "bf09988a",
   "metadata": {},
   "source": [
    "### Анализ возраста пользователей"
   ]
  },
  {
   "cell_type": "code",
   "execution_count": 23,
   "id": "c7765b83",
   "metadata": {},
   "outputs": [
    {
     "data": {
      "text/plain": [
       "count    1534.000000\n",
       "mean       24.903520\n",
       "std         4.572367\n",
       "min        12.000000\n",
       "25%        22.000000\n",
       "50%        25.000000\n",
       "75%        28.000000\n",
       "max        43.000000\n",
       "Name: age, dtype: float64"
      ]
     },
     "execution_count": 23,
     "metadata": {},
     "output_type": "execute_result"
    }
   ],
   "source": [
    "users_df['age'].describe()"
   ]
  },
  {
   "cell_type": "code",
   "execution_count": 24,
   "id": "6543ed6b",
   "metadata": {},
   "outputs": [
    {
     "data": {
      "image/png": "[encoded data removed]",
      "text/plain": [
       "<Figure size 432x288 with 1 Axes>"
      ]
     },
     "metadata": {
      "needs_background": "light"
     },
     "output_type": "display_data"
    }
   ],
   "source": [
    "users_ages = users_df.pivot_table(index='age', values='user_id', aggfunc='count').sort_values(by='age')\n",
    "users_ages.plot(grid=True, kind='bar')\n",
    "plt.title('Возраст пользователей')\n",
    "plt.xlabel('количество лет')\n",
    "plt.ylabel('количество пользователей (чел.)')\n",
    "plt.show()"
   ]
  },
  {
   "cell_type": "markdown",
   "id": "9651fa7e",
   "metadata": {},
   "source": [
    "**Вывод:**\n",
    "Возраст пользователей в исследуемом датафрейме от 12 до 43 лет, при этом большинство - в диапазоне от 22 до 28 лет. Средний возраст пользователя 25 лет. График показывает нормальное распределение."
   ]
  },
  {
   "cell_type": "markdown",
   "id": "64298e1e",
   "metadata": {},
   "source": [
    "### Анализ расстояния, которое пользователь преодолевает за одну поездку"
   ]
  },
  {
   "cell_type": "code",
   "execution_count": 25,
   "id": "636819d7",
   "metadata": {},
   "outputs": [
    {
     "data": {
      "text/plain": [
       "count    18068.000000\n",
       "mean      3070.159841\n",
       "std       1116.831548\n",
       "min          0.000000\n",
       "25%       2542.750000\n",
       "50%       3133.000000\n",
       "75%       3776.000000\n",
       "max       7211.000000\n",
       "Name: distance, dtype: float64"
      ]
     },
     "execution_count": 25,
     "metadata": {},
     "output_type": "execute_result"
    }
   ],
   "source": [
    "rides_df['distance'].describe()"
   ]
  },
  {
   "cell_type": "code",
   "execution_count": 26,
   "id": "14c0cabe",
   "metadata": {},
   "outputs": [
    {
     "data": {
      "image/png": "[encoded data removed]",
      "text/plain": [
       "<Figure size 432x432 with 1 Axes>"
      ]
     },
     "metadata": {
      "needs_background": "light"
     },
     "output_type": "display_data"
    }
   ],
   "source": [
    "rides_df.boxplot(['distance'], figsize=(6, 6));"
   ]
  },
  {
   "cell_type": "code",
   "execution_count": 27,
   "id": "5cf78fa7",
   "metadata": {},
   "outputs": [
    {
     "data": {
      "image/png": "[encoded data removed]",
      "text/plain": [
       "<Figure size 432x288 with 1 Axes>"
      ]
     },
     "metadata": {
      "needs_background": "light"
     },
     "output_type": "display_data"
    }
   ],
   "source": [
    "rides_df['distance'].hist(bins=100)\n",
    "plt.title('Расстояние за одну поездку')\n",
    "plt.xlabel('дистанция (метр)')\n",
    "plt.ylabel('количество поездок')\n",
    "plt.show()"
   ]
  },
  {
   "cell_type": "markdown",
   "id": "1205c91f",
   "metadata": {},
   "source": [
    "**Вывод:**\n",
    "Большинство пользователей преодолевают за 1 поездку от 2,5 км до 3,8 км. Наиболее часто встречается дистанция в 3,1 км. График размаха позволяет увидеть, что поездки примерно до 800 м и свыше 5,5 км можно отнести к \"выбросам\" данных. Значительная часть массива (без \"выбросов) носит характер нормального распределения. Однако на гистограмме, весь массив данных по поездкам имеет дополнительный блок (примерно до 1,5 км) с пиком примерно 600-700 метров."
   ]
  },
  {
   "cell_type": "markdown",
   "id": "abb56e1a",
   "metadata": {},
   "source": [
    "### Анализ продолжительности поездок"
   ]
  },
  {
   "cell_type": "code",
   "execution_count": 28,
   "id": "343cfe80",
   "metadata": {},
   "outputs": [
    {
     "data": {
      "text/plain": [
       "count    18068.000000\n",
       "mean        18.303520\n",
       "std          6.094928\n",
       "min          1.000000\n",
       "25%         14.000000\n",
       "50%         18.000000\n",
       "75%         22.000000\n",
       "max         41.000000\n",
       "Name: duration, dtype: float64"
      ]
     },
     "execution_count": 28,
     "metadata": {},
     "output_type": "execute_result"
    }
   ],
   "source": [
    "rides_df['duration'].describe()"
   ]
  },
  {
   "cell_type": "code",
   "execution_count": 29,
   "id": "e407fd26",
   "metadata": {},
   "outputs": [
    {
     "data": {
      "image/png": "[encoded data removed]",
      "text/plain": [
       "<Figure size 432x432 with 1 Axes>"
      ]
     },
     "metadata": {
      "needs_background": "light"
     },
     "output_type": "display_data"
    }
   ],
   "source": [
    "rides_df.boxplot(['duration'], figsize=(6, 6));"
   ]
  },
  {
   "cell_type": "code",
   "execution_count": 30,
   "id": "6d28759a",
   "metadata": {},
   "outputs": [
    {
     "data": {
      "image/png": "[encoded data removed]",
      "text/plain": [
       "<Figure size 432x288 with 1 Axes>"
      ]
     },
     "metadata": {
      "needs_background": "light"
     },
     "output_type": "display_data"
    }
   ],
   "source": [
    "rides_df['duration'].hist(bins=41)\n",
    "plt.title('Продолжительность одной поездки (сессии)')\n",
    "plt.xlabel('минуты')\n",
    "plt.ylabel('количество поездок')\n",
    "plt.show()"
   ]
  },
  {
   "cell_type": "markdown",
   "id": "456f2ee3",
   "metadata": {},
   "source": [
    "**Вывод:**\n",
    "Сессия большинства пользователей длится от 14 до 22 минут. Наиболее часто пользователи едут в течении 18 минут. График размаха позволяет увидеть, что поездки короче 3 минут и длиннее 34 минут можно отнести к \"выбросам\" данных. Значительная часть массива носит характер нормального распределения.  "
   ]
  },
  {
   "cell_type": "markdown",
   "id": "6bb13c45",
   "metadata": {},
   "source": [
    "### **Общий вывод:**\n",
    "- Для анализа представлена база с пользователями из 8 городов из разных регионов РФ - южные города (Пятигорск, Ростов-на-Дону, Краснодар, Сочи), Урал и Сибирь (Екатеринбург, Омск, Тюмень), а также центральный регион (Москва).  Больше всего пользователей в Пятигорске (14%), меньше всего в Москве (10%). Однако, в целом доли клиентов примерно равные (12%-13%).\n",
    "- Одна группа пользователей использует подписку (46%), а другая пользуется самокатом без неё (54%). \n",
    "- Большинство пользователей от 22 до 28 лет. Средний возраст - 25 лет. \n",
    "- Большинство пользователей преодолевают за 1 поездку от 2,5 км до 3,8 км. Чаще всего 1 сессия - 3,1 км. \n",
    "- Большинств пользователей на 1 сессию тратят от 14 до 22 минут. Наиболее часто пользователи едут в течении 18 минут."
   ]
  },
  {
   "cell_type": "markdown",
   "id": "4ef51331",
   "metadata": {},
   "source": [
    "## Объединение данных"
   ]
  },
  {
   "cell_type": "markdown",
   "id": "b590c86d",
   "metadata": {},
   "source": [
    "### Объединим данные о пользователях, поездках и подписках в один датафрейм"
   ]
  },
  {
   "cell_type": "code",
   "execution_count": 31,
   "id": "bf0baf72",
   "metadata": {},
   "outputs": [
    {
     "name": "stdout",
     "output_type": "stream",
     "text": [
      "<class 'pandas.core.frame.DataFrame'>\n",
      "Int64Index: 18068 entries, 0 to 18067\n",
      "Data columns (total 12 columns):\n",
      " #   Column             Non-Null Count  Dtype         \n",
      "---  ------             --------------  -----         \n",
      " 0   user_id            18068 non-null  int64         \n",
      " 1   distance           18068 non-null  int64         \n",
      " 2   duration           18068 non-null  float64       \n",
      " 3   date               18068 non-null  datetime64[ns]\n",
      " 4   date_month         18068 non-null  int64         \n",
      " 5   name               18068 non-null  object        \n",
      " 6   age                18068 non-null  int64         \n",
      " 7   city               18068 non-null  object        \n",
      " 8   subscription_type  18068 non-null  object        \n",
      " 9   minute_price       18068 non-null  int64         \n",
      " 10  start_ride_price   18068 non-null  int64         \n",
      " 11  subscription_fee   18068 non-null  int64         \n",
      "dtypes: datetime64[ns](1), float64(1), int64(7), object(3)\n",
      "memory usage: 1.8+ MB\n"
     ]
    }
   ],
   "source": [
    "users_subscriptions_df = pd.merge(users_df, subscriptions_df, on='subscription_type')\n",
    "main_df = pd.merge(rides_df, users_subscriptions_df, on='user_id')\n",
    "main_df.info()"
   ]
  },
  {
   "cell_type": "code",
   "execution_count": 32,
   "id": "47e12f20",
   "metadata": {},
   "outputs": [
    {
     "data": {
      "text/plain": [
       "0"
      ]
     },
     "execution_count": 32,
     "metadata": {},
     "output_type": "execute_result"
    }
   ],
   "source": [
    "main_df.duplicated().sum()"
   ]
  },
  {
   "cell_type": "code",
   "execution_count": 33,
   "id": "7ed03df6",
   "metadata": {},
   "outputs": [
    {
     "data": {
      "text/plain": [
       "user_id              0\n",
       "distance             0\n",
       "duration             0\n",
       "date                 0\n",
       "date_month           0\n",
       "name                 0\n",
       "age                  0\n",
       "city                 0\n",
       "subscription_type    0\n",
       "minute_price         0\n",
       "start_ride_price     0\n",
       "subscription_fee     0\n",
       "dtype: int64"
      ]
     },
     "execution_count": 33,
     "metadata": {},
     "output_type": "execute_result"
    }
   ],
   "source": [
    "main_df.isna().sum()"
   ]
  },
  {
   "cell_type": "code",
   "execution_count": 34,
   "id": "a8afe21d",
   "metadata": {},
   "outputs": [
    {
     "data": {
      "text/html": [
       "<div>\n",
       "<style scoped>\n",
       "    .dataframe tbody tr th:only-of-type {\n",
       "        vertical-align: middle;\n",
       "    }\n",
       "\n",
       "    .dataframe tbody tr th {\n",
       "        vertical-align: top;\n",
       "    }\n",
       "\n",
       "    .dataframe thead th {\n",
       "        text-align: right;\n",
       "    }\n",
       "</style>\n",
       "<table border=\"1\" class=\"dataframe\">\n",
       "  <thead>\n",
       "    <tr style=\"text-align: right;\">\n",
       "      <th></th>\n",
       "      <th>user_id</th>\n",
       "      <th>distance</th>\n",
       "      <th>duration</th>\n",
       "      <th>date</th>\n",
       "      <th>date_month</th>\n",
       "      <th>name</th>\n",
       "      <th>age</th>\n",
       "      <th>city</th>\n",
       "      <th>subscription_type</th>\n",
       "      <th>minute_price</th>\n",
       "      <th>start_ride_price</th>\n",
       "      <th>subscription_fee</th>\n",
       "    </tr>\n",
       "  </thead>\n",
       "  <tbody>\n",
       "    <tr>\n",
       "      <th>0</th>\n",
       "      <td>1</td>\n",
       "      <td>4409</td>\n",
       "      <td>26.0</td>\n",
       "      <td>2021-01-01</td>\n",
       "      <td>1</td>\n",
       "      <td>Кира</td>\n",
       "      <td>22</td>\n",
       "      <td>Тюмень</td>\n",
       "      <td>ultra</td>\n",
       "      <td>6</td>\n",
       "      <td>0</td>\n",
       "      <td>199</td>\n",
       "    </tr>\n",
       "    <tr>\n",
       "      <th>1</th>\n",
       "      <td>1</td>\n",
       "      <td>2617</td>\n",
       "      <td>16.0</td>\n",
       "      <td>2021-01-18</td>\n",
       "      <td>1</td>\n",
       "      <td>Кира</td>\n",
       "      <td>22</td>\n",
       "      <td>Тюмень</td>\n",
       "      <td>ultra</td>\n",
       "      <td>6</td>\n",
       "      <td>0</td>\n",
       "      <td>199</td>\n",
       "    </tr>\n",
       "    <tr>\n",
       "      <th>2</th>\n",
       "      <td>1</td>\n",
       "      <td>754</td>\n",
       "      <td>7.0</td>\n",
       "      <td>2021-04-20</td>\n",
       "      <td>4</td>\n",
       "      <td>Кира</td>\n",
       "      <td>22</td>\n",
       "      <td>Тюмень</td>\n",
       "      <td>ultra</td>\n",
       "      <td>6</td>\n",
       "      <td>0</td>\n",
       "      <td>199</td>\n",
       "    </tr>\n",
       "    <tr>\n",
       "      <th>3</th>\n",
       "      <td>1</td>\n",
       "      <td>2694</td>\n",
       "      <td>19.0</td>\n",
       "      <td>2021-08-11</td>\n",
       "      <td>8</td>\n",
       "      <td>Кира</td>\n",
       "      <td>22</td>\n",
       "      <td>Тюмень</td>\n",
       "      <td>ultra</td>\n",
       "      <td>6</td>\n",
       "      <td>0</td>\n",
       "      <td>199</td>\n",
       "    </tr>\n",
       "    <tr>\n",
       "      <th>4</th>\n",
       "      <td>1</td>\n",
       "      <td>4028</td>\n",
       "      <td>27.0</td>\n",
       "      <td>2021-08-28</td>\n",
       "      <td>8</td>\n",
       "      <td>Кира</td>\n",
       "      <td>22</td>\n",
       "      <td>Тюмень</td>\n",
       "      <td>ultra</td>\n",
       "      <td>6</td>\n",
       "      <td>0</td>\n",
       "      <td>199</td>\n",
       "    </tr>\n",
       "  </tbody>\n",
       "</table>\n",
       "</div>"
      ],
      "text/plain": [
       "   user_id  distance  duration       date  date_month  name  age    city  \\\n",
       "0        1      4409      26.0 2021-01-01           1  Кира   22  Тюмень   \n",
       "1        1      2617      16.0 2021-01-18           1  Кира   22  Тюмень   \n",
       "2        1       754       7.0 2021-04-20           4  Кира   22  Тюмень   \n",
       "3        1      2694      19.0 2021-08-11           8  Кира   22  Тюмень   \n",
       "4        1      4028      27.0 2021-08-28           8  Кира   22  Тюмень   \n",
       "\n",
       "  subscription_type  minute_price  start_ride_price  subscription_fee  \n",
       "0             ultra             6                 0               199  \n",
       "1             ultra             6                 0               199  \n",
       "2             ultra             6                 0               199  \n",
       "3             ultra             6                 0               199  \n",
       "4             ultra             6                 0               199  "
      ]
     },
     "execution_count": 34,
     "metadata": {},
     "output_type": "execute_result"
    }
   ],
   "source": [
    "main_df.head()"
   ]
  },
  {
   "cell_type": "markdown",
   "id": "3f3755b0",
   "metadata": {},
   "source": [
    "Новый датафрейм, объединенный по id пользователей и типу подписки, имеет 18068 строк (идентично с датафреймом по количеству поездок). Явные дубликаты и пустые значения не выявлены."
   ]
  },
  {
   "cell_type": "markdown",
   "id": "e081d854",
   "metadata": {},
   "source": [
    "#### Создадим датафрейм c данными о пользователях без подписки"
   ]
  },
  {
   "cell_type": "code",
   "execution_count": 35,
   "id": "45c3bc05",
   "metadata": {},
   "outputs": [
    {
     "data": {
      "text/plain": [
       "array(['ultra', 'free'], dtype=object)"
      ]
     },
     "execution_count": 35,
     "metadata": {},
     "output_type": "execute_result"
    }
   ],
   "source": [
    "main_df['subscription_type'].unique()"
   ]
  },
  {
   "cell_type": "code",
   "execution_count": 36,
   "id": "5cdddd7a",
   "metadata": {},
   "outputs": [
    {
     "name": "stdout",
     "output_type": "stream",
     "text": [
      "<class 'pandas.core.frame.DataFrame'>\n",
      "Int64Index: 11568 entries, 6500 to 18067\n",
      "Data columns (total 12 columns):\n",
      " #   Column             Non-Null Count  Dtype         \n",
      "---  ------             --------------  -----         \n",
      " 0   user_id            11568 non-null  int64         \n",
      " 1   distance           11568 non-null  int64         \n",
      " 2   duration           11568 non-null  float64       \n",
      " 3   date               11568 non-null  datetime64[ns]\n",
      " 4   date_month         11568 non-null  int64         \n",
      " 5   name               11568 non-null  object        \n",
      " 6   age                11568 non-null  int64         \n",
      " 7   city               11568 non-null  object        \n",
      " 8   subscription_type  11568 non-null  object        \n",
      " 9   minute_price       11568 non-null  int64         \n",
      " 10  start_ride_price   11568 non-null  int64         \n",
      " 11  subscription_fee   11568 non-null  int64         \n",
      "dtypes: datetime64[ns](1), float64(1), int64(7), object(3)\n",
      "memory usage: 1.1+ MB\n"
     ]
    }
   ],
   "source": [
    "free_df = main_df[main_df['subscription_type'] == 'free']\n",
    "free_df.info()"
   ]
  },
  {
   "cell_type": "markdown",
   "id": "e6814ca2",
   "metadata": {},
   "source": [
    "#### Создадим датафрейм с данными о пользователях с подпиской"
   ]
  },
  {
   "cell_type": "code",
   "execution_count": 37,
   "id": "cd65e9e0",
   "metadata": {},
   "outputs": [
    {
     "name": "stdout",
     "output_type": "stream",
     "text": [
      "<class 'pandas.core.frame.DataFrame'>\n",
      "Int64Index: 6500 entries, 0 to 6499\n",
      "Data columns (total 12 columns):\n",
      " #   Column             Non-Null Count  Dtype         \n",
      "---  ------             --------------  -----         \n",
      " 0   user_id            6500 non-null   int64         \n",
      " 1   distance           6500 non-null   int64         \n",
      " 2   duration           6500 non-null   float64       \n",
      " 3   date               6500 non-null   datetime64[ns]\n",
      " 4   date_month         6500 non-null   int64         \n",
      " 5   name               6500 non-null   object        \n",
      " 6   age                6500 non-null   int64         \n",
      " 7   city               6500 non-null   object        \n",
      " 8   subscription_type  6500 non-null   object        \n",
      " 9   minute_price       6500 non-null   int64         \n",
      " 10  start_ride_price   6500 non-null   int64         \n",
      " 11  subscription_fee   6500 non-null   int64         \n",
      "dtypes: datetime64[ns](1), float64(1), int64(7), object(3)\n",
      "memory usage: 660.2+ KB\n"
     ]
    }
   ],
   "source": [
    "ultra_df = main_df[main_df['subscription_type'] == 'ultra']\n",
    "ultra_df.info()"
   ]
  },
  {
   "cell_type": "code",
   "execution_count": 38,
   "id": "fac24289",
   "metadata": {},
   "outputs": [
    {
     "data": {
      "image/png": "[encoded data removed]",
      "text/plain": [
       "<Figure size 432x432 with 1 Axes>"
      ]
     },
     "metadata": {},
     "output_type": "display_data"
    }
   ],
   "source": [
    "rides_subscription = main_df.pivot_table(index='subscription_type', values='user_id', aggfunc='count').sort_values(by='user_id', ascending=False)\n",
    "rides_subscription.plot(y='user_id', kind='pie', autopct = '%.2f%%', figsize=(6, 6))\n",
    "plt.title('Количество поездок с подпиской и без подписки')\n",
    "plt.ylabel('количество поездок')\n",
    "plt.show()"
   ]
  },
  {
   "cell_type": "markdown",
   "id": "1ccc8667",
   "metadata": {},
   "source": [
    "Доли поездок по подписке и без нее представлены в следующей пропорции: с подпиской - 36% поездок, без подписки - 64% поездок. "
   ]
  },
  {
   "cell_type": "markdown",
   "id": "74f561ae",
   "metadata": {},
   "source": [
    "### Анализ информации о расстоянии и времени поездок для пользователей обеих категорий."
   ]
  },
  {
   "cell_type": "markdown",
   "id": "3969da77",
   "metadata": {},
   "source": [
    "#### Анализ информации о расстоянии для пользователей с подпиской и без нее"
   ]
  },
  {
   "cell_type": "code",
   "execution_count": 39,
   "id": "0bec424c",
   "metadata": {},
   "outputs": [
    {
     "data": {
      "image/png": "[encoded data removed]",
      "text/plain": [
       "<Figure size 432x288 with 1 Axes>"
      ]
     },
     "metadata": {
      "needs_background": "light"
     },
     "output_type": "display_data"
    }
   ],
   "source": [
    "plt.hist([ultra_df['distance'], free_df['distance']], bins=100, label=['ultra', 'free']);\n",
    "plt.title('Количество поездок в зависимости от дистанции для пользователей обеих категорий')\n",
    "plt.xlabel('дистанция (метр)')\n",
    "plt.ylabel('количество поездок')\n",
    "plt.legend()\n",
    "plt.show()"
   ]
  },
  {
   "cell_type": "code",
   "execution_count": 40,
   "id": "e9338fa5",
   "metadata": {},
   "outputs": [
    {
     "data": {
      "text/plain": [
       "count    6500.000000\n",
       "mean     3114.949231\n",
       "std       836.894838\n",
       "min       244.000000\n",
       "25%      2785.000000\n",
       "50%      3148.000000\n",
       "75%      3560.000000\n",
       "max      5699.000000\n",
       "Name: distance, dtype: float64"
      ]
     },
     "execution_count": 40,
     "metadata": {},
     "output_type": "execute_result"
    }
   ],
   "source": [
    "ultra_df['distance'].describe()"
   ]
  },
  {
   "cell_type": "code",
   "execution_count": 41,
   "id": "d51bf0c7",
   "metadata": {},
   "outputs": [
    {
     "data": {
      "text/plain": [
       "count    11568.000000\n",
       "mean      3044.992911\n",
       "std       1246.174341\n",
       "min          0.000000\n",
       "25%       2366.000000\n",
       "50%       3114.000000\n",
       "75%       3905.000000\n",
       "max       7211.000000\n",
       "Name: distance, dtype: float64"
      ]
     },
     "execution_count": 41,
     "metadata": {},
     "output_type": "execute_result"
    }
   ],
   "source": [
    "free_df['distance'].describe()"
   ]
  },
  {
   "cell_type": "markdown",
   "id": "9734ad25",
   "metadata": {},
   "source": [
    "#### Анализ информации о времени для пользователей с подпиской и без нее"
   ]
  },
  {
   "cell_type": "code",
   "execution_count": 42,
   "id": "cd7a4f98",
   "metadata": {},
   "outputs": [
    {
     "data": {
      "image/png": "[encoded data removed]",
      "text/plain": [
       "<Figure size 432x288 with 1 Axes>"
      ]
     },
     "metadata": {
      "needs_background": "light"
     },
     "output_type": "display_data"
    }
   ],
   "source": [
    "plt.hist([ultra_df['duration'], free_df['duration']], bins=40, label=['ultra', 'free']);\n",
    "plt.title('Количество поездок в зависимости от времени сессии для пользователей обеих категорий')\n",
    "plt.xlabel('время сессии (мин.)')\n",
    "plt.ylabel('количество поездок')\n",
    "plt.legend()\n",
    "plt.show()"
   ]
  },
  {
   "cell_type": "code",
   "execution_count": 43,
   "id": "4796ad03",
   "metadata": {},
   "outputs": [
    {
     "data": {
      "text/plain": [
       "count    6500.000000\n",
       "mean       19.037692\n",
       "std         5.577439\n",
       "min         4.000000\n",
       "25%        15.000000\n",
       "50%        19.000000\n",
       "75%        22.000000\n",
       "max        41.000000\n",
       "Name: duration, dtype: float64"
      ]
     },
     "execution_count": 43,
     "metadata": {},
     "output_type": "execute_result"
    }
   ],
   "source": [
    "ultra_df['duration'].describe()"
   ]
  },
  {
   "cell_type": "code",
   "execution_count": 44,
   "id": "806a9bbd",
   "metadata": {},
   "outputs": [
    {
     "data": {
      "text/plain": [
       "count    11568.000000\n",
       "mean        17.890992\n",
       "std          6.330250\n",
       "min          1.000000\n",
       "25%         13.000000\n",
       "50%         18.000000\n",
       "75%         22.000000\n",
       "max         35.000000\n",
       "Name: duration, dtype: float64"
      ]
     },
     "execution_count": 44,
     "metadata": {},
     "output_type": "execute_result"
    }
   ],
   "source": [
    "free_df['duration'].describe()"
   ]
  },
  {
   "cell_type": "markdown",
   "id": "1cf92bf9",
   "metadata": {},
   "source": [
    "### **Вывод:**\n",
    "- С подпиской совершается треть поездок, без подписки - 2/3 поездок.\n",
    "- Несмотря на то, что обе группы пользователей чаще проезжают 3,1 км за одну сессию, для пользователей с подпиской характерен диапазон с 2785 м до 3560, а для пользователей без подписки диапазон более широкий - с 2366 до 3905. Визуальное представление зависимости количество поездок от дистанции одной сессии показывает, что пользователи без подписки чаще совершают поездки с дистанцией меньше 1,5 км.\n",
    "- Визуализация взаимосвязи времени одной сессии и количества поездок для обеих категорий пользователей показывает, что в целом диапазоны и медианные значения совпадают, также среди пользователей без подписки есть сессии с очень коротким временем (меньше 5 мин.)."
   ]
  },
  {
   "cell_type": "markdown",
   "id": "402d620f",
   "metadata": {},
   "source": [
    "## Подсчёт выручки"
   ]
  },
  {
   "cell_type": "markdown",
   "id": "1ed97d95",
   "metadata": {},
   "source": [
    "### Создадим датафрейм (users_months_df) с агрегированными данными о поездках на основе датафрейма (main_df):"
   ]
  },
  {
   "cell_type": "markdown",
   "id": "9844ccae",
   "metadata": {},
   "source": [
    "для каждого пользователя за каждый месяц\n",
    "- суммарное расстояние \n",
    "- количество поездок \n",
    "- суммарное время \n",
    "\n",
    "также продублируем столбцы со стоимостью старта поездки, одной минуты поездки и подписки. "
   ]
  },
  {
   "cell_type": "code",
   "execution_count": 45,
   "id": "12b8bbba",
   "metadata": {},
   "outputs": [
    {
     "name": "stdout",
     "output_type": "stream",
     "text": [
      "<class 'pandas.core.frame.DataFrame'>\n",
      "Int64Index: 18068 entries, 0 to 18067\n",
      "Data columns (total 12 columns):\n",
      " #   Column             Non-Null Count  Dtype         \n",
      "---  ------             --------------  -----         \n",
      " 0   user_id            18068 non-null  int64         \n",
      " 1   distance           18068 non-null  int64         \n",
      " 2   duration           18068 non-null  float64       \n",
      " 3   date               18068 non-null  datetime64[ns]\n",
      " 4   date_month         18068 non-null  int64         \n",
      " 5   name               18068 non-null  object        \n",
      " 6   age                18068 non-null  int64         \n",
      " 7   city               18068 non-null  object        \n",
      " 8   subscription_type  18068 non-null  object        \n",
      " 9   minute_price       18068 non-null  int64         \n",
      " 10  start_ride_price   18068 non-null  int64         \n",
      " 11  subscription_fee   18068 non-null  int64         \n",
      "dtypes: datetime64[ns](1), float64(1), int64(7), object(3)\n",
      "memory usage: 1.8+ MB\n"
     ]
    }
   ],
   "source": [
    "main_df.info()"
   ]
  },
  {
   "cell_type": "markdown",
   "id": "5a25bfe8",
   "metadata": {},
   "source": [
    "Для добавления в сводную таблицу данных о наличии подписки добавим новый столбец в main_df с категоризацией данных о наличии подписки: 1 - есть подписка, 0 - без подписки.  "
   ]
  },
  {
   "cell_type": "code",
   "execution_count": 46,
   "id": "567370b0",
   "metadata": {},
   "outputs": [],
   "source": [
    "def subscription_is(row):\n",
    "    if row == 'ultra':\n",
    "        return 1\n",
    "    else:\n",
    "        return 0\n",
    "\n",
    "main_df['subscription_is'] = main_df['subscription_type'].apply(subscription_is)"
   ]
  },
  {
   "cell_type": "code",
   "execution_count": 47,
   "id": "ba0fb4f2",
   "metadata": {},
   "outputs": [
    {
     "data": {
      "text/html": [
       "<div>\n",
       "<style scoped>\n",
       "    .dataframe tbody tr th:only-of-type {\n",
       "        vertical-align: middle;\n",
       "    }\n",
       "\n",
       "    .dataframe tbody tr th {\n",
       "        vertical-align: top;\n",
       "    }\n",
       "\n",
       "    .dataframe thead tr th {\n",
       "        text-align: left;\n",
       "    }\n",
       "\n",
       "    .dataframe thead tr:last-of-type th {\n",
       "        text-align: right;\n",
       "    }\n",
       "</style>\n",
       "<table border=\"1\" class=\"dataframe\">\n",
       "  <thead>\n",
       "    <tr>\n",
       "      <th></th>\n",
       "      <th></th>\n",
       "      <th>date</th>\n",
       "      <th>distance</th>\n",
       "      <th>duration</th>\n",
       "      <th>minute_price</th>\n",
       "      <th>start_ride_price</th>\n",
       "      <th>subscription_fee</th>\n",
       "      <th>subscription_is</th>\n",
       "    </tr>\n",
       "    <tr>\n",
       "      <th></th>\n",
       "      <th></th>\n",
       "      <th>count</th>\n",
       "      <th>sum</th>\n",
       "      <th>sum</th>\n",
       "      <th>mean</th>\n",
       "      <th>mean</th>\n",
       "      <th>mean</th>\n",
       "      <th>mean</th>\n",
       "    </tr>\n",
       "    <tr>\n",
       "      <th>user_id</th>\n",
       "      <th>date_month</th>\n",
       "      <th></th>\n",
       "      <th></th>\n",
       "      <th></th>\n",
       "      <th></th>\n",
       "      <th></th>\n",
       "      <th></th>\n",
       "      <th></th>\n",
       "    </tr>\n",
       "  </thead>\n",
       "  <tbody>\n",
       "    <tr>\n",
       "      <th rowspan=\"5\" valign=\"top\">1</th>\n",
       "      <th>1</th>\n",
       "      <td>2</td>\n",
       "      <td>7026</td>\n",
       "      <td>42.0</td>\n",
       "      <td>6</td>\n",
       "      <td>0</td>\n",
       "      <td>199</td>\n",
       "      <td>1</td>\n",
       "    </tr>\n",
       "    <tr>\n",
       "      <th>4</th>\n",
       "      <td>1</td>\n",
       "      <td>754</td>\n",
       "      <td>7.0</td>\n",
       "      <td>6</td>\n",
       "      <td>0</td>\n",
       "      <td>199</td>\n",
       "      <td>1</td>\n",
       "    </tr>\n",
       "    <tr>\n",
       "      <th>8</th>\n",
       "      <td>2</td>\n",
       "      <td>6722</td>\n",
       "      <td>46.0</td>\n",
       "      <td>6</td>\n",
       "      <td>0</td>\n",
       "      <td>199</td>\n",
       "      <td>1</td>\n",
       "    </tr>\n",
       "    <tr>\n",
       "      <th>10</th>\n",
       "      <td>2</td>\n",
       "      <td>5809</td>\n",
       "      <td>32.0</td>\n",
       "      <td>6</td>\n",
       "      <td>0</td>\n",
       "      <td>199</td>\n",
       "      <td>1</td>\n",
       "    </tr>\n",
       "    <tr>\n",
       "      <th>11</th>\n",
       "      <td>3</td>\n",
       "      <td>7002</td>\n",
       "      <td>56.0</td>\n",
       "      <td>6</td>\n",
       "      <td>0</td>\n",
       "      <td>199</td>\n",
       "      <td>1</td>\n",
       "    </tr>\n",
       "    <tr>\n",
       "      <th>...</th>\n",
       "      <th>...</th>\n",
       "      <td>...</td>\n",
       "      <td>...</td>\n",
       "      <td>...</td>\n",
       "      <td>...</td>\n",
       "      <td>...</td>\n",
       "      <td>...</td>\n",
       "      <td>...</td>\n",
       "    </tr>\n",
       "    <tr>\n",
       "      <th rowspan=\"5\" valign=\"top\">1534</th>\n",
       "      <th>6</th>\n",
       "      <td>2</td>\n",
       "      <td>3409</td>\n",
       "      <td>26.0</td>\n",
       "      <td>8</td>\n",
       "      <td>50</td>\n",
       "      <td>0</td>\n",
       "      <td>0</td>\n",
       "    </tr>\n",
       "    <tr>\n",
       "      <th>8</th>\n",
       "      <td>2</td>\n",
       "      <td>7621</td>\n",
       "      <td>48.0</td>\n",
       "      <td>8</td>\n",
       "      <td>50</td>\n",
       "      <td>0</td>\n",
       "      <td>0</td>\n",
       "    </tr>\n",
       "    <tr>\n",
       "      <th>9</th>\n",
       "      <td>1</td>\n",
       "      <td>4928</td>\n",
       "      <td>23.0</td>\n",
       "      <td>8</td>\n",
       "      <td>50</td>\n",
       "      <td>0</td>\n",
       "      <td>0</td>\n",
       "    </tr>\n",
       "    <tr>\n",
       "      <th>11</th>\n",
       "      <td>4</td>\n",
       "      <td>13349</td>\n",
       "      <td>78.0</td>\n",
       "      <td>8</td>\n",
       "      <td>50</td>\n",
       "      <td>0</td>\n",
       "      <td>0</td>\n",
       "    </tr>\n",
       "    <tr>\n",
       "      <th>12</th>\n",
       "      <td>1</td>\n",
       "      <td>2371</td>\n",
       "      <td>16.0</td>\n",
       "      <td>8</td>\n",
       "      <td>50</td>\n",
       "      <td>0</td>\n",
       "      <td>0</td>\n",
       "    </tr>\n",
       "  </tbody>\n",
       "</table>\n",
       "<p>11331 rows × 7 columns</p>\n",
       "</div>"
      ],
      "text/plain": [
       "                    date distance duration minute_price start_ride_price  \\\n",
       "                   count      sum      sum         mean             mean   \n",
       "user_id date_month                                                         \n",
       "1       1              2     7026     42.0            6                0   \n",
       "        4              1      754      7.0            6                0   \n",
       "        8              2     6722     46.0            6                0   \n",
       "        10             2     5809     32.0            6                0   \n",
       "        11             3     7002     56.0            6                0   \n",
       "...                  ...      ...      ...          ...              ...   \n",
       "1534    6              2     3409     26.0            8               50   \n",
       "        8              2     7621     48.0            8               50   \n",
       "        9              1     4928     23.0            8               50   \n",
       "        11             4    13349     78.0            8               50   \n",
       "        12             1     2371     16.0            8               50   \n",
       "\n",
       "                   subscription_fee subscription_is  \n",
       "                               mean            mean  \n",
       "user_id date_month                                   \n",
       "1       1                       199               1  \n",
       "        4                       199               1  \n",
       "        8                       199               1  \n",
       "        10                      199               1  \n",
       "        11                      199               1  \n",
       "...                             ...             ...  \n",
       "1534    6                         0               0  \n",
       "        8                         0               0  \n",
       "        9                         0               0  \n",
       "        11                        0               0  \n",
       "        12                        0               0  \n",
       "\n",
       "[11331 rows x 7 columns]"
      ]
     },
     "execution_count": 47,
     "metadata": {},
     "output_type": "execute_result"
    }
   ],
   "source": [
    "users_months_df = main_df.pivot_table(\n",
    "    index=('user_id', 'date_month', ), \n",
    "    values=('date', 'distance', 'duration', 'subscription_is', 'minute_price', 'start_ride_price', 'subscription_fee'), \n",
    "    aggfunc=({'date':{'count'}, 'distance':{'sum'}, 'duration':{'sum'}, 'subscription_is':{'mean'}, 'minute_price':{'mean'}, 'start_ride_price':{'mean'}, 'subscription_fee':{'mean'}})\n",
    ")\n",
    "users_months_df"
   ]
  },
  {
   "cell_type": "code",
   "execution_count": 48,
   "id": "ea5eaf4b",
   "metadata": {},
   "outputs": [
    {
     "data": {
      "text/html": [
       "<div>\n",
       "<style scoped>\n",
       "    .dataframe tbody tr th:only-of-type {\n",
       "        vertical-align: middle;\n",
       "    }\n",
       "\n",
       "    .dataframe tbody tr th {\n",
       "        vertical-align: top;\n",
       "    }\n",
       "\n",
       "    .dataframe thead th {\n",
       "        text-align: right;\n",
       "    }\n",
       "</style>\n",
       "<table border=\"1\" class=\"dataframe\">\n",
       "  <thead>\n",
       "    <tr style=\"text-align: right;\">\n",
       "      <th></th>\n",
       "      <th></th>\n",
       "      <th>count_rides</th>\n",
       "      <th>full_distance</th>\n",
       "      <th>full_duration</th>\n",
       "      <th>minute_price</th>\n",
       "      <th>start_ride_price</th>\n",
       "      <th>subscription_fee</th>\n",
       "      <th>ultra_is</th>\n",
       "    </tr>\n",
       "    <tr>\n",
       "      <th>user_id</th>\n",
       "      <th>date_month</th>\n",
       "      <th></th>\n",
       "      <th></th>\n",
       "      <th></th>\n",
       "      <th></th>\n",
       "      <th></th>\n",
       "      <th></th>\n",
       "      <th></th>\n",
       "    </tr>\n",
       "  </thead>\n",
       "  <tbody>\n",
       "    <tr>\n",
       "      <th rowspan=\"5\" valign=\"top\">1</th>\n",
       "      <th>1</th>\n",
       "      <td>2</td>\n",
       "      <td>7026</td>\n",
       "      <td>42.0</td>\n",
       "      <td>6</td>\n",
       "      <td>0</td>\n",
       "      <td>199</td>\n",
       "      <td>1</td>\n",
       "    </tr>\n",
       "    <tr>\n",
       "      <th>4</th>\n",
       "      <td>1</td>\n",
       "      <td>754</td>\n",
       "      <td>7.0</td>\n",
       "      <td>6</td>\n",
       "      <td>0</td>\n",
       "      <td>199</td>\n",
       "      <td>1</td>\n",
       "    </tr>\n",
       "    <tr>\n",
       "      <th>8</th>\n",
       "      <td>2</td>\n",
       "      <td>6722</td>\n",
       "      <td>46.0</td>\n",
       "      <td>6</td>\n",
       "      <td>0</td>\n",
       "      <td>199</td>\n",
       "      <td>1</td>\n",
       "    </tr>\n",
       "    <tr>\n",
       "      <th>10</th>\n",
       "      <td>2</td>\n",
       "      <td>5809</td>\n",
       "      <td>32.0</td>\n",
       "      <td>6</td>\n",
       "      <td>0</td>\n",
       "      <td>199</td>\n",
       "      <td>1</td>\n",
       "    </tr>\n",
       "    <tr>\n",
       "      <th>11</th>\n",
       "      <td>3</td>\n",
       "      <td>7002</td>\n",
       "      <td>56.0</td>\n",
       "      <td>6</td>\n",
       "      <td>0</td>\n",
       "      <td>199</td>\n",
       "      <td>1</td>\n",
       "    </tr>\n",
       "    <tr>\n",
       "      <th>...</th>\n",
       "      <th>...</th>\n",
       "      <td>...</td>\n",
       "      <td>...</td>\n",
       "      <td>...</td>\n",
       "      <td>...</td>\n",
       "      <td>...</td>\n",
       "      <td>...</td>\n",
       "      <td>...</td>\n",
       "    </tr>\n",
       "    <tr>\n",
       "      <th rowspan=\"5\" valign=\"top\">1534</th>\n",
       "      <th>6</th>\n",
       "      <td>2</td>\n",
       "      <td>3409</td>\n",
       "      <td>26.0</td>\n",
       "      <td>8</td>\n",
       "      <td>50</td>\n",
       "      <td>0</td>\n",
       "      <td>0</td>\n",
       "    </tr>\n",
       "    <tr>\n",
       "      <th>8</th>\n",
       "      <td>2</td>\n",
       "      <td>7621</td>\n",
       "      <td>48.0</td>\n",
       "      <td>8</td>\n",
       "      <td>50</td>\n",
       "      <td>0</td>\n",
       "      <td>0</td>\n",
       "    </tr>\n",
       "    <tr>\n",
       "      <th>9</th>\n",
       "      <td>1</td>\n",
       "      <td>4928</td>\n",
       "      <td>23.0</td>\n",
       "      <td>8</td>\n",
       "      <td>50</td>\n",
       "      <td>0</td>\n",
       "      <td>0</td>\n",
       "    </tr>\n",
       "    <tr>\n",
       "      <th>11</th>\n",
       "      <td>4</td>\n",
       "      <td>13349</td>\n",
       "      <td>78.0</td>\n",
       "      <td>8</td>\n",
       "      <td>50</td>\n",
       "      <td>0</td>\n",
       "      <td>0</td>\n",
       "    </tr>\n",
       "    <tr>\n",
       "      <th>12</th>\n",
       "      <td>1</td>\n",
       "      <td>2371</td>\n",
       "      <td>16.0</td>\n",
       "      <td>8</td>\n",
       "      <td>50</td>\n",
       "      <td>0</td>\n",
       "      <td>0</td>\n",
       "    </tr>\n",
       "  </tbody>\n",
       "</table>\n",
       "<p>11331 rows × 7 columns</p>\n",
       "</div>"
      ],
      "text/plain": [
       "                    count_rides  full_distance  full_duration  minute_price  \\\n",
       "user_id date_month                                                            \n",
       "1       1                     2           7026           42.0             6   \n",
       "        4                     1            754            7.0             6   \n",
       "        8                     2           6722           46.0             6   \n",
       "        10                    2           5809           32.0             6   \n",
       "        11                    3           7002           56.0             6   \n",
       "...                         ...            ...            ...           ...   \n",
       "1534    6                     2           3409           26.0             8   \n",
       "        8                     2           7621           48.0             8   \n",
       "        9                     1           4928           23.0             8   \n",
       "        11                    4          13349           78.0             8   \n",
       "        12                    1           2371           16.0             8   \n",
       "\n",
       "                    start_ride_price  subscription_fee  ultra_is  \n",
       "user_id date_month                                                \n",
       "1       1                          0               199         1  \n",
       "        4                          0               199         1  \n",
       "        8                          0               199         1  \n",
       "        10                         0               199         1  \n",
       "        11                         0               199         1  \n",
       "...                              ...               ...       ...  \n",
       "1534    6                         50                 0         0  \n",
       "        8                         50                 0         0  \n",
       "        9                         50                 0         0  \n",
       "        11                        50                 0         0  \n",
       "        12                        50                 0         0  \n",
       "\n",
       "[11331 rows x 7 columns]"
      ]
     },
     "execution_count": 48,
     "metadata": {},
     "output_type": "execute_result"
    }
   ],
   "source": [
    "users_months_df.columns = ['count_rides', 'full_distance', 'full_duration', 'minute_price', 'start_ride_price', 'subscription_fee', 'ultra_is']\n",
    "users_months_df"
   ]
  },
  {
   "cell_type": "code",
   "execution_count": 49,
   "id": "d45fb7bf",
   "metadata": {},
   "outputs": [
    {
     "name": "stdout",
     "output_type": "stream",
     "text": [
      "<class 'pandas.core.frame.DataFrame'>\n",
      "MultiIndex: 11331 entries, (1, 1) to (1534, 12)\n",
      "Data columns (total 7 columns):\n",
      " #   Column            Non-Null Count  Dtype  \n",
      "---  ------            --------------  -----  \n",
      " 0   count_rides       11331 non-null  int64  \n",
      " 1   full_distance     11331 non-null  int64  \n",
      " 2   full_duration     11331 non-null  float64\n",
      " 3   minute_price      11331 non-null  int64  \n",
      " 4   start_ride_price  11331 non-null  int64  \n",
      " 5   subscription_fee  11331 non-null  int64  \n",
      " 6   ultra_is          11331 non-null  int64  \n",
      "dtypes: float64(1), int64(6)\n",
      "memory usage: 665.1 KB\n"
     ]
    }
   ],
   "source": [
    "users_months_df.info()"
   ]
  },
  {
   "cell_type": "markdown",
   "id": "bcafb4d3",
   "metadata": {},
   "source": [
    "### В датафрейм (users_months_df) добавьте столбец с помесячной выручкой, которую принёс каждый пользователь. "
   ]
  },
  {
   "cell_type": "code",
   "execution_count": 50,
   "id": "f35eecc2",
   "metadata": {},
   "outputs": [
    {
     "data": {
      "text/html": [
       "<div>\n",
       "<style scoped>\n",
       "    .dataframe tbody tr th:only-of-type {\n",
       "        vertical-align: middle;\n",
       "    }\n",
       "\n",
       "    .dataframe tbody tr th {\n",
       "        vertical-align: top;\n",
       "    }\n",
       "\n",
       "    .dataframe thead th {\n",
       "        text-align: right;\n",
       "    }\n",
       "</style>\n",
       "<table border=\"1\" class=\"dataframe\">\n",
       "  <thead>\n",
       "    <tr style=\"text-align: right;\">\n",
       "      <th></th>\n",
       "      <th></th>\n",
       "      <th>count_rides</th>\n",
       "      <th>full_distance</th>\n",
       "      <th>full_duration</th>\n",
       "      <th>minute_price</th>\n",
       "      <th>start_ride_price</th>\n",
       "      <th>subscription_fee</th>\n",
       "      <th>ultra_is</th>\n",
       "      <th>revenue_months</th>\n",
       "    </tr>\n",
       "    <tr>\n",
       "      <th>user_id</th>\n",
       "      <th>date_month</th>\n",
       "      <th></th>\n",
       "      <th></th>\n",
       "      <th></th>\n",
       "      <th></th>\n",
       "      <th></th>\n",
       "      <th></th>\n",
       "      <th></th>\n",
       "      <th></th>\n",
       "    </tr>\n",
       "  </thead>\n",
       "  <tbody>\n",
       "    <tr>\n",
       "      <th rowspan=\"5\" valign=\"top\">1</th>\n",
       "      <th>1</th>\n",
       "      <td>2</td>\n",
       "      <td>7026</td>\n",
       "      <td>42.0</td>\n",
       "      <td>6</td>\n",
       "      <td>0</td>\n",
       "      <td>199</td>\n",
       "      <td>1</td>\n",
       "      <td>451.0</td>\n",
       "    </tr>\n",
       "    <tr>\n",
       "      <th>4</th>\n",
       "      <td>1</td>\n",
       "      <td>754</td>\n",
       "      <td>7.0</td>\n",
       "      <td>6</td>\n",
       "      <td>0</td>\n",
       "      <td>199</td>\n",
       "      <td>1</td>\n",
       "      <td>241.0</td>\n",
       "    </tr>\n",
       "    <tr>\n",
       "      <th>8</th>\n",
       "      <td>2</td>\n",
       "      <td>6722</td>\n",
       "      <td>46.0</td>\n",
       "      <td>6</td>\n",
       "      <td>0</td>\n",
       "      <td>199</td>\n",
       "      <td>1</td>\n",
       "      <td>475.0</td>\n",
       "    </tr>\n",
       "    <tr>\n",
       "      <th>10</th>\n",
       "      <td>2</td>\n",
       "      <td>5809</td>\n",
       "      <td>32.0</td>\n",
       "      <td>6</td>\n",
       "      <td>0</td>\n",
       "      <td>199</td>\n",
       "      <td>1</td>\n",
       "      <td>391.0</td>\n",
       "    </tr>\n",
       "    <tr>\n",
       "      <th>11</th>\n",
       "      <td>3</td>\n",
       "      <td>7002</td>\n",
       "      <td>56.0</td>\n",
       "      <td>6</td>\n",
       "      <td>0</td>\n",
       "      <td>199</td>\n",
       "      <td>1</td>\n",
       "      <td>535.0</td>\n",
       "    </tr>\n",
       "  </tbody>\n",
       "</table>\n",
       "</div>"
      ],
      "text/plain": [
       "                    count_rides  full_distance  full_duration  minute_price  \\\n",
       "user_id date_month                                                            \n",
       "1       1                     2           7026           42.0             6   \n",
       "        4                     1            754            7.0             6   \n",
       "        8                     2           6722           46.0             6   \n",
       "        10                    2           5809           32.0             6   \n",
       "        11                    3           7002           56.0             6   \n",
       "\n",
       "                    start_ride_price  subscription_fee  ultra_is  \\\n",
       "user_id date_month                                                 \n",
       "1       1                          0               199         1   \n",
       "        4                          0               199         1   \n",
       "        8                          0               199         1   \n",
       "        10                         0               199         1   \n",
       "        11                         0               199         1   \n",
       "\n",
       "                    revenue_months  \n",
       "user_id date_month                  \n",
       "1       1                    451.0  \n",
       "        4                    241.0  \n",
       "        8                    475.0  \n",
       "        10                   391.0  \n",
       "        11                   535.0  "
      ]
     },
     "execution_count": 50,
     "metadata": {},
     "output_type": "execute_result"
    }
   ],
   "source": [
    "users_months_df['revenue_months'] = users_months_df['start_ride_price']*users_months_df['count_rides']+users_months_df['minute_price']*users_months_df['full_duration']+users_months_df['subscription_fee']\n",
    "users_months_df.head()"
   ]
  },
  {
   "cell_type": "code",
   "execution_count": 51,
   "id": "8879aab7",
   "metadata": {},
   "outputs": [
    {
     "data": {
      "text/plain": [
       "3878641.0"
      ]
     },
     "execution_count": 51,
     "metadata": {},
     "output_type": "execute_result"
    }
   ],
   "source": [
    "users_months_df['revenue_months'].sum()"
   ]
  },
  {
   "cell_type": "code",
   "execution_count": 52,
   "id": "b1e76101",
   "metadata": {},
   "outputs": [
    {
     "data": {
      "image/png": "[encoded data removed]",
      "text/plain": [
       "<Figure size 864x432 with 1 Axes>"
      ]
     },
     "metadata": {
      "needs_background": "light"
     },
     "output_type": "display_data"
    }
   ],
   "source": [
    "users_months_df.pivot_table(index=('date_month'), values=('revenue_months'), aggfunc=('sum')).plot(grid=True, style='o-', figsize=(12,6))\n",
    "plt.title('Помесячная выручка')\n",
    "plt.xlabel('месяц (1 - январь, 12 - декабрь)')\n",
    "plt.ylabel('выручка (руб.)')\n",
    "plt.show()"
   ]
  },
  {
   "cell_type": "code",
   "execution_count": 53,
   "id": "8d3cb69e",
   "metadata": {},
   "outputs": [
    {
     "data": {
      "text/html": [
       "<div>\n",
       "<style scoped>\n",
       "    .dataframe tbody tr th:only-of-type {\n",
       "        vertical-align: middle;\n",
       "    }\n",
       "\n",
       "    .dataframe tbody tr th {\n",
       "        vertical-align: top;\n",
       "    }\n",
       "\n",
       "    .dataframe thead th {\n",
       "        text-align: right;\n",
       "    }\n",
       "</style>\n",
       "<table border=\"1\" class=\"dataframe\">\n",
       "  <thead>\n",
       "    <tr style=\"text-align: right;\">\n",
       "      <th></th>\n",
       "      <th>mean</th>\n",
       "      <th>sum</th>\n",
       "    </tr>\n",
       "    <tr>\n",
       "      <th>ultra_is</th>\n",
       "      <th></th>\n",
       "      <th></th>\n",
       "    </tr>\n",
       "  </thead>\n",
       "  <tbody>\n",
       "    <tr>\n",
       "      <th>0</th>\n",
       "      <td>328.641365</td>\n",
       "      <td>2234104.0</td>\n",
       "    </tr>\n",
       "    <tr>\n",
       "      <th>1</th>\n",
       "      <td>362.792191</td>\n",
       "      <td>1644537.0</td>\n",
       "    </tr>\n",
       "  </tbody>\n",
       "</table>\n",
       "</div>"
      ],
      "text/plain": [
       "                mean        sum\n",
       "ultra_is                       \n",
       "0         328.641365  2234104.0\n",
       "1         362.792191  1644537.0"
      ]
     },
     "execution_count": 53,
     "metadata": {},
     "output_type": "execute_result"
    }
   ],
   "source": [
    "users_months_df.pivot_table(index=['ultra_is'], values=('revenue_months'), aggfunc=('sum', 'mean'))"
   ]
  },
  {
   "cell_type": "code",
   "execution_count": 54,
   "id": "bd193ada",
   "metadata": {},
   "outputs": [
    {
     "data": {
      "image/png": "[encoded data removed]",
      "text/plain": [
       "<Figure size 864x432 with 1 Axes>"
      ]
     },
     "metadata": {
      "needs_background": "light"
     },
     "output_type": "display_data"
    }
   ],
   "source": [
    "users_months_df.pivot_table(index=['date_month'], values=('revenue_months'), columns=['ultra_is'], aggfunc=('sum')).plot(grid=True, style='o-', figsize=(12,6))\n",
    "plt.title('Помесячная выручка для пользователей с подпиской (\"1\") и без подписки (\"0\")')\n",
    "plt.xlabel('месяц (1 - январь, 12 - декабрь)')\n",
    "plt.ylabel('выручка (руб.)')\n",
    "plt.legend([\"без подписки\", \"Ultra\"], loc='right')\n",
    "plt.show()"
   ]
  },
  {
   "cell_type": "markdown",
   "id": "1b5da62f",
   "metadata": {},
   "source": [
    "### **Вывод**\n",
    "- годовая выручка (по всем городам) составила 3 878 641 руб.\n",
    "- помесячная выручка колеблется в диапазоне от 290 тыс.руб. (в феврале) и до 337 тыс.руб. (в январе).\n",
    "- выручка в зависимости от наличия подписки у пользователей различается: пользователи без подписки принесли компании 57,6% выручки, в то время как пользователи с подпиской 42,4% годовой выручки. Такой высокий показатель обусловлен тем, что количество поездок без подписки значительно выше, чем количество поездок с подпиской. При этом стоит отметить, что средняя выручка у пользователей с подпиской выше, чем у другой группы клиентов."
   ]
  },
  {
   "cell_type": "markdown",
   "id": "41545ac0",
   "metadata": {},
   "source": [
    "## Проверка гипотез"
   ]
  },
  {
   "cell_type": "markdown",
   "id": "dd538166",
   "metadata": {},
   "source": [
    "### Гипотеза 1\n",
    "\n",
    "Какие пользователи (с подпиской или без нее) тратят больше времени на поездки?\n",
    "Важно понять, тратят ли пользователи с подпиской больше времени на поездки? Если да, то пользователи с подпиской могут быть «выгоднее» для компании."
   ]
  },
  {
   "cell_type": "markdown",
   "id": "d1b95fcd",
   "metadata": {},
   "source": [
    "Гипотеза 1:\n",
    "- H0: среднее время одной сессии пользователей с подпиской *равно* среднему времени одной сессии пользователей без подписки;\n",
    "- H1: среднее время одной сессии пользователей с подпиской больше среднего времени одной сессии пользователей без подписки. "
   ]
  },
  {
   "cell_type": "markdown",
   "id": "a7e9651e",
   "metadata": {},
   "source": [
    "Используем исходные данные о продолжительности каждой сессии — отдельно для подписчиков и тех, у кого нет подписки, а также метод для проверки гипотезы о равенстве среднего двух генеральных совокупностей по взятым из них выборкам - scipy.stats.ttest_ind"
   ]
  },
  {
   "cell_type": "code",
   "execution_count": 55,
   "id": "24cacc57",
   "metadata": {},
   "outputs": [
    {
     "data": {
      "text/plain": [
       "'P-value:'"
      ]
     },
     "metadata": {},
     "output_type": "display_data"
    },
    {
     "data": {
      "text/plain": [
       "2.4959453720736625e-34"
      ]
     },
     "metadata": {},
     "output_type": "display_data"
    },
    {
     "name": "stdout",
     "output_type": "stream",
     "text": [
      "Отвергаем нулевую гипотезу.\n"
     ]
    }
   ],
   "source": [
    "alpha = 0.05 # уровень статистической значимости\n",
    "            \n",
    "results = st.ttest_ind(\n",
    "    ultra_df['duration'], \n",
    "    free_df['duration'],\n",
    "    alternative='greater')\n",
    "\n",
    "display('P-value:', results.pvalue)\n",
    "\n",
    "if results.pvalue < alpha:\n",
    "    print('Отвергаем нулевую гипотезу.')\n",
    "else:\n",
    "    print('Не получилось отвергнуть нулевую гипотезу.')"
   ]
  },
  {
   "cell_type": "markdown",
   "id": "9f5b1f49",
   "metadata": {},
   "source": [
    "**Вывод:**\n",
    "Нулевая гипотеза отпровергнута, среднее время пользователя с подпиской большей времени пользователя без подписки."
   ]
  },
  {
   "cell_type": "markdown",
   "id": "04b928dc",
   "metadata": {},
   "source": [
    "### Гипотеза 2\n",
    "\n",
    "Расстояние одной поездки в 3130 метров — оптимальное с точки зрения износа самоката. Можно ли сказать, что среднее расстояние, которое проезжают пользователи с подпиской за одну поездку, не превышает 3130 метров?"
   ]
  },
  {
   "cell_type": "markdown",
   "id": "b291e9b2",
   "metadata": {},
   "source": [
    "Гипотеза 2:\n",
    "\n",
    "- H0: среднее расстояние, проезжаемое пользователями с подпиской, равно оптимальному значению по износу самоката (3130 метров);\n",
    "- H1: среднее расстояние, проезжаемое пользователями с подпиской, больше чем оптимальное значению по износу самоката.\n",
    "\n",
    "Проведем односторонний тест и используем ttest_1samp:"
   ]
  },
  {
   "cell_type": "code",
   "execution_count": 56,
   "id": "0f14d8de",
   "metadata": {},
   "outputs": [
    {
     "data": {
      "text/plain": [
       "'P-value:'"
      ]
     },
     "metadata": {},
     "output_type": "display_data"
    },
    {
     "data": {
      "text/plain": [
       "0.9999927673300504"
      ]
     },
     "metadata": {},
     "output_type": "display_data"
    },
    {
     "name": "stdout",
     "output_type": "stream",
     "text": [
      "Не получилось отвергнуть нулевую гипотезу.\n"
     ]
    }
   ],
   "source": [
    "wear_distance = 3160\n",
    "alpha = 0.05 # уровень статистической значимости\n",
    "            \n",
    "results = st.ttest_1samp(\n",
    "    ultra_df['distance'], \n",
    "    wear_distance,\n",
    "    alternative='greater')\n",
    "\n",
    "display('P-value:', results.pvalue)\n",
    "\n",
    "if results.pvalue < alpha:\n",
    "    print('Отвергаем нулевую гипотезу.')\n",
    "else:\n",
    "    print('Не получилось отвергнуть нулевую гипотезу.')"
   ]
  },
  {
   "cell_type": "markdown",
   "id": "8a3ed7a0",
   "metadata": {},
   "source": [
    "**Вывод:**\n",
    "Нулевую гипотезу не удалось опровергнуть. Следовательно, можно говорить о том, что пользователи с подпиской используют самокат на меньшей дистанции, чем дистанция оптимального износа.  "
   ]
  },
  {
   "cell_type": "markdown",
   "id": "b3054762",
   "metadata": {},
   "source": [
    "### Гипотеза 3\n",
    "\n",
    "Проверим гипотезу о том, будет ли помесячная выручка от пользователей с подпиской по месяцам выше, чем выручка от пользователей без подписки."
   ]
  },
  {
   "cell_type": "markdown",
   "id": "b1b93d73",
   "metadata": {},
   "source": [
    "Гипотеза 3:\n",
    "\n",
    "- H0: ежемесячная средняя выручка пользователей с подпиской и без неё равна;\n",
    "- H1: ежемесячная средняя выручка пользователей с подпиской больше ежемесячной средней выручки пользователей без подписки."
   ]
  },
  {
   "cell_type": "code",
   "execution_count": 57,
   "id": "c8a54198",
   "metadata": {},
   "outputs": [
    {
     "data": {
      "text/plain": [
       "'среднее значение ежемесячной выручки для пользователей с подпиской: 362.7921906022502'"
      ]
     },
     "metadata": {},
     "output_type": "display_data"
    },
    {
     "data": {
      "text/plain": [
       "'среднее значение ежемесячной выручки для пользователей без подписки: 328.6413651073845'"
      ]
     },
     "metadata": {},
     "output_type": "display_data"
    }
   ],
   "source": [
    "users_ultra = users_months_df.loc[users_months_df['subscription_fee'] != 0, 'revenue_months']\n",
    "users_free = users_months_df.loc[users_months_df['subscription_fee'] == 0, 'revenue_months']\n",
    "display(f'среднее значение ежемесячной выручки для пользователей с подпиской: {np.mean(users_ultra)}')\n",
    "display(f'среднее значение ежемесячной выручки для пользователей без подписки: {np.mean(users_free)}')"
   ]
  },
  {
   "cell_type": "code",
   "execution_count": 58,
   "id": "947e3ed1",
   "metadata": {},
   "outputs": [
    {
     "data": {
      "text/plain": [
       "'P-value:'"
      ]
     },
     "metadata": {},
     "output_type": "display_data"
    },
    {
     "data": {
      "text/plain": [
       "1.8850394384715216e-31"
      ]
     },
     "metadata": {},
     "output_type": "display_data"
    },
    {
     "name": "stdout",
     "output_type": "stream",
     "text": [
      "Отвергаем нулевую гипотезу.\n"
     ]
    }
   ],
   "source": [
    "alpha = 0.05 # уровень статистической значимости\n",
    "            \n",
    "results = st.ttest_ind(\n",
    "    users_ultra, \n",
    "    users_free,\n",
    "    alternative='greater')\n",
    "\n",
    "display('P-value:', results.pvalue)\n",
    "\n",
    "if results.pvalue < alpha:\n",
    "    print('Отвергаем нулевую гипотезу.')\n",
    "else:\n",
    "    print('Не получилось отвергнуть нулевую гипотезу.')"
   ]
  },
  {
   "cell_type": "markdown",
   "id": "f6395b31",
   "metadata": {},
   "source": [
    "**Вывод:**\n",
    "Нулевая гипотезы опровергнута, выручки двух групп пользователей не равны. Можно говорить о том, что ежемесячная выручка пользователей с подпиской выше, чем у пользователей тез неё."
   ]
  },
  {
   "cell_type": "markdown",
   "id": "f8b03c3a",
   "metadata": {},
   "source": [
    "### Обоснование выбора теста для проверки гипотезы"
   ]
  },
  {
   "cell_type": "markdown",
   "id": "4d09bef0",
   "metadata": {},
   "source": [
    "Задача: техническая команда сервиса обновила сервера, с которыми взаимодействует мобильное приложение. Она надеется, что из-за этого количество обращений в техподдержку значимо снизилось. Некоторый файл содержит для каждого пользователя данные о количестве обращений до обновления и после него. "
   ]
  },
  {
   "cell_type": "markdown",
   "id": "baa90d38",
   "metadata": {},
   "source": [
    "Так как для анализа используются две зависимые (парные) выборки и проверяется равенство среднего значения массива данных одних и тех же пользователей до и после обновления сервиса, будем использовать scipy.stats.ttest_rel. Для аргумента alternative укажем левостороннюю альтернативную гипотезу ('less') о том, что истинное среднее ген.совокупности до изменения больше, чем после изменения."
   ]
  },
  {
   "cell_type": "markdown",
   "id": "27e768c1",
   "metadata": {},
   "source": [
    "### **Вывод:**\n",
    "- При проверке гипотезы о том, какие пользователи тратят больше времени на поездки была опровергнута гипотеза о том, что средних показатели групп пользователей с подпиской и без неё равны. Поэтому можно полагать, что средняя продолжительность поездки пользователя с подпиской больше средней поездки пользователя, который не оформлял подписку. Возможно, пользователи с подпиской могут быть «выгоднее» для компании. \n",
    "- Гипотезу о том, что среднее расстояние, которое проезжают пользователи с подпиской за одну поездку, не превышает оптимальной для износа самоката дистанции, не удалось опровергнуть. Можно говорить о том, что пользователи с подпиской используют самокат на меньшей дистанции, чем дистанция оптимального износа. \n",
    "- Гипотеза о том, что ежемесячная выручка пользователей с подпиской и без неё равны не подтвердилась. Можно говорить о том, что ежемесячная выручка пользователей с подпиской выше, чем у пользователей тез неё.\n",
    "- Для описанной ситуации используем scipy.stats.ttest_rel с аргументом alternative='less'."
   ]
  },
  {
   "cell_type": "markdown",
   "id": "cbf5fb9c",
   "metadata": {},
   "source": [
    "## Вывод по проекту:"
   ]
  },
  {
   "cell_type": "markdown",
   "id": "5fde1bfd",
   "metadata": {},
   "source": [
    "1. Загрузка и предобработка данных:\n",
    "- Для проведения анализа пользователей сервиса  аренды самокатов были представлены 3 датафрейма. \n",
    "- Данные о пользователях и поездках взаимосвязаны по id пользователей сервиса, а с данными о подписках по типу подписки (с ней или без нее). \n",
    "- Датафрейм с пользователями содержит 1565 записи, однако были выявлены 31 дубликат, датафрейм о поездках - 18068 записей (без дубликатов), датафрейм о типе подписки содержит 2 записи - по типу пользования самокатом (с подпиской и без неё). Пустые значения отсутствуют.\n",
    "- В данных о пользователях дубликаты были удалены. \n",
    "- В данных о поездках изменили тип данных: дистанцию и время пользования самоката перевели в числовые, дату пользования услугой - в специальный дата формат. Также добавили столбец с месяцами, для дальнейшего анализа.\n",
    "\n",
    "2. Исследовательский анализ данных показал, что:\n",
    "- Для анализа представлена база с пользователями из 8 городов из разных регионов РФ - южные города (Пятигорск, Ростов-на-Дону, Краснодар, Сочи), Урал и Сибирь (Екатеринбург, Омск, Тюмень), а также центральный регион (Москва). Больше всего пользователей в Пятигорске (14%), меньше всего в Москве (10%). Однако, в целом доли клиентов примерно равные (12%-13%).\n",
    "- Одна группа пользователей использует подписку (46%), а другая пользуется самокатом без неё (54%).\n",
    "- Большинство пользователей от 22 до 28 лет. Средний возраст - 25 лет.\n",
    "- Наиболее популярная сессия длится 18 минут и имеет дистанцию 3,1 км. Большинство пользователей преодолевают за 1 поездку от 2,5 км до 3,8 км и тратят на это от 14 до 22 минут. \n",
    "\n",
    "3. Объединение данных\n",
    "- Для дальнейшего анализа объединим изучаемые датафреймы по id пользователей и типу подписки. Новый датафрейм имеет 18068 строк, что идентично датафрейму по количеству поездок. \n",
    "- Без подписки совершается большинство сессий (2/3 от общего количества), и только треть - с подпиской.\n",
    "- Несмотря на то, что обе группы пользователей чаще проезжают 3,1 км за одну сессию, для пользователей с подпиской характерен диапазон с 2785 м до 3560, а для пользователей без подписки диапазон более широкий - с 2366 до 3905. Визуальное представление зависимости количество поездок от дистанции одной сессии показывает, что пользователи без подписки чаще, чем пользователи с подпиской, совершают поездки с дистанцией меньше 1,5 км.\n",
    "- Визуализация взаимосвязи времени одной сессии и количества поездок для обеих категорий пользователей показывает, что в целом диапазоны и медианные значения совпадают, однако также среди пользователей без подписки есть сессии с очень коротким временем (меньше 5 мин.).\n",
    "\n",
    "4. Подсчёт выручки\n",
    "- Для расчета выручки создали датафрейм с агрегированными данными за каждый месяц о поездках и стоимости услуг.\n",
    "- Годовая выручка (по всем городам) составила 3 878 641 руб.\n",
    "- Пользователи без подписки принесли компании 57,6% выручки, в то время как пользователи с подпиской 42,4% годовой выручки. Это объясняется тем, что количество поездок без подписки значительно выше, чем количество поездок с подпиской. \n",
    "- Помесячная выручка колеблется в диапазоне от 290 тыс.руб. (в феврале) и до 337 тыс.руб. (в январе).\n",
    "\n",
    "5. Проверка гипотез \n",
    "- При проверке гипотезы о том, какие пользователи тратят больше времени на поездки была опровергнута гипотеза о том, что средних показатели групп пользователей с подпиской и без неё равны. Поэтому можно полагать, что средняя продолжительность поездки пользователя с подпиской больше средней поездки пользователя, который не оформлял подписку. Возможно, пользователи с подпиской могут быть «выгоднее» для компании.\n",
    "- Гипотезу о том, что среднее расстояние, которое проезжают пользователи с подпиской за одну поездку, не превышает оптимальной для износа самоката дистанции, не удалось опровергнуть. Можно говорить о том, что пользователи с подпиской используют самокат на меньшей дистанции, чем дистанция оптимального износа.\n",
    "- Гипотеза о том, что ежемесячная выручка пользователей с подпиской и без неё равны не подтвердилась. Можно говорить о том, что ежемесячная выручка пользователей с подпиской выше, чем у пользователей тез неё.\n",
    "\n",
    "6. **Рекомендации для рекламного отдела**\n",
    "- Анализ выручки говорит о том, что в анализируемом году пользователи без подписки принесли \"больше денег\", однако показатели средней выручки и продолжительности 1ой сессии у пользователей с подпиской выше, чем у пользователей без подписки. На основе этого можно предположить, что группа пользователей с подпиской обладает большим потенциалом, а увеличение данной группы пользователей может привести к увеличению выручки в целом."
   ]
  },
  {
   "cell_type": "code",
   "execution_count": null,
   "id": "34726c53",
   "metadata": {},
   "outputs": [],
   "source": []
  }
 ],
 "metadata": {
  "ExecuteTimeLog": [
   {
    "duration": 362,
    "start_time": "2024-10-05T17:12:02.209Z"
   },
   {
    "duration": 87,
    "start_time": "2024-10-05T17:14:17.202Z"
   },
   {
    "duration": 163,
    "start_time": "2024-10-05T17:15:44.123Z"
   },
   {
    "duration": 33,
    "start_time": "2024-10-05T17:16:11.444Z"
   },
   {
    "duration": 45,
    "start_time": "2024-10-05T17:16:14.436Z"
   },
   {
    "duration": 81,
    "start_time": "2024-10-05T17:16:48.652Z"
   },
   {
    "duration": 34,
    "start_time": "2024-10-05T17:17:02.125Z"
   },
   {
    "duration": 48,
    "start_time": "2024-10-05T17:17:45.077Z"
   },
   {
    "duration": 37,
    "start_time": "2024-10-05T17:17:51.464Z"
   },
   {
    "duration": 34,
    "start_time": "2024-10-05T17:19:53.817Z"
   },
   {
    "duration": 33,
    "start_time": "2024-10-05T17:20:07.021Z"
   },
   {
    "duration": 34,
    "start_time": "2024-10-05T17:20:19.109Z"
   },
   {
    "duration": 45,
    "start_time": "2024-10-05T17:20:33.557Z"
   },
   {
    "duration": 35,
    "start_time": "2024-10-05T17:20:38.657Z"
   },
   {
    "duration": 14,
    "start_time": "2024-10-05T17:25:19.478Z"
   },
   {
    "duration": 7,
    "start_time": "2024-10-05T17:27:34.351Z"
   },
   {
    "duration": 7,
    "start_time": "2024-10-05T17:27:59.716Z"
   },
   {
    "duration": 7,
    "start_time": "2024-10-05T17:28:14.761Z"
   },
   {
    "duration": 8,
    "start_time": "2024-10-05T17:30:13.982Z"
   },
   {
    "duration": 6,
    "start_time": "2024-10-05T17:31:05.304Z"
   },
   {
    "duration": 8,
    "start_time": "2024-10-05T17:31:11.688Z"
   },
   {
    "duration": 60,
    "start_time": "2024-10-05T17:31:21.217Z"
   },
   {
    "duration": 7,
    "start_time": "2024-10-05T17:31:34.917Z"
   },
   {
    "duration": 61,
    "start_time": "2024-10-05T17:33:29.860Z"
   },
   {
    "duration": 10,
    "start_time": "2024-10-05T17:33:43.676Z"
   },
   {
    "duration": 8,
    "start_time": "2024-10-05T17:34:32.684Z"
   },
   {
    "duration": 8,
    "start_time": "2024-10-05T17:34:40.178Z"
   },
   {
    "duration": 159,
    "start_time": "2024-10-05T17:34:47.352Z"
   },
   {
    "duration": 6,
    "start_time": "2024-10-05T17:35:06.780Z"
   },
   {
    "duration": 487,
    "start_time": "2024-10-05T17:39:52.137Z"
   },
   {
    "duration": 42,
    "start_time": "2024-10-05T17:39:52.626Z"
   },
   {
    "duration": 37,
    "start_time": "2024-10-05T17:39:52.670Z"
   },
   {
    "duration": 20,
    "start_time": "2024-10-05T17:39:52.709Z"
   },
   {
    "duration": 22,
    "start_time": "2024-10-05T17:39:52.730Z"
   },
   {
    "duration": 41,
    "start_time": "2024-10-05T17:39:52.754Z"
   },
   {
    "duration": 11,
    "start_time": "2024-10-05T17:40:55.396Z"
   },
   {
    "duration": 9,
    "start_time": "2024-10-05T17:40:58.239Z"
   },
   {
    "duration": 10,
    "start_time": "2024-10-05T17:46:14.376Z"
   },
   {
    "duration": 5,
    "start_time": "2024-10-05T17:46:16.509Z"
   },
   {
    "duration": 827,
    "start_time": "2024-10-05T17:50:31.098Z"
   },
   {
    "duration": 249,
    "start_time": "2024-10-05T17:51:11.547Z"
   },
   {
    "duration": 132,
    "start_time": "2024-10-05T17:51:21.986Z"
   },
   {
    "duration": 9,
    "start_time": "2024-10-05T18:02:13.365Z"
   },
   {
    "duration": 16,
    "start_time": "2024-10-05T18:03:01.658Z"
   },
   {
    "duration": 8,
    "start_time": "2024-10-05T18:03:36.488Z"
   },
   {
    "duration": 7,
    "start_time": "2024-10-05T18:07:43.282Z"
   },
   {
    "duration": 7,
    "start_time": "2024-10-05T18:07:52.285Z"
   },
   {
    "duration": 6,
    "start_time": "2024-10-05T18:07:58.935Z"
   },
   {
    "duration": 6,
    "start_time": "2024-10-05T18:08:13.636Z"
   },
   {
    "duration": 5,
    "start_time": "2024-10-05T18:08:38.065Z"
   },
   {
    "duration": 416,
    "start_time": "2024-10-05T18:08:51.186Z"
   },
   {
    "duration": 43,
    "start_time": "2024-10-05T18:08:51.604Z"
   },
   {
    "duration": 36,
    "start_time": "2024-10-05T18:08:51.649Z"
   },
   {
    "duration": 20,
    "start_time": "2024-10-05T18:08:51.687Z"
   },
   {
    "duration": 11,
    "start_time": "2024-10-05T18:08:51.708Z"
   },
   {
    "duration": 29,
    "start_time": "2024-10-05T18:08:51.721Z"
   },
   {
    "duration": 30,
    "start_time": "2024-10-05T18:08:51.751Z"
   },
   {
    "duration": 28,
    "start_time": "2024-10-05T18:08:51.782Z"
   },
   {
    "duration": 10,
    "start_time": "2024-10-05T18:08:51.812Z"
   },
   {
    "duration": 16,
    "start_time": "2024-10-05T18:08:51.824Z"
   },
   {
    "duration": 34,
    "start_time": "2024-10-05T18:08:51.842Z"
   },
   {
    "duration": 23,
    "start_time": "2024-10-05T18:08:51.878Z"
   },
   {
    "duration": 7,
    "start_time": "2024-10-05T18:17:10.667Z"
   },
   {
    "duration": 5,
    "start_time": "2024-10-05T18:17:44.125Z"
   },
   {
    "duration": 7,
    "start_time": "2024-10-05T18:17:54.717Z"
   },
   {
    "duration": 7,
    "start_time": "2024-10-05T18:19:33.894Z"
   },
   {
    "duration": 3,
    "start_time": "2024-10-05T18:21:07.663Z"
   },
   {
    "duration": 377,
    "start_time": "2024-10-06T09:39:28.933Z"
   },
   {
    "duration": 79,
    "start_time": "2024-10-06T09:39:29.314Z"
   },
   {
    "duration": 153,
    "start_time": "2024-10-06T09:39:29.395Z"
   },
   {
    "duration": 69,
    "start_time": "2024-10-06T09:39:29.550Z"
   },
   {
    "duration": 69,
    "start_time": "2024-10-06T09:39:29.620Z"
   },
   {
    "duration": 23,
    "start_time": "2024-10-06T09:39:29.690Z"
   },
   {
    "duration": 16,
    "start_time": "2024-10-06T09:39:29.714Z"
   },
   {
    "duration": 7,
    "start_time": "2024-10-06T09:39:29.732Z"
   },
   {
    "duration": 11,
    "start_time": "2024-10-06T09:39:29.741Z"
   },
   {
    "duration": 18,
    "start_time": "2024-10-06T09:39:29.754Z"
   },
   {
    "duration": 8,
    "start_time": "2024-10-06T09:39:29.773Z"
   },
   {
    "duration": 3,
    "start_time": "2024-10-06T09:39:29.782Z"
   },
   {
    "duration": 9,
    "start_time": "2024-10-06T09:45:52.521Z"
   },
   {
    "duration": 8,
    "start_time": "2024-10-06T09:46:08.804Z"
   },
   {
    "duration": 8,
    "start_time": "2024-10-06T09:46:31.289Z"
   },
   {
    "duration": 8,
    "start_time": "2024-10-06T09:46:43.123Z"
   },
   {
    "duration": 4,
    "start_time": "2024-10-06T09:46:58.193Z"
   },
   {
    "duration": 9,
    "start_time": "2024-10-06T09:47:17.207Z"
   },
   {
    "duration": 7,
    "start_time": "2024-10-06T09:47:26.008Z"
   },
   {
    "duration": 9,
    "start_time": "2024-10-06T09:53:20.087Z"
   },
   {
    "duration": 12,
    "start_time": "2024-10-06T09:53:22.604Z"
   },
   {
    "duration": 65,
    "start_time": "2024-10-06T09:54:03.129Z"
   },
   {
    "duration": 8,
    "start_time": "2024-10-06T09:54:09.592Z"
   },
   {
    "duration": 6,
    "start_time": "2024-10-06T09:54:18.251Z"
   },
   {
    "duration": 6,
    "start_time": "2024-10-06T09:54:35.840Z"
   },
   {
    "duration": 7,
    "start_time": "2024-10-06T09:54:56.809Z"
   },
   {
    "duration": 6,
    "start_time": "2024-10-06T09:55:00.954Z"
   },
   {
    "duration": 6,
    "start_time": "2024-10-06T09:55:05.596Z"
   },
   {
    "duration": 8,
    "start_time": "2024-10-06T09:55:15.836Z"
   },
   {
    "duration": 8,
    "start_time": "2024-10-06T09:55:19.098Z"
   },
   {
    "duration": 5,
    "start_time": "2024-10-06T09:55:24.581Z"
   },
   {
    "duration": 6,
    "start_time": "2024-10-06T09:55:33.451Z"
   },
   {
    "duration": 5,
    "start_time": "2024-10-06T09:55:36.173Z"
   },
   {
    "duration": 5,
    "start_time": "2024-10-06T09:55:38.765Z"
   },
   {
    "duration": 5,
    "start_time": "2024-10-06T09:55:52.708Z"
   },
   {
    "duration": 5,
    "start_time": "2024-10-06T09:55:57.364Z"
   },
   {
    "duration": 440,
    "start_time": "2024-10-06T09:56:02.019Z"
   },
   {
    "duration": 39,
    "start_time": "2024-10-06T09:56:02.460Z"
   },
   {
    "duration": 63,
    "start_time": "2024-10-06T09:56:02.500Z"
   },
   {
    "duration": 21,
    "start_time": "2024-10-06T09:56:02.565Z"
   },
   {
    "duration": 60,
    "start_time": "2024-10-06T09:56:02.587Z"
   },
   {
    "duration": 13,
    "start_time": "2024-10-06T09:56:02.648Z"
   },
   {
    "duration": 31,
    "start_time": "2024-10-06T09:56:02.663Z"
   },
   {
    "duration": 7,
    "start_time": "2024-10-06T09:56:02.696Z"
   },
   {
    "duration": 8,
    "start_time": "2024-10-06T09:56:02.704Z"
   },
   {
    "duration": 11,
    "start_time": "2024-10-06T09:56:02.714Z"
   },
   {
    "duration": 19,
    "start_time": "2024-10-06T09:56:02.726Z"
   },
   {
    "duration": 9,
    "start_time": "2024-10-06T09:56:02.747Z"
   },
   {
    "duration": 41,
    "start_time": "2024-10-06T09:56:02.757Z"
   },
   {
    "duration": 5,
    "start_time": "2024-10-06T09:56:34.575Z"
   },
   {
    "duration": 6,
    "start_time": "2024-10-06T09:56:44.091Z"
   },
   {
    "duration": 3,
    "start_time": "2024-10-06T09:57:01.813Z"
   },
   {
    "duration": 3,
    "start_time": "2024-10-06T09:57:03.516Z"
   },
   {
    "duration": 859,
    "start_time": "2024-10-06T10:00:53.135Z"
   },
   {
    "duration": 14,
    "start_time": "2024-10-06T10:01:45.073Z"
   },
   {
    "duration": 47,
    "start_time": "2024-10-06T10:01:54.112Z"
   },
   {
    "duration": 16,
    "start_time": "2024-10-06T10:02:21.368Z"
   },
   {
    "duration": 14,
    "start_time": "2024-10-06T10:02:29.257Z"
   },
   {
    "duration": 13,
    "start_time": "2024-10-06T10:03:08.306Z"
   },
   {
    "duration": 10,
    "start_time": "2024-10-06T10:04:09.651Z"
   },
   {
    "duration": 5,
    "start_time": "2024-10-06T10:06:37.290Z"
   },
   {
    "duration": 6,
    "start_time": "2024-10-06T10:07:19.109Z"
   },
   {
    "duration": 6,
    "start_time": "2024-10-06T10:07:34.475Z"
   },
   {
    "duration": 7,
    "start_time": "2024-10-06T10:07:46.141Z"
   },
   {
    "duration": 6,
    "start_time": "2024-10-06T10:09:17.813Z"
   },
   {
    "duration": 4,
    "start_time": "2024-10-06T10:09:24.773Z"
   },
   {
    "duration": 6,
    "start_time": "2024-10-06T10:09:53.661Z"
   },
   {
    "duration": 6,
    "start_time": "2024-10-06T10:10:35.723Z"
   },
   {
    "duration": 5,
    "start_time": "2024-10-06T10:10:44.429Z"
   },
   {
    "duration": 8,
    "start_time": "2024-10-06T10:12:53.532Z"
   },
   {
    "duration": 9,
    "start_time": "2024-10-06T10:14:07.467Z"
   },
   {
    "duration": 5,
    "start_time": "2024-10-06T10:14:38.403Z"
   },
   {
    "duration": 6,
    "start_time": "2024-10-06T10:15:53.521Z"
   },
   {
    "duration": 7,
    "start_time": "2024-10-06T10:16:25.474Z"
   },
   {
    "duration": 7,
    "start_time": "2024-10-06T10:23:49.985Z"
   },
   {
    "duration": 4,
    "start_time": "2024-10-06T10:24:03.054Z"
   },
   {
    "duration": 4,
    "start_time": "2024-10-06T10:24:26.784Z"
   },
   {
    "duration": 11,
    "start_time": "2024-10-06T10:26:30.556Z"
   },
   {
    "duration": 11,
    "start_time": "2024-10-06T10:27:52.376Z"
   },
   {
    "duration": 542,
    "start_time": "2024-10-06T10:28:41.739Z"
   },
   {
    "duration": 147,
    "start_time": "2024-10-06T10:29:12.198Z"
   },
   {
    "duration": 2,
    "start_time": "2024-10-06T10:40:36.802Z"
   },
   {
    "duration": 3,
    "start_time": "2024-10-06T10:41:51.001Z"
   },
   {
    "duration": 6,
    "start_time": "2024-10-06T10:41:57.792Z"
   },
   {
    "duration": 7,
    "start_time": "2024-10-06T10:42:08.719Z"
   },
   {
    "duration": 6,
    "start_time": "2024-10-06T10:42:17.370Z"
   },
   {
    "duration": 367,
    "start_time": "2024-10-06T10:42:53.964Z"
   },
   {
    "duration": 37,
    "start_time": "2024-10-06T10:42:54.333Z"
   },
   {
    "duration": 32,
    "start_time": "2024-10-06T10:42:54.371Z"
   },
   {
    "duration": 19,
    "start_time": "2024-10-06T10:42:54.404Z"
   },
   {
    "duration": 11,
    "start_time": "2024-10-06T10:42:54.425Z"
   },
   {
    "duration": 7,
    "start_time": "2024-10-06T10:42:54.437Z"
   },
   {
    "duration": 9,
    "start_time": "2024-10-06T10:42:54.445Z"
   },
   {
    "duration": 5,
    "start_time": "2024-10-06T10:42:54.455Z"
   },
   {
    "duration": 21,
    "start_time": "2024-10-06T10:42:54.461Z"
   },
   {
    "duration": 6,
    "start_time": "2024-10-06T10:42:54.483Z"
   },
   {
    "duration": 23,
    "start_time": "2024-10-06T10:42:54.490Z"
   },
   {
    "duration": 7,
    "start_time": "2024-10-06T10:42:54.514Z"
   },
   {
    "duration": 5,
    "start_time": "2024-10-06T10:42:54.522Z"
   },
   {
    "duration": 10,
    "start_time": "2024-10-06T10:42:54.530Z"
   },
   {
    "duration": 65,
    "start_time": "2024-10-06T10:42:54.541Z"
   },
   {
    "duration": 5,
    "start_time": "2024-10-06T10:42:54.608Z"
   },
   {
    "duration": 86,
    "start_time": "2024-10-06T10:42:54.614Z"
   },
   {
    "duration": 6,
    "start_time": "2024-10-06T10:42:54.702Z"
   },
   {
    "duration": 8,
    "start_time": "2024-10-06T10:42:54.710Z"
   },
   {
    "duration": 383,
    "start_time": "2024-10-06T10:42:54.719Z"
   },
   {
    "duration": 2,
    "start_time": "2024-10-06T10:44:20.979Z"
   },
   {
    "duration": 594,
    "start_time": "2024-10-06T10:44:26.639Z"
   },
   {
    "duration": 36,
    "start_time": "2024-10-06T10:44:27.235Z"
   },
   {
    "duration": 57,
    "start_time": "2024-10-06T10:44:27.272Z"
   },
   {
    "duration": 18,
    "start_time": "2024-10-06T10:44:27.331Z"
   },
   {
    "duration": 10,
    "start_time": "2024-10-06T10:44:27.352Z"
   },
   {
    "duration": 13,
    "start_time": "2024-10-06T10:44:27.364Z"
   },
   {
    "duration": 10,
    "start_time": "2024-10-06T10:44:27.378Z"
   },
   {
    "duration": 33,
    "start_time": "2024-10-06T10:44:27.389Z"
   },
   {
    "duration": 53,
    "start_time": "2024-10-06T10:44:27.424Z"
   },
   {
    "duration": 11,
    "start_time": "2024-10-06T10:44:27.478Z"
   },
   {
    "duration": 11,
    "start_time": "2024-10-06T10:44:27.490Z"
   },
   {
    "duration": 7,
    "start_time": "2024-10-06T10:44:27.503Z"
   },
   {
    "duration": 23,
    "start_time": "2024-10-06T10:44:27.511Z"
   },
   {
    "duration": 17,
    "start_time": "2024-10-06T10:44:27.537Z"
   },
   {
    "duration": 17,
    "start_time": "2024-10-06T10:44:27.560Z"
   },
   {
    "duration": 23,
    "start_time": "2024-10-06T10:44:27.579Z"
   },
   {
    "duration": 7,
    "start_time": "2024-10-06T10:44:27.604Z"
   },
   {
    "duration": 20,
    "start_time": "2024-10-06T10:44:27.612Z"
   },
   {
    "duration": 12,
    "start_time": "2024-10-06T10:44:27.633Z"
   },
   {
    "duration": 156,
    "start_time": "2024-10-06T10:44:27.646Z"
   },
   {
    "duration": 166,
    "start_time": "2024-10-06T10:46:18.976Z"
   },
   {
    "duration": 144,
    "start_time": "2024-10-06T10:49:10.048Z"
   },
   {
    "duration": 152,
    "start_time": "2024-10-06T10:49:28.799Z"
   },
   {
    "duration": 208,
    "start_time": "2024-10-06T10:49:49.130Z"
   },
   {
    "duration": 13,
    "start_time": "2024-10-06T10:51:07.521Z"
   },
   {
    "duration": 14,
    "start_time": "2024-10-06T10:51:49.722Z"
   },
   {
    "duration": 148,
    "start_time": "2024-10-06T10:52:30.662Z"
   },
   {
    "duration": 146,
    "start_time": "2024-10-06T10:52:38.997Z"
   },
   {
    "duration": 150,
    "start_time": "2024-10-06T10:52:59.195Z"
   },
   {
    "duration": 155,
    "start_time": "2024-10-06T10:53:11.213Z"
   },
   {
    "duration": 7,
    "start_time": "2024-10-06T10:57:36.665Z"
   },
   {
    "duration": 142,
    "start_time": "2024-10-06T10:57:54.169Z"
   },
   {
    "duration": 9,
    "start_time": "2024-10-06T10:58:19.951Z"
   },
   {
    "duration": 6,
    "start_time": "2024-10-06T10:58:53.726Z"
   },
   {
    "duration": 5,
    "start_time": "2024-10-06T10:59:24.589Z"
   },
   {
    "duration": 7,
    "start_time": "2024-10-06T10:59:49.546Z"
   },
   {
    "duration": 7,
    "start_time": "2024-10-06T11:00:13.028Z"
   },
   {
    "duration": 73,
    "start_time": "2024-10-06T11:00:32.036Z"
   },
   {
    "duration": 7,
    "start_time": "2024-10-06T11:00:45.671Z"
   },
   {
    "duration": 7,
    "start_time": "2024-10-06T11:01:00.794Z"
   },
   {
    "duration": 6,
    "start_time": "2024-10-06T11:01:17.722Z"
   },
   {
    "duration": 6,
    "start_time": "2024-10-06T11:01:26.919Z"
   },
   {
    "duration": 7,
    "start_time": "2024-10-06T11:01:48.065Z"
   },
   {
    "duration": 7,
    "start_time": "2024-10-06T11:02:01.663Z"
   },
   {
    "duration": 9,
    "start_time": "2024-10-06T11:02:23.450Z"
   },
   {
    "duration": 15,
    "start_time": "2024-10-06T11:12:27.285Z"
   },
   {
    "duration": 148,
    "start_time": "2024-10-06T11:12:50.227Z"
   },
   {
    "duration": 131,
    "start_time": "2024-10-06T11:13:17.587Z"
   },
   {
    "duration": 273,
    "start_time": "2024-10-06T11:14:42.952Z"
   },
   {
    "duration": 15,
    "start_time": "2024-10-06T11:15:05.525Z"
   },
   {
    "duration": 18,
    "start_time": "2024-10-06T11:15:37.281Z"
   },
   {
    "duration": 128,
    "start_time": "2024-10-06T11:16:09.906Z"
   },
   {
    "duration": 6,
    "start_time": "2024-10-06T11:16:50.465Z"
   },
   {
    "duration": 6,
    "start_time": "2024-10-06T11:16:58.723Z"
   },
   {
    "duration": 4,
    "start_time": "2024-10-06T11:17:14.351Z"
   },
   {
    "duration": 5,
    "start_time": "2024-10-06T11:17:28.543Z"
   },
   {
    "duration": 5,
    "start_time": "2024-10-06T11:18:14.373Z"
   },
   {
    "duration": 129,
    "start_time": "2024-10-06T11:20:39.333Z"
   },
   {
    "duration": 153,
    "start_time": "2024-10-06T11:21:04.408Z"
   },
   {
    "duration": 1153,
    "start_time": "2024-10-06T11:30:52.474Z"
   },
   {
    "duration": 1452,
    "start_time": "2024-10-06T11:32:11.375Z"
   },
   {
    "duration": 1004,
    "start_time": "2024-10-06T11:32:31.224Z"
   },
   {
    "duration": 13,
    "start_time": "2024-10-06T11:32:43.794Z"
   },
   {
    "duration": 1075,
    "start_time": "2024-10-06T11:33:14.978Z"
   },
   {
    "duration": 1056,
    "start_time": "2024-10-06T11:33:38.803Z"
   },
   {
    "duration": 137,
    "start_time": "2024-10-06T11:34:02.775Z"
   },
   {
    "duration": 125,
    "start_time": "2024-10-06T11:34:32.186Z"
   },
   {
    "duration": 6,
    "start_time": "2024-10-06T11:34:54.261Z"
   },
   {
    "duration": 6,
    "start_time": "2024-10-06T11:35:08.719Z"
   },
   {
    "duration": 122,
    "start_time": "2024-10-06T11:37:44.775Z"
   },
   {
    "duration": 7,
    "start_time": "2024-10-06T11:39:08.256Z"
   },
   {
    "duration": 7,
    "start_time": "2024-10-06T11:40:31.975Z"
   },
   {
    "duration": 13,
    "start_time": "2024-10-06T11:42:44.998Z"
   },
   {
    "duration": 15,
    "start_time": "2024-10-06T11:42:50.902Z"
   },
   {
    "duration": 12,
    "start_time": "2024-10-06T11:43:08.455Z"
   },
   {
    "duration": 11,
    "start_time": "2024-10-06T11:43:24.790Z"
   },
   {
    "duration": 20,
    "start_time": "2024-10-06T11:44:02.964Z"
   },
   {
    "duration": 18,
    "start_time": "2024-10-06T11:44:25.043Z"
   },
   {
    "duration": 11,
    "start_time": "2024-10-06T11:44:38.525Z"
   },
   {
    "duration": 12,
    "start_time": "2024-10-06T11:44:48.272Z"
   },
   {
    "duration": 233,
    "start_time": "2024-10-06T11:49:13.942Z"
   },
   {
    "duration": 239,
    "start_time": "2024-10-06T11:49:27.804Z"
   },
   {
    "duration": 234,
    "start_time": "2024-10-06T11:49:40.888Z"
   },
   {
    "duration": 232,
    "start_time": "2024-10-06T11:50:39.754Z"
   },
   {
    "duration": 1033,
    "start_time": "2024-10-06T13:27:14.076Z"
   },
   {
    "duration": 638,
    "start_time": "2024-10-06T13:27:24.172Z"
   },
   {
    "duration": 35,
    "start_time": "2024-10-06T13:27:24.813Z"
   },
   {
    "duration": 31,
    "start_time": "2024-10-06T13:27:24.850Z"
   },
   {
    "duration": 18,
    "start_time": "2024-10-06T13:27:24.883Z"
   },
   {
    "duration": 10,
    "start_time": "2024-10-06T13:27:24.902Z"
   },
   {
    "duration": 13,
    "start_time": "2024-10-06T13:27:24.913Z"
   },
   {
    "duration": 9,
    "start_time": "2024-10-06T13:27:24.928Z"
   },
   {
    "duration": 5,
    "start_time": "2024-10-06T13:27:24.939Z"
   },
   {
    "duration": 8,
    "start_time": "2024-10-06T13:27:24.946Z"
   },
   {
    "duration": 32,
    "start_time": "2024-10-06T13:27:24.957Z"
   },
   {
    "duration": 13,
    "start_time": "2024-10-06T13:27:24.990Z"
   },
   {
    "duration": 28,
    "start_time": "2024-10-06T13:27:25.005Z"
   },
   {
    "duration": 10,
    "start_time": "2024-10-06T13:27:25.034Z"
   },
   {
    "duration": 7,
    "start_time": "2024-10-06T13:27:25.046Z"
   },
   {
    "duration": 7,
    "start_time": "2024-10-06T13:27:25.055Z"
   },
   {
    "duration": 20,
    "start_time": "2024-10-06T13:27:25.064Z"
   },
   {
    "duration": 6,
    "start_time": "2024-10-06T13:27:25.087Z"
   },
   {
    "duration": 6,
    "start_time": "2024-10-06T13:27:25.095Z"
   },
   {
    "duration": 7,
    "start_time": "2024-10-06T13:27:25.103Z"
   },
   {
    "duration": 197,
    "start_time": "2024-10-06T13:27:25.112Z"
   },
   {
    "duration": 8,
    "start_time": "2024-10-06T13:27:25.310Z"
   },
   {
    "duration": 202,
    "start_time": "2024-10-06T13:27:25.319Z"
   },
   {
    "duration": 5,
    "start_time": "2024-10-06T13:27:25.522Z"
   },
   {
    "duration": 11,
    "start_time": "2024-10-06T13:27:25.528Z"
   },
   {
    "duration": 236,
    "start_time": "2024-10-06T13:27:25.540Z"
   },
   {
    "duration": 1154,
    "start_time": "2024-10-06T13:27:25.777Z"
   },
   {
    "duration": 8,
    "start_time": "2024-10-06T13:27:52.524Z"
   },
   {
    "duration": 5,
    "start_time": "2024-10-06T13:29:35.516Z"
   },
   {
    "duration": 6,
    "start_time": "2024-10-06T13:29:49.779Z"
   },
   {
    "duration": 5,
    "start_time": "2024-10-06T13:30:10.727Z"
   },
   {
    "duration": 9,
    "start_time": "2024-10-06T13:31:12.429Z"
   },
   {
    "duration": 9,
    "start_time": "2024-10-06T13:32:35.854Z"
   },
   {
    "duration": 12,
    "start_time": "2024-10-06T13:33:54.469Z"
   },
   {
    "duration": 52,
    "start_time": "2024-10-06T13:42:32.221Z"
   },
   {
    "duration": 11,
    "start_time": "2024-10-06T13:43:09.971Z"
   },
   {
    "duration": 13,
    "start_time": "2024-10-06T13:45:59.747Z"
   },
   {
    "duration": 14,
    "start_time": "2024-10-06T13:46:29.339Z"
   },
   {
    "duration": 9,
    "start_time": "2024-10-06T13:46:44.160Z"
   },
   {
    "duration": 14,
    "start_time": "2024-10-06T13:55:49.034Z"
   },
   {
    "duration": 14,
    "start_time": "2024-10-06T13:57:51.622Z"
   },
   {
    "duration": 12,
    "start_time": "2024-10-06T13:59:48.467Z"
   },
   {
    "duration": 13,
    "start_time": "2024-10-06T14:00:11.031Z"
   },
   {
    "duration": 19,
    "start_time": "2024-10-06T14:00:37.001Z"
   },
   {
    "duration": 19,
    "start_time": "2024-10-06T14:01:17.291Z"
   },
   {
    "duration": 26,
    "start_time": "2024-10-06T14:08:56.376Z"
   },
   {
    "duration": 18,
    "start_time": "2024-10-06T14:09:50.167Z"
   },
   {
    "duration": 19,
    "start_time": "2024-10-06T14:13:08.757Z"
   },
   {
    "duration": 9,
    "start_time": "2024-10-06T14:13:57.803Z"
   },
   {
    "duration": 9,
    "start_time": "2024-10-06T14:14:10.769Z"
   },
   {
    "duration": 9,
    "start_time": "2024-10-06T14:14:19.265Z"
   },
   {
    "duration": 240,
    "start_time": "2024-10-06T14:19:27.008Z"
   },
   {
    "duration": 572,
    "start_time": "2024-10-06T14:21:17.846Z"
   },
   {
    "duration": 34,
    "start_time": "2024-10-06T14:21:18.420Z"
   },
   {
    "duration": 31,
    "start_time": "2024-10-06T14:21:18.456Z"
   },
   {
    "duration": 18,
    "start_time": "2024-10-06T14:21:18.489Z"
   },
   {
    "duration": 10,
    "start_time": "2024-10-06T14:21:18.508Z"
   },
   {
    "duration": 122,
    "start_time": "2024-10-06T14:21:18.520Z"
   },
   {
    "duration": 17,
    "start_time": "2024-10-06T14:21:18.644Z"
   },
   {
    "duration": 6,
    "start_time": "2024-10-06T14:21:18.662Z"
   },
   {
    "duration": 11,
    "start_time": "2024-10-06T14:21:18.669Z"
   },
   {
    "duration": 6,
    "start_time": "2024-10-06T14:21:18.682Z"
   },
   {
    "duration": 21,
    "start_time": "2024-10-06T14:21:18.690Z"
   },
   {
    "duration": 21,
    "start_time": "2024-10-06T14:21:18.712Z"
   },
   {
    "duration": 15,
    "start_time": "2024-10-06T14:21:18.734Z"
   },
   {
    "duration": 10,
    "start_time": "2024-10-06T14:21:18.751Z"
   },
   {
    "duration": 6,
    "start_time": "2024-10-06T14:21:18.763Z"
   },
   {
    "duration": 4,
    "start_time": "2024-10-06T14:21:18.770Z"
   },
   {
    "duration": 22,
    "start_time": "2024-10-06T14:21:18.775Z"
   },
   {
    "duration": 12,
    "start_time": "2024-10-06T14:21:18.798Z"
   },
   {
    "duration": 34,
    "start_time": "2024-10-06T14:21:18.812Z"
   },
   {
    "duration": 188,
    "start_time": "2024-10-06T14:21:18.848Z"
   },
   {
    "duration": 7,
    "start_time": "2024-10-06T14:21:19.038Z"
   },
   {
    "duration": 138,
    "start_time": "2024-10-06T14:21:19.047Z"
   },
   {
    "duration": 5,
    "start_time": "2024-10-06T14:21:19.187Z"
   },
   {
    "duration": 8,
    "start_time": "2024-10-06T14:21:19.207Z"
   },
   {
    "duration": 246,
    "start_time": "2024-10-06T14:21:19.216Z"
   },
   {
    "duration": 7,
    "start_time": "2024-10-06T14:21:19.463Z"
   },
   {
    "duration": 174,
    "start_time": "2024-10-06T14:21:19.471Z"
   },
   {
    "duration": 13,
    "start_time": "2024-10-06T14:21:31.951Z"
   },
   {
    "duration": 48119,
    "start_time": "2024-10-06T14:21:55.260Z"
   },
   {
    "duration": 233,
    "start_time": "2024-10-06T14:23:08.416Z"
   },
   {
    "duration": 220,
    "start_time": "2024-10-06T14:23:24.463Z"
   },
   {
    "duration": 226,
    "start_time": "2024-10-06T14:23:28.982Z"
   },
   {
    "duration": 594,
    "start_time": "2024-10-06T14:23:48.422Z"
   },
   {
    "duration": 583,
    "start_time": "2024-10-06T14:24:55.226Z"
   },
   {
    "duration": 215,
    "start_time": "2024-10-06T14:25:04.395Z"
   },
   {
    "duration": 199,
    "start_time": "2024-10-06T14:26:13.766Z"
   },
   {
    "duration": 213,
    "start_time": "2024-10-06T14:26:23.253Z"
   },
   {
    "duration": 1215,
    "start_time": "2024-10-06T14:26:33.320Z"
   },
   {
    "duration": 352,
    "start_time": "2024-10-06T14:26:47.416Z"
   },
   {
    "duration": 412,
    "start_time": "2024-10-06T14:27:02.255Z"
   },
   {
    "duration": 280,
    "start_time": "2024-10-06T14:27:13.954Z"
   },
   {
    "duration": 276,
    "start_time": "2024-10-06T14:28:06.356Z"
   },
   {
    "duration": 136,
    "start_time": "2024-10-06T14:29:28.648Z"
   },
   {
    "duration": 116,
    "start_time": "2024-10-06T14:29:56.462Z"
   },
   {
    "duration": 108,
    "start_time": "2024-10-06T14:30:14.509Z"
   },
   {
    "duration": 118,
    "start_time": "2024-10-06T14:30:22.691Z"
   },
   {
    "duration": 115,
    "start_time": "2024-10-06T14:30:30.870Z"
   },
   {
    "duration": 242,
    "start_time": "2024-10-06T14:32:07.250Z"
   },
   {
    "duration": 206,
    "start_time": "2024-10-06T14:32:24.045Z"
   },
   {
    "duration": 254,
    "start_time": "2024-10-06T14:32:41.674Z"
   },
   {
    "duration": 230,
    "start_time": "2024-10-06T14:33:09.679Z"
   },
   {
    "duration": 8,
    "start_time": "2024-10-06T14:43:39.856Z"
   },
   {
    "duration": 229,
    "start_time": "2024-10-06T14:45:31.250Z"
   },
   {
    "duration": 226,
    "start_time": "2024-10-06T14:46:17.366Z"
   },
   {
    "duration": 170,
    "start_time": "2024-10-06T14:46:27.669Z"
   },
   {
    "duration": 179,
    "start_time": "2024-10-06T14:46:33.248Z"
   },
   {
    "duration": 157,
    "start_time": "2024-10-06T14:46:38.990Z"
   },
   {
    "duration": 103,
    "start_time": "2024-10-06T14:47:03.820Z"
   },
   {
    "duration": 185,
    "start_time": "2024-10-06T14:47:18.099Z"
   },
   {
    "duration": 155,
    "start_time": "2024-10-06T14:47:58.833Z"
   },
   {
    "duration": 146,
    "start_time": "2024-10-06T14:48:05.690Z"
   },
   {
    "duration": 144,
    "start_time": "2024-10-06T14:48:13.516Z"
   },
   {
    "duration": 141,
    "start_time": "2024-10-06T14:48:24.831Z"
   },
   {
    "duration": 100,
    "start_time": "2024-10-06T14:48:49.442Z"
   },
   {
    "duration": 144,
    "start_time": "2024-10-06T14:49:56.171Z"
   },
   {
    "duration": 151,
    "start_time": "2024-10-06T14:50:01.653Z"
   },
   {
    "duration": 159,
    "start_time": "2024-10-06T14:54:49.007Z"
   },
   {
    "duration": 141,
    "start_time": "2024-10-06T14:55:11.014Z"
   },
   {
    "duration": 140,
    "start_time": "2024-10-06T14:56:14.448Z"
   },
   {
    "duration": 215,
    "start_time": "2024-10-06T14:56:39.770Z"
   },
   {
    "duration": 163,
    "start_time": "2024-10-06T14:56:46.564Z"
   },
   {
    "duration": 147,
    "start_time": "2024-10-06T14:57:01.144Z"
   },
   {
    "duration": 166,
    "start_time": "2024-10-06T14:57:42.682Z"
   },
   {
    "duration": 147,
    "start_time": "2024-10-06T14:57:50.884Z"
   },
   {
    "duration": 155,
    "start_time": "2024-10-06T14:57:57.173Z"
   },
   {
    "duration": 156,
    "start_time": "2024-10-06T14:58:29.973Z"
   },
   {
    "duration": 158,
    "start_time": "2024-10-06T14:58:36.711Z"
   },
   {
    "duration": 6,
    "start_time": "2024-10-06T15:01:14.578Z"
   },
   {
    "duration": 5,
    "start_time": "2024-10-06T15:01:49.058Z"
   },
   {
    "duration": 5,
    "start_time": "2024-10-06T15:02:01.563Z"
   },
   {
    "duration": 6,
    "start_time": "2024-10-06T15:03:19.840Z"
   },
   {
    "duration": 9,
    "start_time": "2024-10-06T15:03:39.719Z"
   },
   {
    "duration": 17,
    "start_time": "2024-10-06T15:09:45.047Z"
   },
   {
    "duration": 21,
    "start_time": "2024-10-06T15:10:01.015Z"
   },
   {
    "duration": 588,
    "start_time": "2024-10-06T15:10:19.362Z"
   },
   {
    "duration": 35,
    "start_time": "2024-10-06T15:10:19.952Z"
   },
   {
    "duration": 31,
    "start_time": "2024-10-06T15:10:19.989Z"
   },
   {
    "duration": 19,
    "start_time": "2024-10-06T15:10:20.022Z"
   },
   {
    "duration": 37,
    "start_time": "2024-10-06T15:10:20.042Z"
   },
   {
    "duration": 38,
    "start_time": "2024-10-06T15:10:20.081Z"
   },
   {
    "duration": 13,
    "start_time": "2024-10-06T15:10:20.121Z"
   },
   {
    "duration": 16,
    "start_time": "2024-10-06T15:10:20.135Z"
   },
   {
    "duration": 15,
    "start_time": "2024-10-06T15:10:20.152Z"
   },
   {
    "duration": 130,
    "start_time": "2024-10-06T15:10:20.170Z"
   },
   {
    "duration": 16,
    "start_time": "2024-10-06T15:10:20.302Z"
   },
   {
    "duration": 20,
    "start_time": "2024-10-06T15:10:20.320Z"
   },
   {
    "duration": 10,
    "start_time": "2024-10-06T15:10:20.342Z"
   },
   {
    "duration": 19,
    "start_time": "2024-10-06T15:10:20.354Z"
   },
   {
    "duration": 12,
    "start_time": "2024-10-06T15:10:20.375Z"
   },
   {
    "duration": 20,
    "start_time": "2024-10-06T15:10:20.388Z"
   },
   {
    "duration": 9,
    "start_time": "2024-10-06T15:10:20.409Z"
   },
   {
    "duration": 21,
    "start_time": "2024-10-06T15:10:20.419Z"
   },
   {
    "duration": 17,
    "start_time": "2024-10-06T15:10:20.441Z"
   },
   {
    "duration": 174,
    "start_time": "2024-10-06T15:10:20.459Z"
   },
   {
    "duration": 7,
    "start_time": "2024-10-06T15:10:20.635Z"
   },
   {
    "duration": 272,
    "start_time": "2024-10-06T15:10:20.644Z"
   },
   {
    "duration": 5,
    "start_time": "2024-10-06T15:10:20.918Z"
   },
   {
    "duration": 34,
    "start_time": "2024-10-06T15:10:20.924Z"
   },
   {
    "duration": 254,
    "start_time": "2024-10-06T15:10:20.959Z"
   },
   {
    "duration": 7,
    "start_time": "2024-10-06T15:10:21.214Z"
   },
   {
    "duration": 160,
    "start_time": "2024-10-06T15:10:21.222Z"
   },
   {
    "duration": 215,
    "start_time": "2024-10-06T15:10:21.385Z"
   },
   {
    "duration": 11,
    "start_time": "2024-10-06T15:10:21.602Z"
   },
   {
    "duration": 115,
    "start_time": "2024-10-06T15:10:21.614Z"
   },
   {
    "duration": 168,
    "start_time": "2024-10-06T15:10:21.731Z"
   },
   {
    "duration": 35,
    "start_time": "2024-10-06T15:10:21.900Z"
   },
   {
    "duration": 33,
    "start_time": "2024-10-06T15:12:39.230Z"
   },
   {
    "duration": 75,
    "start_time": "2024-10-06T15:14:10.454Z"
   },
   {
    "duration": 657,
    "start_time": "2024-10-06T15:14:16.211Z"
   },
   {
    "duration": 36,
    "start_time": "2024-10-06T15:14:16.870Z"
   },
   {
    "duration": 34,
    "start_time": "2024-10-06T15:14:16.908Z"
   },
   {
    "duration": 18,
    "start_time": "2024-10-06T15:14:16.944Z"
   },
   {
    "duration": 10,
    "start_time": "2024-10-06T15:14:16.964Z"
   },
   {
    "duration": 7,
    "start_time": "2024-10-06T15:14:16.975Z"
   },
   {
    "duration": 13,
    "start_time": "2024-10-06T15:14:16.983Z"
   },
   {
    "duration": 16,
    "start_time": "2024-10-06T15:14:16.997Z"
   },
   {
    "duration": 26,
    "start_time": "2024-10-06T15:14:17.015Z"
   },
   {
    "duration": 16,
    "start_time": "2024-10-06T15:14:17.044Z"
   },
   {
    "duration": 15,
    "start_time": "2024-10-06T15:14:17.062Z"
   },
   {
    "duration": 15,
    "start_time": "2024-10-06T15:14:17.078Z"
   },
   {
    "duration": 6,
    "start_time": "2024-10-06T15:14:17.095Z"
   },
   {
    "duration": 8,
    "start_time": "2024-10-06T15:14:17.102Z"
   },
   {
    "duration": 6,
    "start_time": "2024-10-06T15:14:17.112Z"
   },
   {
    "duration": 13,
    "start_time": "2024-10-06T15:14:17.119Z"
   },
   {
    "duration": 7,
    "start_time": "2024-10-06T15:14:17.134Z"
   },
   {
    "duration": 6,
    "start_time": "2024-10-06T15:14:17.142Z"
   },
   {
    "duration": 11,
    "start_time": "2024-10-06T15:14:17.149Z"
   },
   {
    "duration": 214,
    "start_time": "2024-10-06T15:14:17.162Z"
   },
   {
    "duration": 8,
    "start_time": "2024-10-06T15:14:17.378Z"
   },
   {
    "duration": 142,
    "start_time": "2024-10-06T15:14:17.387Z"
   },
   {
    "duration": 6,
    "start_time": "2024-10-06T15:14:17.530Z"
   },
   {
    "duration": 13,
    "start_time": "2024-10-06T15:14:17.537Z"
   },
   {
    "duration": 251,
    "start_time": "2024-10-06T15:14:17.551Z"
   },
   {
    "duration": 10,
    "start_time": "2024-10-06T15:14:17.803Z"
   },
   {
    "duration": 238,
    "start_time": "2024-10-06T15:14:17.814Z"
   },
   {
    "duration": 232,
    "start_time": "2024-10-06T15:14:18.055Z"
   },
   {
    "duration": 8,
    "start_time": "2024-10-06T15:14:18.289Z"
   },
   {
    "duration": 117,
    "start_time": "2024-10-06T15:14:18.298Z"
   },
   {
    "duration": 170,
    "start_time": "2024-10-06T15:14:18.417Z"
   },
   {
    "duration": 107,
    "start_time": "2024-10-06T15:14:18.589Z"
   },
   {
    "duration": 577,
    "start_time": "2024-10-06T15:14:35.058Z"
   },
   {
    "duration": 35,
    "start_time": "2024-10-06T15:14:35.637Z"
   },
   {
    "duration": 32,
    "start_time": "2024-10-06T15:14:35.674Z"
   },
   {
    "duration": 92,
    "start_time": "2024-10-06T15:14:35.707Z"
   },
   {
    "duration": 10,
    "start_time": "2024-10-06T15:14:35.801Z"
   },
   {
    "duration": 98,
    "start_time": "2024-10-06T15:14:35.812Z"
   },
   {
    "duration": 30,
    "start_time": "2024-10-06T15:14:35.912Z"
   },
   {
    "duration": 20,
    "start_time": "2024-10-06T15:14:35.943Z"
   },
   {
    "duration": 47,
    "start_time": "2024-10-06T15:14:35.964Z"
   },
   {
    "duration": 30,
    "start_time": "2024-10-06T15:14:36.013Z"
   },
   {
    "duration": 15,
    "start_time": "2024-10-06T15:14:36.045Z"
   },
   {
    "duration": 39,
    "start_time": "2024-10-06T15:14:36.062Z"
   },
   {
    "duration": 40,
    "start_time": "2024-10-06T15:14:36.103Z"
   },
   {
    "duration": 16,
    "start_time": "2024-10-06T15:14:36.147Z"
   },
   {
    "duration": 86,
    "start_time": "2024-10-06T15:14:36.165Z"
   },
   {
    "duration": 91,
    "start_time": "2024-10-06T15:14:36.253Z"
   },
   {
    "duration": 23,
    "start_time": "2024-10-06T15:14:36.345Z"
   },
   {
    "duration": 36,
    "start_time": "2024-10-06T15:14:36.369Z"
   },
   {
    "duration": 16,
    "start_time": "2024-10-06T15:14:36.406Z"
   },
   {
    "duration": 178,
    "start_time": "2024-10-06T15:14:36.424Z"
   },
   {
    "duration": 8,
    "start_time": "2024-10-06T15:14:36.603Z"
   },
   {
    "duration": 165,
    "start_time": "2024-10-06T15:14:36.612Z"
   },
   {
    "duration": 6,
    "start_time": "2024-10-06T15:14:36.779Z"
   },
   {
    "duration": 33,
    "start_time": "2024-10-06T15:14:36.787Z"
   },
   {
    "duration": 251,
    "start_time": "2024-10-06T15:14:36.822Z"
   },
   {
    "duration": 7,
    "start_time": "2024-10-06T15:14:37.074Z"
   },
   {
    "duration": 157,
    "start_time": "2024-10-06T15:14:37.083Z"
   },
   {
    "duration": 226,
    "start_time": "2024-10-06T15:14:37.242Z"
   },
   {
    "duration": 8,
    "start_time": "2024-10-06T15:14:37.469Z"
   },
   {
    "duration": 115,
    "start_time": "2024-10-06T15:14:37.478Z"
   },
   {
    "duration": 171,
    "start_time": "2024-10-06T15:14:37.594Z"
   },
   {
    "duration": 127,
    "start_time": "2024-10-06T15:16:27.729Z"
   },
   {
    "duration": 124,
    "start_time": "2024-10-06T15:16:46.732Z"
   },
   {
    "duration": 120,
    "start_time": "2024-10-06T15:16:53.414Z"
   },
   {
    "duration": 14,
    "start_time": "2024-10-06T15:19:59.949Z"
   },
   {
    "duration": 17,
    "start_time": "2024-10-06T15:20:53.247Z"
   },
   {
    "duration": 27,
    "start_time": "2024-10-06T15:21:55.939Z"
   },
   {
    "duration": 28,
    "start_time": "2024-10-06T15:22:19.294Z"
   },
   {
    "duration": 11,
    "start_time": "2024-10-06T15:23:15.973Z"
   },
   {
    "duration": 8,
    "start_time": "2024-10-06T15:56:30.330Z"
   },
   {
    "duration": 13,
    "start_time": "2024-10-06T16:03:00.107Z"
   },
   {
    "duration": 6,
    "start_time": "2024-10-06T16:03:54.845Z"
   },
   {
    "duration": 10,
    "start_time": "2024-10-06T16:10:33.191Z"
   },
   {
    "duration": 15,
    "start_time": "2024-10-06T16:11:07.843Z"
   },
   {
    "duration": 4,
    "start_time": "2024-10-06T16:11:37.385Z"
   },
   {
    "duration": 5,
    "start_time": "2024-10-06T16:11:42.673Z"
   },
   {
    "duration": 14,
    "start_time": "2024-10-06T16:12:36.186Z"
   },
   {
    "duration": 5,
    "start_time": "2024-10-06T16:14:08.615Z"
   },
   {
    "duration": 76,
    "start_time": "2024-10-06T16:21:51.612Z"
   },
   {
    "duration": 346,
    "start_time": "2024-10-06T16:22:43.784Z"
   },
   {
    "duration": 357,
    "start_time": "2024-10-06T16:23:05.651Z"
   },
   {
    "duration": 88,
    "start_time": "2024-10-06T16:23:27.511Z"
   },
   {
    "duration": 99,
    "start_time": "2024-10-06T16:23:40.367Z"
   },
   {
    "duration": 87,
    "start_time": "2024-10-06T16:24:24.710Z"
   },
   {
    "duration": 12,
    "start_time": "2024-10-06T16:24:49.004Z"
   },
   {
    "duration": 183,
    "start_time": "2024-10-06T16:27:38.823Z"
   },
   {
    "duration": 6,
    "start_time": "2024-10-06T16:28:08.029Z"
   },
   {
    "duration": 6,
    "start_time": "2024-10-06T16:28:32.816Z"
   },
   {
    "duration": 120,
    "start_time": "2024-10-06T16:30:29.005Z"
   },
   {
    "duration": 123,
    "start_time": "2024-10-06T16:30:52.005Z"
   },
   {
    "duration": 171,
    "start_time": "2024-10-06T16:37:41.076Z"
   },
   {
    "duration": 7,
    "start_time": "2024-10-06T16:37:53.606Z"
   },
   {
    "duration": 198,
    "start_time": "2024-10-06T16:38:19.763Z"
   },
   {
    "duration": 205,
    "start_time": "2024-10-06T16:38:33.667Z"
   },
   {
    "duration": 301,
    "start_time": "2024-10-06T16:40:26.659Z"
   },
   {
    "duration": 375,
    "start_time": "2024-10-06T16:41:18.151Z"
   },
   {
    "duration": 499,
    "start_time": "2024-10-06T16:43:40.678Z"
   },
   {
    "duration": 224,
    "start_time": "2024-10-06T16:45:00.022Z"
   },
   {
    "duration": 387,
    "start_time": "2024-10-06T16:45:10.533Z"
   },
   {
    "duration": 393,
    "start_time": "2024-10-06T16:46:08.409Z"
   },
   {
    "duration": 388,
    "start_time": "2024-10-06T16:48:17.998Z"
   },
   {
    "duration": 231,
    "start_time": "2024-10-06T16:48:26.994Z"
   },
   {
    "duration": 334,
    "start_time": "2024-10-06T16:48:39.527Z"
   },
   {
    "duration": 31,
    "start_time": "2024-10-06T16:50:01.421Z"
   },
   {
    "duration": 13,
    "start_time": "2024-10-06T16:50:16.169Z"
   },
   {
    "duration": 7,
    "start_time": "2024-10-06T16:51:31.554Z"
   },
   {
    "duration": 7,
    "start_time": "2024-10-06T16:51:36.200Z"
   },
   {
    "duration": 7,
    "start_time": "2024-10-06T16:52:57.675Z"
   },
   {
    "duration": 8,
    "start_time": "2024-10-06T16:53:00.787Z"
   },
   {
    "duration": 7,
    "start_time": "2024-10-06T16:56:14.400Z"
   },
   {
    "duration": 11,
    "start_time": "2024-10-06T16:57:36.232Z"
   },
   {
    "duration": 11,
    "start_time": "2024-10-06T16:57:56.911Z"
   },
   {
    "duration": 12,
    "start_time": "2024-10-06T16:58:23.116Z"
   },
   {
    "duration": 28,
    "start_time": "2024-10-06T16:59:09.308Z"
   },
   {
    "duration": 23,
    "start_time": "2024-10-06T16:59:32.950Z"
   },
   {
    "duration": 28,
    "start_time": "2024-10-06T16:59:58.358Z"
   },
   {
    "duration": 842,
    "start_time": "2024-10-07T05:04:24.097Z"
   },
   {
    "duration": 91,
    "start_time": "2024-10-07T05:04:24.942Z"
   },
   {
    "duration": 172,
    "start_time": "2024-10-07T05:04:25.035Z"
   },
   {
    "duration": 76,
    "start_time": "2024-10-07T05:04:25.209Z"
   },
   {
    "duration": 13,
    "start_time": "2024-10-07T05:04:25.287Z"
   },
   {
    "duration": 46,
    "start_time": "2024-10-07T05:04:25.302Z"
   },
   {
    "duration": 12,
    "start_time": "2024-10-07T05:04:25.350Z"
   },
   {
    "duration": 10,
    "start_time": "2024-10-07T05:04:25.364Z"
   },
   {
    "duration": 11,
    "start_time": "2024-10-07T05:04:25.376Z"
   },
   {
    "duration": 7,
    "start_time": "2024-10-07T05:04:25.390Z"
   },
   {
    "duration": 33,
    "start_time": "2024-10-07T05:04:25.399Z"
   },
   {
    "duration": 14,
    "start_time": "2024-10-07T05:04:25.434Z"
   },
   {
    "duration": 7,
    "start_time": "2024-10-07T05:04:25.450Z"
   },
   {
    "duration": 11,
    "start_time": "2024-10-07T05:04:25.458Z"
   },
   {
    "duration": 6,
    "start_time": "2024-10-07T05:04:25.471Z"
   },
   {
    "duration": 7,
    "start_time": "2024-10-07T05:04:25.478Z"
   },
   {
    "duration": 7,
    "start_time": "2024-10-07T05:04:25.486Z"
   },
   {
    "duration": 8,
    "start_time": "2024-10-07T05:04:25.494Z"
   },
   {
    "duration": 45,
    "start_time": "2024-10-07T05:04:25.504Z"
   },
   {
    "duration": 209,
    "start_time": "2024-10-07T05:04:25.551Z"
   },
   {
    "duration": 9,
    "start_time": "2024-10-07T05:04:25.761Z"
   },
   {
    "duration": 159,
    "start_time": "2024-10-07T05:04:25.771Z"
   },
   {
    "duration": 16,
    "start_time": "2024-10-07T05:04:25.932Z"
   },
   {
    "duration": 28,
    "start_time": "2024-10-07T05:04:25.950Z"
   },
   {
    "duration": 308,
    "start_time": "2024-10-07T05:04:25.980Z"
   },
   {
    "duration": 9,
    "start_time": "2024-10-07T05:04:26.290Z"
   },
   {
    "duration": 206,
    "start_time": "2024-10-07T05:04:26.301Z"
   },
   {
    "duration": 305,
    "start_time": "2024-10-07T05:04:26.510Z"
   },
   {
    "duration": 9,
    "start_time": "2024-10-07T05:04:26.817Z"
   },
   {
    "duration": 153,
    "start_time": "2024-10-07T05:04:26.828Z"
   },
   {
    "duration": 228,
    "start_time": "2024-10-07T05:04:26.983Z"
   },
   {
    "duration": 34,
    "start_time": "2024-10-07T05:04:27.212Z"
   },
   {
    "duration": 14,
    "start_time": "2024-10-07T05:04:27.248Z"
   },
   {
    "duration": 9,
    "start_time": "2024-10-07T05:04:27.263Z"
   },
   {
    "duration": 17,
    "start_time": "2024-10-07T05:04:27.274Z"
   },
   {
    "duration": 9,
    "start_time": "2024-10-07T05:04:27.293Z"
   },
   {
    "duration": 17,
    "start_time": "2024-10-07T05:04:27.304Z"
   },
   {
    "duration": 15,
    "start_time": "2024-10-07T05:04:27.347Z"
   },
   {
    "duration": 164,
    "start_time": "2024-10-07T05:04:27.364Z"
   },
   {
    "duration": 16,
    "start_time": "2024-10-07T05:04:27.531Z"
   },
   {
    "duration": 491,
    "start_time": "2024-10-07T05:04:27.549Z"
   },
   {
    "duration": 8,
    "start_time": "2024-10-07T05:04:28.046Z"
   },
   {
    "duration": 20,
    "start_time": "2024-10-07T05:04:28.055Z"
   },
   {
    "duration": 310,
    "start_time": "2024-10-07T05:04:28.077Z"
   },
   {
    "duration": 8,
    "start_time": "2024-10-07T05:04:28.389Z"
   },
   {
    "duration": 10,
    "start_time": "2024-10-07T05:04:28.399Z"
   },
   {
    "duration": 59,
    "start_time": "2024-10-07T05:04:28.411Z"
   },
   {
    "duration": 397,
    "start_time": "2024-10-07T07:24:39.565Z"
   },
   {
    "duration": 18,
    "start_time": "2024-10-07T09:04:28.660Z"
   },
   {
    "duration": 99,
    "start_time": "2024-10-07T09:14:11.867Z"
   },
   {
    "duration": 32,
    "start_time": "2024-10-07T09:14:38.522Z"
   },
   {
    "duration": 26,
    "start_time": "2024-10-07T09:15:59.106Z"
   },
   {
    "duration": 26,
    "start_time": "2024-10-07T09:16:34.822Z"
   },
   {
    "duration": 36,
    "start_time": "2024-10-07T09:16:50.684Z"
   },
   {
    "duration": 26,
    "start_time": "2024-10-07T09:17:11.847Z"
   },
   {
    "duration": 4,
    "start_time": "2024-10-07T09:18:04.968Z"
   },
   {
    "duration": 35,
    "start_time": "2024-10-07T09:18:32.197Z"
   },
   {
    "duration": 18,
    "start_time": "2024-10-07T09:19:17.318Z"
   },
   {
    "duration": 42,
    "start_time": "2024-10-07T09:19:40.518Z"
   },
   {
    "duration": 39,
    "start_time": "2024-10-07T09:21:58.204Z"
   },
   {
    "duration": 11,
    "start_time": "2024-10-07T09:24:17.264Z"
   },
   {
    "duration": 757,
    "start_time": "2024-10-07T10:28:33.562Z"
   },
   {
    "duration": 45,
    "start_time": "2024-10-07T10:28:34.321Z"
   },
   {
    "duration": 38,
    "start_time": "2024-10-07T10:28:34.368Z"
   },
   {
    "duration": 21,
    "start_time": "2024-10-07T10:28:34.408Z"
   },
   {
    "duration": 12,
    "start_time": "2024-10-07T10:28:34.431Z"
   },
   {
    "duration": 35,
    "start_time": "2024-10-07T10:28:34.444Z"
   },
   {
    "duration": 23,
    "start_time": "2024-10-07T10:28:34.481Z"
   },
   {
    "duration": 12,
    "start_time": "2024-10-07T10:28:34.506Z"
   },
   {
    "duration": 14,
    "start_time": "2024-10-07T10:28:34.519Z"
   },
   {
    "duration": 9,
    "start_time": "2024-10-07T10:28:34.535Z"
   },
   {
    "duration": 15,
    "start_time": "2024-10-07T10:28:34.545Z"
   },
   {
    "duration": 13,
    "start_time": "2024-10-07T10:28:34.562Z"
   },
   {
    "duration": 16,
    "start_time": "2024-10-07T10:28:34.577Z"
   },
   {
    "duration": 16,
    "start_time": "2024-10-07T10:28:34.596Z"
   },
   {
    "duration": 25,
    "start_time": "2024-10-07T10:28:34.614Z"
   },
   {
    "duration": 24,
    "start_time": "2024-10-07T10:28:34.641Z"
   },
   {
    "duration": 8,
    "start_time": "2024-10-07T10:28:34.667Z"
   },
   {
    "duration": 11,
    "start_time": "2024-10-07T10:28:34.677Z"
   },
   {
    "duration": 11,
    "start_time": "2024-10-07T10:28:34.689Z"
   },
   {
    "duration": 199,
    "start_time": "2024-10-07T10:28:34.702Z"
   },
   {
    "duration": 9,
    "start_time": "2024-10-07T10:28:34.902Z"
   },
   {
    "duration": 163,
    "start_time": "2024-10-07T10:28:34.912Z"
   },
   {
    "duration": 6,
    "start_time": "2024-10-07T10:28:35.077Z"
   },
   {
    "duration": 12,
    "start_time": "2024-10-07T10:28:35.084Z"
   },
   {
    "duration": 322,
    "start_time": "2024-10-07T10:28:35.098Z"
   },
   {
    "duration": 8,
    "start_time": "2024-10-07T10:28:35.422Z"
   },
   {
    "duration": 235,
    "start_time": "2024-10-07T10:28:35.432Z"
   },
   {
    "duration": 293,
    "start_time": "2024-10-07T10:28:35.669Z"
   },
   {
    "duration": 10,
    "start_time": "2024-10-07T10:28:35.963Z"
   },
   {
    "duration": 142,
    "start_time": "2024-10-07T10:28:35.974Z"
   },
   {
    "duration": 247,
    "start_time": "2024-10-07T10:28:36.118Z"
   },
   {
    "duration": 37,
    "start_time": "2024-10-07T10:28:36.367Z"
   },
   {
    "duration": 41,
    "start_time": "2024-10-07T10:28:36.406Z"
   },
   {
    "duration": 10,
    "start_time": "2024-10-07T10:28:36.448Z"
   },
   {
    "duration": 34,
    "start_time": "2024-10-07T10:28:36.460Z"
   },
   {
    "duration": 22,
    "start_time": "2024-10-07T10:28:36.495Z"
   },
   {
    "duration": 33,
    "start_time": "2024-10-07T10:28:36.519Z"
   },
   {
    "duration": 19,
    "start_time": "2024-10-07T10:28:36.554Z"
   },
   {
    "duration": 176,
    "start_time": "2024-10-07T10:28:36.575Z"
   },
   {
    "duration": 7,
    "start_time": "2024-10-07T10:28:36.753Z"
   },
   {
    "duration": 577,
    "start_time": "2024-10-07T10:28:36.765Z"
   },
   {
    "duration": 8,
    "start_time": "2024-10-07T10:28:37.344Z"
   },
   {
    "duration": 26,
    "start_time": "2024-10-07T10:28:37.354Z"
   },
   {
    "duration": 341,
    "start_time": "2024-10-07T10:28:37.382Z"
   },
   {
    "duration": 25,
    "start_time": "2024-10-07T10:28:37.725Z"
   },
   {
    "duration": 10,
    "start_time": "2024-10-07T10:28:37.752Z"
   },
   {
    "duration": 24,
    "start_time": "2024-10-07T10:28:37.764Z"
   },
   {
    "duration": 132,
    "start_time": "2024-10-07T10:28:37.790Z"
   },
   {
    "duration": 11,
    "start_time": "2024-10-07T10:28:37.924Z"
   },
   {
    "duration": 1163,
    "start_time": "2024-10-07T10:28:37.947Z"
   },
   {
    "duration": 7,
    "start_time": "2024-10-07T10:51:47.254Z"
   },
   {
    "duration": 1031,
    "start_time": "2024-10-07T10:55:50.407Z"
   },
   {
    "duration": 26,
    "start_time": "2024-10-07T10:56:12.599Z"
   },
   {
    "duration": 41,
    "start_time": "2024-10-07T10:59:29.093Z"
   },
   {
    "duration": 60,
    "start_time": "2024-10-07T10:59:58.849Z"
   },
   {
    "duration": 63,
    "start_time": "2024-10-07T11:00:29.203Z"
   },
   {
    "duration": 5,
    "start_time": "2024-10-07T11:01:18.673Z"
   },
   {
    "duration": 57,
    "start_time": "2024-10-07T11:02:36.884Z"
   },
   {
    "duration": 57,
    "start_time": "2024-10-07T11:02:45.174Z"
   },
   {
    "duration": 13,
    "start_time": "2024-10-07T11:03:23.625Z"
   },
   {
    "duration": 1048,
    "start_time": "2024-10-07T11:04:06.830Z"
   },
   {
    "duration": 6,
    "start_time": "2024-10-07T11:04:45.347Z"
   },
   {
    "duration": 23,
    "start_time": "2024-10-07T11:05:07.301Z"
   },
   {
    "duration": 27,
    "start_time": "2024-10-07T11:05:53.958Z"
   },
   {
    "duration": 725,
    "start_time": "2024-10-07T11:06:03.047Z"
   },
   {
    "duration": 40,
    "start_time": "2024-10-07T11:06:03.775Z"
   },
   {
    "duration": 46,
    "start_time": "2024-10-07T11:06:03.817Z"
   },
   {
    "duration": 21,
    "start_time": "2024-10-07T11:06:03.865Z"
   },
   {
    "duration": 12,
    "start_time": "2024-10-07T11:06:03.888Z"
   },
   {
    "duration": 21,
    "start_time": "2024-10-07T11:06:03.901Z"
   },
   {
    "duration": 17,
    "start_time": "2024-10-07T11:06:03.924Z"
   },
   {
    "duration": 16,
    "start_time": "2024-10-07T11:06:03.943Z"
   },
   {
    "duration": 23,
    "start_time": "2024-10-07T11:06:03.961Z"
   },
   {
    "duration": 8,
    "start_time": "2024-10-07T11:06:03.986Z"
   },
   {
    "duration": 11,
    "start_time": "2024-10-07T11:06:03.996Z"
   },
   {
    "duration": 20,
    "start_time": "2024-10-07T11:06:04.009Z"
   },
   {
    "duration": 19,
    "start_time": "2024-10-07T11:06:04.030Z"
   },
   {
    "duration": 24,
    "start_time": "2024-10-07T11:06:04.052Z"
   },
   {
    "duration": 27,
    "start_time": "2024-10-07T11:06:04.077Z"
   },
   {
    "duration": 42,
    "start_time": "2024-10-07T11:06:04.105Z"
   },
   {
    "duration": 7,
    "start_time": "2024-10-07T11:06:04.148Z"
   },
   {
    "duration": 19,
    "start_time": "2024-10-07T11:06:04.157Z"
   },
   {
    "duration": 17,
    "start_time": "2024-10-07T11:06:04.177Z"
   },
   {
    "duration": 205,
    "start_time": "2024-10-07T11:06:04.196Z"
   },
   {
    "duration": 8,
    "start_time": "2024-10-07T11:06:04.403Z"
   },
   {
    "duration": 176,
    "start_time": "2024-10-07T11:06:04.413Z"
   },
   {
    "duration": 6,
    "start_time": "2024-10-07T11:06:04.591Z"
   },
   {
    "duration": 45,
    "start_time": "2024-10-07T11:06:04.599Z"
   },
   {
    "duration": 349,
    "start_time": "2024-10-07T11:06:04.646Z"
   },
   {
    "duration": 9,
    "start_time": "2024-10-07T11:06:04.997Z"
   },
   {
    "duration": 205,
    "start_time": "2024-10-07T11:06:05.008Z"
   },
   {
    "duration": 309,
    "start_time": "2024-10-07T11:06:05.215Z"
   },
   {
    "duration": 21,
    "start_time": "2024-10-07T11:06:05.526Z"
   },
   {
    "duration": 162,
    "start_time": "2024-10-07T11:06:05.549Z"
   },
   {
    "duration": 249,
    "start_time": "2024-10-07T11:06:05.713Z"
   },
   {
    "duration": 28,
    "start_time": "2024-10-07T11:06:05.963Z"
   },
   {
    "duration": 12,
    "start_time": "2024-10-07T11:06:05.993Z"
   },
   {
    "duration": 10,
    "start_time": "2024-10-07T11:06:06.007Z"
   },
   {
    "duration": 25,
    "start_time": "2024-10-07T11:06:06.045Z"
   },
   {
    "duration": 35,
    "start_time": "2024-10-07T11:06:06.072Z"
   },
   {
    "duration": 36,
    "start_time": "2024-10-07T11:06:06.109Z"
   },
   {
    "duration": 16,
    "start_time": "2024-10-07T11:06:06.148Z"
   },
   {
    "duration": 160,
    "start_time": "2024-10-07T11:06:06.166Z"
   },
   {
    "duration": 7,
    "start_time": "2024-10-07T11:06:06.328Z"
   },
   {
    "duration": 547,
    "start_time": "2024-10-07T11:06:06.349Z"
   },
   {
    "duration": 8,
    "start_time": "2024-10-07T11:06:06.898Z"
   },
   {
    "duration": 36,
    "start_time": "2024-10-07T11:06:06.908Z"
   },
   {
    "duration": 330,
    "start_time": "2024-10-07T11:06:06.945Z"
   },
   {
    "duration": 9,
    "start_time": "2024-10-07T11:06:07.277Z"
   },
   {
    "duration": 23,
    "start_time": "2024-10-07T11:06:07.288Z"
   },
   {
    "duration": 20,
    "start_time": "2024-10-07T11:06:07.313Z"
   },
   {
    "duration": 11,
    "start_time": "2024-10-07T11:06:07.335Z"
   },
   {
    "duration": 153,
    "start_time": "2024-10-07T11:06:07.348Z"
   },
   {
    "duration": 13,
    "start_time": "2024-10-07T11:06:07.503Z"
   },
   {
    "duration": 39,
    "start_time": "2024-10-07T11:06:07.517Z"
   },
   {
    "duration": 339,
    "start_time": "2024-10-07T11:06:59.492Z"
   },
   {
    "duration": 271,
    "start_time": "2024-10-07T11:07:20.853Z"
   },
   {
    "duration": 243,
    "start_time": "2024-10-07T11:07:46.625Z"
   },
   {
    "duration": 59,
    "start_time": "2024-10-07T11:08:10.989Z"
   },
   {
    "duration": 56,
    "start_time": "2024-10-07T11:09:10.924Z"
   },
   {
    "duration": 10,
    "start_time": "2024-10-07T11:09:14.650Z"
   },
   {
    "duration": 14,
    "start_time": "2024-10-07T11:14:46.085Z"
   },
   {
    "duration": 5,
    "start_time": "2024-10-07T11:16:40.199Z"
   },
   {
    "duration": 5,
    "start_time": "2024-10-07T11:17:15.303Z"
   },
   {
    "duration": 6,
    "start_time": "2024-10-07T11:19:15.781Z"
   },
   {
    "duration": 5,
    "start_time": "2024-10-07T11:19:37.707Z"
   },
   {
    "duration": 10,
    "start_time": "2024-10-07T11:23:15.113Z"
   },
   {
    "duration": 7,
    "start_time": "2024-10-07T11:23:26.443Z"
   },
   {
    "duration": 15,
    "start_time": "2024-10-07T11:23:39.548Z"
   },
   {
    "duration": 180,
    "start_time": "2024-10-07T11:26:12.763Z"
   },
   {
    "duration": 181,
    "start_time": "2024-10-07T11:28:01.623Z"
   },
   {
    "duration": 190,
    "start_time": "2024-10-07T11:28:16.668Z"
   },
   {
    "duration": 203,
    "start_time": "2024-10-07T11:28:34.551Z"
   },
   {
    "duration": 193,
    "start_time": "2024-10-07T11:29:50.940Z"
   },
   {
    "duration": 15,
    "start_time": "2024-10-07T11:32:36.919Z"
   },
   {
    "duration": 218,
    "start_time": "2024-10-07T11:32:59.155Z"
   },
   {
    "duration": 842,
    "start_time": "2024-10-07T14:41:09.262Z"
   },
   {
    "duration": 122,
    "start_time": "2024-10-07T14:41:10.106Z"
   },
   {
    "duration": 182,
    "start_time": "2024-10-07T14:41:10.229Z"
   },
   {
    "duration": 80,
    "start_time": "2024-10-07T14:41:10.414Z"
   },
   {
    "duration": 12,
    "start_time": "2024-10-07T14:41:10.496Z"
   },
   {
    "duration": 7,
    "start_time": "2024-10-07T14:41:10.509Z"
   },
   {
    "duration": 11,
    "start_time": "2024-10-07T14:41:10.518Z"
   },
   {
    "duration": 8,
    "start_time": "2024-10-07T14:41:10.530Z"
   },
   {
    "duration": 10,
    "start_time": "2024-10-07T14:41:10.540Z"
   },
   {
    "duration": 46,
    "start_time": "2024-10-07T14:41:10.553Z"
   },
   {
    "duration": 10,
    "start_time": "2024-10-07T14:41:10.601Z"
   },
   {
    "duration": 15,
    "start_time": "2024-10-07T14:41:10.613Z"
   },
   {
    "duration": 7,
    "start_time": "2024-10-07T14:41:10.630Z"
   },
   {
    "duration": 10,
    "start_time": "2024-10-07T14:41:10.638Z"
   },
   {
    "duration": 5,
    "start_time": "2024-10-07T14:41:10.649Z"
   },
   {
    "duration": 7,
    "start_time": "2024-10-07T14:41:10.656Z"
   },
   {
    "duration": 34,
    "start_time": "2024-10-07T14:41:10.664Z"
   },
   {
    "duration": 8,
    "start_time": "2024-10-07T14:41:10.700Z"
   },
   {
    "duration": 12,
    "start_time": "2024-10-07T14:41:10.709Z"
   },
   {
    "duration": 209,
    "start_time": "2024-10-07T14:41:10.723Z"
   },
   {
    "duration": 8,
    "start_time": "2024-10-07T14:41:10.933Z"
   },
   {
    "duration": 162,
    "start_time": "2024-10-07T14:41:10.943Z"
   },
   {
    "duration": 5,
    "start_time": "2024-10-07T14:41:11.107Z"
   },
   {
    "duration": 12,
    "start_time": "2024-10-07T14:41:11.114Z"
   },
   {
    "duration": 310,
    "start_time": "2024-10-07T14:41:11.128Z"
   },
   {
    "duration": 8,
    "start_time": "2024-10-07T14:41:11.440Z"
   },
   {
    "duration": 195,
    "start_time": "2024-10-07T14:41:11.449Z"
   },
   {
    "duration": 279,
    "start_time": "2024-10-07T14:41:11.647Z"
   },
   {
    "duration": 11,
    "start_time": "2024-10-07T14:41:11.927Z"
   },
   {
    "duration": 145,
    "start_time": "2024-10-07T14:41:11.940Z"
   },
   {
    "duration": 208,
    "start_time": "2024-10-07T14:41:12.087Z"
   },
   {
    "duration": 28,
    "start_time": "2024-10-07T14:41:12.297Z"
   },
   {
    "duration": 14,
    "start_time": "2024-10-07T14:41:12.326Z"
   },
   {
    "duration": 56,
    "start_time": "2024-10-07T14:41:12.342Z"
   },
   {
    "duration": 13,
    "start_time": "2024-10-07T14:41:12.400Z"
   },
   {
    "duration": 10,
    "start_time": "2024-10-07T14:41:12.415Z"
   },
   {
    "duration": 27,
    "start_time": "2024-10-07T14:41:12.427Z"
   },
   {
    "duration": 15,
    "start_time": "2024-10-07T14:41:12.455Z"
   },
   {
    "duration": 161,
    "start_time": "2024-10-07T14:41:12.472Z"
   },
   {
    "duration": 7,
    "start_time": "2024-10-07T14:41:12.635Z"
   },
   {
    "duration": 510,
    "start_time": "2024-10-07T14:41:12.644Z"
   },
   {
    "duration": 9,
    "start_time": "2024-10-07T14:41:13.156Z"
   },
   {
    "duration": 17,
    "start_time": "2024-10-07T14:41:13.166Z"
   },
   {
    "duration": 312,
    "start_time": "2024-10-07T14:41:13.185Z"
   },
   {
    "duration": 7,
    "start_time": "2024-10-07T14:41:13.499Z"
   },
   {
    "duration": 12,
    "start_time": "2024-10-07T14:41:13.508Z"
   },
   {
    "duration": 13,
    "start_time": "2024-10-07T14:41:13.521Z"
   },
   {
    "duration": 154,
    "start_time": "2024-10-07T14:41:13.536Z"
   },
   {
    "duration": 11,
    "start_time": "2024-10-07T14:41:13.692Z"
   },
   {
    "duration": 49,
    "start_time": "2024-10-07T14:41:13.704Z"
   },
   {
    "duration": 4,
    "start_time": "2024-10-07T14:41:13.755Z"
   },
   {
    "duration": 173,
    "start_time": "2024-10-07T14:41:13.760Z"
   },
   {
    "duration": 450,
    "start_time": "2024-10-07T14:45:50.568Z"
   },
   {
    "duration": 97,
    "start_time": "2024-10-07T15:03:06.218Z"
   },
   {
    "duration": 9,
    "start_time": "2024-10-07T15:03:25.476Z"
   },
   {
    "duration": 9,
    "start_time": "2024-10-07T15:07:48.709Z"
   },
   {
    "duration": 7,
    "start_time": "2024-10-07T15:07:56.151Z"
   },
   {
    "duration": 7,
    "start_time": "2024-10-07T15:11:45.878Z"
   },
   {
    "duration": 8,
    "start_time": "2024-10-07T15:11:54.824Z"
   },
   {
    "duration": 7,
    "start_time": "2024-10-07T15:12:02.737Z"
   },
   {
    "duration": 8,
    "start_time": "2024-10-07T15:22:29.679Z"
   },
   {
    "duration": 8,
    "start_time": "2024-10-07T15:23:00.429Z"
   },
   {
    "duration": 8,
    "start_time": "2024-10-07T16:22:20.410Z"
   },
   {
    "duration": 12,
    "start_time": "2024-10-07T17:09:51.258Z"
   },
   {
    "duration": 8,
    "start_time": "2024-10-07T17:10:04.065Z"
   },
   {
    "duration": 870,
    "start_time": "2024-10-07T17:30:06.758Z"
   },
   {
    "duration": 7,
    "start_time": "2024-10-07T17:30:25.975Z"
   },
   {
    "duration": 69,
    "start_time": "2024-10-07T17:32:45.759Z"
   },
   {
    "duration": 63,
    "start_time": "2024-10-07T17:33:46.537Z"
   },
   {
    "duration": 11,
    "start_time": "2024-10-07T17:33:56.453Z"
   },
   {
    "duration": 10,
    "start_time": "2024-10-07T17:34:13.805Z"
   },
   {
    "duration": 12,
    "start_time": "2024-10-07T17:34:24.945Z"
   },
   {
    "duration": 8,
    "start_time": "2024-10-07T17:34:42.866Z"
   },
   {
    "duration": 6,
    "start_time": "2024-10-07T17:35:36.971Z"
   },
   {
    "duration": 8,
    "start_time": "2024-10-07T17:36:54.543Z"
   },
   {
    "duration": 12,
    "start_time": "2024-10-07T17:38:16.700Z"
   },
   {
    "duration": 13,
    "start_time": "2024-10-07T17:46:13.936Z"
   },
   {
    "duration": 10,
    "start_time": "2024-10-07T17:46:38.235Z"
   },
   {
    "duration": 18,
    "start_time": "2024-10-07T18:50:45.896Z"
   },
   {
    "duration": 8,
    "start_time": "2024-10-07T18:51:12.051Z"
   },
   {
    "duration": 19,
    "start_time": "2024-10-07T18:51:37.810Z"
   },
   {
    "duration": 18,
    "start_time": "2024-10-07T18:51:53.297Z"
   },
   {
    "duration": 14,
    "start_time": "2024-10-07T18:52:13.551Z"
   },
   {
    "duration": 12,
    "start_time": "2024-10-07T18:52:37.896Z"
   },
   {
    "duration": 13,
    "start_time": "2024-10-07T18:52:52.235Z"
   },
   {
    "duration": 13,
    "start_time": "2024-10-07T18:53:24.664Z"
   },
   {
    "duration": 8,
    "start_time": "2024-10-07T18:54:37.611Z"
   },
   {
    "duration": 8,
    "start_time": "2024-10-07T18:54:48.905Z"
   },
   {
    "duration": 1178,
    "start_time": "2024-10-07T18:59:57.985Z"
   },
   {
    "duration": 49,
    "start_time": "2024-10-07T18:59:59.165Z"
   },
   {
    "duration": 39,
    "start_time": "2024-10-07T18:59:59.215Z"
   },
   {
    "duration": 21,
    "start_time": "2024-10-07T18:59:59.255Z"
   },
   {
    "duration": 11,
    "start_time": "2024-10-07T18:59:59.277Z"
   },
   {
    "duration": 8,
    "start_time": "2024-10-07T18:59:59.289Z"
   },
   {
    "duration": 10,
    "start_time": "2024-10-07T18:59:59.299Z"
   },
   {
    "duration": 6,
    "start_time": "2024-10-07T18:59:59.311Z"
   },
   {
    "duration": 8,
    "start_time": "2024-10-07T18:59:59.318Z"
   },
   {
    "duration": 6,
    "start_time": "2024-10-07T18:59:59.329Z"
   },
   {
    "duration": 10,
    "start_time": "2024-10-07T18:59:59.336Z"
   },
   {
    "duration": 4,
    "start_time": "2024-10-07T18:59:59.347Z"
   },
   {
    "duration": 5,
    "start_time": "2024-10-07T18:59:59.353Z"
   },
   {
    "duration": 8,
    "start_time": "2024-10-07T18:59:59.398Z"
   },
   {
    "duration": 5,
    "start_time": "2024-10-07T18:59:59.407Z"
   },
   {
    "duration": 3,
    "start_time": "2024-10-07T18:59:59.414Z"
   },
   {
    "duration": 8,
    "start_time": "2024-10-07T18:59:59.419Z"
   },
   {
    "duration": 6,
    "start_time": "2024-10-07T18:59:59.428Z"
   },
   {
    "duration": 10,
    "start_time": "2024-10-07T18:59:59.436Z"
   },
   {
    "duration": 219,
    "start_time": "2024-10-07T18:59:59.447Z"
   },
   {
    "duration": 9,
    "start_time": "2024-10-07T18:59:59.668Z"
   },
   {
    "duration": 171,
    "start_time": "2024-10-07T18:59:59.678Z"
   },
   {
    "duration": 5,
    "start_time": "2024-10-07T18:59:59.851Z"
   },
   {
    "duration": 10,
    "start_time": "2024-10-07T18:59:59.858Z"
   },
   {
    "duration": 311,
    "start_time": "2024-10-07T18:59:59.870Z"
   },
   {
    "duration": 17,
    "start_time": "2024-10-07T19:00:00.182Z"
   },
   {
    "duration": 131,
    "start_time": "2024-10-07T19:00:00.201Z"
   },
   {
    "duration": 277,
    "start_time": "2024-10-07T19:00:00.336Z"
   },
   {
    "duration": 9,
    "start_time": "2024-10-07T19:00:00.614Z"
   },
   {
    "duration": 142,
    "start_time": "2024-10-07T19:00:00.625Z"
   },
   {
    "duration": 206,
    "start_time": "2024-10-07T19:00:00.769Z"
   },
   {
    "duration": 34,
    "start_time": "2024-10-07T19:00:00.976Z"
   },
   {
    "duration": 11,
    "start_time": "2024-10-07T19:00:01.012Z"
   },
   {
    "duration": 27,
    "start_time": "2024-10-07T19:00:01.025Z"
   },
   {
    "duration": 20,
    "start_time": "2024-10-07T19:00:01.053Z"
   },
   {
    "duration": 16,
    "start_time": "2024-10-07T19:00:01.075Z"
   },
   {
    "duration": 122,
    "start_time": "2024-10-07T19:00:01.093Z"
   },
   {
    "duration": 33,
    "start_time": "2024-10-07T19:00:01.217Z"
   },
   {
    "duration": 137,
    "start_time": "2024-10-07T19:00:01.252Z"
   },
   {
    "duration": 9,
    "start_time": "2024-10-07T19:00:01.390Z"
   },
   {
    "duration": 493,
    "start_time": "2024-10-07T19:00:01.400Z"
   },
   {
    "duration": 9,
    "start_time": "2024-10-07T19:00:01.895Z"
   },
   {
    "duration": 30,
    "start_time": "2024-10-07T19:00:01.906Z"
   },
   {
    "duration": 315,
    "start_time": "2024-10-07T19:00:01.938Z"
   },
   {
    "duration": 9,
    "start_time": "2024-10-07T19:00:02.254Z"
   },
   {
    "duration": 12,
    "start_time": "2024-10-07T19:00:02.264Z"
   },
   {
    "duration": 29,
    "start_time": "2024-10-07T19:00:02.278Z"
   },
   {
    "duration": 97,
    "start_time": "2024-10-07T19:00:02.308Z"
   },
   {
    "duration": 11,
    "start_time": "2024-10-07T19:00:02.407Z"
   },
   {
    "duration": 26,
    "start_time": "2024-10-07T19:00:02.420Z"
   },
   {
    "duration": 15,
    "start_time": "2024-10-07T19:00:02.448Z"
   },
   {
    "duration": 182,
    "start_time": "2024-10-07T19:00:02.464Z"
   },
   {
    "duration": 7,
    "start_time": "2024-10-07T19:00:02.648Z"
   },
   {
    "duration": 15,
    "start_time": "2024-10-07T19:00:02.656Z"
   },
   {
    "duration": 26,
    "start_time": "2024-10-07T19:00:02.672Z"
   },
   {
    "duration": 1273,
    "start_time": "2024-10-08T04:42:42.980Z"
   },
   {
    "duration": 116,
    "start_time": "2024-10-08T04:42:44.255Z"
   },
   {
    "duration": 160,
    "start_time": "2024-10-08T04:42:44.373Z"
   },
   {
    "duration": 75,
    "start_time": "2024-10-08T04:42:44.535Z"
   },
   {
    "duration": 11,
    "start_time": "2024-10-08T04:42:44.612Z"
   },
   {
    "duration": 7,
    "start_time": "2024-10-08T04:42:44.624Z"
   },
   {
    "duration": 15,
    "start_time": "2024-10-08T04:42:44.633Z"
   },
   {
    "duration": 11,
    "start_time": "2024-10-08T04:42:44.649Z"
   },
   {
    "duration": 8,
    "start_time": "2024-10-08T04:42:44.661Z"
   },
   {
    "duration": 7,
    "start_time": "2024-10-08T04:42:44.672Z"
   },
   {
    "duration": 10,
    "start_time": "2024-10-08T04:42:44.681Z"
   },
   {
    "duration": 5,
    "start_time": "2024-10-08T04:42:44.693Z"
   },
   {
    "duration": 6,
    "start_time": "2024-10-08T04:42:44.699Z"
   },
   {
    "duration": 9,
    "start_time": "2024-10-08T04:42:44.706Z"
   },
   {
    "duration": 6,
    "start_time": "2024-10-08T04:42:44.717Z"
   },
   {
    "duration": 4,
    "start_time": "2024-10-08T04:42:44.724Z"
   },
   {
    "duration": 7,
    "start_time": "2024-10-08T04:42:44.729Z"
   },
   {
    "duration": 8,
    "start_time": "2024-10-08T04:42:44.776Z"
   },
   {
    "duration": 12,
    "start_time": "2024-10-08T04:42:44.786Z"
   },
   {
    "duration": 191,
    "start_time": "2024-10-08T04:42:44.800Z"
   },
   {
    "duration": 8,
    "start_time": "2024-10-08T04:42:44.992Z"
   },
   {
    "duration": 156,
    "start_time": "2024-10-08T04:42:45.001Z"
   },
   {
    "duration": 6,
    "start_time": "2024-10-08T04:42:45.158Z"
   },
   {
    "duration": 20,
    "start_time": "2024-10-08T04:42:45.165Z"
   },
   {
    "duration": 292,
    "start_time": "2024-10-08T04:42:45.186Z"
   },
   {
    "duration": 8,
    "start_time": "2024-10-08T04:42:45.480Z"
   },
   {
    "duration": 131,
    "start_time": "2024-10-08T04:42:45.489Z"
   },
   {
    "duration": 259,
    "start_time": "2024-10-08T04:42:45.623Z"
   },
   {
    "duration": 8,
    "start_time": "2024-10-08T04:42:45.883Z"
   },
   {
    "duration": 138,
    "start_time": "2024-10-08T04:42:45.892Z"
   },
   {
    "duration": 192,
    "start_time": "2024-10-08T04:42:46.031Z"
   },
   {
    "duration": 24,
    "start_time": "2024-10-08T04:42:46.224Z"
   },
   {
    "duration": 30,
    "start_time": "2024-10-08T04:42:46.250Z"
   },
   {
    "duration": 9,
    "start_time": "2024-10-08T04:42:46.281Z"
   },
   {
    "duration": 11,
    "start_time": "2024-10-08T04:42:46.291Z"
   },
   {
    "duration": 5,
    "start_time": "2024-10-08T04:42:46.303Z"
   },
   {
    "duration": 15,
    "start_time": "2024-10-08T04:42:46.309Z"
   },
   {
    "duration": 119,
    "start_time": "2024-10-08T04:42:46.326Z"
   },
   {
    "duration": 142,
    "start_time": "2024-10-08T04:42:46.446Z"
   },
   {
    "duration": 6,
    "start_time": "2024-10-08T04:42:46.590Z"
   },
   {
    "duration": 443,
    "start_time": "2024-10-08T04:42:46.598Z"
   },
   {
    "duration": 7,
    "start_time": "2024-10-08T04:42:47.043Z"
   },
   {
    "duration": 56,
    "start_time": "2024-10-08T04:42:47.052Z"
   },
   {
    "duration": 274,
    "start_time": "2024-10-08T04:42:47.110Z"
   },
   {
    "duration": 7,
    "start_time": "2024-10-08T04:42:47.386Z"
   },
   {
    "duration": 7,
    "start_time": "2024-10-08T04:42:47.394Z"
   },
   {
    "duration": 12,
    "start_time": "2024-10-08T04:42:47.403Z"
   },
   {
    "duration": 77,
    "start_time": "2024-10-08T04:42:47.416Z"
   },
   {
    "duration": 9,
    "start_time": "2024-10-08T04:42:47.494Z"
   },
   {
    "duration": 13,
    "start_time": "2024-10-08T04:42:47.505Z"
   },
   {
    "duration": 64,
    "start_time": "2024-10-08T04:42:47.520Z"
   },
   {
    "duration": 165,
    "start_time": "2024-10-08T04:42:47.586Z"
   },
   {
    "duration": 7,
    "start_time": "2024-10-08T04:42:47.753Z"
   },
   {
    "duration": 19,
    "start_time": "2024-10-08T04:42:47.761Z"
   },
   {
    "duration": 10,
    "start_time": "2024-10-08T04:42:47.781Z"
   },
   {
    "duration": 69,
    "start_time": "2024-10-08T05:30:00.810Z"
   },
   {
    "duration": 12,
    "start_time": "2024-10-08T05:31:18.288Z"
   },
   {
    "duration": 7,
    "start_time": "2024-10-08T05:31:45.141Z"
   },
   {
    "duration": 9,
    "start_time": "2024-10-08T05:32:24.558Z"
   },
   {
    "duration": 9,
    "start_time": "2024-10-08T05:32:25.752Z"
   },
   {
    "duration": 9,
    "start_time": "2024-10-08T05:33:03.848Z"
   },
   {
    "duration": 6,
    "start_time": "2024-10-08T05:33:33.851Z"
   },
   {
    "duration": 3,
    "start_time": "2024-10-08T05:36:36.000Z"
   },
   {
    "duration": 14,
    "start_time": "2024-10-08T05:49:39.171Z"
   },
   {
    "duration": 1258,
    "start_time": "2024-10-08T11:43:48.891Z"
   },
   {
    "duration": 86,
    "start_time": "2024-10-08T11:43:50.152Z"
   },
   {
    "duration": 149,
    "start_time": "2024-10-08T11:43:50.240Z"
   },
   {
    "duration": 71,
    "start_time": "2024-10-08T11:43:50.391Z"
   },
   {
    "duration": 12,
    "start_time": "2024-10-08T11:43:50.463Z"
   },
   {
    "duration": 28,
    "start_time": "2024-10-08T11:43:50.477Z"
   },
   {
    "duration": 18,
    "start_time": "2024-10-08T11:43:50.507Z"
   },
   {
    "duration": 9,
    "start_time": "2024-10-08T11:43:50.527Z"
   },
   {
    "duration": 20,
    "start_time": "2024-10-08T11:43:50.537Z"
   },
   {
    "duration": 13,
    "start_time": "2024-10-08T11:43:50.559Z"
   },
   {
    "duration": 17,
    "start_time": "2024-10-08T11:43:50.573Z"
   },
   {
    "duration": 21,
    "start_time": "2024-10-08T11:43:50.592Z"
   },
   {
    "duration": 22,
    "start_time": "2024-10-08T11:43:50.614Z"
   },
   {
    "duration": 31,
    "start_time": "2024-10-08T11:43:50.637Z"
   },
   {
    "duration": 24,
    "start_time": "2024-10-08T11:43:50.670Z"
   },
   {
    "duration": 26,
    "start_time": "2024-10-08T11:43:50.695Z"
   },
   {
    "duration": 29,
    "start_time": "2024-10-08T11:43:50.722Z"
   },
   {
    "duration": 19,
    "start_time": "2024-10-08T11:43:50.753Z"
   },
   {
    "duration": 27,
    "start_time": "2024-10-08T11:43:50.773Z"
   },
   {
    "duration": 181,
    "start_time": "2024-10-08T11:43:50.801Z"
   },
   {
    "duration": 9,
    "start_time": "2024-10-08T11:43:50.984Z"
   },
   {
    "duration": 150,
    "start_time": "2024-10-08T11:43:50.994Z"
   },
   {
    "duration": 7,
    "start_time": "2024-10-08T11:43:51.146Z"
   },
   {
    "duration": 18,
    "start_time": "2024-10-08T11:43:51.155Z"
   },
   {
    "duration": 286,
    "start_time": "2024-10-08T11:43:51.175Z"
   },
   {
    "duration": 9,
    "start_time": "2024-10-08T11:43:51.463Z"
   },
   {
    "duration": 137,
    "start_time": "2024-10-08T11:43:51.474Z"
   },
   {
    "duration": 278,
    "start_time": "2024-10-08T11:43:51.616Z"
   },
   {
    "duration": 10,
    "start_time": "2024-10-08T11:43:51.896Z"
   },
   {
    "duration": 130,
    "start_time": "2024-10-08T11:43:51.908Z"
   },
   {
    "duration": 190,
    "start_time": "2024-10-08T11:43:52.043Z"
   },
   {
    "duration": 25,
    "start_time": "2024-10-08T11:43:52.242Z"
   },
   {
    "duration": 18,
    "start_time": "2024-10-08T11:43:52.269Z"
   },
   {
    "duration": 14,
    "start_time": "2024-10-08T11:43:52.290Z"
   },
   {
    "duration": 23,
    "start_time": "2024-10-08T11:43:52.306Z"
   },
   {
    "duration": 14,
    "start_time": "2024-10-08T11:43:52.331Z"
   },
   {
    "duration": 22,
    "start_time": "2024-10-08T11:43:52.347Z"
   },
   {
    "duration": 102,
    "start_time": "2024-10-08T11:43:52.371Z"
   },
   {
    "duration": 147,
    "start_time": "2024-10-08T11:43:52.475Z"
   },
   {
    "duration": 8,
    "start_time": "2024-10-08T11:43:52.623Z"
   },
   {
    "duration": 471,
    "start_time": "2024-10-08T11:43:52.633Z"
   },
   {
    "duration": 9,
    "start_time": "2024-10-08T11:43:53.105Z"
   },
   {
    "duration": 15,
    "start_time": "2024-10-08T11:43:53.115Z"
   },
   {
    "duration": 310,
    "start_time": "2024-10-08T11:43:53.132Z"
   },
   {
    "duration": 8,
    "start_time": "2024-10-08T11:43:53.444Z"
   },
   {
    "duration": 12,
    "start_time": "2024-10-08T11:43:53.453Z"
   },
   {
    "duration": 13,
    "start_time": "2024-10-08T11:43:53.466Z"
   },
   {
    "duration": 75,
    "start_time": "2024-10-08T11:43:53.481Z"
   },
   {
    "duration": 10,
    "start_time": "2024-10-08T11:43:53.558Z"
   },
   {
    "duration": 13,
    "start_time": "2024-10-08T11:43:53.569Z"
   },
   {
    "duration": 10,
    "start_time": "2024-10-08T11:43:53.583Z"
   },
   {
    "duration": 186,
    "start_time": "2024-10-08T11:43:53.594Z"
   },
   {
    "duration": 7,
    "start_time": "2024-10-08T11:43:53.782Z"
   },
   {
    "duration": 8,
    "start_time": "2024-10-08T11:43:53.790Z"
   },
   {
    "duration": 10,
    "start_time": "2024-10-08T11:43:53.799Z"
   },
   {
    "duration": 39,
    "start_time": "2024-10-08T11:43:53.810Z"
   },
   {
    "duration": 1165,
    "start_time": "2024-10-08T12:07:34.960Z"
   },
   {
    "duration": 39,
    "start_time": "2024-10-08T12:07:36.127Z"
   },
   {
    "duration": 35,
    "start_time": "2024-10-08T12:07:36.167Z"
   },
   {
    "duration": 21,
    "start_time": "2024-10-08T12:07:36.204Z"
   },
   {
    "duration": 13,
    "start_time": "2024-10-08T12:07:36.227Z"
   },
   {
    "duration": 35,
    "start_time": "2024-10-08T12:07:36.242Z"
   },
   {
    "duration": 31,
    "start_time": "2024-10-08T12:07:36.279Z"
   },
   {
    "duration": 28,
    "start_time": "2024-10-08T12:07:36.312Z"
   },
   {
    "duration": 19,
    "start_time": "2024-10-08T12:07:36.341Z"
   },
   {
    "duration": 55,
    "start_time": "2024-10-08T12:07:36.363Z"
   },
   {
    "duration": 30,
    "start_time": "2024-10-08T12:07:36.420Z"
   },
   {
    "duration": 7,
    "start_time": "2024-10-08T12:07:36.452Z"
   },
   {
    "duration": 15,
    "start_time": "2024-10-08T12:07:36.460Z"
   },
   {
    "duration": 25,
    "start_time": "2024-10-08T12:07:36.477Z"
   },
   {
    "duration": 13,
    "start_time": "2024-10-08T12:07:36.504Z"
   },
   {
    "duration": 18,
    "start_time": "2024-10-08T12:07:36.519Z"
   },
   {
    "duration": 12,
    "start_time": "2024-10-08T12:07:36.539Z"
   },
   {
    "duration": 41,
    "start_time": "2024-10-08T12:07:36.552Z"
   },
   {
    "duration": 10,
    "start_time": "2024-10-08T12:07:36.595Z"
   },
   {
    "duration": 188,
    "start_time": "2024-10-08T12:07:36.606Z"
   },
   {
    "duration": 9,
    "start_time": "2024-10-08T12:07:36.796Z"
   },
   {
    "duration": 178,
    "start_time": "2024-10-08T12:07:36.806Z"
   },
   {
    "duration": 7,
    "start_time": "2024-10-08T12:07:36.986Z"
   },
   {
    "duration": 39,
    "start_time": "2024-10-08T12:07:36.995Z"
   },
   {
    "duration": 366,
    "start_time": "2024-10-08T12:07:37.036Z"
   },
   {
    "duration": 10,
    "start_time": "2024-10-08T12:07:37.404Z"
   },
   {
    "duration": 149,
    "start_time": "2024-10-08T12:07:37.416Z"
   },
   {
    "duration": 271,
    "start_time": "2024-10-08T12:07:37.569Z"
   },
   {
    "duration": 16,
    "start_time": "2024-10-08T12:07:37.842Z"
   },
   {
    "duration": 174,
    "start_time": "2024-10-08T12:07:37.859Z"
   },
   {
    "duration": 208,
    "start_time": "2024-10-08T12:07:38.034Z"
   },
   {
    "duration": 32,
    "start_time": "2024-10-08T12:07:38.243Z"
   },
   {
    "duration": 20,
    "start_time": "2024-10-08T12:07:38.277Z"
   },
   {
    "duration": 11,
    "start_time": "2024-10-08T12:07:38.299Z"
   },
   {
    "duration": 14,
    "start_time": "2024-10-08T12:07:38.312Z"
   },
   {
    "duration": 6,
    "start_time": "2024-10-08T12:07:38.355Z"
   },
   {
    "duration": 18,
    "start_time": "2024-10-08T12:07:38.363Z"
   },
   {
    "duration": 109,
    "start_time": "2024-10-08T12:07:38.383Z"
   },
   {
    "duration": 141,
    "start_time": "2024-10-08T12:07:38.493Z"
   },
   {
    "duration": 6,
    "start_time": "2024-10-08T12:07:38.636Z"
   },
   {
    "duration": 473,
    "start_time": "2024-10-08T12:07:38.653Z"
   },
   {
    "duration": 8,
    "start_time": "2024-10-08T12:07:39.127Z"
   },
   {
    "duration": 21,
    "start_time": "2024-10-08T12:07:39.137Z"
   },
   {
    "duration": 341,
    "start_time": "2024-10-08T12:07:39.160Z"
   },
   {
    "duration": 8,
    "start_time": "2024-10-08T12:07:39.502Z"
   },
   {
    "duration": 8,
    "start_time": "2024-10-08T12:07:39.512Z"
   },
   {
    "duration": 36,
    "start_time": "2024-10-08T12:07:39.521Z"
   },
   {
    "duration": 53,
    "start_time": "2024-10-08T12:07:39.559Z"
   },
   {
    "duration": 9,
    "start_time": "2024-10-08T12:07:39.613Z"
   },
   {
    "duration": 31,
    "start_time": "2024-10-08T12:07:39.624Z"
   },
   {
    "duration": 5,
    "start_time": "2024-10-08T12:07:39.657Z"
   },
   {
    "duration": 186,
    "start_time": "2024-10-08T12:07:39.663Z"
   },
   {
    "duration": 7,
    "start_time": "2024-10-08T12:07:39.851Z"
   },
   {
    "duration": 95,
    "start_time": "2024-10-08T12:07:39.860Z"
   },
   {
    "duration": 8,
    "start_time": "2024-10-08T12:07:39.956Z"
   },
   {
    "duration": 7,
    "start_time": "2024-10-08T12:07:39.966Z"
   },
   {
    "duration": 49,
    "start_time": "2024-10-08T20:07:19.286Z"
   },
   {
    "duration": 1344,
    "start_time": "2024-10-08T20:07:26.639Z"
   },
   {
    "duration": 85,
    "start_time": "2024-10-08T20:07:27.985Z"
   },
   {
    "duration": 167,
    "start_time": "2024-10-08T20:07:28.071Z"
   },
   {
    "duration": 72,
    "start_time": "2024-10-08T20:07:28.240Z"
   },
   {
    "duration": 13,
    "start_time": "2024-10-08T20:07:28.314Z"
   },
   {
    "duration": 7,
    "start_time": "2024-10-08T20:07:28.328Z"
   },
   {
    "duration": 13,
    "start_time": "2024-10-08T20:07:28.336Z"
   },
   {
    "duration": 7,
    "start_time": "2024-10-08T20:07:28.350Z"
   },
   {
    "duration": 8,
    "start_time": "2024-10-08T20:07:28.358Z"
   },
   {
    "duration": 40,
    "start_time": "2024-10-08T20:07:28.368Z"
   },
   {
    "duration": 11,
    "start_time": "2024-10-08T20:07:28.409Z"
   },
   {
    "duration": 8,
    "start_time": "2024-10-08T20:07:28.421Z"
   },
   {
    "duration": 7,
    "start_time": "2024-10-08T20:07:28.431Z"
   },
   {
    "duration": 16,
    "start_time": "2024-10-08T20:07:28.439Z"
   },
   {
    "duration": 9,
    "start_time": "2024-10-08T20:07:28.457Z"
   },
   {
    "duration": 4,
    "start_time": "2024-10-08T20:07:28.468Z"
   },
   {
    "duration": 32,
    "start_time": "2024-10-08T20:07:28.474Z"
   },
   {
    "duration": 9,
    "start_time": "2024-10-08T20:07:28.508Z"
   },
   {
    "duration": 17,
    "start_time": "2024-10-08T20:07:28.518Z"
   },
   {
    "duration": 206,
    "start_time": "2024-10-08T20:07:28.537Z"
   },
   {
    "duration": 8,
    "start_time": "2024-10-08T20:07:28.745Z"
   },
   {
    "duration": 164,
    "start_time": "2024-10-08T20:07:28.754Z"
   },
   {
    "duration": 6,
    "start_time": "2024-10-08T20:07:28.920Z"
   },
   {
    "duration": 10,
    "start_time": "2024-10-08T20:07:28.927Z"
   },
   {
    "duration": 305,
    "start_time": "2024-10-08T20:07:28.939Z"
   },
   {
    "duration": 8,
    "start_time": "2024-10-08T20:07:29.245Z"
   },
   {
    "duration": 135,
    "start_time": "2024-10-08T20:07:29.255Z"
   },
   {
    "duration": 267,
    "start_time": "2024-10-08T20:07:29.393Z"
   },
   {
    "duration": 12,
    "start_time": "2024-10-08T20:07:29.669Z"
   },
   {
    "duration": 141,
    "start_time": "2024-10-08T20:07:29.683Z"
   },
   {
    "duration": 200,
    "start_time": "2024-10-08T20:07:29.826Z"
   },
   {
    "duration": 26,
    "start_time": "2024-10-08T20:07:30.027Z"
   },
   {
    "duration": 25,
    "start_time": "2024-10-08T20:07:30.054Z"
   },
   {
    "duration": 20,
    "start_time": "2024-10-08T20:07:30.081Z"
   },
   {
    "duration": 16,
    "start_time": "2024-10-08T20:07:30.103Z"
   },
   {
    "duration": 38,
    "start_time": "2024-10-08T20:07:30.120Z"
   },
   {
    "duration": 136,
    "start_time": "2024-10-08T20:07:30.160Z"
   },
   {
    "duration": 14,
    "start_time": "2024-10-08T20:07:30.297Z"
   },
   {
    "duration": 161,
    "start_time": "2024-10-08T20:07:30.312Z"
   },
   {
    "duration": 7,
    "start_time": "2024-10-08T20:07:30.475Z"
   },
   {
    "duration": 505,
    "start_time": "2024-10-08T20:07:30.483Z"
   },
   {
    "duration": 8,
    "start_time": "2024-10-08T20:07:30.990Z"
   },
   {
    "duration": 11,
    "start_time": "2024-10-08T20:07:31.000Z"
   },
   {
    "duration": 318,
    "start_time": "2024-10-08T20:07:31.013Z"
   },
   {
    "duration": 10,
    "start_time": "2024-10-08T20:07:31.333Z"
   },
   {
    "duration": 13,
    "start_time": "2024-10-08T20:07:31.345Z"
   },
   {
    "duration": 16,
    "start_time": "2024-10-08T20:07:31.359Z"
   },
   {
    "duration": 87,
    "start_time": "2024-10-08T20:07:31.377Z"
   },
   {
    "duration": 14,
    "start_time": "2024-10-08T20:07:31.466Z"
   },
   {
    "duration": 80,
    "start_time": "2024-10-08T20:07:31.482Z"
   },
   {
    "duration": 24,
    "start_time": "2024-10-08T20:07:31.564Z"
   },
   {
    "duration": 199,
    "start_time": "2024-10-08T20:07:31.590Z"
   },
   {
    "duration": 15,
    "start_time": "2024-10-08T20:07:31.790Z"
   },
   {
    "duration": 48,
    "start_time": "2024-10-08T20:07:31.807Z"
   },
   {
    "duration": 18,
    "start_time": "2024-10-08T20:07:31.856Z"
   },
   {
    "duration": 12,
    "start_time": "2024-10-08T20:07:31.875Z"
   },
   {
    "duration": 149,
    "start_time": "2024-10-08T20:08:53.422Z"
   },
   {
    "duration": 53,
    "start_time": "2024-10-08T20:15:56.729Z"
   },
   {
    "duration": 54,
    "start_time": "2024-10-08T20:16:10.305Z"
   },
   {
    "duration": 55,
    "start_time": "2024-10-08T20:16:19.132Z"
   },
   {
    "duration": 1212,
    "start_time": "2024-10-08T20:16:33.171Z"
   },
   {
    "duration": 41,
    "start_time": "2024-10-08T20:16:34.384Z"
   },
   {
    "duration": 37,
    "start_time": "2024-10-08T20:16:34.427Z"
   },
   {
    "duration": 20,
    "start_time": "2024-10-08T20:16:34.467Z"
   },
   {
    "duration": 17,
    "start_time": "2024-10-08T20:16:34.489Z"
   },
   {
    "duration": 35,
    "start_time": "2024-10-08T20:16:34.508Z"
   },
   {
    "duration": 32,
    "start_time": "2024-10-08T20:16:34.544Z"
   },
   {
    "duration": 22,
    "start_time": "2024-10-08T20:16:34.578Z"
   },
   {
    "duration": 32,
    "start_time": "2024-10-08T20:16:34.602Z"
   },
   {
    "duration": 19,
    "start_time": "2024-10-08T20:16:34.637Z"
   },
   {
    "duration": 38,
    "start_time": "2024-10-08T20:16:34.657Z"
   },
   {
    "duration": 23,
    "start_time": "2024-10-08T20:16:34.697Z"
   },
   {
    "duration": 21,
    "start_time": "2024-10-08T20:16:34.722Z"
   },
   {
    "duration": 45,
    "start_time": "2024-10-08T20:16:34.745Z"
   },
   {
    "duration": 17,
    "start_time": "2024-10-08T20:16:34.792Z"
   },
   {
    "duration": 31,
    "start_time": "2024-10-08T20:16:34.811Z"
   },
   {
    "duration": 30,
    "start_time": "2024-10-08T20:16:34.844Z"
   },
   {
    "duration": 28,
    "start_time": "2024-10-08T20:16:34.877Z"
   },
   {
    "duration": 48,
    "start_time": "2024-10-08T20:16:34.907Z"
   },
   {
    "duration": 211,
    "start_time": "2024-10-08T20:16:34.957Z"
   },
   {
    "duration": 9,
    "start_time": "2024-10-08T20:16:35.170Z"
   },
   {
    "duration": 159,
    "start_time": "2024-10-08T20:16:35.181Z"
   },
   {
    "duration": 8,
    "start_time": "2024-10-08T20:16:35.342Z"
   },
   {
    "duration": 317,
    "start_time": "2024-10-08T20:16:35.352Z"
   },
   {
    "duration": 10,
    "start_time": "2024-10-08T20:16:35.670Z"
   },
   {
    "duration": 132,
    "start_time": "2024-10-08T20:16:35.681Z"
   },
   {
    "duration": 299,
    "start_time": "2024-10-08T20:16:35.815Z"
   },
   {
    "duration": 8,
    "start_time": "2024-10-08T20:16:36.118Z"
   },
   {
    "duration": 157,
    "start_time": "2024-10-08T20:16:36.128Z"
   },
   {
    "duration": 203,
    "start_time": "2024-10-08T20:16:36.287Z"
   },
   {
    "duration": 34,
    "start_time": "2024-10-08T20:16:36.491Z"
   },
   {
    "duration": 66,
    "start_time": "2024-10-08T20:16:36.526Z"
   },
   {
    "duration": 57,
    "start_time": "2024-10-08T20:16:36.595Z"
   },
   {
    "duration": 26,
    "start_time": "2024-10-08T20:16:36.654Z"
   },
   {
    "duration": 41,
    "start_time": "2024-10-08T20:16:36.681Z"
   },
   {
    "duration": 71,
    "start_time": "2024-10-08T20:16:36.723Z"
   },
   {
    "duration": 102,
    "start_time": "2024-10-08T20:16:36.795Z"
   },
   {
    "duration": 184,
    "start_time": "2024-10-08T20:16:36.899Z"
   },
   {
    "duration": 507,
    "start_time": "2024-10-08T20:16:37.085Z"
   },
   {
    "duration": 12,
    "start_time": "2024-10-08T20:16:37.594Z"
   },
   {
    "duration": 33,
    "start_time": "2024-10-08T20:16:37.607Z"
   },
   {
    "duration": 315,
    "start_time": "2024-10-08T20:16:37.642Z"
   },
   {
    "duration": 7,
    "start_time": "2024-10-08T20:16:37.959Z"
   },
   {
    "duration": 39,
    "start_time": "2024-10-08T20:16:37.968Z"
   },
   {
    "duration": 13,
    "start_time": "2024-10-08T20:16:38.009Z"
   },
   {
    "duration": 58,
    "start_time": "2024-10-08T20:16:38.023Z"
   },
   {
    "duration": 355,
    "start_time": "2024-10-08T20:16:38.082Z"
   },
   {
    "duration": 0,
    "start_time": "2024-10-08T20:16:38.439Z"
   },
   {
    "duration": 0,
    "start_time": "2024-10-08T20:16:38.441Z"
   },
   {
    "duration": 0,
    "start_time": "2024-10-08T20:16:38.442Z"
   },
   {
    "duration": 0,
    "start_time": "2024-10-08T20:16:38.443Z"
   },
   {
    "duration": 0,
    "start_time": "2024-10-08T20:16:38.444Z"
   },
   {
    "duration": 0,
    "start_time": "2024-10-08T20:16:38.445Z"
   },
   {
    "duration": 0,
    "start_time": "2024-10-08T20:16:38.446Z"
   },
   {
    "duration": 62,
    "start_time": "2024-10-08T20:17:36.938Z"
   },
   {
    "duration": 27,
    "start_time": "2024-10-08T20:17:56.040Z"
   },
   {
    "duration": 45,
    "start_time": "2024-10-08T20:18:22.814Z"
   },
   {
    "duration": 31,
    "start_time": "2024-10-08T20:18:27.556Z"
   },
   {
    "duration": 60,
    "start_time": "2024-10-08T20:18:44.468Z"
   },
   {
    "duration": 29,
    "start_time": "2024-10-08T20:19:17.202Z"
   },
   {
    "duration": 30,
    "start_time": "2024-10-08T20:19:39.836Z"
   },
   {
    "duration": 47,
    "start_time": "2024-10-09T07:50:59.827Z"
   },
   {
    "duration": 1319,
    "start_time": "2024-10-09T07:51:06.614Z"
   },
   {
    "duration": 113,
    "start_time": "2024-10-09T07:51:07.935Z"
   },
   {
    "duration": 163,
    "start_time": "2024-10-09T07:51:08.050Z"
   },
   {
    "duration": 77,
    "start_time": "2024-10-09T07:51:08.216Z"
   },
   {
    "duration": 12,
    "start_time": "2024-10-09T07:51:08.295Z"
   },
   {
    "duration": 6,
    "start_time": "2024-10-09T07:51:08.308Z"
   },
   {
    "duration": 11,
    "start_time": "2024-10-09T07:51:08.316Z"
   },
   {
    "duration": 7,
    "start_time": "2024-10-09T07:51:08.328Z"
   },
   {
    "duration": 11,
    "start_time": "2024-10-09T07:51:08.337Z"
   },
   {
    "duration": 6,
    "start_time": "2024-10-09T07:51:08.351Z"
   },
   {
    "duration": 34,
    "start_time": "2024-10-09T07:51:08.358Z"
   },
   {
    "duration": 12,
    "start_time": "2024-10-09T07:51:08.393Z"
   },
   {
    "duration": 7,
    "start_time": "2024-10-09T07:51:08.406Z"
   },
   {
    "duration": 9,
    "start_time": "2024-10-09T07:51:08.414Z"
   },
   {
    "duration": 7,
    "start_time": "2024-10-09T07:51:08.425Z"
   },
   {
    "duration": 4,
    "start_time": "2024-10-09T07:51:08.434Z"
   },
   {
    "duration": 50,
    "start_time": "2024-10-09T07:51:08.439Z"
   },
   {
    "duration": 8,
    "start_time": "2024-10-09T07:51:08.490Z"
   },
   {
    "duration": 10,
    "start_time": "2024-10-09T07:51:08.499Z"
   },
   {
    "duration": 205,
    "start_time": "2024-10-09T07:51:08.510Z"
   },
   {
    "duration": 8,
    "start_time": "2024-10-09T07:51:08.716Z"
   },
   {
    "duration": 162,
    "start_time": "2024-10-09T07:51:08.725Z"
   },
   {
    "duration": 7,
    "start_time": "2024-10-09T07:51:08.889Z"
   },
   {
    "duration": 292,
    "start_time": "2024-10-09T07:51:08.898Z"
   },
   {
    "duration": 8,
    "start_time": "2024-10-09T07:51:09.192Z"
   },
   {
    "duration": 136,
    "start_time": "2024-10-09T07:51:09.202Z"
   },
   {
    "duration": 277,
    "start_time": "2024-10-09T07:51:09.339Z"
   },
   {
    "duration": 8,
    "start_time": "2024-10-09T07:51:09.619Z"
   },
   {
    "duration": 131,
    "start_time": "2024-10-09T07:51:09.629Z"
   },
   {
    "duration": 203,
    "start_time": "2024-10-09T07:51:09.762Z"
   },
   {
    "duration": 36,
    "start_time": "2024-10-09T07:51:09.966Z"
   },
   {
    "duration": 13,
    "start_time": "2024-10-09T07:51:10.004Z"
   },
   {
    "duration": 10,
    "start_time": "2024-10-09T07:51:10.019Z"
   },
   {
    "duration": 16,
    "start_time": "2024-10-09T07:51:10.031Z"
   },
   {
    "duration": 38,
    "start_time": "2024-10-09T07:51:10.049Z"
   },
   {
    "duration": 102,
    "start_time": "2024-10-09T07:51:10.089Z"
   },
   {
    "duration": 14,
    "start_time": "2024-10-09T07:51:10.193Z"
   },
   {
    "duration": 152,
    "start_time": "2024-10-09T07:51:10.209Z"
   },
   {
    "duration": 524,
    "start_time": "2024-10-09T07:51:10.363Z"
   },
   {
    "duration": 9,
    "start_time": "2024-10-09T07:51:10.888Z"
   },
   {
    "duration": 7,
    "start_time": "2024-10-09T07:51:10.898Z"
   },
   {
    "duration": 295,
    "start_time": "2024-10-09T07:51:10.906Z"
   },
   {
    "duration": 7,
    "start_time": "2024-10-09T07:51:11.203Z"
   },
   {
    "duration": 7,
    "start_time": "2024-10-09T07:51:11.211Z"
   },
   {
    "duration": 11,
    "start_time": "2024-10-09T07:51:11.220Z"
   },
   {
    "duration": 75,
    "start_time": "2024-10-09T07:51:11.233Z"
   },
   {
    "duration": 499,
    "start_time": "2024-10-09T07:51:11.309Z"
   },
   {
    "duration": 0,
    "start_time": "2024-10-09T07:51:11.809Z"
   },
   {
    "duration": 0,
    "start_time": "2024-10-09T07:51:11.810Z"
   },
   {
    "duration": 0,
    "start_time": "2024-10-09T07:51:11.811Z"
   },
   {
    "duration": 0,
    "start_time": "2024-10-09T07:51:11.813Z"
   },
   {
    "duration": 0,
    "start_time": "2024-10-09T07:51:11.813Z"
   },
   {
    "duration": 0,
    "start_time": "2024-10-09T07:51:11.814Z"
   },
   {
    "duration": 0,
    "start_time": "2024-10-09T07:51:11.815Z"
   },
   {
    "duration": 11,
    "start_time": "2024-10-09T08:34:07.165Z"
   },
   {
    "duration": 12,
    "start_time": "2024-10-09T08:34:20.889Z"
   },
   {
    "duration": 1399,
    "start_time": "2024-10-09T08:34:43.875Z"
   },
   {
    "duration": 1612,
    "start_time": "2024-10-09T08:34:59.897Z"
   },
   {
    "duration": 13,
    "start_time": "2024-10-09T08:35:26.390Z"
   },
   {
    "duration": 16,
    "start_time": "2024-10-09T08:36:04.541Z"
   },
   {
    "duration": 12,
    "start_time": "2024-10-09T08:36:29.180Z"
   },
   {
    "duration": 58,
    "start_time": "2024-10-09T08:37:43.565Z"
   },
   {
    "duration": 15,
    "start_time": "2024-10-09T08:37:58.165Z"
   },
   {
    "duration": 1154,
    "start_time": "2024-10-09T08:38:14.796Z"
   },
   {
    "duration": 37,
    "start_time": "2024-10-09T08:38:15.952Z"
   },
   {
    "duration": 35,
    "start_time": "2024-10-09T08:38:15.990Z"
   },
   {
    "duration": 19,
    "start_time": "2024-10-09T08:38:16.027Z"
   },
   {
    "duration": 10,
    "start_time": "2024-10-09T08:38:16.047Z"
   },
   {
    "duration": 7,
    "start_time": "2024-10-09T08:38:16.059Z"
   },
   {
    "duration": 16,
    "start_time": "2024-10-09T08:38:16.068Z"
   },
   {
    "duration": 8,
    "start_time": "2024-10-09T08:38:16.085Z"
   },
   {
    "duration": 17,
    "start_time": "2024-10-09T08:38:16.094Z"
   },
   {
    "duration": 10,
    "start_time": "2024-10-09T08:38:16.113Z"
   },
   {
    "duration": 17,
    "start_time": "2024-10-09T08:38:16.124Z"
   },
   {
    "duration": 25,
    "start_time": "2024-10-09T08:38:16.142Z"
   },
   {
    "duration": 23,
    "start_time": "2024-10-09T08:38:16.168Z"
   },
   {
    "duration": 15,
    "start_time": "2024-10-09T08:38:16.192Z"
   },
   {
    "duration": 6,
    "start_time": "2024-10-09T08:38:16.208Z"
   },
   {
    "duration": 4,
    "start_time": "2024-10-09T08:38:16.215Z"
   },
   {
    "duration": 8,
    "start_time": "2024-10-09T08:38:16.220Z"
   },
   {
    "duration": 7,
    "start_time": "2024-10-09T08:38:16.230Z"
   },
   {
    "duration": 19,
    "start_time": "2024-10-09T08:38:16.238Z"
   },
   {
    "duration": 188,
    "start_time": "2024-10-09T08:38:16.259Z"
   },
   {
    "duration": 7,
    "start_time": "2024-10-09T08:38:16.449Z"
   },
   {
    "duration": 151,
    "start_time": "2024-10-09T08:38:16.457Z"
   },
   {
    "duration": 8,
    "start_time": "2024-10-09T08:38:16.610Z"
   },
   {
    "duration": 337,
    "start_time": "2024-10-09T08:38:16.619Z"
   },
   {
    "duration": 22,
    "start_time": "2024-10-09T08:38:16.958Z"
   },
   {
    "duration": 130,
    "start_time": "2024-10-09T08:38:16.982Z"
   },
   {
    "duration": 273,
    "start_time": "2024-10-09T08:38:17.114Z"
   },
   {
    "duration": 9,
    "start_time": "2024-10-09T08:38:17.390Z"
   },
   {
    "duration": 136,
    "start_time": "2024-10-09T08:38:17.401Z"
   },
   {
    "duration": 189,
    "start_time": "2024-10-09T08:38:17.539Z"
   },
   {
    "duration": 24,
    "start_time": "2024-10-09T08:38:17.730Z"
   },
   {
    "duration": 29,
    "start_time": "2024-10-09T08:38:17.755Z"
   },
   {
    "duration": 9,
    "start_time": "2024-10-09T08:38:17.785Z"
   },
   {
    "duration": 18,
    "start_time": "2024-10-09T08:38:17.795Z"
   },
   {
    "duration": 11,
    "start_time": "2024-10-09T08:38:17.814Z"
   },
   {
    "duration": 18,
    "start_time": "2024-10-09T08:38:17.826Z"
   },
   {
    "duration": 95,
    "start_time": "2024-10-09T08:38:17.846Z"
   },
   {
    "duration": 144,
    "start_time": "2024-10-09T08:38:17.942Z"
   },
   {
    "duration": 499,
    "start_time": "2024-10-09T08:38:18.088Z"
   },
   {
    "duration": 9,
    "start_time": "2024-10-09T08:38:18.588Z"
   },
   {
    "duration": 24,
    "start_time": "2024-10-09T08:38:18.598Z"
   },
   {
    "duration": 306,
    "start_time": "2024-10-09T08:38:18.623Z"
   },
   {
    "duration": 8,
    "start_time": "2024-10-09T08:38:18.930Z"
   },
   {
    "duration": 49,
    "start_time": "2024-10-09T08:38:18.939Z"
   },
   {
    "duration": 19,
    "start_time": "2024-10-09T08:38:18.989Z"
   },
   {
    "duration": 21,
    "start_time": "2024-10-09T08:38:19.010Z"
   },
   {
    "duration": 89,
    "start_time": "2024-10-09T08:38:19.033Z"
   },
   {
    "duration": 9,
    "start_time": "2024-10-09T08:38:19.124Z"
   },
   {
    "duration": 13,
    "start_time": "2024-10-09T08:38:19.134Z"
   },
   {
    "duration": 4,
    "start_time": "2024-10-09T08:38:19.148Z"
   },
   {
    "duration": 224,
    "start_time": "2024-10-09T08:38:19.154Z"
   },
   {
    "duration": 8,
    "start_time": "2024-10-09T08:38:19.379Z"
   },
   {
    "duration": 7,
    "start_time": "2024-10-09T08:38:19.388Z"
   },
   {
    "duration": 11,
    "start_time": "2024-10-09T08:38:19.397Z"
   },
   {
    "duration": 18,
    "start_time": "2024-10-09T08:38:19.409Z"
   },
   {
    "duration": 483,
    "start_time": "2024-10-09T08:51:43.258Z"
   },
   {
    "duration": 58,
    "start_time": "2024-10-09T08:51:46.577Z"
   },
   {
    "duration": 10,
    "start_time": "2024-10-09T08:52:12.496Z"
   },
   {
    "duration": 63,
    "start_time": "2024-10-09T08:52:30.357Z"
   },
   {
    "duration": 10,
    "start_time": "2024-10-09T08:52:44.164Z"
   },
   {
    "duration": 156,
    "start_time": "2024-10-09T08:53:26.102Z"
   },
   {
    "duration": 4,
    "start_time": "2024-10-09T08:53:35.334Z"
   },
   {
    "duration": 18,
    "start_time": "2024-10-09T08:53:59.800Z"
   },
   {
    "duration": 29,
    "start_time": "2024-10-09T08:54:25.849Z"
   },
   {
    "duration": 30,
    "start_time": "2024-10-09T08:54:45.785Z"
   },
   {
    "duration": 61,
    "start_time": "2024-10-09T08:55:39.628Z"
   },
   {
    "duration": 58,
    "start_time": "2024-10-09T08:56:18.636Z"
   },
   {
    "duration": 18,
    "start_time": "2024-10-09T08:57:06.367Z"
   },
   {
    "duration": 59,
    "start_time": "2024-10-09T08:57:21.807Z"
   },
   {
    "duration": 423,
    "start_time": "2024-10-09T08:57:25.427Z"
   },
   {
    "duration": 10,
    "start_time": "2024-10-09T08:57:42.614Z"
   },
   {
    "duration": 18,
    "start_time": "2024-10-09T08:58:09.297Z"
   },
   {
    "duration": 17,
    "start_time": "2024-10-09T09:00:06.047Z"
   },
   {
    "duration": 166,
    "start_time": "2024-10-09T09:00:36.610Z"
   },
   {
    "duration": 15,
    "start_time": "2024-10-09T09:01:05.698Z"
   },
   {
    "duration": 11,
    "start_time": "2024-10-09T09:01:32.410Z"
   },
   {
    "duration": 9,
    "start_time": "2024-10-09T09:12:09.576Z"
   },
   {
    "duration": 15,
    "start_time": "2024-10-09T09:12:57.865Z"
   },
   {
    "duration": 14,
    "start_time": "2024-10-09T09:13:13.840Z"
   },
   {
    "duration": 140,
    "start_time": "2024-10-09T09:13:54.057Z"
   },
   {
    "duration": 168,
    "start_time": "2024-10-09T09:14:15.261Z"
   },
   {
    "duration": 16,
    "start_time": "2024-10-09T09:14:52.404Z"
   },
   {
    "duration": 16,
    "start_time": "2024-10-09T09:15:57.540Z"
   },
   {
    "duration": 181,
    "start_time": "2024-10-09T09:16:29.732Z"
   },
   {
    "duration": 280,
    "start_time": "2024-10-09T09:19:13.191Z"
   },
   {
    "duration": 192,
    "start_time": "2024-10-09T09:19:58.925Z"
   },
   {
    "duration": 8,
    "start_time": "2024-10-09T09:21:58.413Z"
   },
   {
    "duration": 8,
    "start_time": "2024-10-09T09:22:31.664Z"
   },
   {
    "duration": 8,
    "start_time": "2024-10-09T09:23:10.944Z"
   },
   {
    "duration": 8,
    "start_time": "2024-10-09T09:24:06.145Z"
   },
   {
    "duration": 5,
    "start_time": "2024-10-09T09:26:08.372Z"
   },
   {
    "duration": 6,
    "start_time": "2024-10-09T09:26:57.244Z"
   },
   {
    "duration": 16,
    "start_time": "2024-10-09T09:28:08.008Z"
   },
   {
    "duration": 12,
    "start_time": "2024-10-09T09:28:53.457Z"
   },
   {
    "duration": 11,
    "start_time": "2024-10-09T09:29:42.294Z"
   },
   {
    "duration": 4,
    "start_time": "2024-10-09T09:29:57.334Z"
   },
   {
    "duration": 4,
    "start_time": "2024-10-09T09:30:11.356Z"
   },
   {
    "duration": 5,
    "start_time": "2024-10-09T09:30:20.200Z"
   },
   {
    "duration": 14,
    "start_time": "2024-10-09T09:31:26.320Z"
   },
   {
    "duration": 62,
    "start_time": "2024-10-09T10:15:49.378Z"
   },
   {
    "duration": 59,
    "start_time": "2024-10-09T10:16:16.996Z"
   },
   {
    "duration": 12,
    "start_time": "2024-10-09T10:18:26.746Z"
   },
   {
    "duration": 10,
    "start_time": "2024-10-09T10:18:38.301Z"
   },
   {
    "duration": 1139,
    "start_time": "2024-10-09T10:18:51.500Z"
   },
   {
    "duration": 38,
    "start_time": "2024-10-09T10:18:52.641Z"
   },
   {
    "duration": 34,
    "start_time": "2024-10-09T10:18:52.681Z"
   },
   {
    "duration": 18,
    "start_time": "2024-10-09T10:18:52.716Z"
   },
   {
    "duration": 12,
    "start_time": "2024-10-09T10:18:52.736Z"
   },
   {
    "duration": 6,
    "start_time": "2024-10-09T10:18:52.750Z"
   },
   {
    "duration": 13,
    "start_time": "2024-10-09T10:18:52.758Z"
   },
   {
    "duration": 7,
    "start_time": "2024-10-09T10:18:52.773Z"
   },
   {
    "duration": 14,
    "start_time": "2024-10-09T10:18:52.782Z"
   },
   {
    "duration": 7,
    "start_time": "2024-10-09T10:18:52.797Z"
   },
   {
    "duration": 10,
    "start_time": "2024-10-09T10:18:52.805Z"
   },
   {
    "duration": 6,
    "start_time": "2024-10-09T10:18:52.816Z"
   },
   {
    "duration": 5,
    "start_time": "2024-10-09T10:18:52.824Z"
   },
   {
    "duration": 61,
    "start_time": "2024-10-09T10:18:52.832Z"
   },
   {
    "duration": 6,
    "start_time": "2024-10-09T10:18:52.895Z"
   },
   {
    "duration": 34,
    "start_time": "2024-10-09T10:18:52.902Z"
   },
   {
    "duration": 13,
    "start_time": "2024-10-09T10:18:52.937Z"
   },
   {
    "duration": 8,
    "start_time": "2024-10-09T10:18:52.952Z"
   },
   {
    "duration": 10,
    "start_time": "2024-10-09T10:18:52.961Z"
   },
   {
    "duration": 174,
    "start_time": "2024-10-09T10:18:52.973Z"
   },
   {
    "duration": 8,
    "start_time": "2024-10-09T10:18:53.149Z"
   },
   {
    "duration": 153,
    "start_time": "2024-10-09T10:18:53.159Z"
   },
   {
    "duration": 8,
    "start_time": "2024-10-09T10:18:53.315Z"
   },
   {
    "duration": 287,
    "start_time": "2024-10-09T10:18:53.325Z"
   },
   {
    "duration": 9,
    "start_time": "2024-10-09T10:18:53.614Z"
   },
   {
    "duration": 132,
    "start_time": "2024-10-09T10:18:53.625Z"
   },
   {
    "duration": 280,
    "start_time": "2024-10-09T10:18:53.759Z"
   },
   {
    "duration": 8,
    "start_time": "2024-10-09T10:18:54.041Z"
   },
   {
    "duration": 133,
    "start_time": "2024-10-09T10:18:54.050Z"
   },
   {
    "duration": 204,
    "start_time": "2024-10-09T10:18:54.185Z"
   },
   {
    "duration": 24,
    "start_time": "2024-10-09T10:18:54.391Z"
   },
   {
    "duration": 12,
    "start_time": "2024-10-09T10:18:54.416Z"
   },
   {
    "duration": 10,
    "start_time": "2024-10-09T10:18:54.430Z"
   },
   {
    "duration": 45,
    "start_time": "2024-10-09T10:18:54.441Z"
   },
   {
    "duration": 8,
    "start_time": "2024-10-09T10:18:54.487Z"
   },
   {
    "duration": 103,
    "start_time": "2024-10-09T10:18:54.496Z"
   },
   {
    "duration": 13,
    "start_time": "2024-10-09T10:18:54.600Z"
   },
   {
    "duration": 147,
    "start_time": "2024-10-09T10:18:54.614Z"
   },
   {
    "duration": 438,
    "start_time": "2024-10-09T10:18:54.763Z"
   },
   {
    "duration": 8,
    "start_time": "2024-10-09T10:18:55.203Z"
   },
   {
    "duration": 7,
    "start_time": "2024-10-09T10:18:55.214Z"
   },
   {
    "duration": 360,
    "start_time": "2024-10-09T10:18:55.223Z"
   },
   {
    "duration": 8,
    "start_time": "2024-10-09T10:18:55.584Z"
   },
   {
    "duration": 7,
    "start_time": "2024-10-09T10:18:55.593Z"
   },
   {
    "duration": 12,
    "start_time": "2024-10-09T10:18:55.601Z"
   },
   {
    "duration": 82,
    "start_time": "2024-10-09T10:18:55.614Z"
   },
   {
    "duration": 9,
    "start_time": "2024-10-09T10:18:55.697Z"
   },
   {
    "duration": 13,
    "start_time": "2024-10-09T10:18:55.707Z"
   },
   {
    "duration": 3,
    "start_time": "2024-10-09T10:18:55.722Z"
   },
   {
    "duration": 179,
    "start_time": "2024-10-09T10:18:55.726Z"
   },
   {
    "duration": 12,
    "start_time": "2024-10-09T10:18:55.907Z"
   },
   {
    "duration": 206,
    "start_time": "2024-10-09T10:18:55.921Z"
   },
   {
    "duration": 8,
    "start_time": "2024-10-09T10:18:56.129Z"
   },
   {
    "duration": 7,
    "start_time": "2024-10-09T10:18:56.139Z"
   },
   {
    "duration": 10,
    "start_time": "2024-10-09T10:18:56.175Z"
   },
   {
    "duration": 8,
    "start_time": "2024-10-09T10:18:56.187Z"
   },
   {
    "duration": 18,
    "start_time": "2024-10-09T10:20:37.699Z"
   },
   {
    "duration": 15,
    "start_time": "2024-10-09T10:25:56.547Z"
   },
   {
    "duration": 1086,
    "start_time": "2024-10-09T10:51:34.283Z"
   },
   {
    "duration": 37,
    "start_time": "2024-10-09T10:51:35.370Z"
   },
   {
    "duration": 32,
    "start_time": "2024-10-09T10:51:35.409Z"
   },
   {
    "duration": 67,
    "start_time": "2024-10-09T10:51:35.443Z"
   },
   {
    "duration": 10,
    "start_time": "2024-10-09T10:51:35.511Z"
   },
   {
    "duration": 15,
    "start_time": "2024-10-09T10:51:35.523Z"
   },
   {
    "duration": 29,
    "start_time": "2024-10-09T10:51:35.539Z"
   },
   {
    "duration": 19,
    "start_time": "2024-10-09T10:51:35.569Z"
   },
   {
    "duration": 10,
    "start_time": "2024-10-09T10:51:35.589Z"
   },
   {
    "duration": 47,
    "start_time": "2024-10-09T10:51:35.601Z"
   },
   {
    "duration": 35,
    "start_time": "2024-10-09T10:51:35.649Z"
   },
   {
    "duration": 19,
    "start_time": "2024-10-09T10:51:35.685Z"
   },
   {
    "duration": 27,
    "start_time": "2024-10-09T10:51:35.705Z"
   },
   {
    "duration": 27,
    "start_time": "2024-10-09T10:51:35.733Z"
   },
   {
    "duration": 11,
    "start_time": "2024-10-09T10:51:35.761Z"
   },
   {
    "duration": 33,
    "start_time": "2024-10-09T10:51:35.773Z"
   },
   {
    "duration": 105,
    "start_time": "2024-10-09T10:51:35.807Z"
   },
   {
    "duration": 40,
    "start_time": "2024-10-09T10:51:35.913Z"
   },
   {
    "duration": 10,
    "start_time": "2024-10-09T10:51:35.955Z"
   },
   {
    "duration": 178,
    "start_time": "2024-10-09T10:51:35.966Z"
   },
   {
    "duration": 7,
    "start_time": "2024-10-09T10:51:36.145Z"
   },
   {
    "duration": 158,
    "start_time": "2024-10-09T10:51:36.154Z"
   },
   {
    "duration": 8,
    "start_time": "2024-10-09T10:51:36.313Z"
   },
   {
    "duration": 292,
    "start_time": "2024-10-09T10:51:36.322Z"
   },
   {
    "duration": 8,
    "start_time": "2024-10-09T10:51:36.615Z"
   },
   {
    "duration": 133,
    "start_time": "2024-10-09T10:51:36.624Z"
   },
   {
    "duration": 249,
    "start_time": "2024-10-09T10:51:36.758Z"
   },
   {
    "duration": 8,
    "start_time": "2024-10-09T10:51:37.010Z"
   },
   {
    "duration": 137,
    "start_time": "2024-10-09T10:51:37.020Z"
   },
   {
    "duration": 186,
    "start_time": "2024-10-09T10:51:37.159Z"
   },
   {
    "duration": 31,
    "start_time": "2024-10-09T10:51:37.347Z"
   },
   {
    "duration": 12,
    "start_time": "2024-10-09T10:51:37.379Z"
   },
   {
    "duration": 12,
    "start_time": "2024-10-09T10:51:37.392Z"
   },
   {
    "duration": 69,
    "start_time": "2024-10-09T10:51:37.405Z"
   },
   {
    "duration": 10,
    "start_time": "2024-10-09T10:51:37.475Z"
   },
   {
    "duration": 15,
    "start_time": "2024-10-09T10:51:37.487Z"
   },
   {
    "duration": 88,
    "start_time": "2024-10-09T10:51:37.504Z"
   },
   {
    "duration": 138,
    "start_time": "2024-10-09T10:51:37.593Z"
   },
   {
    "duration": 451,
    "start_time": "2024-10-09T10:51:37.733Z"
   },
   {
    "duration": 12,
    "start_time": "2024-10-09T10:51:38.187Z"
   },
   {
    "duration": 10,
    "start_time": "2024-10-09T10:51:38.202Z"
   },
   {
    "duration": 323,
    "start_time": "2024-10-09T10:51:38.214Z"
   },
   {
    "duration": 7,
    "start_time": "2024-10-09T10:51:38.539Z"
   },
   {
    "duration": 7,
    "start_time": "2024-10-09T10:51:38.547Z"
   },
   {
    "duration": 30,
    "start_time": "2024-10-09T10:51:38.556Z"
   },
   {
    "duration": 57,
    "start_time": "2024-10-09T10:51:38.588Z"
   },
   {
    "duration": 10,
    "start_time": "2024-10-09T10:51:38.646Z"
   },
   {
    "duration": 27,
    "start_time": "2024-10-09T10:51:38.657Z"
   },
   {
    "duration": 12,
    "start_time": "2024-10-09T10:51:38.685Z"
   },
   {
    "duration": 4,
    "start_time": "2024-10-09T10:51:38.698Z"
   },
   {
    "duration": 190,
    "start_time": "2024-10-09T10:51:38.703Z"
   },
   {
    "duration": 15,
    "start_time": "2024-10-09T10:51:38.894Z"
   },
   {
    "duration": 203,
    "start_time": "2024-10-09T10:51:38.911Z"
   },
   {
    "duration": 6,
    "start_time": "2024-10-09T10:51:39.116Z"
   },
   {
    "duration": 16,
    "start_time": "2024-10-09T10:51:39.124Z"
   },
   {
    "duration": 9,
    "start_time": "2024-10-09T10:51:39.141Z"
   },
   {
    "duration": 25,
    "start_time": "2024-10-09T10:51:39.151Z"
   },
   {
    "duration": 41,
    "start_time": "2024-10-09T10:57:20.288Z"
   },
   {
    "duration": 133,
    "start_time": "2024-10-09T10:57:30.170Z"
   },
   {
    "duration": 58,
    "start_time": "2024-10-09T10:57:37.445Z"
   },
   {
    "duration": 91,
    "start_time": "2024-10-09T10:58:14.042Z"
   },
   {
    "duration": 4,
    "start_time": "2024-10-09T11:02:50.755Z"
   },
   {
    "duration": 63,
    "start_time": "2024-10-09T11:06:18.343Z"
   },
   {
    "duration": 60,
    "start_time": "2024-10-09T11:06:32.637Z"
   },
   {
    "duration": 17,
    "start_time": "2024-10-09T11:08:13.544Z"
   },
   {
    "duration": 17,
    "start_time": "2024-10-09T11:08:30.163Z"
   },
   {
    "duration": 1487,
    "start_time": "2024-10-09T11:10:11.315Z"
   },
   {
    "duration": 1878,
    "start_time": "2024-10-09T11:10:23.035Z"
   },
   {
    "duration": 3,
    "start_time": "2024-10-09T11:10:54.868Z"
   },
   {
    "duration": 9,
    "start_time": "2024-10-09T11:11:05.123Z"
   },
   {
    "duration": 6,
    "start_time": "2024-10-09T11:15:09.530Z"
   },
   {
    "duration": 19,
    "start_time": "2024-10-09T11:20:52.609Z"
   },
   {
    "duration": 9,
    "start_time": "2024-10-09T11:22:56.929Z"
   },
   {
    "duration": 11,
    "start_time": "2024-10-09T11:23:10.497Z"
   },
   {
    "duration": 10,
    "start_time": "2024-10-09T11:23:18.991Z"
   },
   {
    "duration": 33,
    "start_time": "2024-10-09T11:24:01.787Z"
   },
   {
    "duration": 58,
    "start_time": "2024-10-09T11:24:23.713Z"
   },
   {
    "duration": 1137,
    "start_time": "2024-10-09T11:24:35.696Z"
   },
   {
    "duration": 38,
    "start_time": "2024-10-09T11:24:36.834Z"
   },
   {
    "duration": 33,
    "start_time": "2024-10-09T11:24:36.874Z"
   },
   {
    "duration": 18,
    "start_time": "2024-10-09T11:24:36.909Z"
   },
   {
    "duration": 11,
    "start_time": "2024-10-09T11:24:36.928Z"
   },
   {
    "duration": 20,
    "start_time": "2024-10-09T11:24:36.940Z"
   },
   {
    "duration": 18,
    "start_time": "2024-10-09T11:24:36.961Z"
   },
   {
    "duration": 7,
    "start_time": "2024-10-09T11:24:36.980Z"
   },
   {
    "duration": 10,
    "start_time": "2024-10-09T11:24:36.988Z"
   },
   {
    "duration": 7,
    "start_time": "2024-10-09T11:24:37.000Z"
   },
   {
    "duration": 57,
    "start_time": "2024-10-09T11:24:37.008Z"
   },
   {
    "duration": 6,
    "start_time": "2024-10-09T11:24:37.066Z"
   },
   {
    "duration": 10,
    "start_time": "2024-10-09T11:24:37.074Z"
   },
   {
    "duration": 9,
    "start_time": "2024-10-09T11:24:37.085Z"
   },
   {
    "duration": 7,
    "start_time": "2024-10-09T11:24:37.096Z"
   },
   {
    "duration": 22,
    "start_time": "2024-10-09T11:24:37.105Z"
   },
   {
    "duration": 15,
    "start_time": "2024-10-09T11:24:37.129Z"
   },
   {
    "duration": 21,
    "start_time": "2024-10-09T11:24:37.145Z"
   },
   {
    "duration": 11,
    "start_time": "2024-10-09T11:24:37.168Z"
   },
   {
    "duration": 181,
    "start_time": "2024-10-09T11:24:37.181Z"
   },
   {
    "duration": 12,
    "start_time": "2024-10-09T11:24:37.364Z"
   },
   {
    "duration": 149,
    "start_time": "2024-10-09T11:24:37.377Z"
   },
   {
    "duration": 8,
    "start_time": "2024-10-09T11:24:37.527Z"
   },
   {
    "duration": 315,
    "start_time": "2024-10-09T11:24:37.536Z"
   },
   {
    "duration": 8,
    "start_time": "2024-10-09T11:24:37.853Z"
   },
   {
    "duration": 134,
    "start_time": "2024-10-09T11:24:37.862Z"
   },
   {
    "duration": 298,
    "start_time": "2024-10-09T11:24:37.997Z"
   },
   {
    "duration": 9,
    "start_time": "2024-10-09T11:24:38.299Z"
   },
   {
    "duration": 132,
    "start_time": "2024-10-09T11:24:38.309Z"
   },
   {
    "duration": 197,
    "start_time": "2024-10-09T11:24:38.442Z"
   },
   {
    "duration": 22,
    "start_time": "2024-10-09T11:24:38.641Z"
   },
   {
    "duration": 21,
    "start_time": "2024-10-09T11:24:38.665Z"
   },
   {
    "duration": 10,
    "start_time": "2024-10-09T11:24:38.687Z"
   },
   {
    "duration": 11,
    "start_time": "2024-10-09T11:24:38.698Z"
   },
   {
    "duration": 7,
    "start_time": "2024-10-09T11:24:38.710Z"
   },
   {
    "duration": 15,
    "start_time": "2024-10-09T11:24:38.719Z"
   },
   {
    "duration": 115,
    "start_time": "2024-10-09T11:24:38.735Z"
   },
   {
    "duration": 148,
    "start_time": "2024-10-09T11:24:38.852Z"
   },
   {
    "duration": 446,
    "start_time": "2024-10-09T11:24:39.001Z"
   },
   {
    "duration": 7,
    "start_time": "2024-10-09T11:24:39.449Z"
   },
   {
    "duration": 21,
    "start_time": "2024-10-09T11:24:39.457Z"
   },
   {
    "duration": 276,
    "start_time": "2024-10-09T11:24:39.480Z"
   },
   {
    "duration": 8,
    "start_time": "2024-10-09T11:24:39.757Z"
   },
   {
    "duration": 15,
    "start_time": "2024-10-09T11:24:39.766Z"
   },
   {
    "duration": 12,
    "start_time": "2024-10-09T11:24:39.782Z"
   },
   {
    "duration": 8,
    "start_time": "2024-10-09T11:24:39.795Z"
   },
   {
    "duration": 77,
    "start_time": "2024-10-09T11:24:39.804Z"
   },
   {
    "duration": 476,
    "start_time": "2024-10-09T11:24:39.882Z"
   },
   {
    "duration": 0,
    "start_time": "2024-10-09T11:24:40.359Z"
   },
   {
    "duration": 0,
    "start_time": "2024-10-09T11:24:40.361Z"
   },
   {
    "duration": 0,
    "start_time": "2024-10-09T11:24:40.362Z"
   },
   {
    "duration": 0,
    "start_time": "2024-10-09T11:24:40.363Z"
   },
   {
    "duration": 0,
    "start_time": "2024-10-09T11:24:40.364Z"
   },
   {
    "duration": 0,
    "start_time": "2024-10-09T11:24:40.365Z"
   },
   {
    "duration": 0,
    "start_time": "2024-10-09T11:24:40.366Z"
   },
   {
    "duration": 0,
    "start_time": "2024-10-09T11:24:40.367Z"
   },
   {
    "duration": 0,
    "start_time": "2024-10-09T11:24:40.368Z"
   },
   {
    "duration": 0,
    "start_time": "2024-10-09T11:24:40.369Z"
   },
   {
    "duration": 16,
    "start_time": "2024-10-09T11:25:16.461Z"
   },
   {
    "duration": 58,
    "start_time": "2024-10-09T11:25:44.993Z"
   },
   {
    "duration": 16,
    "start_time": "2024-10-09T11:26:17.662Z"
   },
   {
    "duration": 9,
    "start_time": "2024-10-09T11:26:59.227Z"
   },
   {
    "duration": 15,
    "start_time": "2024-10-09T11:27:20.820Z"
   },
   {
    "duration": 1146,
    "start_time": "2024-10-09T11:27:36.583Z"
   },
   {
    "duration": 38,
    "start_time": "2024-10-09T11:27:37.730Z"
   },
   {
    "duration": 42,
    "start_time": "2024-10-09T11:27:37.769Z"
   },
   {
    "duration": 18,
    "start_time": "2024-10-09T11:27:37.813Z"
   },
   {
    "duration": 11,
    "start_time": "2024-10-09T11:27:37.833Z"
   },
   {
    "duration": 7,
    "start_time": "2024-10-09T11:27:37.845Z"
   },
   {
    "duration": 10,
    "start_time": "2024-10-09T11:27:37.853Z"
   },
   {
    "duration": 7,
    "start_time": "2024-10-09T11:27:37.864Z"
   },
   {
    "duration": 7,
    "start_time": "2024-10-09T11:27:37.875Z"
   },
   {
    "duration": 5,
    "start_time": "2024-10-09T11:27:37.884Z"
   },
   {
    "duration": 10,
    "start_time": "2024-10-09T11:27:37.891Z"
   },
   {
    "duration": 6,
    "start_time": "2024-10-09T11:27:37.902Z"
   },
   {
    "duration": 12,
    "start_time": "2024-10-09T11:27:37.909Z"
   },
   {
    "duration": 7,
    "start_time": "2024-10-09T11:27:37.924Z"
   },
   {
    "duration": 5,
    "start_time": "2024-10-09T11:27:37.933Z"
   },
   {
    "duration": 37,
    "start_time": "2024-10-09T11:27:37.939Z"
   },
   {
    "duration": 53,
    "start_time": "2024-10-09T11:27:37.977Z"
   },
   {
    "duration": 11,
    "start_time": "2024-10-09T11:27:38.032Z"
   },
   {
    "duration": 9,
    "start_time": "2024-10-09T11:27:38.045Z"
   },
   {
    "duration": 199,
    "start_time": "2024-10-09T11:27:38.056Z"
   },
   {
    "duration": 7,
    "start_time": "2024-10-09T11:27:38.257Z"
   },
   {
    "duration": 151,
    "start_time": "2024-10-09T11:27:38.265Z"
   },
   {
    "duration": 7,
    "start_time": "2024-10-09T11:27:38.418Z"
   },
   {
    "duration": 290,
    "start_time": "2024-10-09T11:27:38.427Z"
   },
   {
    "duration": 9,
    "start_time": "2024-10-09T11:27:38.718Z"
   },
   {
    "duration": 132,
    "start_time": "2024-10-09T11:27:38.728Z"
   },
   {
    "duration": 250,
    "start_time": "2024-10-09T11:27:38.861Z"
   },
   {
    "duration": 8,
    "start_time": "2024-10-09T11:27:39.112Z"
   },
   {
    "duration": 134,
    "start_time": "2024-10-09T11:27:39.121Z"
   },
   {
    "duration": 195,
    "start_time": "2024-10-09T11:27:39.256Z"
   },
   {
    "duration": 30,
    "start_time": "2024-10-09T11:27:39.452Z"
   },
   {
    "duration": 11,
    "start_time": "2024-10-09T11:27:39.483Z"
   },
   {
    "duration": 9,
    "start_time": "2024-10-09T11:27:39.495Z"
   },
   {
    "duration": 11,
    "start_time": "2024-10-09T11:27:39.505Z"
   },
   {
    "duration": 57,
    "start_time": "2024-10-09T11:27:39.517Z"
   },
   {
    "duration": 87,
    "start_time": "2024-10-09T11:27:39.575Z"
   },
   {
    "duration": 22,
    "start_time": "2024-10-09T11:27:39.663Z"
   },
   {
    "duration": 140,
    "start_time": "2024-10-09T11:27:39.686Z"
   },
   {
    "duration": 457,
    "start_time": "2024-10-09T11:27:39.827Z"
   },
   {
    "duration": 7,
    "start_time": "2024-10-09T11:27:40.286Z"
   },
   {
    "duration": 7,
    "start_time": "2024-10-09T11:27:40.297Z"
   },
   {
    "duration": 316,
    "start_time": "2024-10-09T11:27:40.306Z"
   },
   {
    "duration": 10,
    "start_time": "2024-10-09T11:27:40.624Z"
   },
   {
    "duration": 16,
    "start_time": "2024-10-09T11:27:40.635Z"
   },
   {
    "duration": 27,
    "start_time": "2024-10-09T11:27:40.654Z"
   },
   {
    "duration": 8,
    "start_time": "2024-10-09T11:27:40.682Z"
   },
   {
    "duration": 58,
    "start_time": "2024-10-09T11:27:40.692Z"
   },
   {
    "duration": 32,
    "start_time": "2024-10-09T11:27:40.751Z"
   },
   {
    "duration": 10,
    "start_time": "2024-10-09T11:27:40.784Z"
   },
   {
    "duration": 12,
    "start_time": "2024-10-09T11:27:40.795Z"
   },
   {
    "duration": 4,
    "start_time": "2024-10-09T11:27:40.809Z"
   },
   {
    "duration": 187,
    "start_time": "2024-10-09T11:27:40.814Z"
   },
   {
    "duration": 110,
    "start_time": "2024-10-09T11:27:41.003Z"
   },
   {
    "duration": 0,
    "start_time": "2024-10-09T11:27:41.115Z"
   },
   {
    "duration": 0,
    "start_time": "2024-10-09T11:27:41.117Z"
   },
   {
    "duration": 0,
    "start_time": "2024-10-09T11:27:41.118Z"
   },
   {
    "duration": 0,
    "start_time": "2024-10-09T11:27:41.119Z"
   },
   {
    "duration": 0,
    "start_time": "2024-10-09T11:27:41.121Z"
   },
   {
    "duration": 13,
    "start_time": "2024-10-09T11:28:16.627Z"
   },
   {
    "duration": 16,
    "start_time": "2024-10-09T11:28:33.188Z"
   },
   {
    "duration": 5,
    "start_time": "2024-10-09T11:34:34.214Z"
   },
   {
    "duration": 15,
    "start_time": "2024-10-09T11:35:07.865Z"
   },
   {
    "duration": 16,
    "start_time": "2024-10-09T11:35:15.255Z"
   },
   {
    "duration": 197,
    "start_time": "2024-10-09T11:35:42.735Z"
   },
   {
    "duration": 190,
    "start_time": "2024-10-09T11:38:46.929Z"
   },
   {
    "duration": 200,
    "start_time": "2024-10-09T11:38:59.278Z"
   },
   {
    "duration": 180,
    "start_time": "2024-10-09T11:42:27.245Z"
   },
   {
    "duration": 253,
    "start_time": "2024-10-09T11:43:19.717Z"
   },
   {
    "duration": 174,
    "start_time": "2024-10-09T11:43:27.581Z"
   },
   {
    "duration": 194,
    "start_time": "2024-10-09T11:44:22.859Z"
   },
   {
    "duration": 176,
    "start_time": "2024-10-09T11:46:47.616Z"
   },
   {
    "duration": 189,
    "start_time": "2024-10-09T11:47:12.688Z"
   },
   {
    "duration": 1052,
    "start_time": "2024-10-09T11:51:16.482Z"
   },
   {
    "duration": 37,
    "start_time": "2024-10-09T11:51:17.535Z"
   },
   {
    "duration": 33,
    "start_time": "2024-10-09T11:51:17.573Z"
   },
   {
    "duration": 18,
    "start_time": "2024-10-09T11:51:17.608Z"
   },
   {
    "duration": 60,
    "start_time": "2024-10-09T11:51:17.628Z"
   },
   {
    "duration": 5,
    "start_time": "2024-10-09T11:51:17.690Z"
   },
   {
    "duration": 10,
    "start_time": "2024-10-09T11:51:17.696Z"
   },
   {
    "duration": 6,
    "start_time": "2024-10-09T11:51:17.707Z"
   },
   {
    "duration": 8,
    "start_time": "2024-10-09T11:51:17.714Z"
   },
   {
    "duration": 5,
    "start_time": "2024-10-09T11:51:17.724Z"
   },
   {
    "duration": 8,
    "start_time": "2024-10-09T11:51:17.731Z"
   },
   {
    "duration": 36,
    "start_time": "2024-10-09T11:51:17.741Z"
   },
   {
    "duration": 23,
    "start_time": "2024-10-09T11:51:17.778Z"
   },
   {
    "duration": 7,
    "start_time": "2024-10-09T11:51:17.802Z"
   },
   {
    "duration": 61,
    "start_time": "2024-10-09T11:51:17.811Z"
   },
   {
    "duration": 3,
    "start_time": "2024-10-09T11:51:17.874Z"
   },
   {
    "duration": 6,
    "start_time": "2024-10-09T11:51:17.879Z"
   },
   {
    "duration": 7,
    "start_time": "2024-10-09T11:51:17.886Z"
   },
   {
    "duration": 10,
    "start_time": "2024-10-09T11:51:17.894Z"
   },
   {
    "duration": 200,
    "start_time": "2024-10-09T11:51:17.906Z"
   },
   {
    "duration": 8,
    "start_time": "2024-10-09T11:51:18.108Z"
   },
   {
    "duration": 195,
    "start_time": "2024-10-09T11:51:18.118Z"
   },
   {
    "duration": 8,
    "start_time": "2024-10-09T11:51:18.314Z"
   },
   {
    "duration": 285,
    "start_time": "2024-10-09T11:51:18.324Z"
   },
   {
    "duration": 8,
    "start_time": "2024-10-09T11:51:18.610Z"
   },
   {
    "duration": 130,
    "start_time": "2024-10-09T11:51:18.619Z"
   },
   {
    "duration": 246,
    "start_time": "2024-10-09T11:51:18.751Z"
   },
   {
    "duration": 8,
    "start_time": "2024-10-09T11:51:19.000Z"
   },
   {
    "duration": 130,
    "start_time": "2024-10-09T11:51:19.009Z"
   },
   {
    "duration": 200,
    "start_time": "2024-10-09T11:51:19.140Z"
   },
   {
    "duration": 24,
    "start_time": "2024-10-09T11:51:19.341Z"
   },
   {
    "duration": 11,
    "start_time": "2024-10-09T11:51:19.375Z"
   },
   {
    "duration": 8,
    "start_time": "2024-10-09T11:51:19.388Z"
   },
   {
    "duration": 11,
    "start_time": "2024-10-09T11:51:19.398Z"
   },
   {
    "duration": 5,
    "start_time": "2024-10-09T11:51:19.410Z"
   },
   {
    "duration": 16,
    "start_time": "2024-10-09T11:51:19.416Z"
   },
   {
    "duration": 118,
    "start_time": "2024-10-09T11:51:19.433Z"
   },
   {
    "duration": 146,
    "start_time": "2024-10-09T11:51:19.552Z"
   },
   {
    "duration": 442,
    "start_time": "2024-10-09T11:51:19.699Z"
   },
   {
    "duration": 9,
    "start_time": "2024-10-09T11:51:20.143Z"
   },
   {
    "duration": 52,
    "start_time": "2024-10-09T11:51:20.154Z"
   },
   {
    "duration": 281,
    "start_time": "2024-10-09T11:51:20.208Z"
   },
   {
    "duration": 9,
    "start_time": "2024-10-09T11:51:20.491Z"
   },
   {
    "duration": 8,
    "start_time": "2024-10-09T11:51:20.501Z"
   },
   {
    "duration": 12,
    "start_time": "2024-10-09T11:51:20.510Z"
   },
   {
    "duration": 9,
    "start_time": "2024-10-09T11:51:20.524Z"
   },
   {
    "duration": 97,
    "start_time": "2024-10-09T11:51:20.534Z"
   },
   {
    "duration": 19,
    "start_time": "2024-10-09T11:51:20.633Z"
   },
   {
    "duration": 23,
    "start_time": "2024-10-09T11:51:20.654Z"
   },
   {
    "duration": 12,
    "start_time": "2024-10-09T11:51:20.679Z"
   },
   {
    "duration": 4,
    "start_time": "2024-10-09T11:51:20.692Z"
   },
   {
    "duration": 183,
    "start_time": "2024-10-09T11:51:20.697Z"
   },
   {
    "duration": 16,
    "start_time": "2024-10-09T11:51:20.881Z"
   },
   {
    "duration": 193,
    "start_time": "2024-10-09T11:51:20.898Z"
   },
   {
    "duration": 7,
    "start_time": "2024-10-09T11:51:21.093Z"
   },
   {
    "duration": 51,
    "start_time": "2024-10-09T11:51:21.101Z"
   },
   {
    "duration": 8,
    "start_time": "2024-10-09T11:51:21.153Z"
   },
   {
    "duration": 6,
    "start_time": "2024-10-09T11:51:21.163Z"
   },
   {
    "duration": 1115,
    "start_time": "2024-10-09T11:56:08.410Z"
   },
   {
    "duration": 38,
    "start_time": "2024-10-09T11:56:09.527Z"
   },
   {
    "duration": 32,
    "start_time": "2024-10-09T11:56:09.567Z"
   },
   {
    "duration": 19,
    "start_time": "2024-10-09T11:56:09.601Z"
   },
   {
    "duration": 9,
    "start_time": "2024-10-09T11:56:09.622Z"
   },
   {
    "duration": 64,
    "start_time": "2024-10-09T11:56:09.633Z"
   },
   {
    "duration": 11,
    "start_time": "2024-10-09T11:56:09.699Z"
   },
   {
    "duration": 6,
    "start_time": "2024-10-09T11:56:09.711Z"
   },
   {
    "duration": 13,
    "start_time": "2024-10-09T11:56:09.718Z"
   },
   {
    "duration": 6,
    "start_time": "2024-10-09T11:56:09.733Z"
   },
   {
    "duration": 9,
    "start_time": "2024-10-09T11:56:09.740Z"
   },
   {
    "duration": 6,
    "start_time": "2024-10-09T11:56:09.751Z"
   },
   {
    "duration": 18,
    "start_time": "2024-10-09T11:56:09.758Z"
   },
   {
    "duration": 9,
    "start_time": "2024-10-09T11:56:09.777Z"
   },
   {
    "duration": 5,
    "start_time": "2024-10-09T11:56:09.787Z"
   },
   {
    "duration": 3,
    "start_time": "2024-10-09T11:56:09.794Z"
   },
   {
    "duration": 6,
    "start_time": "2024-10-09T11:56:09.798Z"
   },
   {
    "duration": 11,
    "start_time": "2024-10-09T11:56:09.805Z"
   },
   {
    "duration": 9,
    "start_time": "2024-10-09T11:56:09.817Z"
   },
   {
    "duration": 234,
    "start_time": "2024-10-09T11:56:09.828Z"
   },
   {
    "duration": 14,
    "start_time": "2024-10-09T11:56:10.063Z"
   },
   {
    "duration": 149,
    "start_time": "2024-10-09T11:56:10.078Z"
   },
   {
    "duration": 8,
    "start_time": "2024-10-09T11:56:10.230Z"
   },
   {
    "duration": 289,
    "start_time": "2024-10-09T11:56:10.240Z"
   },
   {
    "duration": 8,
    "start_time": "2024-10-09T11:56:10.531Z"
   },
   {
    "duration": 154,
    "start_time": "2024-10-09T11:56:10.540Z"
   },
   {
    "duration": 255,
    "start_time": "2024-10-09T11:56:10.695Z"
   },
   {
    "duration": 9,
    "start_time": "2024-10-09T11:56:10.953Z"
   },
   {
    "duration": 124,
    "start_time": "2024-10-09T11:56:10.963Z"
   },
   {
    "duration": 188,
    "start_time": "2024-10-09T11:56:11.089Z"
   },
   {
    "duration": 24,
    "start_time": "2024-10-09T11:56:11.279Z"
   },
   {
    "duration": 11,
    "start_time": "2024-10-09T11:56:11.305Z"
   },
   {
    "duration": 8,
    "start_time": "2024-10-09T11:56:11.317Z"
   },
   {
    "duration": 10,
    "start_time": "2024-10-09T11:56:11.327Z"
   },
   {
    "duration": 24,
    "start_time": "2024-10-09T11:56:11.338Z"
   },
   {
    "duration": 23,
    "start_time": "2024-10-09T11:56:11.364Z"
   },
   {
    "duration": 88,
    "start_time": "2024-10-09T11:56:11.388Z"
   },
   {
    "duration": 133,
    "start_time": "2024-10-09T11:56:11.478Z"
   },
   {
    "duration": 442,
    "start_time": "2024-10-09T11:56:11.612Z"
   },
   {
    "duration": 6,
    "start_time": "2024-10-09T11:56:12.056Z"
   },
   {
    "duration": 6,
    "start_time": "2024-10-09T11:56:12.076Z"
   },
   {
    "duration": 294,
    "start_time": "2024-10-09T11:56:12.084Z"
   },
   {
    "duration": 8,
    "start_time": "2024-10-09T11:56:12.379Z"
   },
   {
    "duration": 13,
    "start_time": "2024-10-09T11:56:12.388Z"
   },
   {
    "duration": 12,
    "start_time": "2024-10-09T11:56:12.402Z"
   },
   {
    "duration": 10,
    "start_time": "2024-10-09T11:56:12.416Z"
   },
   {
    "duration": 80,
    "start_time": "2024-10-09T11:56:12.428Z"
   },
   {
    "duration": 15,
    "start_time": "2024-10-09T11:56:12.509Z"
   },
   {
    "duration": 10,
    "start_time": "2024-10-09T11:56:12.525Z"
   },
   {
    "duration": 11,
    "start_time": "2024-10-09T11:56:12.537Z"
   },
   {
    "duration": 27,
    "start_time": "2024-10-09T11:56:12.549Z"
   },
   {
    "duration": 170,
    "start_time": "2024-10-09T11:56:12.578Z"
   },
   {
    "duration": 16,
    "start_time": "2024-10-09T11:56:12.749Z"
   },
   {
    "duration": 191,
    "start_time": "2024-10-09T11:56:12.776Z"
   },
   {
    "duration": 10,
    "start_time": "2024-10-09T11:56:12.969Z"
   },
   {
    "duration": 8,
    "start_time": "2024-10-09T11:56:12.981Z"
   },
   {
    "duration": 8,
    "start_time": "2024-10-09T11:56:12.990Z"
   },
   {
    "duration": 6,
    "start_time": "2024-10-09T11:56:12.999Z"
   },
   {
    "duration": 1124,
    "start_time": "2024-10-09T13:49:09.267Z"
   },
   {
    "duration": 118,
    "start_time": "2024-10-09T13:49:10.393Z"
   },
   {
    "duration": 149,
    "start_time": "2024-10-09T13:49:10.512Z"
   },
   {
    "duration": 75,
    "start_time": "2024-10-09T13:49:10.664Z"
   },
   {
    "duration": 10,
    "start_time": "2024-10-09T13:49:10.741Z"
   },
   {
    "duration": 62,
    "start_time": "2024-10-09T13:49:10.753Z"
   },
   {
    "duration": 11,
    "start_time": "2024-10-09T13:49:10.817Z"
   },
   {
    "duration": 6,
    "start_time": "2024-10-09T13:49:10.829Z"
   },
   {
    "duration": 8,
    "start_time": "2024-10-09T13:49:10.837Z"
   },
   {
    "duration": 6,
    "start_time": "2024-10-09T13:49:10.847Z"
   },
   {
    "duration": 10,
    "start_time": "2024-10-09T13:49:10.854Z"
   },
   {
    "duration": 32,
    "start_time": "2024-10-09T13:49:10.865Z"
   },
   {
    "duration": 7,
    "start_time": "2024-10-09T13:49:10.898Z"
   },
   {
    "duration": 19,
    "start_time": "2024-10-09T13:49:10.906Z"
   },
   {
    "duration": 5,
    "start_time": "2024-10-09T13:49:10.927Z"
   },
   {
    "duration": 11,
    "start_time": "2024-10-09T13:49:10.933Z"
   },
   {
    "duration": 8,
    "start_time": "2024-10-09T13:49:10.945Z"
   },
   {
    "duration": 18,
    "start_time": "2024-10-09T13:49:10.954Z"
   },
   {
    "duration": 20,
    "start_time": "2024-10-09T13:49:10.973Z"
   },
   {
    "duration": 172,
    "start_time": "2024-10-09T13:49:10.994Z"
   },
   {
    "duration": 13,
    "start_time": "2024-10-09T13:49:11.168Z"
   },
   {
    "duration": 146,
    "start_time": "2024-10-09T13:49:11.182Z"
   },
   {
    "duration": 7,
    "start_time": "2024-10-09T13:49:11.330Z"
   },
   {
    "duration": 272,
    "start_time": "2024-10-09T13:49:11.338Z"
   },
   {
    "duration": 8,
    "start_time": "2024-10-09T13:49:11.611Z"
   },
   {
    "duration": 133,
    "start_time": "2024-10-09T13:49:11.620Z"
   },
   {
    "duration": 247,
    "start_time": "2024-10-09T13:49:11.755Z"
   },
   {
    "duration": 9,
    "start_time": "2024-10-09T13:49:12.005Z"
   },
   {
    "duration": 159,
    "start_time": "2024-10-09T13:49:12.015Z"
   },
   {
    "duration": 197,
    "start_time": "2024-10-09T13:49:12.176Z"
   },
   {
    "duration": 24,
    "start_time": "2024-10-09T13:49:12.376Z"
   },
   {
    "duration": 13,
    "start_time": "2024-10-09T13:49:12.402Z"
   },
   {
    "duration": 12,
    "start_time": "2024-10-09T13:49:12.417Z"
   },
   {
    "duration": 12,
    "start_time": "2024-10-09T13:49:12.431Z"
   },
   {
    "duration": 6,
    "start_time": "2024-10-09T13:49:12.476Z"
   },
   {
    "duration": 106,
    "start_time": "2024-10-09T13:49:12.484Z"
   },
   {
    "duration": 13,
    "start_time": "2024-10-09T13:49:12.592Z"
   },
   {
    "duration": 146,
    "start_time": "2024-10-09T13:49:12.607Z"
   },
   {
    "duration": 454,
    "start_time": "2024-10-09T13:49:12.754Z"
   },
   {
    "duration": 8,
    "start_time": "2024-10-09T13:49:13.209Z"
   },
   {
    "duration": 8,
    "start_time": "2024-10-09T13:49:13.218Z"
   },
   {
    "duration": 293,
    "start_time": "2024-10-09T13:49:13.227Z"
   },
   {
    "duration": 7,
    "start_time": "2024-10-09T13:49:13.522Z"
   },
   {
    "duration": 8,
    "start_time": "2024-10-09T13:49:13.530Z"
   },
   {
    "duration": 11,
    "start_time": "2024-10-09T13:49:13.540Z"
   },
   {
    "duration": 30,
    "start_time": "2024-10-09T13:49:13.553Z"
   },
   {
    "duration": 60,
    "start_time": "2024-10-09T13:49:13.585Z"
   },
   {
    "duration": 29,
    "start_time": "2024-10-09T13:49:13.647Z"
   },
   {
    "duration": 11,
    "start_time": "2024-10-09T13:49:13.677Z"
   },
   {
    "duration": 12,
    "start_time": "2024-10-09T13:49:13.690Z"
   },
   {
    "duration": 18,
    "start_time": "2024-10-09T13:49:13.704Z"
   },
   {
    "duration": 176,
    "start_time": "2024-10-09T13:49:13.724Z"
   },
   {
    "duration": 17,
    "start_time": "2024-10-09T13:49:13.902Z"
   },
   {
    "duration": 204,
    "start_time": "2024-10-09T13:49:13.921Z"
   },
   {
    "duration": 7,
    "start_time": "2024-10-09T13:49:14.127Z"
   },
   {
    "duration": 7,
    "start_time": "2024-10-09T13:49:14.135Z"
   },
   {
    "duration": 35,
    "start_time": "2024-10-09T13:49:14.143Z"
   },
   {
    "duration": 7,
    "start_time": "2024-10-09T13:49:14.179Z"
   }
  ],
  "kernelspec": {
   "display_name": "Python 3 (ipykernel)",
   "language": "python",
   "name": "python3"
  },
  "language_info": {
   "codemirror_mode": {
    "name": "ipython",
    "version": 3
   },
   "file_extension": ".py",
   "mimetype": "text/x-python",
   "name": "python",
   "nbconvert_exporter": "python",
   "pygments_lexer": "ipython3",
   "version": "3.11.5"
  },
  "toc": {
   "base_numbering": 1,
   "nav_menu": {},
   "number_sections": true,
   "sideBar": true,
   "skip_h1_title": true,
   "title_cell": "Table of Contents",
   "title_sidebar": "Contents",
   "toc_cell": false,
   "toc_position": {},
   "toc_section_display": true,
   "toc_window_display": false
  }
 },
 "nbformat": 4,
 "nbformat_minor": 5
}
